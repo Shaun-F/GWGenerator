{
 "cells": [
  {
   "cell_type": "code",
   "execution_count": 28,
   "id": "36ba217f",
   "metadata": {},
   "outputs": [],
   "source": [
    "import os\n",
    "import pandas as pd;\n",
    "path = os.getcwd()+'/dIdt_q0.90inc0.dat'\n",
    "colnames=[\"q\", \n",
    "          \"p\",\n",
    "          \"e\",\n",
    "          \"theta\",\n",
    "          \"E\",\n",
    "          \"Lz\",\n",
    "          \"C\",\n",
    "          \"Einf\",\n",
    "          \"LzInf\", \n",
    "          \"Cinf\",\n",
    "          \"Eh\",\n",
    "          \"Lzh\",\n",
    "          \"Ch\",\n",
    "          \"pinf\",\n",
    "          \"einf\",\n",
    "          \"thetainf\",\n",
    "          \"ph\",\n",
    "          \"eh\",\n",
    "          \"thetah\",\n",
    "          \"lmax\",\n",
    "          \"DeltaEinf\",\n",
    "          \"DeltaEh\"]"
   ]
  },
  {
   "cell_type": "code",
   "execution_count": 30,
   "id": "80401f97",
   "metadata": {},
   "outputs": [
    {
     "ename": "ModuleNotFoundError",
     "evalue": "No module named 'fluxes'",
     "output_type": "error",
     "traceback": [
      "\u001b[0;31m---------------------------------------------------------------------------\u001b[0m",
      "\u001b[0;31mModuleNotFoundError\u001b[0m                       Traceback (most recent call last)",
      "\u001b[0;32m/tmp/ipykernel_112751/485213480.py\u001b[0m in \u001b[0;36m<module>\u001b[0;34m\u001b[0m\n\u001b[0;32m----> 1\u001b[0;31m \u001b[0;32mimport\u001b[0m \u001b[0mfluxes\u001b[0m\u001b[0;34m\u001b[0m\u001b[0;34m\u001b[0m\u001b[0m\n\u001b[0m",
      "\u001b[0;31mModuleNotFoundError\u001b[0m: No module named 'fluxes'"
     ]
    }
   ],
   "source": [
    "import fluxes"
   ]
  },
  {
   "cell_type": "code",
   "execution_count": null,
   "id": "3bf9dd92",
   "metadata": {},
   "outputs": [],
   "source": []
  }
 ],
 "metadata": {
  "kernelspec": {
   "display_name": "Python 3",
   "language": "python",
   "name": "python3"
  },
  "language_info": {
   "codemirror_mode": {
    "name": "ipython",
    "version": 3
   },
   "file_extension": ".py",
   "mimetype": "text/x-python",
   "name": "python",
   "nbconvert_exporter": "python",
   "pygments_lexer": "ipython3",
   "version": "3.9.7"
  }
 },
 "nbformat": 4,
 "nbformat_minor": 5
}
