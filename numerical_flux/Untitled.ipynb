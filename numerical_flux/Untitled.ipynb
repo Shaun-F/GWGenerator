{
 "cells": [
  {
   "cell_type": "code",
   "execution_count": 375,
   "id": "36ba217f",
   "metadata": {},
   "outputs": [],
   "source": [
    "import os\n",
    "import pandas as pd;\n",
    "import numpy as np\n",
    "import time\n",
    "import scipy as sp\n",
    "import matplotlib.pyplot as plt\n",
    "from scipy.interpolate import RegularGridInterpolator as RGI, LinearNDInterpolator as linint\n",
    "path = os.getcwd()+'/dIdt_q0.90inc0.dat'\n",
    "colnames=[\"q\",           \"p\",          \"e\",          \"theta\",          \"E\",          \"Lz\",          \"C\",          \"Einf\",          \"LzInf\",           \"Cinf\",          \"Eh\",          \"Lzh\",          \"Ch\",          \"pinf\",          \"einf\",          \"thetainf\",          \"ph\",          \"eh\",          \"thetah\",          \"lmax\",          \"DeltaEinf\",          \"DeltaEh\"]"
   ]
  },
  {
   "cell_type": "code",
   "execution_count": 346,
   "id": "134f8a3f",
   "metadata": {},
   "outputs": [],
   "source": [
    "def getEinf(q,e,p):\n",
    "    alldat = np.array(dat.values)\n",
    "    qepoint = [q,e]\n",
    "    qelist = alldat[:,[0,2]]\n",
    "    qeinx =np.abs(qelist-qepoint).argmin()\n",
    "    mask = np.all((qelist==qelist[qeinx]),axis=1)\n",
    "    subdat = alldat[mask]\n",
    "    subdatpvalues =subdat[:,1]\n",
    "    pinx = np.abs(subdatpvalues-p).argmin()\n",
    "    ret = subdat[pinx][7]\n",
    "    return(ret)\n",
    "\n",
    "def getEinf2(q,e,p):\n",
    "    return(dat[(dat[\"e\"]==e)&(dat[\"q\"]==q)&(dat[\"p\"]==p)][\"Einf\"])"
   ]
  },
  {
   "cell_type": "code",
   "execution_count": 383,
   "id": "80401f97",
   "metadata": {},
   "outputs": [],
   "source": [
    "dat = pd.read_csv(path, header=None, delimiter=' ', names=colnames)"
   ]
  },
  {
   "cell_type": "code",
   "execution_count": 390,
   "id": "b972f50e",
   "metadata": {},
   "outputs": [],
   "source": [
    "qdata = dat[\"q\"].values\n",
    "edata = dat[\"e\"].values\n",
    "pdata = dat[\"p\"].values\n",
    "qd, ed, pd = np.meshgrid(qdata,edata, pdata, indexing='ij', sparse=True)\n",
    "valuedata = dat[\"Einf\"].values"
   ]
  },
  {
   "cell_type": "code",
   "execution_count": 389,
   "id": "06431973",
   "metadata": {},
   "outputs": [
    {
     "data": {
      "text/html": [
       "<div>\n",
       "<style scoped>\n",
       "    .dataframe tbody tr th:only-of-type {\n",
       "        vertical-align: middle;\n",
       "    }\n",
       "\n",
       "    .dataframe tbody tr th {\n",
       "        vertical-align: top;\n",
       "    }\n",
       "\n",
       "    .dataframe thead th {\n",
       "        text-align: right;\n",
       "    }\n",
       "</style>\n",
       "<table border=\"1\" class=\"dataframe\">\n",
       "  <thead>\n",
       "    <tr style=\"text-align: right;\">\n",
       "      <th></th>\n",
       "      <th>q</th>\n",
       "      <th>e</th>\n",
       "      <th>p</th>\n",
       "      <th>Einf</th>\n",
       "    </tr>\n",
       "  </thead>\n",
       "  <tbody>\n",
       "    <tr>\n",
       "      <th>1</th>\n",
       "      <td>0.9</td>\n",
       "      <td>0.005</td>\n",
       "      <td>2.35688</td>\n",
       "      <td>-0.042750</td>\n",
       "    </tr>\n",
       "    <tr>\n",
       "      <th>2</th>\n",
       "      <td>0.9</td>\n",
       "      <td>0.005</td>\n",
       "      <td>2.37736</td>\n",
       "      <td>-0.060363</td>\n",
       "    </tr>\n",
       "    <tr>\n",
       "      <th>3</th>\n",
       "      <td>0.9</td>\n",
       "      <td>0.005</td>\n",
       "      <td>2.38407</td>\n",
       "      <td>-0.062269</td>\n",
       "    </tr>\n",
       "    <tr>\n",
       "      <th>4</th>\n",
       "      <td>0.9</td>\n",
       "      <td>0.005</td>\n",
       "      <td>2.41157</td>\n",
       "      <td>-0.063143</td>\n",
       "    </tr>\n",
       "  </tbody>\n",
       "</table>\n",
       "</div>"
      ],
      "text/plain": [
       "     q      e        p      Einf\n",
       "1  0.9  0.005  2.35688 -0.042750\n",
       "2  0.9  0.005  2.37736 -0.060363\n",
       "3  0.9  0.005  2.38407 -0.062269\n",
       "4  0.9  0.005  2.41157 -0.063143"
      ]
     },
     "execution_count": 389,
     "metadata": {},
     "output_type": "execute_result"
    }
   ],
   "source": [
    "dat.loc[1:4][[\"q\", \"e\", \"p\", \"Einf\"]]"
   ]
  },
  {
   "cell_type": "code",
   "execution_count": 391,
   "id": "14901b14",
   "metadata": {},
   "outputs": [
    {
     "ename": "QhullError",
     "evalue": "QH6154 Qhull precision error: Initial simplex is flat (facet 1 is coplanar with the interior point)\n\nWhile executing:  | qhull d Qbb Qt Qz Qc Q12\nOptions selected for Qhull 2019.1.r 2019/06/21:\n  run-id 1187954424  delaunay  Qbbound-last  Qtriangulate  Qz-infinity-point\n  Qcoplanar-keep  Q12-allow-wide  _pre-merge  _zero-centrum  Qinterior-keep\n  Pgood  _max-width 28  Error-roundoff 6e-14  _one-merge 5.4e-13\n  Visible-distance 3.6e-13  U-max-coplanar 3.6e-13  Width-outside 7.3e-13\n  _wide-facet 2.2e-12  _maxoutside 7.3e-13\n\nThe input to qhull appears to be less than 4 dimensional, or a\ncomputation has overflowed.\n\nQhull could not construct a clearly convex simplex from points:\n- p18(v5):   0.9 0.005   2.7 0.052\n- p254(v4):   0.9 0.005    30    27\n- p18738(v3):   0.9  0.93   3.5  0.24\n- p0(v2):   0.9 0.005   2.3     0\n- p18967(v1):   0.9  0.45   8.7    30\n\nThe center point is coplanar with a facet, or a vertex is coplanar\nwith a neighboring facet.  The maximum round off error for\ncomputing distances is 6e-14.  The center point, facets and distances\nto the center point are as follows:\n\ncenter point      0.9   0.2784    9.447     11.5\n\nfacet p254 p18738 p0 p18967 distance= -5.1e-16\nfacet p18 p18738 p0 p18967 distance= -3e-14\nfacet p18 p254 p0 p18967 distance= -7.7e-14\nfacet p18 p254 p18738 p18967 distance= -4.5e-16\nfacet p18 p254 p18738 p0 distance= -3.8e-14\n\nThese points either have a maximum or minimum x-coordinate, or\nthey maximize the determinant for k coordinates.  Trial points\nare first selected from points that maximize a coordinate.\n\nThe min and max coordinates for each dimension are:\n  0:       0.9       0.9  difference= 1.881e-13\n  1:     0.005     0.925  difference= 0.92\n  2:      2.33        30  difference= 27.67\n  3:         0        30  difference=   30\n\nIf the input should be full dimensional, you have several options that\nmay determine an initial simplex:\n  - use 'QJ'  to joggle the input and make it full dimensional\n  - use 'QbB' to scale the points to the unit cube\n  - use 'QR0' to randomly rotate the input for different maximum points\n  - use 'Qs'  to search all points for the initial simplex\n  - use 'En'  to specify a maximum roundoff error less than 6e-14.\n  - trace execution with 'T3' to see the determinant for each point.\n\nIf the input is lower dimensional:\n  - use 'QJ' to joggle the input and make it full dimensional\n  - use 'Qbk:0Bk:0' to delete coordinate k from the input.  You should\n    pick the coordinate with the least range.  The hull will have the\n    correct topology.\n  - determine the flat containing the points, rotate the points\n    into a coordinate plane, and delete the other coordinates.\n  - add one or more points to make the input full dimensional.\n",
     "output_type": "error",
     "traceback": [
      "\u001b[0;31m---------------------------------------------------------------------------\u001b[0m",
      "\u001b[0;31mQhullError\u001b[0m                                Traceback (most recent call last)",
      "\u001b[0;32m/tmp/ipykernel_8229/2638132836.py\u001b[0m in \u001b[0;36m<module>\u001b[0;34m\u001b[0m\n\u001b[0;32m----> 1\u001b[0;31m \u001b[0mlinint\u001b[0m\u001b[0;34m(\u001b[0m\u001b[0mlist\u001b[0m\u001b[0;34m(\u001b[0m\u001b[0mzip\u001b[0m\u001b[0;34m(\u001b[0m\u001b[0mqdata\u001b[0m\u001b[0;34m,\u001b[0m\u001b[0medata\u001b[0m\u001b[0;34m,\u001b[0m\u001b[0mpdata\u001b[0m\u001b[0;34m)\u001b[0m\u001b[0;34m)\u001b[0m\u001b[0;34m,\u001b[0m \u001b[0mdat\u001b[0m\u001b[0;34m[\u001b[0m\u001b[0;34m\"Einf\"\u001b[0m\u001b[0;34m]\u001b[0m\u001b[0;34m)\u001b[0m\u001b[0;34m\u001b[0m\u001b[0;34m\u001b[0m\u001b[0m\n\u001b[0m",
      "\u001b[0;32minterpnd.pyx\u001b[0m in \u001b[0;36mscipy.interpolate.interpnd.LinearNDInterpolator.__init__\u001b[0;34m()\u001b[0m\n",
      "\u001b[0;32mqhull.pyx\u001b[0m in \u001b[0;36mscipy.spatial.qhull.Delaunay.__init__\u001b[0;34m()\u001b[0m\n",
      "\u001b[0;32mqhull.pyx\u001b[0m in \u001b[0;36mscipy.spatial.qhull._Qhull.__init__\u001b[0;34m()\u001b[0m\n",
      "\u001b[0;31mQhullError\u001b[0m: QH6154 Qhull precision error: Initial simplex is flat (facet 1 is coplanar with the interior point)\n\nWhile executing:  | qhull d Qbb Qt Qz Qc Q12\nOptions selected for Qhull 2019.1.r 2019/06/21:\n  run-id 1187954424  delaunay  Qbbound-last  Qtriangulate  Qz-infinity-point\n  Qcoplanar-keep  Q12-allow-wide  _pre-merge  _zero-centrum  Qinterior-keep\n  Pgood  _max-width 28  Error-roundoff 6e-14  _one-merge 5.4e-13\n  Visible-distance 3.6e-13  U-max-coplanar 3.6e-13  Width-outside 7.3e-13\n  _wide-facet 2.2e-12  _maxoutside 7.3e-13\n\nThe input to qhull appears to be less than 4 dimensional, or a\ncomputation has overflowed.\n\nQhull could not construct a clearly convex simplex from points:\n- p18(v5):   0.9 0.005   2.7 0.052\n- p254(v4):   0.9 0.005    30    27\n- p18738(v3):   0.9  0.93   3.5  0.24\n- p0(v2):   0.9 0.005   2.3     0\n- p18967(v1):   0.9  0.45   8.7    30\n\nThe center point is coplanar with a facet, or a vertex is coplanar\nwith a neighboring facet.  The maximum round off error for\ncomputing distances is 6e-14.  The center point, facets and distances\nto the center point are as follows:\n\ncenter point      0.9   0.2784    9.447     11.5\n\nfacet p254 p18738 p0 p18967 distance= -5.1e-16\nfacet p18 p18738 p0 p18967 distance= -3e-14\nfacet p18 p254 p0 p18967 distance= -7.7e-14\nfacet p18 p254 p18738 p18967 distance= -4.5e-16\nfacet p18 p254 p18738 p0 distance= -3.8e-14\n\nThese points either have a maximum or minimum x-coordinate, or\nthey maximize the determinant for k coordinates.  Trial points\nare first selected from points that maximize a coordinate.\n\nThe min and max coordinates for each dimension are:\n  0:       0.9       0.9  difference= 1.881e-13\n  1:     0.005     0.925  difference= 0.92\n  2:      2.33        30  difference= 27.67\n  3:         0        30  difference=   30\n\nIf the input should be full dimensional, you have several options that\nmay determine an initial simplex:\n  - use 'QJ'  to joggle the input and make it full dimensional\n  - use 'QbB' to scale the points to the unit cube\n  - use 'QR0' to randomly rotate the input for different maximum points\n  - use 'Qs'  to search all points for the initial simplex\n  - use 'En'  to specify a maximum roundoff error less than 6e-14.\n  - trace execution with 'T3' to see the determinant for each point.\n\nIf the input is lower dimensional:\n  - use 'QJ' to joggle the input and make it full dimensional\n  - use 'Qbk:0Bk:0' to delete coordinate k from the input.  You should\n    pick the coordinate with the least range.  The hull will have the\n    correct topology.\n  - determine the flat containing the points, rotate the points\n    into a coordinate plane, and delete the other coordinates.\n  - add one or more points to make the input full dimensional.\n"
     ]
    }
   ],
   "source": [
    "linint(list(zip(qdata,edata,pdata)), dat[\"Einf\"])"
   ]
  },
  {
   "cell_type": "code",
   "execution_count": null,
   "id": "2028e484",
   "metadata": {},
   "outputs": [],
   "source": []
  }
 ],
 "metadata": {
  "kernelspec": {
   "display_name": "Python 3",
   "language": "python",
   "name": "python3"
  },
  "language_info": {
   "codemirror_mode": {
    "name": "ipython",
    "version": 3
   },
   "file_extension": ".py",
   "mimetype": "text/x-python",
   "name": "python",
   "nbconvert_exporter": "python",
   "pygments_lexer": "ipython3",
   "version": "3.9.7"
  }
 },
 "nbformat": 4,
 "nbformat_minor": 5
}
