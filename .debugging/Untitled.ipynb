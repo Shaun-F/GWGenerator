{
 "cells": [
  {
   "cell_type": "code",
   "execution_count": 1,
   "id": "2cc6843f",
   "metadata": {},
   "outputs": [],
   "source": [
    "import pyfftw\n",
    "import numpy\n",
    "pyfftw.interfaces.cache.enable()"
   ]
  },
  {
   "cell_type": "code",
   "execution_count": 18,
   "id": "4413db5d",
   "metadata": {},
   "outputs": [],
   "source": [
    "a = pyfftw.empty_aligned(5000000, dtype='complex64')\n",
    "b = pyfftw.empty_aligned(5000000, dtype='complex64')"
   ]
  },
  {
   "cell_type": "code",
   "execution_count": null,
   "id": "fc0a14d4",
   "metadata": {},
   "outputs": [],
   "source": [
    "fft_object = pyfftw.FFTW(a, b, threads=6)"
   ]
  },
  {
   "cell_type": "code",
   "execution_count": 15,
   "id": "1a9c9792",
   "metadata": {},
   "outputs": [],
   "source": [
    "# Generate some data\n",
    "ar, ai = numpy.random.randn(2, 4207750)\n",
    "an = numpy.asarray(ar+1j*ai, dtype=\"complex64\")\n",
    "lpad = np.floor((len(a)-len(an))/2)\n",
    "rpad = np.ceiling((len(a)-len(an))/2)\n",
    "\n",
    "fft_a = fft_object()"
   ]
  },
  {
   "cell_type": "code",
   "execution_count": 16,
   "id": "019d5dd9",
   "metadata": {},
   "outputs": [
    {
     "data": {
      "text/plain": [
       "array([-1276.4553 +3123.1646j , -1069.1677 +1274.7954j ,\n",
       "        -968.85596 -808.92883j, ..., -1579.3687 -1346.5299j ,\n",
       "        3224.5664  +124.39789j, -1288.374   -826.8133j ], dtype=complex64)"
      ]
     },
     "execution_count": 16,
     "metadata": {},
     "output_type": "execute_result"
    }
   ],
   "source": [
    "fft_a"
   ]
  },
  {
   "cell_type": "code",
   "execution_count": 9,
   "id": "cf6aef35",
   "metadata": {},
   "outputs": [
    {
     "data": {
      "text/plain": [
       "array([ 2157.79638263 -291.13589169j, -2457.94075401 -479.2598711j ,\n",
       "        1442.78366495-2752.35289386j, ...,  1070.17467302+1952.52062358j,\n",
       "        2210.91696357 -290.656968j  ,   535.88787798-3039.68437535j])"
      ]
     },
     "execution_count": 9,
     "metadata": {},
     "output_type": "execute_result"
    }
   ],
   "source": [
    "numpy.fft.fft(a)"
   ]
  },
  {
   "cell_type": "code",
   "execution_count": 17,
   "id": "033848ce",
   "metadata": {},
   "outputs": [
    {
     "ename": "ValueError",
     "evalue": "Invalid input shape: The new input array should be the same shape as the input array used to instantiate the object.",
     "output_type": "error",
     "traceback": [
      "\u001b[0;31m---------------------------------------------------------------------------\u001b[0m",
      "\u001b[0;31mValueError\u001b[0m                                Traceback (most recent call last)",
      "Cell \u001b[0;32mIn [17], line 1\u001b[0m\n\u001b[0;32m----> 1\u001b[0m \u001b[43mfft_object\u001b[49m\u001b[38;5;241;43m.\u001b[39;49m\u001b[43mupdate_arrays\u001b[49m\u001b[43m(\u001b[49m\u001b[43ma\u001b[49m\u001b[43m,\u001b[49m\u001b[43mb\u001b[49m\u001b[43m)\u001b[49m\n",
      "File \u001b[0;32mpyfftw/pyfftw.pyx:1850\u001b[0m, in \u001b[0;36mpyfftw.pyfftw.FFTW.update_arrays\u001b[0;34m()\u001b[0m\n",
      "File \u001b[0;32mpyfftw/pyfftw.pyx:1914\u001b[0m, in \u001b[0;36mpyfftw.pyfftw.FFTW.update_arrays\u001b[0;34m()\u001b[0m\n",
      "\u001b[0;31mValueError\u001b[0m: Invalid input shape: The new input array should be the same shape as the input array used to instantiate the object."
     ]
    }
   ],
   "source": [
    "fft_object.update_arrays(a,b)"
   ]
  },
  {
   "cell_type": "code",
   "execution_count": null,
   "id": "c2dc8346",
   "metadata": {},
   "outputs": [],
   "source": []
  }
 ],
 "metadata": {
  "kernelspec": {
   "display_name": "Python 3",
   "language": "python",
   "name": "python3"
  },
  "language_info": {
   "codemirror_mode": {
    "name": "ipython",
    "version": 3
   },
   "file_extension": ".py",
   "mimetype": "text/x-python",
   "name": "python",
   "nbconvert_exporter": "python",
   "pygments_lexer": "ipython3",
   "version": "3.9.15"
  }
 },
 "nbformat": 4,
 "nbformat_minor": 5
}
