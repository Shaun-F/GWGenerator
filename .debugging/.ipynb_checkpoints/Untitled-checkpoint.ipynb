{
 "cells": [
  {
   "cell_type": "code",
   "execution_count": 38,
   "id": "d71537ac",
   "metadata": {},
   "outputs": [],
   "source": [
    "import scipy as sp\n",
    "import numpy as np\n",
    "import scipy.interpolate as spint\n",
    "import pandas as pd\n",
    "import matplotlib.pyplot as plt\n",
    "import time\n",
    "import ast\n",
    "import os\n",
    "import re\n",
    "solpath = \"/home/shaunf/Documents/Computer/Code/projects/Massive_Vector_Field_Dynamical_Friction/ProcaAroundKerr/GWGenerator/Analytic_Flux/ProcaEnDenCSVData/\";"
   ]
  },
  {
   "cell_type": "code",
   "execution_count": 39,
   "id": "56f011b5",
   "metadata": {},
   "outputs": [
    {
     "data": {
      "text/plain": [
       "0.002416849136352539"
      ]
     },
     "execution_count": 39,
     "metadata": {},
     "output_type": "execute_result"
    }
   ],
   "source": [
    "aa=time.time()\n",
    "files = os.listdir(solpath)\n",
    "p = re.compile('Alpha_\\d+_\\d+')\n",
    "t = [p.findall(f) for f in files]\n",
    "p1 = re.compile('\\d+')\n",
    "numdoms= [list(map(float, p1.findall(te[0]))) for te in t]\n",
    "alpha = np.array([i[0]/i[1] for i in numdoms])\n",
    "tmp = np.abs(alpha-0.16)\n",
    "indices = np.where(tmp==tmp.min())\n",
    "ret=np.array(files)[indices]\n",
    "sorting_index = [st[13:19]=='COORDS' for st in ret]\n",
    "coordret = ret[sorting_index]\n",
    "valueret = np.setdiff1d(ret, coordret)\n",
    "time.time()-aa"
   ]
  },
  {
   "cell_type": "code",
   "execution_count": 42,
   "id": "bcaae080",
   "metadata": {},
   "outputs": [
    {
     "data": {
      "text/plain": [
       "0.043144941329956055"
      ]
     },
     "execution_count": 42,
     "metadata": {},
     "output_type": "execute_result"
    }
   ],
   "source": [
    "aa=time.time()\n",
    "coordsdat = pd.read_csv(solpath+coordret[0], header=None, na_values=\"None\")\n",
    "valuesdat = pd.read_csv(solpath+valueret[0], header=None)\n",
    "rdata = coordsdat[0].dropna()\n",
    "thdata = coordsdat[1].dropna()\n",
    "bb=time.time()\n",
    "bb-aa"
   ]
  },
  {
   "cell_type": "code",
   "execution_count": 80,
   "id": "f031e3fa",
   "metadata": {},
   "outputs": [
    {
     "data": {
      "text/plain": [
       "3.110276727053896"
      ]
     },
     "execution_count": 80,
     "metadata": {},
     "output_type": "execute_result"
    }
   ],
   "source": [
    "coordsdat[1].dropna().values[-1]"
   ]
  },
  {
   "cell_type": "code",
   "execution_count": 44,
   "id": "03b0fa05",
   "metadata": {},
   "outputs": [
    {
     "data": {
      "text/plain": [
       "0.028636932373046875"
      ]
     },
     "execution_count": 44,
     "metadata": {},
     "output_type": "execute_result"
    }
   ],
   "source": [
    "aa = time.time()\n",
    "interp = spint.RectBivariateSpline(rdata,thdata,valuesdat)\n",
    "bb = time.time()\n",
    "bb-aa"
   ]
  },
  {
   "cell_type": "code",
   "execution_count": 66,
   "id": "53c6d38c",
   "metadata": {},
   "outputs": [
    {
     "data": {
      "text/plain": [
       "[<matplotlib.lines.Line2D at 0x7fd56219b3a0>]"
      ]
     },
     "execution_count": 66,
     "metadata": {},
     "output_type": "execute_result"
    },
    {
     "data": {
      "image/png": "[encoded data removed]",
      "text/plain": [
       "<Figure size 1152x576 with 2 Axes>"
      ]
     },
     "metadata": {
      "needs_background": "light"
     },
     "output_type": "display_data"
    }
   ],
   "source": [
    "fig,ax = plt.subplots(1,2 ,figsize=(16,8))\n",
    "rdat =rdata.values\n",
    "thnum = thdata[5]\n",
    "zdat =valuesdat[5].values\n",
    "\n",
    "ax[0].plot(rdat[:100], zdat[:100])\n",
    "\n",
    "newdom = np.arange(rdat[0], rdat[100], 1/100)\n",
    "ax[1].plot(newdom, interp(newdom, thnum))"
   ]
  },
  {
   "cell_type": "code",
   "execution_count": 67,
   "id": "2b337882",
   "metadata": {},
   "outputs": [],
   "source": [
    "toten = lambda r: interp.integral(2,r,0.001,np.pi-0.001)\n",
    "toten(10)/toten(rdat[-1])"
   ]
  },
  {
   "cell_type": "code",
   "execution_count": 68,
   "id": "04bfe4cd",
   "metadata": {},
   "outputs": [
    {
     "data": {
      "text/plain": [
       "0.27326139171448893"
      ]
     },
     "execution_count": 68,
     "metadata": {},
     "output_type": "execute_result"
    }
   ],
   "source": [
    "toten(10)/toten(rdat[-1])"
   ]
  },
  {
   "cell_type": "code",
   "execution_count": 73,
   "id": "7b3c5237",
   "metadata": {},
   "outputs": [
    {
     "data": {
      "text/plain": [
       "0.05357527732849121"
      ]
     },
     "execution_count": 73,
     "metadata": {},
     "output_type": "execute_result"
    }
   ],
   "source": [
    "aa = time.time()\n",
    "files = os.listdir(solpath)\n",
    "p = re.compile('Alpha_\\d+_\\d+')\n",
    "t = [p.findall(f) for f in files]\n",
    "p1 = re.compile('\\d+')\n",
    "numdoms= [list(map(float, p1.findall(te[0]))) for te in t]\n",
    "alpha = np.array([i[0]/i[1] for i in numdoms])\n",
    "tmp = np.abs(alpha-0.16)\n",
    "indices = np.where(tmp==tmp.min())\n",
    "ret=np.array(files)[indices]\n",
    "sorting_index = [st[13:19]=='COORDS' for st in ret]\n",
    "coordret = ret[sorting_index]\n",
    "valueret = np.setdiff1d(ret, coordret)\n",
    "coordsdat = pd.read_csv(solpath+coordret[0], header=None, na_values=\"None\")\n",
    "valuesdat = pd.read_csv(solpath+valueret[0], header=None)\n",
    "rdata = coordsdat[0].dropna()\n",
    "thdata = coordsdat[1].dropna()\n",
    "interp = spint.RectBivariateSpline(rdata,thdata,valuesdat)\n",
    "toten = lambda r: interp.integral(2,r,0.001,np.pi-0.001)\n",
    "toten(10)/toten(rdat[-1])\n",
    "bb=time.time()\n",
    "bb-aa"
   ]
  },
  {
   "cell_type": "code",
   "execution_count": null,
   "id": "d3c1482a",
   "metadata": {},
   "outputs": [],
   "source": []
  }
 ],
 "metadata": {
  "kernelspec": {
   "display_name": "Python 3",
   "language": "python",
   "name": "python3"
  },
  "language_info": {
   "codemirror_mode": {
    "name": "ipython",
    "version": 3
   },
   "file_extension": ".py",
   "mimetype": "text/x-python",
   "name": "python",
   "nbconvert_exporter": "python",
   "pygments_lexer": "ipython3",
   "version": "3.9.7"
  }
 },
 "nbformat": 4,
 "nbformat_minor": 5
}
