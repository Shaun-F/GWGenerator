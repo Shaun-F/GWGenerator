{
 "cells": [
  {
   "cell_type": "code",
   "execution_count": 9,
   "id": "9bdecc62",
   "metadata": {},
   "outputs": [
    {
     "name": "stdout",
     "output_type": "stream",
     "text": [
      "alpha = 0.025442669409345562\n"
     ]
    }
   ],
   "source": [
    "import sys\n",
    "import os\n",
    "\n",
    "import matplotlib.pyplot as plt\n",
    "%matplotlib inline\n",
    "import numpy as np\n",
    "import scipy as sp\n",
    "import scipy.fft\n",
    "\n",
    "from few.trajectory.inspiral import EMRIInspiral\n",
    "from few.waveform import GenerateEMRIWaveform\n",
    "from few.summation.aakwave import AAKSummation\n",
    "from few.waveform import Pn5AAKWaveform, AAKWaveformBase\n",
    "from few.utils.utility import *\n",
    "\n",
    "os.chdir(\"../\")\n",
    "path = os.getcwd()\n",
    "sys.path.insert(0, path)\n",
    "import GWGen\n",
    "from GWGen.WFGenerator import *\n",
    "# set initial parameters\n",
    "M = 1e6\n",
    "m = 1e1\n",
    "mu = 3.4e-18\n",
    "a = 0.9\n",
    "p0 = 10.0\n",
    "e0 = 0.2\n",
    "iota0 = 0.0\n",
    "Y0 = np.cos(iota0)\n",
    "Phi_phi0 = 0.\n",
    "Phi_theta0 =0.\n",
    "Phi_r0 = 0.\n",
    "\n",
    "\n",
    "qS = 0.2\n",
    "phiS = 0.8\n",
    "qK = 0.2\n",
    "phiK = 0.8\n",
    "dist = 1.0\n",
    "mich = False\n",
    "dt = 15.0\n",
    "T = 5.0\n",
    "\n",
    "alphaval = alphavalue(M,mu)\n",
    "print(r\"alpha = {0}\".format(alphaval))\n",
    "\n",
    "\n",
    "use_gpu = False\n",
    "\n",
    "# keyword arguments for inspiral generator (RunKerrGenericPn5Inspiral)\n",
    "inspiral_kwargs = {\n",
    "    \"npoints\": 99,  # we want a densely sampled trajectory\n",
    "    \"max_init_len\": int(1e3),  # all of the trajectories will be well under len = 1000\n",
    "}\n",
    "\n",
    "# keyword arguments for summation generator (AAKSummation)\n",
    "sum_kwargs = {\n",
    "    \"use_gpu\": use_gpu,  # GPU is availabel for this type of summation\n",
    "    \"pad_output\": False,\n",
    "}"
   ]
  },
  {
   "cell_type": "markdown",
   "id": "a08c491d",
   "metadata": {},
   "source": [
    "# Without Proca"
   ]
  },
  {
   "cell_type": "code",
   "execution_count": 3,
   "id": "6fb3c9ed",
   "metadata": {},
   "outputs": [
    {
     "name": "stdout",
     "output_type": "stream",
     "text": [
      "Integration halted before ending time. Reasons: PN Angular Momentum flux larger than zero! Breaking.\n"
     ]
    }
   ],
   "source": [
    "traj = PNTraj(bhspin=1e-2)\n",
    "t,p,e,x,phiphi,phitheta,phir = traj(M,m,a, p0,e0,Y0,T=T,**inspiral_kwargs)"
   ]
  },
  {
   "cell_type": "markdown",
   "id": "0bcc8410",
   "metadata": {},
   "source": [
    "# With Proca"
   ]
  },
  {
   "cell_type": "code",
   "execution_count": 10,
   "id": "7ae74b55",
   "metadata": {},
   "outputs": [
    {
     "name": "stdout",
     "output_type": "stream",
     "text": [
      "Integration halted before ending time. Reasons: PN Angular Momentum flux larger than zero! Breaking.\n"
     ]
    }
   ],
   "source": [
    "pc = ProcaSolution(M,a,mu)\n",
    "conv = m/pc.BosonCloudMass()\n",
    "asymptoticBosonCloudEFlux = pc.BosonCloudGWEFlux()*conv #dimenionsless flux in units of secondary mass over time\n",
    "asymptoticBosonCloudLFlux = pc.BosonCloudGWLFlux()*conv*pc.BosonCloudMass() #dimensionless angular momentum in units of secondary's energy times mass of cloud\n",
    "inspiral_kwargs[\"DeltaEFlux\"] = asymptoticBosonCloudEFlux\n",
    "inspiral_kwargs[\"DeltaLFlux\"] = asymptoticBosonCloudLFlux\n",
    "inspiral_kwargs[\"FluxName\"] = 'analytic'\n",
    "tp,pp,ep,xp,phiphip,phithetap,phirp = traj(M,m,a, p0,e0,Y0,T=T, **inspiral_kwargs)"
   ]
  },
  {
   "cell_type": "code",
   "execution_count": 12,
   "id": "904367a0",
   "metadata": {},
   "outputs": [
    {
     "data": {
      "text/plain": [
       "75"
      ]
     },
     "execution_count": 12,
     "metadata": {},
     "output_type": "execute_result"
    }
   ],
   "source": [
    "len(pp)"
   ]
  },
  {
   "cell_type": "markdown",
   "id": "4bfa2b0c",
   "metadata": {},
   "source": [
    "# Plot"
   ]
  },
  {
   "cell_type": "code",
   "execution_count": 13,
   "id": "97a747b5",
   "metadata": {},
   "outputs": [
    {
     "ename": "ValueError",
     "evalue": "x and y must have same first dimension, but have shapes (64,) and (1,)",
     "output_type": "error",
     "traceback": [
      "\u001b[0;31m---------------------------------------------------------------------------\u001b[0m",
      "\u001b[0;31mValueError\u001b[0m                                Traceback (most recent call last)",
      "\u001b[0;32m/tmp/ipykernel_17552/3152221624.py\u001b[0m in \u001b[0;36m<module>\u001b[0;34m\u001b[0m\n\u001b[1;32m      9\u001b[0m \u001b[0max\u001b[0m\u001b[0;34m[\u001b[0m\u001b[0;36m0\u001b[0m\u001b[0;34m,\u001b[0m\u001b[0;36m0\u001b[0m\u001b[0;34m]\u001b[0m\u001b[0;34m.\u001b[0m\u001b[0mlegend\u001b[0m\u001b[0;34m(\u001b[0m\u001b[0;34m)\u001b[0m\u001b[0;34m\u001b[0m\u001b[0;34m\u001b[0m\u001b[0m\n\u001b[1;32m     10\u001b[0m \u001b[0;34m\u001b[0m\u001b[0m\n\u001b[0;32m---> 11\u001b[0;31m \u001b[0max\u001b[0m\u001b[0;34m[\u001b[0m\u001b[0;36m0\u001b[0m\u001b[0;34m,\u001b[0m\u001b[0;36m1\u001b[0m\u001b[0;34m]\u001b[0m\u001b[0;34m.\u001b[0m\u001b[0mplot\u001b[0m\u001b[0;34m(\u001b[0m\u001b[0mt\u001b[0m\u001b[0;34m,\u001b[0m\u001b[0me\u001b[0m\u001b[0;34m,\u001b[0m \u001b[0mlabel\u001b[0m\u001b[0;34m=\u001b[0m\u001b[0;34m\"WithoutProca Traj\"\u001b[0m\u001b[0;34m)\u001b[0m\u001b[0;34m\u001b[0m\u001b[0;34m\u001b[0m\u001b[0m\n\u001b[0m\u001b[1;32m     12\u001b[0m \u001b[0max\u001b[0m\u001b[0;34m[\u001b[0m\u001b[0;36m0\u001b[0m\u001b[0;34m,\u001b[0m\u001b[0;36m1\u001b[0m\u001b[0;34m]\u001b[0m\u001b[0;34m.\u001b[0m\u001b[0mset_xlabel\u001b[0m\u001b[0;34m(\u001b[0m\u001b[0;34m\"t\"\u001b[0m\u001b[0;34m)\u001b[0m\u001b[0;34m\u001b[0m\u001b[0;34m\u001b[0m\u001b[0m\n\u001b[1;32m     13\u001b[0m \u001b[0max\u001b[0m\u001b[0;34m[\u001b[0m\u001b[0;36m0\u001b[0m\u001b[0;34m,\u001b[0m\u001b[0;36m1\u001b[0m\u001b[0;34m]\u001b[0m\u001b[0;34m.\u001b[0m\u001b[0mset_ylabel\u001b[0m\u001b[0;34m(\u001b[0m\u001b[0;34m\"e\"\u001b[0m\u001b[0;34m)\u001b[0m\u001b[0;34m\u001b[0m\u001b[0;34m\u001b[0m\u001b[0m\n",
      "\u001b[0;32m/mnt/Data_Volume/Computer_Programs/Anaconda/envs/few_env/lib/python3.7/site-packages/matplotlib/axes/_axes.py\u001b[0m in \u001b[0;36mplot\u001b[0;34m(self, scalex, scaley, data, *args, **kwargs)\u001b[0m\n\u001b[1;32m   1633\u001b[0m         \"\"\"\n\u001b[1;32m   1634\u001b[0m         \u001b[0mkwargs\u001b[0m \u001b[0;34m=\u001b[0m \u001b[0mcbook\u001b[0m\u001b[0;34m.\u001b[0m\u001b[0mnormalize_kwargs\u001b[0m\u001b[0;34m(\u001b[0m\u001b[0mkwargs\u001b[0m\u001b[0;34m,\u001b[0m \u001b[0mmlines\u001b[0m\u001b[0;34m.\u001b[0m\u001b[0mLine2D\u001b[0m\u001b[0;34m)\u001b[0m\u001b[0;34m\u001b[0m\u001b[0;34m\u001b[0m\u001b[0m\n\u001b[0;32m-> 1635\u001b[0;31m         \u001b[0mlines\u001b[0m \u001b[0;34m=\u001b[0m \u001b[0;34m[\u001b[0m\u001b[0;34m*\u001b[0m\u001b[0mself\u001b[0m\u001b[0;34m.\u001b[0m\u001b[0m_get_lines\u001b[0m\u001b[0;34m(\u001b[0m\u001b[0;34m*\u001b[0m\u001b[0margs\u001b[0m\u001b[0;34m,\u001b[0m \u001b[0mdata\u001b[0m\u001b[0;34m=\u001b[0m\u001b[0mdata\u001b[0m\u001b[0;34m,\u001b[0m \u001b[0;34m**\u001b[0m\u001b[0mkwargs\u001b[0m\u001b[0;34m)\u001b[0m\u001b[0;34m]\u001b[0m\u001b[0;34m\u001b[0m\u001b[0;34m\u001b[0m\u001b[0m\n\u001b[0m\u001b[1;32m   1636\u001b[0m         \u001b[0;32mfor\u001b[0m \u001b[0mline\u001b[0m \u001b[0;32min\u001b[0m \u001b[0mlines\u001b[0m\u001b[0;34m:\u001b[0m\u001b[0;34m\u001b[0m\u001b[0;34m\u001b[0m\u001b[0m\n\u001b[1;32m   1637\u001b[0m             \u001b[0mself\u001b[0m\u001b[0;34m.\u001b[0m\u001b[0madd_line\u001b[0m\u001b[0;34m(\u001b[0m\u001b[0mline\u001b[0m\u001b[0;34m)\u001b[0m\u001b[0;34m\u001b[0m\u001b[0;34m\u001b[0m\u001b[0m\n",
      "\u001b[0;32m/mnt/Data_Volume/Computer_Programs/Anaconda/envs/few_env/lib/python3.7/site-packages/matplotlib/axes/_base.py\u001b[0m in \u001b[0;36m__call__\u001b[0;34m(self, data, *args, **kwargs)\u001b[0m\n\u001b[1;32m    310\u001b[0m                 \u001b[0mthis\u001b[0m \u001b[0;34m+=\u001b[0m \u001b[0margs\u001b[0m\u001b[0;34m[\u001b[0m\u001b[0;36m0\u001b[0m\u001b[0;34m]\u001b[0m\u001b[0;34m,\u001b[0m\u001b[0;34m\u001b[0m\u001b[0;34m\u001b[0m\u001b[0m\n\u001b[1;32m    311\u001b[0m                 \u001b[0margs\u001b[0m \u001b[0;34m=\u001b[0m \u001b[0margs\u001b[0m\u001b[0;34m[\u001b[0m\u001b[0;36m1\u001b[0m\u001b[0;34m:\u001b[0m\u001b[0;34m]\u001b[0m\u001b[0;34m\u001b[0m\u001b[0;34m\u001b[0m\u001b[0m\n\u001b[0;32m--> 312\u001b[0;31m             \u001b[0;32myield\u001b[0m \u001b[0;32mfrom\u001b[0m \u001b[0mself\u001b[0m\u001b[0;34m.\u001b[0m\u001b[0m_plot_args\u001b[0m\u001b[0;34m(\u001b[0m\u001b[0mthis\u001b[0m\u001b[0;34m,\u001b[0m \u001b[0mkwargs\u001b[0m\u001b[0;34m)\u001b[0m\u001b[0;34m\u001b[0m\u001b[0;34m\u001b[0m\u001b[0m\n\u001b[0m\u001b[1;32m    313\u001b[0m \u001b[0;34m\u001b[0m\u001b[0m\n\u001b[1;32m    314\u001b[0m     \u001b[0;32mdef\u001b[0m \u001b[0mget_next_color\u001b[0m\u001b[0;34m(\u001b[0m\u001b[0mself\u001b[0m\u001b[0;34m)\u001b[0m\u001b[0;34m:\u001b[0m\u001b[0;34m\u001b[0m\u001b[0;34m\u001b[0m\u001b[0m\n",
      "\u001b[0;32m/mnt/Data_Volume/Computer_Programs/Anaconda/envs/few_env/lib/python3.7/site-packages/matplotlib/axes/_base.py\u001b[0m in \u001b[0;36m_plot_args\u001b[0;34m(self, tup, kwargs, return_kwargs)\u001b[0m\n\u001b[1;32m    496\u001b[0m \u001b[0;34m\u001b[0m\u001b[0m\n\u001b[1;32m    497\u001b[0m         \u001b[0;32mif\u001b[0m \u001b[0mx\u001b[0m\u001b[0;34m.\u001b[0m\u001b[0mshape\u001b[0m\u001b[0;34m[\u001b[0m\u001b[0;36m0\u001b[0m\u001b[0;34m]\u001b[0m \u001b[0;34m!=\u001b[0m \u001b[0my\u001b[0m\u001b[0;34m.\u001b[0m\u001b[0mshape\u001b[0m\u001b[0;34m[\u001b[0m\u001b[0;36m0\u001b[0m\u001b[0;34m]\u001b[0m\u001b[0;34m:\u001b[0m\u001b[0;34m\u001b[0m\u001b[0;34m\u001b[0m\u001b[0m\n\u001b[0;32m--> 498\u001b[0;31m             raise ValueError(f\"x and y must have same first dimension, but \"\n\u001b[0m\u001b[1;32m    499\u001b[0m                              f\"have shapes {x.shape} and {y.shape}\")\n\u001b[1;32m    500\u001b[0m         \u001b[0;32mif\u001b[0m \u001b[0mx\u001b[0m\u001b[0;34m.\u001b[0m\u001b[0mndim\u001b[0m \u001b[0;34m>\u001b[0m \u001b[0;36m2\u001b[0m \u001b[0;32mor\u001b[0m \u001b[0my\u001b[0m\u001b[0;34m.\u001b[0m\u001b[0mndim\u001b[0m \u001b[0;34m>\u001b[0m \u001b[0;36m2\u001b[0m\u001b[0;34m:\u001b[0m\u001b[0;34m\u001b[0m\u001b[0;34m\u001b[0m\u001b[0m\n",
      "\u001b[0;31mValueError\u001b[0m: x and y must have same first dimension, but have shapes (64,) and (1,)"
     ]
    },
    {
     "data": {
      "image/png": "[encoded data removed]",
      "text/plain": [
       "<Figure size 1600x800 with 4 Axes>"
      ]
     },
     "metadata": {},
     "output_type": "display_data"
    }
   ],
   "source": [
    "fig,ax = plt.subplots(2,2)\n",
    "\n",
    "plt.subplots_adjust(wspace=0.5,hspace=0.5)\n",
    "fig.set_size_inches(16, 8)\n",
    "ax[0,0].plot(t,p, label=\"WithoutProca Traj\")\n",
    "ax[0,0].set_xlabel(\"t\")\n",
    "ax[0,0].set_ylabel(\"p\")\n",
    "ax[0,0].plot(tp,pp, label=\"WithProca Traj\")\n",
    "ax[0,0].legend()\n",
    "\n",
    "ax[0,1].plot(t,e, label=\"WithoutProca Traj\")\n",
    "ax[0,1].set_xlabel(\"t\")\n",
    "ax[0,1].set_ylabel(\"e\")\n",
    "ax[0,1].plot(tp,ep, label=\"WithProca Traj\")\n",
    "ax[0,1].legend()\n",
    "\n",
    "ax[1,0].plot(p,e, label=\"WithoutProca Traj\")\n",
    "ax[1,0].set_xlabel(\"p\")\n",
    "ax[1,0].set_ylabel(\"e\")\n",
    "ax[1,0].plot(pp,ep, label=\"WithProca Traj\")\n",
    "ax[1,0].legend()\n",
    "\n",
    "ax[1,1].plot(t,phiphi, label=\"WithoutProca Traj\")\n",
    "ax[1,1].set_xlabel(\"t\")\n",
    "ax[1,1].set_ylabel(\"phi\")\n",
    "ax[1,1].plot(tp,phiphip, label=\"WithProca Traj\")\n",
    "ax[1,1].legend();"
   ]
  },
  {
   "cell_type": "code",
   "execution_count": 17,
   "id": "c31286dc",
   "metadata": {},
   "outputs": [
    {
     "data": {
      "text/plain": [
       "[2.5007620045187737,\n",
       " 2.50076200439525,\n",
       " 2.5007620031098448,\n",
       " 2.500761990305988,\n",
       " 2.500761862219139,\n",
       " 2.500760581370683,\n",
       " 2.500747772188279,\n",
       " 2.50061961123306,\n",
       " 2.4994160551257054,\n",
       " 2.4982012326715317,\n",
       " 2.496974863999511,\n",
       " 2.495736657533524,\n",
       " 2.4944863092703162,\n",
       " 2.4932235020248,\n",
       " 2.4919479046454547,\n",
       " 2.490659171097517,\n",
       " 2.48935693957334,\n",
       " 2.4880408314244264,\n",
       " 2.486710450052464,\n",
       " 2.485365379726515,\n",
       " 2.4840051842338307,\n",
       " 2.4826294054947824,\n",
       " 2.481237561963191,\n",
       " 2.47982914692738,\n",
       " 2.478403626660629,\n",
       " 2.476960438353516,\n",
       " 2.475498987848523,\n",
       " 2.474018647188551,\n",
       " 2.472518751865304,\n",
       " 2.470998597792121,\n",
       " 2.469457437920697,\n",
       " 2.4678944785804107,\n",
       " 2.4663088752290276,\n",
       " 2.464699727923764,\n",
       " 2.463066076058947,\n",
       " 2.4614068925674224,\n",
       " 2.459721077371581,\n",
       " 2.458007449957208,\n",
       " 2.4562647410356453,\n",
       " 2.4544915829747076,\n",
       " 2.4526864989344834,\n",
       " 2.450847890447752,\n",
       " 2.448974023114404,\n",
       " 2.447063010093555,\n",
       " 2.445112792966564,\n",
       " 2.443121119501281,\n",
       " 2.4410855175465707,\n",
       " 2.4390032644271584,\n",
       " 2.4368713506609905,\n",
       " 2.434686436830294,\n",
       " 2.432444801986645,\n",
       " 2.430142281503852,\n",
       " 2.427774191596224,\n",
       " 2.42533523718579,\n",
       " 2.4228193983887842,\n",
       " 2.420219789608537,\n",
       " 2.4175284830994395,\n",
       " 2.414736286119446,\n",
       " 2.413410846287765,\n",
       " 2.4103808132148385,\n",
       " 2.407211343345872,\n",
       " 2.4038844051080828,\n",
       " 2.4003781361679604,\n",
       " 2.3966658276166144,\n",
       " 2.3927146175577274,\n",
       " 2.388483980768175,\n",
       " 2.383924423403915,\n",
       " 2.3789779674580727,\n",
       " 2.373586051226124,\n",
       " 2.3677250935285388,\n",
       " 2.3615460843060436,\n",
       " 2.3559027215776824,\n",
       " 2.3538669266531285,\n",
       " 2.360062339389728,\n",
       " 2.3640515162603695]"
      ]
     },
     "execution_count": 17,
     "metadata": {},
     "output_type": "execute_result"
    }
   ],
   "source": [
    "[get_separatrix(a,epi,1.) for epi in ep]"
   ]
  },
  {
   "cell_type": "code",
   "execution_count": null,
   "id": "e08cb3ea",
   "metadata": {},
   "outputs": [],
   "source": []
  }
 ],
 "metadata": {
  "kernelspec": {
   "display_name": "Python 3",
   "language": "python",
   "name": "python3"
  },
  "language_info": {
   "codemirror_mode": {
    "name": "ipython",
    "version": 3
   },
   "file_extension": ".py",
   "mimetype": "text/x-python",
   "name": "python",
   "nbconvert_exporter": "python",
   "pygments_lexer": "ipython3",
   "version": "3.7.12"
  }
 },
 "nbformat": 4,
 "nbformat_minor": 5
}
