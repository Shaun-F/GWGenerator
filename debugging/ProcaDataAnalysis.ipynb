{
 "cells": [
  {
   "cell_type": "code",
   "execution_count": 13,
   "id": "4c2e4e27",
   "metadata": {},
   "outputs": [],
   "source": [
    "import os, sys, glob, json, scipy as sp\n",
    "import numpy as np\n",
    "import matplotlib.pyplot as plt\n",
    "path = os.getcwd()+\"/../\"\n",
    "sys.path.insert(0, path)\n",
    "import GWGen\n",
    "from GWGen.DressedFluxes import *\n",
    "AllData = SortedProcaDataFilenames\n",
    "from bisect import bisect_right"
   ]
  },
  {
   "cell_type": "code",
   "execution_count": 2,
   "id": "498a6a5e",
   "metadata": {},
   "outputs": [
    {
     "name": "stdout",
     "output_type": "stream",
     "text": [
      "bh spin value range: [0.6, 0.9]\n"
     ]
    }
   ],
   "source": [
    "print(\"bh spin value range: [{0}, {1}]\".format(list(AllData.keys())[0],list(AllData.keys())[-1]))"
   ]
  },
  {
   "cell_type": "code",
   "execution_count": 3,
   "id": "e190f3ca",
   "metadata": {},
   "outputs": [
    {
     "name": "stdout",
     "output_type": "stream",
     "text": [
      "Alpha range by BH spins:\n",
      "Alpha range at BH spins 0.6: [0.02, 0.165]\n",
      "Alpha range at BH spins 0.62: [0.02, 0.175]\n",
      "Alpha range at BH spins 0.64: [0.02, 0.18]\n",
      "Alpha range at BH spins 0.66: [0.02, 0.19]\n",
      "Alpha range at BH spins 0.68: [0.02, 0.2]\n",
      "Alpha range at BH spins 0.7: [0.02, 0.205]\n",
      "Alpha range at BH spins 0.72: [0.02, 0.215]\n",
      "Alpha range at BH spins 0.74: [0.02, 0.225]\n",
      "Alpha range at BH spins 0.76: [0.02, 0.235]\n",
      "Alpha range at BH spins 0.78: [0.02, 0.245]\n",
      "Alpha range at BH spins 0.8: [0.02, 0.26]\n",
      "Alpha range at BH spins 0.82: [0.02, 0.27]\n",
      "Alpha range at BH spins 0.84: [0.02, 0.285]\n",
      "Alpha range at BH spins 0.86: [0.02, 0.3]\n",
      "Alpha range at BH spins 0.88: [0.02, 0.315]\n",
      "Alpha range at BH spins 0.9: [0.02, 0.335]\n"
     ]
    }
   ],
   "source": [
    "print(\"Alpha range by BH spins:\")\n",
    "for key in AllData.keys():\n",
    "    print(\"Alpha range at BH spins {0}: [{1}, {2}]\".format(key,AlphaValFromFilename(AllData[key][0]),AlphaValFromFilename(AllData[key][-1])))"
   ]
  },
  {
   "cell_type": "code",
   "execution_count": 22,
   "id": "3935ca56",
   "metadata": {},
   "outputs": [
    {
     "data": {
      "text/plain": [
       "0.235"
      ]
     },
     "execution_count": 22,
     "metadata": {},
     "output_type": "execute_result"
    }
   ],
   "source": [
    "tmp = []\n",
    "test_a = 0.77\n",
    "for key in AllData.keys():\n",
    "    tmp.append((key,AlphaValFromFilename(AllData[key][-1])))\n",
    "bhspins = np.array(tmp)[:,0]\n",
    "inx = bisect_right(bhspins,test_a)\n",
    "tmp[inx-1][1]"
   ]
  },
  {
   "cell_type": "code",
   "execution_count": 24,
   "id": "5b049de3",
   "metadata": {},
   "outputs": [],
   "source": [
    "    tmparr = np.linspace(1,9,9,dtype=np.int64) #strange floating point error when doing just np.arange(1,10,0.1) for np.linspace(1,10,91). Causes issues when saving numbers to filenames\n",
    "    SMBHMasses = sorted([int(i) for i in np.kron(tmparr,[1e5, 1e6,1e7])]) #solar masses\n",
    "    SMBHSpins = np.linspace(0.6,0.9,10)\n",
    "    SecondaryMass = 10 #solar masses\n",
    "    e0list = [0.1,0.2,0.3,0.4,0.5,0.6,0.7]\n",
    "    ProcaMasses = [round(i,22) for i in np.kron(tmparr, [1e-16,1e-17,1e-18,1e-19])] #eV   #again avoiding floating point errors\n",
    "    parallel_args = cartesian_product(np.array(SMBHMasses),np.array(SMBHSpins), np.array(ProcaMasses), np.array(e0list))\n"
   ]
  },
  {
   "cell_type": "code",
   "execution_count": 29,
   "id": "4a2bb950",
   "metadata": {},
   "outputs": [
    {
     "data": {
      "text/plain": [
       "1.4765625"
      ]
     },
     "execution_count": 29,
     "metadata": {},
     "output_type": "execute_result"
    }
   ],
   "source": [
    "len(parallel_args)*60/(32*60*60*24)"
   ]
  },
  {
   "cell_type": "code",
   "execution_count": null,
   "id": "7b5bc472",
   "metadata": {},
   "outputs": [],
   "source": []
  }
 ],
 "metadata": {
  "kernelspec": {
   "display_name": "Python 3",
   "language": "python",
   "name": "python3"
  },
  "language_info": {
   "codemirror_mode": {
    "name": "ipython",
    "version": 3
   },
   "file_extension": ".py",
   "mimetype": "text/x-python",
   "name": "python",
   "nbconvert_exporter": "python",
   "pygments_lexer": "ipython3",
   "version": "3.7.12"
  }
 },
 "nbformat": 4,
 "nbformat_minor": 5
}
