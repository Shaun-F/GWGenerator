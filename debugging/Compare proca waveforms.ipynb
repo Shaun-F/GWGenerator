{
 "cells": [
  {
   "cell_type": "code",
   "execution_count": 1,
   "id": "29ebb2bb",
   "metadata": {},
   "outputs": [],
   "source": [
    "import sys\n",
    "import os\n",
    "\n",
    "import matplotlib.pyplot as plt\n",
    "%matplotlib inline\n",
    "import numpy as np\n",
    "import scipy as sp\n",
    "import scipy.fft\n",
    "\n",
    "os.chdir(\"../\")\n",
    "path = os.getcwd()\n",
    "sys.path.insert(0, path)\n",
    "import GWGen\n",
    "from GWGen.WFGenerator import *\n",
    "import superrad\n",
    "\n",
    "ulb = superrad.ultralight_boson.UltralightBoson(spin=1,model=\"relativistic\")"
   ]
  },
  {
   "cell_type": "code",
   "execution_count": 2,
   "id": "9bdecc62",
   "metadata": {},
   "outputs": [
    {
     "name": "stdout",
     "output_type": "stream",
     "text": [
      "alpha = 0.07483138061572224\n",
      "initial p = 34.8\n"
     ]
    }
   ],
   "source": [
    "# set initial parameters\n",
    "M = 1e5\n",
    "m = 1e1\n",
    "mu = 1e-16\n",
    "e0 = 0.3\n",
    "p0 = GetInitialP(M,e0)\n",
    "Phi_phi0 = 0.\n",
    "Phi_theta0 =0.\n",
    "Phi_r0 = 0.\n",
    "\n",
    "\n",
    "a=0.6 #SMBH Spin\n",
    "Y0=1. #Initial Inclincation\n",
    "qS=np.pi/4 #Sky Location Polar Angle in solar system barycenter coordinate system\n",
    "phiS=0. #Sky Location Azimuthal Angle in solar system barycenter coordinate system\n",
    "qK=1e-6 #Initial BH Spin Polar Angle in solar system barycenter coordinate system\n",
    "phiK=0. #Initial BH Spin Azimuthal Angle in solar system barycenter coordinate system\n",
    "dist=1. #Distance to source (Mpc)\n",
    "mich=False #assume LISA long baseline response approximation\n",
    "\n",
    "T=8 #LISA data run is 5 years. We set the max time to be longer because the proca cloud extends the inspiral time\n",
    "dt=15 #time resolution in seconds\n",
    "\n",
    "alphaval = alphavalue(M,mu)\n",
    "print(r\"alpha = {0}\".format(alphaval))\n",
    "print(\"initial p = {0}\".format(p0))\n",
    "\n",
    "\n",
    "use_gpu = True\n",
    "\n",
    "# keyword arguments for inspiral generator (RunKerrGenericPn5Inspiral)\n",
    "insp_kwargs = {\n",
    "    \"npoints\": 110,  # we want a densely sampled trajectory\n",
    "    \"max_init_len\": int(1e3),  # all of the trajectories will be well under len = 1000\n",
    "    \"dense_output\":True\n",
    "}\n",
    "\n",
    "# keyword arguments for summation generator (AAKSummation)\n",
    "sum_kwargs = {\n",
    "    \"use_gpu\": use_gpu,  # GPU is availabel for this type of summation\n",
    "    \"pad_output\": False,\n",
    "}\n"
   ]
  },
  {
   "cell_type": "markdown",
   "id": "0bcc8410",
   "metadata": {},
   "source": [
    "# With Proca"
   ]
  },
  {
   "cell_type": "code",
   "execution_count": 3,
   "id": "7ae74b55",
   "metadata": {},
   "outputs": [
    {
     "name": "stderr",
     "output_type": "stream",
     "text": [
      "/mnt/Data_Volume/Computer_Programs/Anaconda/envs/few_env/lib/python3.7/site-packages/few/summation/aakwave.py:228: UserWarning: Inclination trajectory includes values within 1e-6 of the poles. We shift these values automatically away from poles by 1e-6.\n",
      "  \"Inclination trajectory includes values within 1e-6 of the poles. We shift these values automatically away from poles by 1e-6.\"\n"
     ]
    }
   ],
   "source": [
    "ProcaInspiralKwargs = insp_kwargs.copy()\n",
    "ProcaSumKwargs = sum_kwargs.copy()\n",
    "withprocagen = EMRIWithProcaWaveform(inspiral_kwargs=ProcaInspiralKwargs,sum_kwargs=ProcaSumKwargs)\n",
    "withproca = withprocagen(M,m,mu,a,p0,e0,Y0,T=T,qS=qS,phiS=phiS,qK=qK,phiK=phiK,dist=dist,mich=mich, UltralightBoson=ulb)"
   ]
  },
  {
   "cell_type": "markdown",
   "id": "a4e1b1be",
   "metadata": {},
   "source": [
    "# Without Proca"
   ]
  },
  {
   "cell_type": "code",
   "execution_count": 4,
   "id": "cecb29d2",
   "metadata": {},
   "outputs": [],
   "source": [
    "WithoutProcaInspiralKwargs = insp_kwargs.copy()\n",
    "WithoutProcaSumKwargs=sum_kwargs.copy()\n",
    "withoutprocagen = EMRIWaveform(inspiral_kwargs=WithoutProcaInspiralKwargs, sum_kwargs=WithoutProcaSumKwargs, use_gpu=False)\n",
    "withoutproca = withoutprocagen(M, m, a, p0, e0, Y0, qS, phiS, qK, phiK, dist,Phi_phi0=Phi_phi0, Phi_theta0=Phi_theta0, Phi_r0=Phi_r0, mich=mich, dt=dt, T=T)"
   ]
  },
  {
   "cell_type": "markdown",
   "id": "14ab721b",
   "metadata": {},
   "source": [
    "# Plots"
   ]
  },
  {
   "cell_type": "code",
   "execution_count": null,
   "id": "97a747b5",
   "metadata": {
    "scrolled": false
   },
   "outputs": [],
   "source": [
    "titlefontsize=40\n",
    "legendsize=16;\n",
    "if use_gpu:\n",
    "    withoutproca = withoutproca.get()\n",
    "    withproca=withproca.get()\n",
    "mismatch = get_mismatch(withoutproca, withproca)\n",
    "\n",
    "tp = np.arange(len(withproca)) * dt;\n",
    "twp = np.arange(len(withoutproca)) * dt\n",
    "\n",
    "fig,ax = plt.subplots(9,1, figsize=(45,200))\n",
    "plt.subplots_adjust(hspace=1, wspace=0.5)\n",
    "ax[0].plot(tp, withproca.real)\n",
    "ax[0].set_title(\"With proca\", fontsize=titlefontsize)\n",
    "ticks = ax[0].get_xticks()[1:-1];\n",
    "newlabs = np.array([int(i)/100 for i in (ticks*100/(60*60*24*365))]);\n",
    "ax[0].set_xticks(ticks, newlabs);\n",
    "ax[0].set_xlabel(\"years\");\n",
    "ax[0].set_ylabel(\"strain\");\n",
    "\n",
    "ax[1].plot(twp, withoutproca.real)\n",
    "ax[1].set_title(\"Without proca\", fontsize=titlefontsize)\n",
    "ticks = ax[1].get_xticks()[1:-1];\n",
    "newlabs = [int(i)/100 for i in (ticks*100/(60*60*24*365))];\n",
    "ax[1].set_xticks(ticks, newlabs);\n",
    "ax[1].set_xlabel(\"years\");\n",
    "ax[1].set_ylabel(\"strain\");\n",
    "\n",
    "minwave = min([len(withproca), len(withoutproca)])\n",
    "dom =tp[0:minwave-1]\n",
    "ax[2].plot(dom, (withproca.real[0:minwave-1]-withoutproca.real[0:minwave-1]));\n",
    "ax[2].set_title(\"difference between with and without proca \\n for alpha={0}. Mismatch={1}\".format(alphaval,mismatch), fontdict={\"fontsize\":9}, fontsize=titlefontsize);\n",
    "ticks = ax[2].get_xticks()[1:-1];\n",
    "newlabs = [int(i)/100 for i in (ticks*100/(60*60*24*365))];\n",
    "ax[2].set_xticks(ticks, newlabs);\n",
    "ax[2].set_xlabel(\"years\");\n",
    "ax[2].set_ylabel(\"strain\");\n",
    "\n",
    "\n",
    "minsize = min([len(tp), len(twp)])\n",
    "dom = withprocagen.Trajectory[\"t\"]\n",
    "#N_orbits = phase/(4*pi)\n",
    "Difference = (withprocagen.Trajectory[\"Phi_phi\"] - withoutprocagen.Trajectory[\"Phi_phi\"])/(4*np.pi)\n",
    "ax[3].plot(withprocagen.Trajectory[\"t\"], Difference, label=\"withproca\")\n",
    "ax[3].set_title(r\"$\\Delta N$ number of GW cycles\", fontsize=titlefontsize)\n",
    "ax[3].legend(prop={'size':legendsize})\n",
    "ticks = ax[3].get_xticks()[1:-1];\n",
    "newlabs = [int(i)/100 for i in (ticks*100/(60*60*24*365))];\n",
    "ax[3].set_xticks(ticks, newlabs);\n",
    "ax[3].set_xlabel(\"years\");\n",
    "ax[3].set_ylabel(\"phase\");\n",
    "\n",
    "\n",
    "ax[4].plot(withprocagen.Trajectory[\"t\"], withprocagen.Trajectory[\"p\"], label=\"with proca\")\n",
    "ax[4].set_title(\" semi-latus rectum evolution\", fontsize=titlefontsize)\n",
    "ax[4].legend(prop={'size':legendsize})\n",
    "ticks = ax[4].get_xticks()[1:-1];\n",
    "newlabs = [int(i)/100 for i in (ticks*100/(60*60*24*365))];\n",
    "ax[4].set_xticks(ticks, newlabs);\n",
    "ax[4].set_xlabel(\"years\");\n",
    "ax[4].set_ylabel(\"p\");\n",
    "\n",
    "ax[5].plot(withoutprocagen.Trajectory[\"t\"], withoutprocagen.Trajectory[\"p\"], label=\"without proca\")\n",
    "ax[5].set_title(\" semi-latus rectum evolution\", fontsize=titlefontsize)\n",
    "ax[5].legend(prop={'size':legendsize})\n",
    "ticks = ax[5].get_xticks()[1:-1];\n",
    "newlabs = [int(i)/100 for i in (ticks*100/(60*60*24*365))];\n",
    "ax[5].set_xticks(ticks, newlabs);\n",
    "ax[5].set_xlabel(\"years\");\n",
    "ax[5].set_ylabel(\"p\");\n",
    "\n",
    "\n",
    "minsize = min([len(tp), len(twp)])\n",
    "dom = tp[0:minsize-1]\n",
    "ax[6].plot(withprocagen.Trajectory[\"t\"], withprocagen.Trajectory[\"p\"], label=\"withproca\")\n",
    "ax[6].plot(withoutprocagen.Trajectory[\"t\"], withoutprocagen.Trajectory[\"p\"], label=\"withoutproca\")\n",
    "ax[6].set_title(\" semi-latus rectum evolution\", fontsize=titlefontsize)\n",
    "ax[6].legend(prop={'size':legendsize})\n",
    "ticks = ax[6].get_xticks()[1:-1];\n",
    "newlabs = [int(i)/100 for i in (ticks*100/(60*60*24*365))];\n",
    "ax[6].set_xticks(ticks, newlabs);\n",
    "ax[6].set_xlabel(\"years\");\n",
    "ax[6].set_ylabel(\"p\");\n",
    "\n",
    "\n",
    "minsize = min([len(tp), len(twp)])\n",
    "dom = tp[0:minsize-1]\n",
    "ax[7].plot(withprocagen.Trajectory[\"p\"], withprocagen.Trajectory[\"e\"], label=\"withproca\")\n",
    "ax[7].plot(withoutprocagen.Trajectory[\"p\"], withoutprocagen.Trajectory[\"e\"], label=\"withoutproca\")\n",
    "ax[7].set_title(\" configuration space trajectory\", fontsize=titlefontsize)\n",
    "ax[7].legend(prop={'size':legendsize})\n",
    "ax[7].set_xlabel(\"e\");\n",
    "ax[7].set_ylabel(\"p\");\n",
    "\n",
    "\n",
    "minsize = min([len(tp), len(twp)])\n",
    "dom = tp[0:minsize-1]\n",
    "ax[8].plot(withprocagen.Trajectory[\"t\"], withprocagen.Trajectory[\"e\"], label=\"withproca\")\n",
    "ax[8].plot(withoutprocagen.Trajectory[\"t\"], withoutprocagen.Trajectory[\"e\"], label=\"withoutproca\")\n",
    "ax[8].set_title(\" eccentricity evolution\", fontsize=titlefontsize)\n",
    "ax[8].legend(prop={'size':legendsize})\n",
    "ticks = ax[8].get_xticks()[1:-1];\n",
    "newlabs = [int(i)/100 for i in (ticks*100/(60*60*24*365))];\n",
    "ax[8].set_xticks(ticks, newlabs);\n",
    "ax[8].set_xlabel(\"years\");\n",
    "ax[8].set_ylabel(\"e\");\n",
    "\n",
    "plt.show()\n"
   ]
  },
  {
   "cell_type": "code",
   "execution_count": null,
   "id": "8843be14",
   "metadata": {},
   "outputs": [],
   "source": []
  },
  {
   "cell_type": "code",
   "execution_count": null,
   "id": "f88f17c3",
   "metadata": {},
   "outputs": [],
   "source": []
  },
  {
   "cell_type": "code",
   "execution_count": null,
   "id": "503917d3",
   "metadata": {},
   "outputs": [],
   "source": []
  },
  {
   "cell_type": "code",
   "execution_count": null,
   "id": "98f1587c",
   "metadata": {},
   "outputs": [],
   "source": []
  },
  {
   "cell_type": "code",
   "execution_count": null,
   "id": "8b3752e4",
   "metadata": {},
   "outputs": [],
   "source": []
  },
  {
   "cell_type": "code",
   "execution_count": null,
   "id": "b28a914b",
   "metadata": {},
   "outputs": [],
   "source": []
  },
  {
   "cell_type": "code",
   "execution_count": null,
   "id": "4ebc6423",
   "metadata": {},
   "outputs": [],
   "source": []
  },
  {
   "cell_type": "code",
   "execution_count": null,
   "id": "aee452eb",
   "metadata": {},
   "outputs": [],
   "source": []
  },
  {
   "cell_type": "code",
   "execution_count": null,
   "id": "83d6ebee",
   "metadata": {},
   "outputs": [],
   "source": []
  }
 ],
 "metadata": {
  "kernelspec": {
   "display_name": "Python 3",
   "language": "python",
   "name": "python3"
  },
  "language_info": {
   "codemirror_mode": {
    "name": "ipython",
    "version": 3
   },
   "file_extension": ".py",
   "mimetype": "text/x-python",
   "name": "python",
   "nbconvert_exporter": "python",
   "pygments_lexer": "ipython3",
   "version": "3.7.12"
  }
 },
 "nbformat": 4,
 "nbformat_minor": 5
}
