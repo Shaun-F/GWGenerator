{
 "cells": [
  {
   "cell_type": "code",
   "execution_count": 1,
   "id": "fc170555",
   "metadata": {},
   "outputs": [],
   "source": [
    "import os, sys, glob, json, scipy as sp\n",
    "import matplotlib.pyplot as plt\n",
    "import itertools\n",
    "os.chdir(\"../\")\n",
    "path = os.getcwd()\n",
    "sys.path.insert(0, path)\n",
    "import GWGen\n",
    "from GWGen.DressedFluxes import *\n",
    "import numpy as np\n",
    "from numpy import array\n",
    "import scipy as sp\n",
    "import time\n",
    "import scipy.optimize as spopt\n",
    "import scipy.interpolate as spint\n",
    "import glob\n",
    "import matplotlib.pyplot as plt\n",
    "import re\n",
    "alpha_match_1 = re.compile(\"Alpha_\\d+_\\d+\")\n",
    "alpha_match_2 = re.compile(\"Alpha_\\d+\")\n",
    "modeovertonematch = re.compile(\"Mode_1_Overtone_0\")\n",
    "alpha_rege = re.compile(\"\\d+\")\n",
    "def cartesian_product(*arrays):\n",
    "    la = len(arrays)\n",
    "    dtype = np.result_type(*arrays)\n",
    "    arr = np.empty([len(a) for a in arrays] + [la], dtype=dtype)\n",
    "    for i, a in enumerate(np.ix_(*arrays)):\n",
    "        arr[...,i] = a\n",
    "    return arr.reshape(-1, la)"
   ]
  },
  {
   "cell_type": "code",
   "execution_count": 2,
   "id": "864ec416",
   "metadata": {},
   "outputs": [],
   "source": [
    "allfilenames=glob.glob(pathToSolutionSet+\"BHSpin*\")\n",
    "alldata = [np.load(i) for i in allfilenames]\n",
    "modeovertonebool  = [bool(re.search(\"Mode_1_Overtone_0\",i.fid.name)) for i in alldata]\n",
    "newalldata =[]\n",
    "for inx,boolval in enumerate(modeovertonebool):\n",
    "    if boolval:\n",
    "        newalldata.append(alldata[inx])\n",
    "alldata = newalldata"
   ]
  },
  {
   "cell_type": "code",
   "execution_count": null,
   "id": "18d7dcfc",
   "metadata": {},
   "outputs": [],
   "source": [
    "interpdat = []\n",
    "for inx,dat in enumerate(alldata):\n",
    "    raddat = dat[\"RadialData\"]\n",
    "    thetdat = dat[\"ThetaData\"][0:100]\n",
    "    nonnanthetdat = notnan(thetdat)\n",
    "    if len(nonnanthetdat)>100:\n",
    "        nonnanthetdat[0:100]\n",
    "    endat = dat[\"EnergyData\"][:,nonnanthetdat]\n",
    "    interpfunc = spint.RectBivariateSpline(raddat,thetdat[nonnanthetdat],endat)\n",
    "    alphastr = alpha_match_1.findall(dat.fid.name)\n",
    "    if len(alphastr)==0:\n",
    "        alphastr=alpha_match_2.findall(dat.fid.name)\n",
    "    if isinstance(alphastr, str):\n",
    "        pass\n",
    "    elif isinstance(alphastr,list):\n",
    "        alphastr=alphastr[0]\n",
    "    alphapieces = alpha_rege.findall(alphastr)\n",
    "    if len(alphapieces)>1:\n",
    "        alphavalue = float(alphapieces[0])/float(alphapieces[1])\n",
    "    else:\n",
    "        alphavalue = float(alphapieces[0])\n",
    "    out = [alphavalue,min(raddat), max(raddat), min(thetdat), max(thetdat), interpfunc]\n",
    "    interpdat.append(out)"
   ]
  },
  {
   "cell_type": "code",
   "execution_count": null,
   "id": "a2e0e7d2",
   "metadata": {},
   "outputs": [],
   "source": [
    "alphavals = []\n",
    "maxradial = []\n",
    "maxendens = []\n",
    "interpsfuncs = []\n",
    "for inx, interptuple in enumerate(interpdat):\n",
    "    alpha, minr,maxr,mint,maxt,interpfunc = interptuple\n",
    "    rad = 50\n",
    "    thet = np.pi/2\n",
    "    interpdata = interpfunc(rad,thet)\n",
    "    maxenden = max(interpdata)\n",
    "    maxradial.append(maxr)\n",
    "    alphavals.append(alpha)\n",
    "    maxendens.append(maxenden)\n",
    "    interpsfuncs.append(interpfunc)"
   ]
  },
  {
   "cell_type": "code",
   "execution_count": null,
   "id": "2803b943",
   "metadata": {},
   "outputs": [],
   "source": [
    "indexsort = np.argsort(alphavals)\n",
    "sorted_alphavals = np.asarray(alphavals)[indexsort]\n",
    "sorted_interpfuncs = np.asarray(interpsfuncs)[indexsort]\n",
    "sorted_maxradial = np.asarray(maxradial)[indexsort]"
   ]
  },
  {
   "cell_type": "code",
   "execution_count": null,
   "id": "d77ac071",
   "metadata": {},
   "outputs": [],
   "source": [
    "takenumber = 2\n",
    "take_alphavalues = sorted_alphavals[:takenumber]\n",
    "minmaxrad = min(sorted_maxradial[:takenumber])\n",
    "maxmaxrad = max(sorted_maxradial[:takenumber])\n",
    "radialdom = np.arange(minr, minmaxrad,1)\n",
    "take_interpfuncs = sorted_interpfuncs[:takenumber]"
   ]
  },
  {
   "cell_type": "code",
   "execution_count": null,
   "id": "d40fd53f",
   "metadata": {},
   "outputs": [],
   "source": [
    "energydata"
   ]
  },
  {
   "cell_type": "code",
   "execution_count": null,
   "id": "75b427d8",
   "metadata": {},
   "outputs": [],
   "source": [
    "aa =time.time()\n",
    "alpharange = take_alphavalues\n",
    "radialrange = radialdom[:int(len(radialdom)/3)]\n",
    "thetarange = thetdat\n",
    "energydata = np.asarray([i(radialrange,thetarange) for i in take_interpfuncs])\n",
    "RGI = spint.RegularGridInterpolator((alpharange,radialrange,thetarange), energydata, fill_value=None, bounds_error=False, method=\"linear\")\n",
    "bb=time.time()\n",
    "print(bb-aa)\n",
    "coords = cartesian_product(np.array([0.065]), radialrange, thetarange)\n",
    "dd=time.time(); print(\"coords: \", dd-bb)\n",
    "RGIdata = np.reshape(RGI(coords), ( len(radialrange), len(thetarange)))\n",
    "cc=time.time(); print(\"RGI data: \",cc-dd)\n",
    "RBI = spint.RectBivariateSpline(radialrange, thetarange, RGIdata)\n",
    "print(time.time()-cc)"
   ]
  },
  {
   "cell_type": "code",
   "execution_count": null,
   "id": "c16f0dbf",
   "metadata": {},
   "outputs": [],
   "source": [
    "tmpRBIdata = RBI(radialrange, thetarange)[:,50]\n",
    "tmpRGIdata = RGIdata[:,50]\n",
    "plt.plot(tmpRBIdata)\n",
    "plt.plot(tmpRGIdata)\n",
    "plt.show();\n",
    "plt.plot(tmpRBIdata-tmpRGIdata);"
   ]
  },
  {
   "cell_type": "code",
   "execution_count": null,
   "id": "8fb49afc",
   "metadata": {},
   "outputs": [],
   "source": []
  },
  {
   "cell_type": "code",
   "execution_count": null,
   "id": "4870cf72",
   "metadata": {},
   "outputs": [],
   "source": []
  },
  {
   "cell_type": "code",
   "execution_count": null,
   "id": "d2ea84f1",
   "metadata": {},
   "outputs": [],
   "source": []
  },
  {
   "cell_type": "code",
   "execution_count": null,
   "id": "b08fc8b1",
   "metadata": {},
   "outputs": [],
   "source": []
  },
  {
   "cell_type": "code",
   "execution_count": null,
   "id": "3b9e0845",
   "metadata": {},
   "outputs": [],
   "source": [
    "coords = np.asarray([[alpha, r, theta] for alpha in alpharange for r in radialdom for theta in thetarange])"
   ]
  },
  {
   "cell_type": "code",
   "execution_count": null,
   "id": "f77251e9",
   "metadata": {},
   "outputs": [],
   "source": [
    "energydatain = np.ravel(energydata)\n",
    "rbfint = spint.RBFInterpolator(coords,energydatain, neighbors=800,kernel=\"linear\",smoothing=0,degree=0)"
   ]
  },
  {
   "cell_type": "code",
   "execution_count": null,
   "id": "fa9dd28b",
   "metadata": {},
   "outputs": [],
   "source": [
    "TMPenden=array([[[0.00033903, 0.00034132, 0.00034312, 0.00034442, 0.0003452 ,\n",
    "         0.00034547, 0.0003452 , 0.00034441, 0.00034311, 0.0003413 ],\n",
    "        [0.00041104, 0.0004126 , 0.00041383, 0.00041471, 0.00041524,\n",
    "         0.00041542, 0.00041524, 0.00041471, 0.00041382, 0.00041259],\n",
    "        [0.00044731, 0.00044845, 0.00044934, 0.00044999, 0.00045037,\n",
    "         0.0004505 , 0.00045037, 0.00044998, 0.00044934, 0.00044844],\n",
    "        [0.00046978, 0.00047068, 0.00047138, 0.00047189, 0.00047219,\n",
    "         0.00047229, 0.00047219, 0.00047188, 0.00047138, 0.00047067],\n",
    "        [0.00048431, 0.00048505, 0.00048563, 0.00048604, 0.00048629,\n",
    "         0.00048638, 0.00048629, 0.00048604, 0.00048563, 0.00048504],\n",
    "        [0.00049386, 0.00049449, 0.00049499, 0.00049534, 0.00049555,\n",
    "         0.00049562, 0.00049555, 0.00049534, 0.00049498, 0.00049449],\n",
    "        [0.00050013, 0.00050068, 0.00050111, 0.00050142, 0.0005016 ,\n",
    "         0.00050166, 0.0005016 , 0.00050142, 0.00050111, 0.00050068],\n",
    "        [0.00050414, 0.00050462, 0.000505  , 0.00050527, 0.00050544,\n",
    "         0.00050549, 0.00050544, 0.00050527, 0.000505  , 0.00050462],\n",
    "        [0.00050653, 0.00050696, 0.0005073 , 0.00050754, 0.00050769,\n",
    "         0.00050774, 0.00050769, 0.00050754, 0.0005073 , 0.00050696],\n",
    "        [0.00050773, 0.00050812, 0.00050843, 0.00050865, 0.00050878,\n",
    "         0.00050882, 0.00050878, 0.00050865, 0.00050843, 0.00050812]],\n",
    "\n",
    "       [[0.00047842, 0.00048166, 0.00048422, 0.00048606, 0.00048717,\n",
    "         0.00048755, 0.00048717, 0.00048605, 0.0004842 , 0.00048164],\n",
    "        [0.00058177, 0.00058398, 0.00058571, 0.00058696, 0.00058771,\n",
    "         0.00058796, 0.00058771, 0.00058695, 0.0005857 , 0.00058396],\n",
    "        [0.00063274, 0.00063436, 0.00063562, 0.00063653, 0.00063708,\n",
    "         0.00063726, 0.00063708, 0.00063653, 0.00063562, 0.00063435],\n",
    "        [0.00066297, 0.00066424, 0.00066524, 0.00066595, 0.00066638,\n",
    "         0.00066653, 0.00066638, 0.00066595, 0.00066523, 0.00066424],\n",
    "        [0.00068146, 0.00068251, 0.00068333, 0.00068392, 0.00068427,\n",
    "         0.00068439, 0.00068427, 0.00068392, 0.00068333, 0.00068251],\n",
    "        [0.00069271, 0.00069361, 0.0006943 , 0.0006948 , 0.0006951 ,\n",
    "         0.0006952 , 0.0006951 , 0.0006948 , 0.0006943 , 0.0006936 ],\n",
    "        [0.00069925, 0.00070002, 0.00070062, 0.00070106, 0.00070132,\n",
    "         0.00070141, 0.00070132, 0.00070106, 0.00070062, 0.00070001],\n",
    "        [0.00070256, 0.00070325, 0.00070378, 0.00070416, 0.00070439,\n",
    "         0.00070447, 0.00070439, 0.00070416, 0.00070378, 0.00070324],\n",
    "        [0.00070361, 0.00070422, 0.0007047 , 0.00070505, 0.00070525,\n",
    "         0.00070532, 0.00070525, 0.00070504, 0.0007047 , 0.00070422],\n",
    "        [0.00070302, 0.00070358, 0.00070401, 0.00070432, 0.0007045 ,\n",
    "         0.00070457, 0.0007045 , 0.00070432, 0.00070401, 0.00070357]],\n",
    "\n",
    "       [[0.00064677, 0.00065116, 0.00065462, 0.00065712, 0.00065863,\n",
    "         0.00065914, 0.00065863, 0.00065711, 0.00065461, 0.00065114],\n",
    "        [0.00078754, 0.00079052, 0.00079286, 0.00079455, 0.00079556,\n",
    "         0.0007959 , 0.00079556, 0.00079454, 0.00079285, 0.0007905 ],\n",
    "        [0.00085515, 0.00085733, 0.00085904, 0.00086027, 0.00086101,\n",
    "         0.00086126, 0.00086101, 0.00086026, 0.00085903, 0.00085732],\n",
    "        [0.00089318, 0.0008949 , 0.00089624, 0.0008972 , 0.00089778,\n",
    "         0.00089798, 0.00089778, 0.0008972 , 0.00089623, 0.00089489],\n",
    "        [0.00091474, 0.00091616, 0.00091726, 0.00091805, 0.00091853,\n",
    "         0.00091869, 0.00091853, 0.00091805, 0.00091726, 0.00091615],\n",
    "        [0.00092632, 0.00092752, 0.00092845, 0.00092913, 0.00092953,\n",
    "         0.00092967, 0.00092953, 0.00092912, 0.00092845, 0.00092751],\n",
    "        [0.00093148, 0.00093252, 0.00093333, 0.00093391, 0.00093426,\n",
    "         0.00093438, 0.00093426, 0.00093391, 0.00093332, 0.00093251],\n",
    "        [0.00093233, 0.00093325, 0.00093396, 0.00093448, 0.00093479,\n",
    "         0.00093489, 0.00093478, 0.00093447, 0.00093396, 0.00093324],\n",
    "        [0.0009302 , 0.00093102, 0.00093166, 0.00093212, 0.00093239,\n",
    "         0.00093248, 0.00093239, 0.00093211, 0.00093166, 0.00093102],\n",
    "        [0.00092595, 0.00092669, 0.00092726, 0.00092768, 0.00092792,\n",
    "         0.00092801, 0.00092792, 0.00092767, 0.00092726, 0.00092668]]])\n",
    "TMPraddata=array([ 2.43597707,  3.43597707,  4.43597707,  5.43597707,  6.43597707,\n",
    "        7.43597707,  8.43597707,  9.43597707, 10.43597707, 11.43597707])\n",
    "TMPthetadata=array([1.41381669, 1.44523262, 1.47664855, 1.50806447, 1.5394804 ,\n",
    "       1.57089633, 1.60231225, 1.63372818, 1.66514411, 1.69656003])\n",
    "TMPalpha = np.array([0.06,0.07,0.08])\n",
    "\n",
    "coords = np.asarray([[alpha,r,theta] for alpha in TMPalpha for r in TMPraddata for theta in TMPthetadata])\n",
    "yvalues = np.ravel(TMPenden)\n",
    "tmprbf = spint.RBFInterpolator(\n",
    "    coords,\n",
    "    yvalues,\n",
    "    neighbors=1000,\n",
    "    kernel='linear',\n",
    "    smoothing=0,\n",
    "    degree=2\n",
    ")\n",
    "\n",
    "tmpalpha = 0.6\n",
    "pnts = [[tmpalpha,i,TMPthetadata[5]] for i in TMPraddata]\n",
    "datpnts = tmprbf(pnts)\n",
    "plt.scatter(TMPraddata, datpnts, label=\"Radial Basis Function\",marker=\".\", linewidth=.5)\n",
    "plt.plot(TMPraddata, TMPenden[0,:,5],label=\"Data\")\n",
    "plt.legend();"
   ]
  },
  {
   "cell_type": "code",
   "execution_count": null,
   "id": "f23c5934",
   "metadata": {},
   "outputs": [],
   "source": []
  },
  {
   "cell_type": "code",
   "execution_count": null,
   "id": "61fa7b4b",
   "metadata": {},
   "outputs": [],
   "source": []
  },
  {
   "cell_type": "code",
   "execution_count": null,
   "id": "098634fa",
   "metadata": {},
   "outputs": [],
   "source": []
  },
  {
   "cell_type": "code",
   "execution_count": null,
   "id": "91666db0",
   "metadata": {},
   "outputs": [],
   "source": []
  },
  {
   "cell_type": "code",
   "execution_count": null,
   "id": "d3168f92",
   "metadata": {},
   "outputs": [],
   "source": []
  },
  {
   "cell_type": "code",
   "execution_count": null,
   "id": "2e3d2d5d",
   "metadata": {},
   "outputs": [],
   "source": []
  },
  {
   "cell_type": "code",
   "execution_count": null,
   "id": "e67dec26",
   "metadata": {},
   "outputs": [],
   "source": []
  },
  {
   "cell_type": "code",
   "execution_count": null,
   "id": "03b55f9d",
   "metadata": {},
   "outputs": [],
   "source": []
  },
  {
   "cell_type": "code",
   "execution_count": null,
   "id": "415bc94f",
   "metadata": {},
   "outputs": [],
   "source": []
  },
  {
   "cell_type": "code",
   "execution_count": null,
   "id": "cc33a5d1",
   "metadata": {},
   "outputs": [],
   "source": []
  },
  {
   "cell_type": "code",
   "execution_count": null,
   "id": "e7ace1e1",
   "metadata": {},
   "outputs": [],
   "source": []
  },
  {
   "cell_type": "code",
   "execution_count": null,
   "id": "398a1655",
   "metadata": {},
   "outputs": [],
   "source": []
  },
  {
   "cell_type": "code",
   "execution_count": null,
   "id": "9888a860",
   "metadata": {},
   "outputs": [],
   "source": []
  },
  {
   "cell_type": "code",
   "execution_count": null,
   "id": "1f664711",
   "metadata": {},
   "outputs": [],
   "source": []
  },
  {
   "cell_type": "code",
   "execution_count": null,
   "id": "7075cbbe",
   "metadata": {},
   "outputs": [],
   "source": []
  },
  {
   "cell_type": "code",
   "execution_count": null,
   "id": "b84fe863",
   "metadata": {},
   "outputs": [],
   "source": [
    "aa=time.time()\n",
    "thetaval = np.pi/2\n",
    "extendedradialdom = np.tile(radialdom,takenumber)\n",
    "extendedalphavals = np.repeat(take_alphavalues,len(extendedradialdom)/takenumber)\n",
    "extendedenergy2d = [func(radialdom,thetaval) for func in take_interpfuncs]\n",
    "extendedenergy = np.ravel(extendedenergy2d)\n",
    "print(time.time()-aa)"
   ]
  },
  {
   "cell_type": "code",
   "execution_count": null,
   "id": "0c8f9778",
   "metadata": {},
   "outputs": [],
   "source": [
    "fig = plt.figure(figsize=(16,8))\n",
    "ax = fig.add_subplot(projection='3d')\n",
    "ax.scatter(extendedalphavals,extendedradialdom, extendedenergy);"
   ]
  },
  {
   "cell_type": "code",
   "execution_count": null,
   "id": "b2357228",
   "metadata": {},
   "outputs": [],
   "source": []
  },
  {
   "cell_type": "code",
   "execution_count": null,
   "id": "2c962113",
   "metadata": {},
   "outputs": [],
   "source": []
  },
  {
   "cell_type": "code",
   "execution_count": null,
   "id": "8d42fa50",
   "metadata": {},
   "outputs": [],
   "source": []
  },
  {
   "cell_type": "code",
   "execution_count": null,
   "id": "fb888f61",
   "metadata": {},
   "outputs": [],
   "source": []
  },
  {
   "cell_type": "code",
   "execution_count": null,
   "id": "d960f924",
   "metadata": {},
   "outputs": [],
   "source": []
  },
  {
   "cell_type": "code",
   "execution_count": null,
   "id": "0a893c53",
   "metadata": {},
   "outputs": [],
   "source": []
  },
  {
   "cell_type": "code",
   "execution_count": null,
   "id": "906e1169",
   "metadata": {},
   "outputs": [],
   "source": []
  },
  {
   "cell_type": "code",
   "execution_count": null,
   "id": "bc71bd8c",
   "metadata": {},
   "outputs": [],
   "source": [
    "neighbordata = ProcaSolution._ProcaSolution__get_closest_datasets(1,0.0703415,0.85)\n",
    "alphane = neighbordata[\"alphaneighbors\"]\n",
    "spinne = neighbordata[\"bhspinneighbors\"]\n",
    "datasets = neighbordata[\"datasets\"]\n",
    "\n",
    "radialdata = [i[\"RadialData\"] for i in datasets]\n",
    "thetadata = [i[\"ThetaData\"] for i in datasets]\n",
    "newshape = (int(min([len(i) for i in radialdata])/7),100)\n",
    "radialdata = [i[:newshape[0]] for i in radialdata]\n",
    "thetadata = [i[:newshape[1]] for i in thetadata]\n",
    "\n",
    "rawen = [i[\"EnergyData\"][:newshape[0], :newshape[1]] for i in datasets]\n",
    "rawenoldshape = np.shape(rawen)\n",
    "#first index denotes bh spin value\n",
    "#second index denotes alpha value\n",
    "#third denotes radial value\n",
    "#fourth denotes theta value\n",
    "rawenreshaped = np.reshape(rawen, (2,2,rawenoldshape[1],rawenoldshape[2]))\n",
    "\n",
    "if not len(np.unique(spinne))==len(spinne) and not len(np.unique(alphane))==len(alphane):\n",
    "    interp = spint.RegularGridInterpolator((radialdata[0], thetadata[0]), rawenreshaped[0][0])\n",
    "    coords = cartesian_product(np.array(radialdata[0]), np.array(thetadata[0]))\n",
    "if not len(np.unique(spinne))==len(spinne) and len(np.unique(alphane))==len(alphane):\n",
    "    interp = spint.RegularGridInterpolator((alphane, radialdata[0], thetadata[0]), rawenreshaped[0])\n",
    "    coords = cartesian_product(np.array([0.07]), np.array(radialdata[0]), np.array(thetadata[0]))\n",
    "\n",
    "if len(np.unique(spinne))==len(spinne) and not len(np.unique(alphane))==len(alphane):\n",
    "    interp = spint.RegularGridInterpolator((spinne, radialdata[0], thetadata[0]), rawenreshaped[:,0])\n",
    "    coords = cartesian_product(np.array([0.85]),np.array(radialdata[0]), np.array(thetadata[0]))\n",
    "\n",
    "if len(np.unique(spinne))==len(spinne) and len(np.unique(alphane))==len(alphane):\n",
    "    interp = spint.RegularGridInterpolator((spinne, alphane, radialdata[0], thetadata[0]), rawenreshaped)\n",
    "    coords = cartesian_product(np.array([0.85]), np.array([0.07]),np.array(radialdata[0]), np.array(thetadata[0]))\n",
    "\n",
    "values = np.reshape(interp(coords), newshape)\n",
    "interp = spint.RectBivariateSpline(radialdata[0], thetadata[0], values)"
   ]
  },
  {
   "cell_type": "code",
   "execution_count": null,
   "id": "0f259252",
   "metadata": {},
   "outputs": [],
   "source": []
  },
  {
   "cell_type": "code",
   "execution_count": null,
   "id": "a72a3782",
   "metadata": {},
   "outputs": [],
   "source": []
  },
  {
   "cell_type": "code",
   "execution_count": null,
   "id": "69f78db7",
   "metadata": {},
   "outputs": [],
   "source": []
  },
  {
   "cell_type": "code",
   "execution_count": null,
   "id": "66b9984c",
   "metadata": {},
   "outputs": [],
   "source": []
  },
  {
   "cell_type": "code",
   "execution_count": null,
   "id": "2b916e29",
   "metadata": {},
   "outputs": [],
   "source": []
  },
  {
   "cell_type": "code",
   "execution_count": null,
   "id": "3d88fca7",
   "metadata": {},
   "outputs": [],
   "source": []
  },
  {
   "cell_type": "code",
   "execution_count": null,
   "id": "d1265189",
   "metadata": {},
   "outputs": [],
   "source": []
  },
  {
   "cell_type": "code",
   "execution_count": null,
   "id": "da2a83c9",
   "metadata": {},
   "outputs": [],
   "source": []
  },
  {
   "cell_type": "code",
   "execution_count": null,
   "id": "e578c5c0",
   "metadata": {},
   "outputs": [],
   "source": []
  },
  {
   "cell_type": "code",
   "execution_count": null,
   "id": "4a350ca4",
   "metadata": {},
   "outputs": [],
   "source": []
  },
  {
   "cell_type": "markdown",
   "id": "1dd6deaf",
   "metadata": {},
   "source": [
    "## Sorting Proca Data"
   ]
  },
  {
   "cell_type": "markdown",
   "id": "ac21c3f8",
   "metadata": {},
   "source": [
    "First sort by BHspin values, then group by alpha values and take neighboring data"
   ]
  },
  {
   "cell_type": "code",
   "execution_count": 125,
   "id": "f9d8b319",
   "metadata": {},
   "outputs": [],
   "source": [
    "test_bhspin = 0.79\n",
    "test_alpha = 0.135"
   ]
  },
  {
   "cell_type": "code",
   "execution_count": 133,
   "id": "359a41d2",
   "metadata": {},
   "outputs": [
    {
     "data": {
      "text/plain": [
       "0.005158662796020508"
      ]
     },
     "execution_count": 133,
     "metadata": {},
     "output_type": "execute_result"
    }
   ],
   "source": [
    "aa=time.time()\n",
    "bhspins = list(map(BHSpinValFromFilename,allfilenames))\n",
    "unsorted_alphavalues = list(map(AlphaValFromFilename, allfilenames))\n",
    "index_sort = np.argsort(bhspins)\n",
    "bhspins = np.array(bhspins)[index_sort]\n",
    "allfilenames = np.array(allfilenames)[index_sort]\n",
    "res=itertools.groupby(allfilenames, BHSpinValFromFilename)\n",
    "sorted_filenames={}\n",
    "for key,group in res:\n",
    "    grouplist = list(group)\n",
    "    alphas = list(map(AlphaValFromFilename, grouplist))\n",
    "    index_sort = np.argsort(alphas)\n",
    "    sorted_group = np.array(grouplist)[index_sort]\n",
    "    sorted_filenames[key] = sorted_group\n",
    "\n",
    "\n",
    "\n",
    "bhspins = list(sorted_filenames.keys())\n",
    "rindex = bisect_right(bhspins,test_bhspin)\n",
    "Larger_BHSpin_Datasets = sorted_filenames[bhspins[rindex]]\n",
    "Smaller_BHSpin_Datasets = sorted_filenames[bhspins[rindex-1]]\n",
    "\n",
    "Smaller_BHSpin_AlphaValues = list(map(AlphaValFromFilename, Smaller_BHSpin_Datasets))\n",
    "Larger_BHSpin_AlphaValues = list(map(AlphaValFromFilename, Larger_BHSpin_Datasets))\n",
    "assert test_alpha>Smaller_BHSpin_AlphaValues[0] and test_alpha<Smaller_BHSpin_AlphaValues[-1] and test_alpha>Larger_BHSpin_AlphaValues[0] and test_alpha<Larger_BHSpin_AlphaValues[-1], \"Error: Alpha value outside range of available data\"\n",
    "\n",
    "rindex_smaller = bisect_right(Smaller_BHSpin_AlphaValues, test_alpha)\n",
    "rindex_larger = bisect_right(Larger_BHSpin_AlphaValues, test_alpha)\n",
    "\n",
    "\n",
    "SmallerSmaller_Dataset = Smaller_BHSpin_Datasets[rindex_smaller-1]\n",
    "SmallerLarger_Dataset = Smaller_BHSpin_Datasets[rindex_smaller]\n",
    "LargerSmaller_Dataset = Larger_BHSpin_Datasets[rindex_larger-1]\n",
    "LargerLarger_Dataset = Larger_BHSpin_Datasets[rindex_larger]\n",
    "\n",
    "\n",
    "\n",
    "\n",
    "time.time()-aa"
   ]
  },
  {
   "cell_type": "code",
   "execution_count": 127,
   "id": "9aeae920",
   "metadata": {},
   "outputs": [
    {
     "name": "stdout",
     "output_type": "stream",
     "text": [
      "/mnt/Data_Volume/Documents/Github/GWGenerator/GWGen/DressedFluxes/../ProcaData/BHSpin_39_50_Alpha_3_25_Mode_1_Overtone_0.npz\n",
      "/mnt/Data_Volume/Documents/Github/GWGenerator/GWGen/DressedFluxes/../ProcaData/BHSpin_39_50_Alpha_3_20_Mode_1_Overtone_0.npz\n",
      "/mnt/Data_Volume/Documents/Github/GWGenerator/GWGen/DressedFluxes/../ProcaData/BHSpin_21_25_Alpha_13_100_Mode_1_Overtone_0.npz\n",
      "/mnt/Data_Volume/Documents/Github/GWGenerator/GWGen/DressedFluxes/../ProcaData/BHSpin_21_25_Alpha_7_50_Mode_1_Overtone_0.npz\n"
     ]
    }
   ],
   "source": [
    "print(SmallerSmaller_Dataset)\n",
    "print(SmallerLarger_Dataset)\n",
    "print(LargerSmaller_Dataset)\n",
    "print(LargerLarger_Dataset)"
   ]
  },
  {
   "cell_type": "code",
   "execution_count": 129,
   "id": "72fd609e",
   "metadata": {},
   "outputs": [
    {
     "name": "stdout",
     "output_type": "stream",
     "text": [
      "0.79\n",
      "0.135\n"
     ]
    }
   ],
   "source": [
    "print(test_bhspin)\n",
    "print(test_alpha)"
   ]
  },
  {
   "cell_type": "code",
   "execution_count": 130,
   "id": "b12c0e13",
   "metadata": {},
   "outputs": [
    {
     "data": {
      "text/plain": [
       "0.78"
      ]
     },
     "execution_count": 130,
     "metadata": {},
     "output_type": "execute_result"
    }
   ],
   "source": [
    "39/50"
   ]
  },
  {
   "cell_type": "code",
   "execution_count": 132,
   "id": "1d6286b1",
   "metadata": {},
   "outputs": [
    {
     "data": {
      "text/plain": [
       "[0.6, 0.62, 0.64, 0.66, 0.68, 0.72, 0.74, 0.76, 0.78, 0.84, 0.88]"
      ]
     },
     "execution_count": 132,
     "metadata": {},
     "output_type": "execute_result"
    }
   ],
   "source": [
    "bhspins"
   ]
  },
  {
   "cell_type": "code",
   "execution_count": null,
   "id": "7d1618ab",
   "metadata": {},
   "outputs": [],
   "source": []
  },
  {
   "cell_type": "code",
   "execution_count": null,
   "id": "958c531d",
   "metadata": {},
   "outputs": [],
   "source": []
  },
  {
   "cell_type": "code",
   "execution_count": null,
   "id": "9f35192f",
   "metadata": {},
   "outputs": [],
   "source": []
  },
  {
   "cell_type": "code",
   "execution_count": null,
   "id": "a0369c56",
   "metadata": {},
   "outputs": [],
   "source": []
  },
  {
   "cell_type": "markdown",
   "id": "ba4247a5",
   "metadata": {},
   "source": [
    "# Check output of GWGen.DressedFluxes.Fluxes.ProcaSolution"
   ]
  },
  {
   "cell_type": "code",
   "execution_count": 3,
   "id": "79e7a31c",
   "metadata": {},
   "outputs": [
    {
     "name": "stdout",
     "output_type": "stream",
     "text": [
      "UltralightBoson instance not provided. Instantiating class...\n",
      "done.\n"
     ]
    }
   ],
   "source": [
    "pc = ProcaSolution(1e6,0.879, 1e-17)"
   ]
  },
  {
   "cell_type": "code",
   "execution_count": null,
   "id": "77d77b30",
   "metadata": {},
   "outputs": [],
   "source": []
  }
 ],
 "metadata": {
  "kernelspec": {
   "display_name": "Python 3",
   "language": "python",
   "name": "python3"
  },
  "language_info": {
   "codemirror_mode": {
    "name": "ipython",
    "version": 3
   },
   "file_extension": ".py",
   "mimetype": "text/x-python",
   "name": "python",
   "nbconvert_exporter": "python",
   "pygments_lexer": "ipython3",
   "version": "3.7.12"
  }
 },
 "nbformat": 4,
 "nbformat_minor": 5
}
