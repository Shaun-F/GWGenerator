{
 "cells": [
  {
   "cell_type": "code",
   "execution_count": 6,
   "id": "9a79fe98",
   "metadata": {},
   "outputs": [],
   "source": [
    "import os, psutil, shutil\n",
    "import sys\n",
    "import json\n",
    "os.chdir(\"../\")\n",
    "path = os.getcwd()\n",
    "sys.path.insert(0, path)\n",
    "import GWGen\n",
    "from GWGen.WFGenerator import *\n",
    "import numpy as np\n",
    "import matplotlib.pyplot as plt\n",
    "plt.rcParams['text.usetex'] = True\n",
    "import superrad\n",
    "from superrad import ultralight_boson\n",
    "DataDirectory = \"/home/shaunf/temp/\"\n",
    "spin=1\n",
    "BHSpin=0.9 #SMBH Spin\n",
    "p0=10. #Initial Semilatus Rectum\n",
    "e0=0.2 #Initial Eccentricity\n",
    "x0=1. #Initial Inclincation\n",
    "qS=np.pi/4 #Sky Location Polar Angle\n",
    "phiS=0. #Sky Location Azimuthal Angle\n",
    "qK=1e-6 #Initial BH Spin Polar Angle. We want this to be as close to zero as allowed by FEW package. This must zero so the secondary BH orbits on equator of SMBH\n",
    "phiK=0. #Initial BH Spin Azimuthal Angle\n",
    "dist=1. #Distance to source (Mpc)\n",
    "mich=False #assume LISA long baseline response approximation\n",
    "T=5 #LISA data run\n",
    "dt=15 #time resolution in seconds\n",
    "use_gpu=False #if CUDA or cupy is installed, this flag sets GPU parallelization\n",
    "inspiral_kwargs = {\n",
    "    \"npoints\": 100,  # we want a densely sampled trajectory\n",
    "    \"max_init_len\": int(1e3),\n",
    "}\n",
    "sum_kwargs = {\n",
    "    \"use_gpu\": use_gpu,  # GPU is availabel for this type of summation\n",
    "    \"pad_output\": False,\n",
    "}\n",
    "ulb = superrad.ultralight_boson.UltralightBoson(spin=1, model=\"relativistic\")\n",
    "def process(BHMASS, PROCAMASS, plot=False,alphauppercutoff=0.335, alphalowercutoff=0.06,SecondaryMass=10, DataDir = DataDirectory):\n",
    "\n",
    "    alphaval = alphavalue(BHMASS, PROCAMASS)\n",
    "    #alpha values larger than 0.02 produce energy fluxes larger than the undressed flux\n",
    "    if alphaval>alphauppercutoff and spin==1:\n",
    "        return None\n",
    "    if alphaval<alphalowercutoff and spin==1:\n",
    "        return None\n",
    "\n",
    "    print(\"Alpha Value: {2}\\nSMBH Mass: {0}\\nProca Mass: {1}\".format(BHMASS, PROCAMASS,alphaval))\n",
    "\n",
    "    #Important: only pass copied version of kwargs as class can overwrite global variables. Should fix this....\n",
    "    unmoddedwvcl = EMRIWaveform(inspiral_kwargs=inspiral_kwargs.copy(), sum_kwargs=sum_kwargs.copy(), use_gpu=False)\n",
    "    moddedwvcl = EMRIWithProcaWaveform(inspiral_kwargs=inspiral_kwargs.copy(), sum_kwargs=sum_kwargs.copy(), use_gpu=False)\n",
    "\n",
    "    unmoddedwv = unmoddedwvcl(BHMASS, SecondaryMass, BHSpin, p0, e0, x0, qS, phiS, qK, phiK, dist, mich=mich, dt=dt,T=T)\n",
    "    unmoddedtraj = unmoddedwvcl.Trajectory\n",
    "\n",
    "    moddedwv = moddedwvcl(BHMASS, SecondaryMass, PROCAMASS, BHSpin,p0,e0,x0,T=T, qS=qS, phiS=phiS, qK=qK, phiK=phiK, dist=dist,mich=mich,dt=dt, BosonSpin=spin, UltralightBoson = ulb)\n",
    "    moddedtraj = moddedwvcl.Trajectory\n",
    "\n",
    "    #azimuthal phase difference\n",
    "    unmoddedphase = unmoddedtraj[\"Phi_phi\"]\n",
    "    moddedphase = moddedtraj[\"Phi_phi\"]\n",
    "    totalphasedifference = moddedphase[-1]-unmoddedphase[-1]\n",
    "\n",
    "    ####Mismatch\n",
    "    #truncate waveforms to be same length\n",
    "    minlen = min([len(unmoddedwv), len(moddedwv)])\n",
    "    unmoddedwv = unmoddedwv[:minlen]\n",
    "    moddedwv = moddedwv[:minlen]\n",
    "    mismatch = get_mismatch(unmoddedwv, moddedwv)\n",
    "\n",
    "    ####Faithfulness\n",
    "    time = np.arange(minlen)*dt\n",
    "    faith = Faithfulness(time, moddedwv, unmoddedwv)\n",
    "\n",
    "    #data structure\n",
    "    data = {\n",
    "            \"SMBHMASS\": BHMASS,\n",
    "            \"SecondaryMass\":SecondaryMass,\n",
    "            \"PROCAMASS\":PROCAMASS,\n",
    "            \"p0\":p0,\n",
    "            \"e0\":e0,\n",
    "            \"BHSpin\":spin,\n",
    "            \"mismatch\":mismatch,\n",
    "            \"faithfulness\":faith\n",
    "            }\n",
    "    #output data to disk\n",
    "    jsondata = json.dumps(data)\n",
    "    filename = DataDir + \"Output/SMBHMass{0}_SecMass{1}_ProcaMass{2}_ProcaSpin{3}.json\".format(int(BHMASS),SecondaryMass,PROCAMASS,spin)\n",
    "    with open(filename, \"w\") as file:\n",
    "        file.write(jsondata)\n",
    "    if plot:\n",
    "        #plots\n",
    "        fig,ax = plt.subplots(2,2,figsize=(16,8))\n",
    "        plt.subplots_adjust(wspace=0.5,hspace=0.5)\n",
    "\n",
    "        dom1 = np.arange(len(unmoddedwv))*dt\n",
    "        ax[0,0].plot(dom1, unmoddedwv.real, label=r\"h_{+}\")\n",
    "        ax[0,0].set_title(\"Gravitational Waveform (without proca)\")\n",
    "        ax[0,0].legend()\n",
    "        ticks = ax[0,0].get_xticks()[1:-1];\n",
    "        newlabs = [int(i)/100 for i in (ticks*100/(60*60*24*365))];\n",
    "        ax[0,0].set_xticks(ticks, newlabs);\n",
    "\n",
    "        dom2 = np.arange(len(moddedwv))*dt\n",
    "        ax[0,1].plot(dom2, moddedwv.real, label=r\"h_{+}\")\n",
    "        ax[0,1].set_title(\"Gravitational Waveform (with proca)\")\n",
    "        ax[0,1].legend()\n",
    "        ticks = ax[0,1].get_xticks()[1:-1];\n",
    "        newlabs = [int(i)/100 for i in (ticks*100/(60*60*24*365))];\n",
    "        ax[0,1].set_xticks(ticks, newlabs);\n",
    "        ax[0,1].set_xlabel(\"years\")\n",
    "        ax[0,1].set_ylabel(\"strain\")\n",
    "\n",
    "        smallestwv = min([len(moddedwv), len(unmoddedwv)])-1\n",
    "        dom3 = np.arange(smallestwv)*dt\n",
    "        ax[1,0].plot(dom3, (moddedwv[0:smallestwv].real - unmoddedwv[0:smallestwv].real), label=r\"h_{+}\")\n",
    "        ax[1,0].set_title(\"difference between with and with proca\")\n",
    "        ax[1,0].legend()\n",
    "        ticks = ax[1,0].get_xticks()[1:-1];\n",
    "        newlabs = [int(i)/100 for i in (ticks*100/(60*60*24*365))];\n",
    "        ax[1,0].set_xticks(ticks, newlabs);\n",
    "        ax[1,0].set_xlabel(\"years\")\n",
    "        ax[1,0].set_ylabel(\"strain\")\n",
    "\n",
    "        ax[1,1].axis('off')\n",
    "        prop = dict(boxstyle=\"round\", facecolor=\"wheat\", alpha=0.5)\n",
    "        string = r\"\"\"mismatch = {0:.4f}\n",
    "        SMBHMass = {1}\n",
    "        Proca Mass = {2}\n",
    "        BosonSpin = {3}\n",
    "        BHSpin = {4}\n",
    "        p0 = {5}\n",
    "        e0 = {6}\n",
    "        \"\"\".format(mismatch, BHMASS, PROCAMASS, spin,BHSpin, p0, e0)\n",
    "        ax[1,1].text(0.5,0.5, string, bbox=prop, fontsize=14, verticalalignment='center', horizontalalignment='center')\n",
    "\n",
    "        fig.savefig(DataDir+\"Plots/\"+\"Plot_SMBHMass{0}_SecMass{1}_ProcMass{2}_ProcSpin{5}_p0{3}_e0{4}.png\".format(BHMASS,SecondaryMass,PROCAMASS,p0,e0,spin),dpi=300)\n",
    "        plt.clf()\n",
    "    if debug:\n",
    "        debugdir = DataDir+\"debug/\";\n",
    "        proc = psutil.Process(os.getpid())\n",
    "        meminuse = proc.memory_info().rss/(1024**2)\n",
    "        with open(debugdir+\"memuse.txt\",\"a+\") as file:\n",
    "            file.write(\"\\n\")\n",
    "            file.write(str(meminuse))\n",
    "\n",
    "    return None"
   ]
  },
  {
   "cell_type": "code",
   "execution_count": 7,
   "id": "9b4e3464",
   "metadata": {},
   "outputs": [
    {
     "ename": "NameError",
     "evalue": "name 'PlotData' is not defined",
     "output_type": "error",
     "traceback": [
      "\u001b[0;31m---------------------------------------------------------------------------\u001b[0m",
      "\u001b[0;31mNameError\u001b[0m                                 Traceback (most recent call last)",
      "\u001b[0;32m/tmp/ipykernel_17180/320859358.py\u001b[0m in \u001b[0;36m<module>\u001b[0;34m\u001b[0m\n\u001b[1;32m     18\u001b[0m \u001b[0mos\u001b[0m\u001b[0;34m.\u001b[0m\u001b[0mmkdir\u001b[0m\u001b[0;34m(\u001b[0m\u001b[0mDataDir\u001b[0m\u001b[0;34m+\u001b[0m\u001b[0;34m\"debug/\"\u001b[0m\u001b[0;34m)\u001b[0m\u001b[0;34m\u001b[0m\u001b[0;34m\u001b[0m\u001b[0m\n\u001b[1;32m     19\u001b[0m \u001b[0;34m\u001b[0m\u001b[0m\n\u001b[0;32m---> 20\u001b[0;31m \u001b[0;34m[\u001b[0m\u001b[0mprocess\u001b[0m\u001b[0;34m(\u001b[0m\u001b[0mbhmass\u001b[0m\u001b[0;34m,\u001b[0m \u001b[0mpmass\u001b[0m\u001b[0;34m,\u001b[0m\u001b[0mplot\u001b[0m\u001b[0;34m=\u001b[0m\u001b[0mPlotData\u001b[0m\u001b[0;34m,\u001b[0m \u001b[0mSecondaryMass\u001b[0m\u001b[0;34m=\u001b[0m\u001b[0mSecondaryMass\u001b[0m\u001b[0;34m,\u001b[0m \u001b[0mDataDir\u001b[0m\u001b[0;34m=\u001b[0m\u001b[0mDataDir\u001b[0m\u001b[0;34m)\u001b[0m \u001b[0;32mfor\u001b[0m \u001b[0mbhmass\u001b[0m \u001b[0;32min\u001b[0m \u001b[0mSMBHMasses\u001b[0m \u001b[0;32mfor\u001b[0m \u001b[0mpmass\u001b[0m \u001b[0;32min\u001b[0m \u001b[0mProcaMasses\u001b[0m\u001b[0;34m]\u001b[0m\u001b[0;34m\u001b[0m\u001b[0;34m\u001b[0m\u001b[0m\n\u001b[0m",
      "\u001b[0;32m/tmp/ipykernel_17180/320859358.py\u001b[0m in \u001b[0;36m<listcomp>\u001b[0;34m(.0)\u001b[0m\n\u001b[1;32m     18\u001b[0m \u001b[0mos\u001b[0m\u001b[0;34m.\u001b[0m\u001b[0mmkdir\u001b[0m\u001b[0;34m(\u001b[0m\u001b[0mDataDir\u001b[0m\u001b[0;34m+\u001b[0m\u001b[0;34m\"debug/\"\u001b[0m\u001b[0;34m)\u001b[0m\u001b[0;34m\u001b[0m\u001b[0;34m\u001b[0m\u001b[0m\n\u001b[1;32m     19\u001b[0m \u001b[0;34m\u001b[0m\u001b[0m\n\u001b[0;32m---> 20\u001b[0;31m \u001b[0;34m[\u001b[0m\u001b[0mprocess\u001b[0m\u001b[0;34m(\u001b[0m\u001b[0mbhmass\u001b[0m\u001b[0;34m,\u001b[0m \u001b[0mpmass\u001b[0m\u001b[0;34m,\u001b[0m\u001b[0mplot\u001b[0m\u001b[0;34m=\u001b[0m\u001b[0mPlotData\u001b[0m\u001b[0;34m,\u001b[0m \u001b[0mSecondaryMass\u001b[0m\u001b[0;34m=\u001b[0m\u001b[0mSecondaryMass\u001b[0m\u001b[0;34m,\u001b[0m \u001b[0mDataDir\u001b[0m\u001b[0;34m=\u001b[0m\u001b[0mDataDir\u001b[0m\u001b[0;34m)\u001b[0m \u001b[0;32mfor\u001b[0m \u001b[0mbhmass\u001b[0m \u001b[0;32min\u001b[0m \u001b[0mSMBHMasses\u001b[0m \u001b[0;32mfor\u001b[0m \u001b[0mpmass\u001b[0m \u001b[0;32min\u001b[0m \u001b[0mProcaMasses\u001b[0m\u001b[0;34m]\u001b[0m\u001b[0;34m\u001b[0m\u001b[0;34m\u001b[0m\u001b[0m\n\u001b[0m",
      "\u001b[0;31mNameError\u001b[0m: name 'PlotData' is not defined"
     ]
    }
   ],
   "source": [
    "debug=True\n",
    "plot=True\n",
    "DataDir = DataDirectory\n",
    "\n",
    "tmparr = [int(i*10)/10 for i in np.arange(1,10,0.1)] #strange floating point error when doing just np.arange(1,10,0.1) for np.linspace(1,10,91). Causes issues when saving numbers to filenames\n",
    "SMBHMasses = [1e5] #solar masses\n",
    "SecondaryMass = 10 #solar masses\n",
    "ProcaMasses = [1e-16,1.1e-16,1.2e-16,1.3e-16,1.4e-16] #eV   #again avoiding floating point errors\n",
    "\n",
    "#make sure output directory tree is built\n",
    "if not os.path.exists(DataDir+\"Plots/\"):\n",
    "    os.mkdir(DataDir+\"Plots/\")\n",
    "\n",
    "if not os.path.exists(DataDir+\"Output/\"):\n",
    "    os.mkdir(DataDir+\"Output/\")\n",
    "\n",
    "if os.path.exists(DataDir+\"debug/\"):\n",
    "    shutil.rmtree(DataDir+\"debug/\")\n",
    "os.mkdir(DataDir+\"debug/\")\n",
    "\n",
    "[process(bhmass, pmass, SecondaryMass=SecondaryMass, DataDir=DataDir) for bhmass in SMBHMasses for pmass in ProcaMasses]"
   ]
  },
  {
   "cell_type": "code",
   "execution_count": null,
   "id": "48c36e6f",
   "metadata": {},
   "outputs": [],
   "source": []
  },
  {
   "cell_type": "code",
   "execution_count": null,
   "id": "7d3a4d95",
   "metadata": {},
   "outputs": [],
   "source": []
  },
  {
   "cell_type": "code",
   "execution_count": null,
   "id": "617602de",
   "metadata": {},
   "outputs": [],
   "source": []
  },
  {
   "cell_type": "code",
   "execution_count": null,
   "id": "d7ee24ad",
   "metadata": {},
   "outputs": [],
   "source": []
  },
  {
   "cell_type": "code",
   "execution_count": 18,
   "id": "564d5985",
   "metadata": {},
   "outputs": [
    {
     "data": {
      "text/plain": [
       "[<matplotlib.lines.Line2D at 0x7fb7904a7250>]"
      ]
     },
     "execution_count": 18,
     "metadata": {},
     "output_type": "execute_result"
    },
    {
     "data": {
      "image/png": "[encoded data removed]",
      "text/plain": [
       "<Figure size 640x480 with 1 Axes>"
      ]
     },
     "metadata": {},
     "output_type": "display_data"
    }
   ],
   "source": [
    "with open(\"/home/shaunf/Documents/Computer/Code/projects/ProcaAroundKerr/GWGenerator/Data/debug/memuse.txt\", \"r\") as file:\n",
    "    lines = file.readlines()\n",
    "lines = list(map(float, lines[1:]))\n",
    "plt.plot(lines[:5])"
   ]
  },
  {
   "cell_type": "code",
   "execution_count": null,
   "id": "6cd4ea38",
   "metadata": {},
   "outputs": [],
   "source": []
  },
  {
   "cell_type": "code",
   "execution_count": null,
   "id": "9fff348b",
   "metadata": {},
   "outputs": [],
   "source": []
  },
  {
   "cell_type": "code",
   "execution_count": null,
   "id": "e7f6547e",
   "metadata": {},
   "outputs": [],
   "source": []
  },
  {
   "cell_type": "code",
   "execution_count": null,
   "id": "5a6702af",
   "metadata": {},
   "outputs": [],
   "source": []
  },
  {
   "cell_type": "code",
   "execution_count": null,
   "id": "39f7d4f6",
   "metadata": {},
   "outputs": [],
   "source": []
  },
  {
   "cell_type": "code",
   "execution_count": null,
   "id": "2eb5ebd1",
   "metadata": {},
   "outputs": [],
   "source": []
  },
  {
   "cell_type": "code",
   "execution_count": 15,
   "id": "12a48e9a",
   "metadata": {},
   "outputs": [
    {
     "data": {
      "text/plain": [
       "221376"
      ]
     },
     "execution_count": 15,
     "metadata": {},
     "output_type": "execute_result"
    }
   ],
   "source": [
    "import gc\n",
    "\n",
    "len(gc.get_objects())"
   ]
  },
  {
   "cell_type": "code",
   "execution_count": null,
   "id": "1fa3a4a4",
   "metadata": {},
   "outputs": [],
   "source": []
  }
 ],
 "metadata": {
  "kernelspec": {
   "display_name": "Python 3",
   "language": "python",
   "name": "python3"
  },
  "language_info": {
   "codemirror_mode": {
    "name": "ipython",
    "version": 3
   },
   "file_extension": ".py",
   "mimetype": "text/x-python",
   "name": "python",
   "nbconvert_exporter": "python",
   "pygments_lexer": "ipython3",
   "version": "3.7.12"
  }
 },
 "nbformat": 4,
 "nbformat_minor": 5
}
