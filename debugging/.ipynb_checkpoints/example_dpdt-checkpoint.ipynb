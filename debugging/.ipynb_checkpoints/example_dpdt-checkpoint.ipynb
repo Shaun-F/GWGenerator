{
 "cells": [
  {
   "cell_type": "code",
   "execution_count": 3,
   "id": "b28c599a",
   "metadata": {},
   "outputs": [],
   "source": [
    "import scipy\n",
    "from scipy.integrate import solve_ivp\n",
    "\n",
    "import numpy as np"
   ]
  },
  {
   "cell_type": "code",
   "execution_count": 2,
   "id": "a84146b4",
   "metadata": {},
   "outputs": [
    {
     "ename": "SyntaxError",
     "evalue": "invalid syntax (<ipython-input-2-8501c82afae0>, line 1)",
     "output_type": "error",
     "traceback": [
      "\u001b[0;36m  File \u001b[0;32m\"<ipython-input-2-8501c82afae0>\"\u001b[0;36m, line \u001b[0;32m1\u001b[0m\n\u001b[0;31m    example_dpdt(t,p):\u001b[0m\n\u001b[0m                      ^\u001b[0m\n\u001b[0;31mSyntaxError\u001b[0m\u001b[0;31m:\u001b[0m invalid syntax\n"
     ]
    }
   ],
   "source": [
    "example_dpdt(t,p):\n",
    "    pdot =  -p**2\n",
    "    return pdto\n",
    "\n",
    "t0 = 0\n",
    "tf = 100\n",
    "t_span = (t0, tf)\n",
    "npoints = 1000\n",
    "meth=\"DOP853\"\n",
    "t_eval = np.arange(t0,tf, (tf-t0)/npoints)\n",
    "\n",
    "def event_tracker(t,y_vec):\n",
    "    return p\n",
    "solve_ivp(example_dpdt, t_span, [0,10], method=meth, t_eval=t_eval, )"
   ]
  },
  {
   "cell_type": "code",
   "execution_count": null,
   "id": "e3df02c4",
   "metadata": {},
   "outputs": [],
   "source": [
    "res=solve_ivp(fun, t_span, y0, method=\"DOP853\", t_eval = t_dom, dense_output=True,events = __integration_event_trackers, max_step = max_step_size)\n"
   ]
  }
 ],
 "metadata": {
  "kernelspec": {
   "display_name": "Python 3",
   "language": "python",
   "name": "python3"
  },
  "language_info": {
   "codemirror_mode": {
    "name": "ipython",
    "version": 3
   },
   "file_extension": ".py",
   "mimetype": "text/x-python",
   "name": "python",
   "nbconvert_exporter": "python",
   "pygments_lexer": "ipython3",
   "version": "3.7.12"
  }
 },
 "nbformat": 4,
 "nbformat_minor": 5
}
