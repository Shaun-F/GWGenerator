{
 "cells": [
  {
   "cell_type": "code",
   "execution_count": 73,
   "id": "9f15c40c",
   "metadata": {},
   "outputs": [],
   "source": [
    "import sys, os, time\n",
    "os.chdir(\"../\")\n",
    "path = os.getcwd()\n",
    "sys.path.insert(0, path)\n",
    "import matplotlib.pyplot as plt\n",
    "%matplotlib inline\n",
    "import numpy as np\n",
    "\n",
    "from few.trajectory.inspiral import EMRIInspiral\n",
    "from few.waveform import GenerateEMRIWaveform,Pn5AAKWaveform, AAKWaveformBase\n",
    "from few.summation.aakwave import AAKSummation\n",
    "from few.utils.utility import *\n",
    "\n",
    "import GWGen; from GWGen.WFGenerator import *\n",
    "from GWGen.Utils import *\n",
    "\n",
    "# set initial parameters\n",
    "M = 10000000.0\n",
    "mu = 1e1\n",
    "a = .6\n",
    "e0 = 0.6\n",
    "p0=GetInitialP(M,e0)\n",
    "iota0 = 0.\n",
    "Y0 = np.cos(iota0)\n",
    "Phi_phi0 = 0.\n",
    "Phi_theta0 = 0.\n",
    "Phi_r0 = 0.\n",
    "\n",
    "qS = 0.2\n",
    "phiS = 0.2\n",
    "qK = 0.8\n",
    "phiK = 0.8\n",
    "dist = 1.0\n",
    "mich = False\n",
    "dt = 15\n",
    "T = 8\n",
    "\n",
    "use_gpu = True\n",
    "\n",
    "# keyword arguments for inspiral generator (RunKerrGenericPn5Inspiral)\n",
    "inspiral_kwargs = {\n",
    "    \"DENSE_STEPPING\": 0,  # we want a sparsely sampled trajectory\n",
    "    \"max_init_len\": int(1e4),  # all of the trajectories will be well under len = 1000\n",
    "    \"npoints\":110,\n",
    "    \"dense_output\":False\n",
    "}\n",
    "\n",
    "# keyword arguments for summation generator (AAKSummation)\n",
    "sum_kwargs = {\n",
    "    \"use_gpu\": use_gpu,  # GPU is availabel for this type of summation\n",
    "    \"pad_output\": False,\n",
    "}\n",
    "\n",
    "fewtraj = EMRIInspiral(func=\"pn5\")\n",
    "mytraj = PNTraj()"
   ]
  },
  {
   "cell_type": "code",
   "execution_count": null,
   "id": "0194a7cb",
   "metadata": {},
   "outputs": [],
   "source": [
    "# run trajectory\n",
    "#fewtrajdata = fewtraj(M, mu, a, p0, e0, Y0, T=T,dt=dt,**inspiral_kwargs)\n",
    "mytrajdata = mytraj(M,mu,a, p0,e0,Y0,T=T,**inspiral_kwargs)"
   ]
  },
  {
   "cell_type": "code",
   "execution_count": null,
   "id": "0f1e4d0d",
   "metadata": {},
   "outputs": [],
   "source": [
    "get_separatrix(a,0.7,1.)"
   ]
  },
  {
   "cell_type": "code",
   "execution_count": null,
   "id": "6dc04bd9",
   "metadata": {},
   "outputs": [],
   "source": [
    "print(mytraj.exit_reason)\n",
    "mytrajdata"
   ]
  },
  {
   "cell_type": "code",
   "execution_count": null,
   "id": "46eb3526",
   "metadata": {},
   "outputs": [],
   "source": [
    "cl = Kerr(BHSpin=0.9)\n",
    "dat = mytrajdata\n",
    "for inx in range(len(dat[0])):\n",
    "    try:\n",
    "        cl.OrbitalFrequencies()(dat[2][inx], dat[1][inx],1.)\n",
    "    except SystemError as err:\n",
    "        print(dat[2][inx])\n",
    "        print(dat[1][inx])\n",
    "        print(err)"
   ]
  },
  {
   "cell_type": "code",
   "execution_count": null,
   "id": "c33fb744",
   "metadata": {},
   "outputs": [],
   "source": [
    "AAK = AAKWaveformBase(PNTraj, AAKSummation,inspiral_kwargs=inspiral_kwargs.copy(), sum_kwargs=sum_kwargs.copy(),use_gpu=use_gpu)"
   ]
  },
  {
   "cell_type": "code",
   "execution_count": null,
   "id": "32e7bbc5",
   "metadata": {},
   "outputs": [],
   "source": [
    "dat = tuple((np.require(i, dtype=np.float64, requirements=\"O\") for i in fewtrajdata))\n",
    "num_modes_kept = nmodes = int(30 * e0)\n",
    "if num_modes_kept < 4:\n",
    "    num_modes_kept = nmodes = 4\n",
    "fewwf = AAK.create_waveform(dat[0], M, a,*dat[1:], mu, qS, phiS, qK, phiK, dist, nmodes,mich=mich,dt=dt,T=T)"
   ]
  },
  {
   "cell_type": "code",
   "execution_count": null,
   "id": "9d7178c6",
   "metadata": {},
   "outputs": [],
   "source": [
    "dat = mytrajdata\n",
    "num_modes_kept = nmodes = int(30 * e0)\n",
    "if num_modes_kept < 4:\n",
    "    num_modes_kept = nmodes = 4\n",
    "mywf = AAK.create_waveform(dat[0], M, a,*dat[1:], mu, qS, phiS, qK, phiK, dist, nmodes,mich=mich,dt=dt,T=T)"
   ]
  },
  {
   "cell_type": "code",
   "execution_count": null,
   "id": "190e2f71",
   "metadata": {
    "scrolled": false
   },
   "outputs": [],
   "source": [
    "#Plot Trajectories\n",
    "fig, axes = plt.subplots(4, 2)\n",
    "plt.subplots_adjust(wspace=0.5)\n",
    "fig.set_size_inches(22, 18)\n",
    "axes = axes.ravel()\n",
    "ylabels = [r'$e$', r'$p$', r'$e$', r'$\\Phi_\\phi$', r'$\\Phi_\\theta$', r'$\\Phi_r$', r'$h_{+}$',r'$h_{+}$']\n",
    "xlabels = [r'$p$', r'$t$',  r'$t$',  r'$t$',               r'$t$',                     r'$t$',            r'$t$',  r'$t$']\n",
    "datlabel = [\"Few Traj\",  \"My Traj\"]\n",
    "datcolors = [\"black\", \"green\", \"blue\", \"yellow\", \"orange\"]\n",
    "datstyle= [\"dashed\", \"solid\", \"dashdot\", \"dotted\"]\n",
    "xdata = [1,0,0,0,0,0]\n",
    "ydata = [2,1,2,4,5,6]\n",
    "for i, (ax, xlab, ylab) in enumerate(zip(axes, xlabels, ylabels)):\n",
    "    if i<len(xdata):\n",
    "        fx = fewtrajdata[xdata[i]]\n",
    "        fy = fewtrajdata[ydata[i]]\n",
    "        mx = mytrajdata[xdata[i]]\n",
    "        my = mytrajdata[ydata[i]]\n",
    "        ax.plot(fx,fy, label=datlabel[0],color=datcolors[0], linestyle=datstyle[0])\n",
    "        ax.plot(mx,my, label=datlabel[1],color=datcolors[1], linestyle=datstyle[1])\n",
    "    elif i==len(xdata):\n",
    "        mx = np.arange(len(mywf.get()))*dt\n",
    "        my = mywf.get().real\n",
    "        ax.plot(mx,my, label=datlabel[1],color=datcolors[1], linestyle=datstyle[1])\n",
    "    else:\n",
    "        fx = np.arange(len(fewwf.get()))*dt\n",
    "        fy = fewwf.get().real\n",
    "        ax.plot(fx,fy, label=datlabel[1],color=datcolors[1], linestyle=datstyle[1])\n",
    "\n",
    "\n",
    "    ax.set_xlabel(xlab, fontsize=16)\n",
    "    ax.set_ylabel(ylab, fontsize=16)\n",
    "    ax.legend()\n",
    "fig.suptitle(\"My PN5 Trajectory \\n e0={0}    p0={1}     a={2}\".format(e0,p0,a));"
   ]
  },
  {
   "cell_type": "code",
   "execution_count": null,
   "id": "0499a425",
   "metadata": {},
   "outputs": [],
   "source": [
    "mytraj.exit_reason"
   ]
  },
  {
   "cell_type": "code",
   "execution_count": null,
   "id": "cafe8db3",
   "metadata": {},
   "outputs": [],
   "source": [
    "mytraj.separatrix_cut"
   ]
  },
  {
   "cell_type": "code",
   "execution_count": null,
   "id": "8a647713",
   "metadata": {},
   "outputs": [],
   "source": [
    "fewtrajdata[1][-1]"
   ]
  },
  {
   "cell_type": "code",
   "execution_count": null,
   "id": "b4981f18",
   "metadata": {},
   "outputs": [],
   "source": [
    "mytrajdata[1][-1]"
   ]
  },
  {
   "cell_type": "code",
   "execution_count": null,
   "id": "182f5eca",
   "metadata": {},
   "outputs": [],
   "source": []
  },
  {
   "cell_type": "code",
   "execution_count": null,
   "id": "4973e66d",
   "metadata": {},
   "outputs": [],
   "source": []
  },
  {
   "cell_type": "code",
   "execution_count": null,
   "id": "3d5ad503",
   "metadata": {},
   "outputs": [],
   "source": []
  },
  {
   "cell_type": "code",
   "execution_count": null,
   "id": "4c24e403",
   "metadata": {},
   "outputs": [],
   "source": []
  },
  {
   "cell_type": "code",
   "execution_count": null,
   "id": "631f0dc2",
   "metadata": {},
   "outputs": [],
   "source": [
    "    tmparr = np.linspace(1,9,9,dtype=np.int64) #strange floating point error when doing just np.arange(1,10,0.1) for np.linspace(1,10,91). Causes issues when saving numbers to filenames\n",
    "    tmparr1 = np.linspace(1,9,81, dtype=np.float64)\n",
    "    SMBHMasses = sorted([int(i) for i in np.kron(tmparr,[1e5, 1e6,1e7])]) #solar masses\n",
    "    SMBHSpins = [int(100*i)/100 for i in np.linspace(0.6,0.9,10)]\n",
    "    SecondaryMass = 10 #solar masses\n",
    "    e0list = [0.1,0.2,0.3,0.4,0.5,0.6,0.7]\n",
    "    ProcaMasses = [round(i,22) for i in np.kron(tmparr1, [1e-16,1e-17,1e-18,1e-19])] #eV   #again avoiding floating point errors\n",
    "    coords=cartesian_product(np.array(SMBHMasses),np.array(SMBHSpins), np.array(ProcaMasses), np.array(e0list))"
   ]
  },
  {
   "cell_type": "code",
   "execution_count": null,
   "id": "91eca770",
   "metadata": {},
   "outputs": [],
   "source": [
    "from multiprocessing import Pool\n",
    "def func(arg):\n",
    "    return alphavalue(arg[0],arg[2])\n",
    "with Pool(6) as pool:\n",
    "    alphavals = pool.map(func,coords)"
   ]
  },
  {
   "cell_type": "code",
   "execution_count": null,
   "id": "f0a6bbad",
   "metadata": {},
   "outputs": [],
   "source": [
    "def func1(it):\n",
    "    aval = alphavals[it]\n",
    "    spin = coords[it][1]\n",
    "    if aval>0.02 and aval<BHSpinAlphaCutoff(spin):\n",
    "        return True\n",
    "    else:\n",
    "        return False\n",
    "\n",
    "with Pool(6) as p:\n",
    "    booles = p.map(func1, range(len(coords)))"
   ]
  },
  {
   "cell_type": "code",
   "execution_count": null,
   "id": "a1f074a2",
   "metadata": {},
   "outputs": [],
   "source": [
    "len(np.array(alphavals)[booles])/1000/24"
   ]
  },
  {
   "cell_type": "code",
   "execution_count": null,
   "id": "d84790f8",
   "metadata": {},
   "outputs": [],
   "source": [
    "newcoord = []\n",
    "for arg in coords:\n",
    "    alphaval = alphavalue(arg[0], arg[2])\n",
    "    if alphaval>0.02 and alphaval<BHSpinAlphaCutoff(arg[1]):\n",
    "        newcoord.append(arg)"
   ]
  },
  {
   "cell_type": "code",
   "execution_count": null,
   "id": "ece2ea7b",
   "metadata": {},
   "outputs": [],
   "source": [
    "len(newcoord)"
   ]
  },
  {
   "cell_type": "code",
   "execution_count": null,
   "id": "6acc7e92",
   "metadata": {},
   "outputs": [],
   "source": []
  },
  {
   "cell_type": "code",
   "execution_count": null,
   "id": "ffafcf86",
   "metadata": {},
   "outputs": [],
   "source": []
  },
  {
   "cell_type": "code",
   "execution_count": null,
   "id": "651b732e",
   "metadata": {},
   "outputs": [],
   "source": []
  },
  {
   "cell_type": "code",
   "execution_count": null,
   "id": "d72bfe83",
   "metadata": {},
   "outputs": [],
   "source": [
    "import time\n",
    "\n",
    "from few.utils.constants import *\n",
    "from GWGen.WFGenerator import *\n",
    "trajcl = PNTraj()\n"
   ]
  },
  {
   "cell_type": "code",
   "execution_count": null,
   "id": "98e7dcd5",
   "metadata": {},
   "outputs": [],
   "source": [
    "## Algorithm to determine initial semi-latus rectum for given values of bhmass, bhspin, and initial eccentricity and desired time length of 5 years\n",
    "\n",
    "tmparr = np.linspace(1,9,9,dtype=np.int64) #strange floating point error when doing just np.arange(1,10,0.1) for np.linspace(1,10,91). Causes issues when saving numbers to filenames\n",
    "tmparr1 = np.linspace(1,9,81, dtype=np.float64)\n",
    "SMBHMasses = sorted([int(i) for i in np.kron(tmparr,[1e5, 1e6,1e7])]) #solar masses\n",
    "SMBHSpins = [int(100*i)/100 for i in np.linspace(0.6,0.9,10)]\n",
    "SecondaryMass = 10 #solar masses\n",
    "e0list = [0.1,0.2,0.3,0.4,0.5,0.6,0.7]\n",
    "\n",
    "def get_status(time, exit_reason):\n",
    "    if 4.9<time<5.1 and exit_reason=='Separatrix reached!':\n",
    "        return True\n",
    "    else:\n",
    "        return False\n",
    "\n",
    "finaldata = {}\n",
    "for bm in SMBHMasses:\n",
    "    for a in SMBHSpins:\n",
    "        for e0 in e0list:\n",
    "            status=False\n",
    "            traj = trajcl(bm,10,a,6,e0,1.,T=5)\n",
    "            \n",
    "            while not status:\n",
    "                finalp = traj[1][-1];\n",
    "                initialp = traj[1][0];\n",
    "                status = get_status(finaltimeyear, trajcl.exit_reason)\n",
    "                if status:\n",
    "                    key = \"bm\"+str(bm)+\"a\"+str(a)+\"e0\"+str(e0)\n",
    "                    finaldata[key] = initialp\n",
    "                    print(key, \"  \", initialp)\n",
    "                elif not status:\n",
    "                    print(trajcl.exit_reason)\n",
    "                    print(\"final p: \",finalp)\n",
    "                    if \"time boundary\" in trajcl.exit_reason:\n",
    "                        traj = trajcl(bm,10,a,finalp-1,e0,1.,T=5)\n",
    "                        print(\"decreasing initial p\")\n",
    "                        print(finalp)\n",
    "                    elif \"Separatrix\" in trajcl.exit_reason:\n",
    "                        traj = trajcl(bm,10,a,traj[1][0]+1,e0,1.,T=5)\n",
    "                        print(\"new final p: \", traj[1][0])\n",
    "                        print(\"increasing initial p\")            "
   ]
  },
  {
   "cell_type": "code",
   "execution_count": null,
   "id": "627d24fe",
   "metadata": {},
   "outputs": [],
   "source": [
    "print(bm)\n",
    "print(a)\n",
    "print(e0)"
   ]
  },
  {
   "cell_type": "code",
   "execution_count": null,
   "id": "fdd1681a",
   "metadata": {},
   "outputs": [],
   "source": [
    "res=trajcl(1e5,10,0.6,10,0.1,1.,T=1)"
   ]
  },
  {
   "cell_type": "code",
   "execution_count": null,
   "id": "a5fc1a3b",
   "metadata": {},
   "outputs": [],
   "source": [
    "trajcl.exit_reason"
   ]
  },
  {
   "cell_type": "code",
   "execution_count": null,
   "id": "ff55efb3",
   "metadata": {},
   "outputs": [],
   "source": []
  },
  {
   "cell_type": "code",
   "execution_count": null,
   "id": "da034067",
   "metadata": {},
   "outputs": [],
   "source": []
  },
  {
   "cell_type": "code",
   "execution_count": null,
   "id": "444dfe48",
   "metadata": {},
   "outputs": [],
   "source": []
  },
  {
   "cell_type": "code",
   "execution_count": null,
   "id": "e5443dc0",
   "metadata": {},
   "outputs": [],
   "source": []
  },
  {
   "cell_type": "code",
   "execution_count": null,
   "id": "1516d8cf",
   "metadata": {},
   "outputs": [],
   "source": []
  },
  {
   "cell_type": "code",
   "execution_count": null,
   "id": "a2855d61",
   "metadata": {},
   "outputs": [],
   "source": []
  },
  {
   "cell_type": "code",
   "execution_count": null,
   "id": "96768335",
   "metadata": {},
   "outputs": [],
   "source": []
  },
  {
   "cell_type": "code",
   "execution_count": null,
   "id": "8f735778",
   "metadata": {},
   "outputs": [],
   "source": []
  },
  {
   "cell_type": "code",
   "execution_count": null,
   "id": "8ba8b5ff",
   "metadata": {},
   "outputs": [],
   "source": []
  },
  {
   "cell_type": "code",
   "execution_count": null,
   "id": "ee1e0f99",
   "metadata": {},
   "outputs": [],
   "source": []
  },
  {
   "cell_type": "code",
   "execution_count": 4,
   "id": "44ab7442",
   "metadata": {},
   "outputs": [
    {
     "name": "stdout",
     "output_type": "stream",
     "text": [
      "[ 1  2  3  4  5  6  7  8  9 10]\n",
      "[array([1, 2, 3, 4]), array([5, 6, 7]), array([ 8,  9, 10])]\n",
      "[(1, 5, 8), (2, 6, 9), (3, 7, 10), (4, None, None)]\n"
     ]
    }
   ],
   "source": [
    "import numpy as np\n",
    "import itertools\n",
    "\n",
    "def split(a, n):\n",
    "            k, m = divmod(len(a), n)\n",
    "            return list(a[i * k + min(i, m):(i + 1) * k + min(i + 1, m)] for i in range(n))\n",
    "def cartesian_product(*arrays):\n",
    "    la = len(arrays)\n",
    "    dtype = np.result_type(*arrays)\n",
    "    arr = np.empty([len(a) for a in arrays] + [la], dtype=dtype)\n",
    "    for i, a in enumerate(np.ix_(*arrays)):\n",
    "        arr[...,i] = a\n",
    "    return arr.reshape(-1, la)\n",
    "a = np.arange(1,11)\n",
    "n=3\n",
    "splita = split(a,n)\n",
    "trana = np.transpose(splita)\n",
    "itera = list(itertools.zip_longest(*splita))\n",
    "print(a)\n",
    "print(splita)\n",
    "print(itera)"
   ]
  },
  {
   "cell_type": "code",
   "execution_count": 67,
   "id": "47fb0575",
   "metadata": {},
   "outputs": [
    {
     "name": "stdout",
     "output_type": "stream",
     "text": [
      "(306, 360)\n",
      "(2000,)\n"
     ]
    }
   ],
   "source": [
    "    tmparr = np.linspace(1,9,9,dtype=np.int64) #strange floating point error when doing just np.arange(1,10,0.1) for np.linspace(1,10,91). Causes issues when saving numbers to filenames\n",
    "    tmparr1 = np.linspace(1,9,81, dtype=np.float64)\n",
    "    SMBHMasses = sorted([int(i) for i in np.kron(tmparr,[1e5, 1e6,1e7])]) #solar masses\n",
    "    SMBHSpins = [int(100*i)/100 for i in np.linspace(0.6,0.9,10)]\n",
    "    SecondaryMass = 10 #solar masses\n",
    "    e0list = [0.1,0.2,0.3,0.4,0.5,0.6,0.7]\n",
    "    ProcaMasses = sorted([round(i,22) for i in np.kron(tmparr1, [1e-16,1e-17,1e-18,1e-19])]) #eV   #again avoiding floating point errors\n",
    "    n=17\n",
    "    commsize = 2000\n",
    "\n",
    "    parallel_args = cartesian_product(np.array(SMBHMasses),np.array(SMBHSpins), np.array(ProcaMasses), np.array(e0list))\n",
    "    def parallel_func(args,solcount,sols):\n",
    "        if args!=None:\n",
    "            process(args[0], args[1], args[2], args[3], SecondaryMass=SecondaryMass, DataDir=DataDir, alphauppercutoff=BHSpinAlphaCutoff(args[1]),mpirank=rank, solcounter=solcount,nsols=nsols,OverwriteSolution=overwriteexisting, plot=PlotData)\n",
    "        return None\n",
    "    #parallel_func = lambda args,solcount,nsols: process(args[0], args[1], args[2], args[3], SecondaryMass=SecondaryMass, DataDir=DataDir, alphauppercutoff=BHSpinAlphaCutoff(args[1]),mpirank=rank, solcounter=solcount,nsols=nsols,OverwriteSolution=overwriteexisting, plot=PlotData)\n",
    "\n",
    "    def split(a, n):\n",
    "        k, m = divmod(len(a), n)\n",
    "        return list(a[i * k + min(i, m):(i + 1) * k + min(i + 1, m)] for i in range(n))\n",
    "    if divmod(len(parallel_args),commsize)[1]!=0:\n",
    "        nsplit = len(parallel_args)//commsize+1\n",
    "    else:\n",
    "        nsplit=len(parallel_args)//commsize\n",
    "    split_parallel_args = split(parallel_args, nsplit)\n",
    "    split_parallel_args = list(itertools.zip_longest(*split_parallel_args))\n",
    "    [split_parallel_args.append([None]) for i in range(commsize-len(split_parallel_args))]\n",
    "\n",
    "    print(divmod(len(parallel_args),commsize))\n",
    "    print(np.shape(split_parallel_args))"
   ]
  },
  {
   "cell_type": "code",
   "execution_count": 29,
   "id": "4c8c46e4",
   "metadata": {},
   "outputs": [
    {
     "data": {
      "text/plain": [
       "[None, None, None, None, None]"
      ]
     },
     "execution_count": 29,
     "metadata": {},
     "output_type": "execute_result"
    }
   ],
   "source": [
    "[split_parallel_args.append([None]) for i in range(commsize-len(split_parallel_args))]"
   ]
  },
  {
   "cell_type": "code",
   "execution_count": 30,
   "id": "e0bed0ee",
   "metadata": {},
   "outputs": [
    {
     "data": {
      "text/plain": [
       "[None]"
      ]
     },
     "execution_count": 30,
     "metadata": {},
     "output_type": "execute_result"
    }
   ],
   "source": [
    "split_parallel_args[-5]"
   ]
  },
  {
   "cell_type": "code",
   "execution_count": null,
   "id": "218fc669",
   "metadata": {},
   "outputs": [],
   "source": []
  },
  {
   "cell_type": "code",
   "execution_count": 149,
   "id": "21128323",
   "metadata": {},
   "outputs": [
    {
     "data": {
      "text/plain": [
       "-6.916804313071245e-10"
      ]
     },
     "execution_count": 149,
     "metadata": {},
     "output_type": "execute_result"
    }
   ],
   "source": [
    "pn.UndressedeFlux(ecc,semimaj)"
   ]
  },
  {
   "cell_type": "code",
   "execution_count": 140,
   "id": "de764d97",
   "metadata": {},
   "outputs": [],
   "source": [
    "ulb = superrad.ultralight_boson.UltralightBoson(spin=1,model=\"relativistic\")\n",
    "pn = PN(6e7,10,bhspin=0.8)"
   ]
  },
  {
   "cell_type": "code",
   "execution_count": 141,
   "id": "a8cbf297",
   "metadata": {},
   "outputs": [],
   "source": [
    "ratelist = {\"E\":[], \"L\":[], \"p\":[], \"e\":[]}\n",
    "procamasses = np.linspace(3.1e-19,5e-19,39)\n",
    "ecc=0.1\n",
    "semimaj=4.8\n",
    "dldp = pn.dLdp()(ecc,semimaj)*pn.dLdpUnit\n",
    "dlde = pn.dLde()(ecc,semimaj)*pn.dLdeUnit\n",
    "dedp = pn.dEdp()(ecc,semimaj)*pn.dEdpUnit\n",
    "dede = pn.dEde()(ecc,semimaj)*pn.dEdeUnit\n",
    "norm = (dldp*dede - dlde*dedp)\n",
    "for mu in procamasses:\n",
    "    pc = ProcaSolution(6e7,0.8,mu,UltralightBoson=ulb)\n",
    "    t=0\n",
    "    e=0.1\n",
    "    p=4.8\n",
    "    rates = pc.ChangeInOrbitalConstants(SecondaryMass=10,SMBHMass=6e7)\n",
    "    pcoor = (1/norm)*(dede*rates[\"L\"](t,e,p) - dlde*rates[\"E\"](t,e,p))\n",
    "    ecoor = (1/norm)*(dldp*rates[\"E\"](t,e,p) - dedp*rates[\"L\"](t,e,p))\n",
    "    ratelist[\"E\"].append(rates[\"E\"](t,e,p))\n",
    "    ratelist[\"L\"].append(rates[\"L\"](t,e,p))\n",
    "    ratelist[\"p\"].append(pcoor)\n",
    "    ratelist[\"e\"].append(ecoor)"
   ]
  },
  {
   "cell_type": "code",
   "execution_count": 147,
   "id": "2fb48495",
   "metadata": {},
   "outputs": [
    {
     "data": {
      "text/plain": [
       "<matplotlib.collections.PathCollection at 0x7fe15ea70750>"
      ]
     },
     "execution_count": 147,
     "metadata": {},
     "output_type": "execute_result"
    },
    {
     "data": {
      "image/png": "[encoded data removed]",
      "text/plain": [
       "<Figure size 1152x576 with 2 Axes>"
      ]
     },
     "metadata": {
      "needs_background": "light"
     },
     "output_type": "display_data"
    }
   ],
   "source": [
    "fig,ax = plt.subplots(2, figsize=(16,8))\n",
    "ax[0].scatter(procamasses,ratelist[\"e\"])\n",
    "ax[1].scatter(procamasses,ratelist[\"p\"])"
   ]
  },
  {
   "cell_type": "code",
   "execution_count": null,
   "id": "2e752130",
   "metadata": {},
   "outputs": [],
   "source": []
  }
 ],
 "metadata": {
  "kernelspec": {
   "display_name": "Python 3",
   "language": "python",
   "name": "python3"
  },
  "language_info": {
   "codemirror_mode": {
    "name": "ipython",
    "version": 3
   },
   "file_extension": ".py",
   "mimetype": "text/x-python",
   "name": "python",
   "nbconvert_exporter": "python",
   "pygments_lexer": "ipython3",
   "version": "3.7.12"
  }
 },
 "nbformat": 4,
 "nbformat_minor": 5
}
