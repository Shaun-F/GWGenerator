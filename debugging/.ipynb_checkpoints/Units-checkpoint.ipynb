{
 "cells": [
  {
   "cell_type": "code",
   "execution_count": 89,
   "id": "44f033c4",
   "metadata": {},
   "outputs": [],
   "source": [
    "import os, sys, glob, json, scipy as sp\n",
    "import matplotlib.pyplot as plt\n",
    "os.chdir(\"../\")\n",
    "path = os.getcwd()\n",
    "sys.path.insert(0, path)\n",
    "import GWGen\n",
    "from GWGen.WFGenerator import *\n",
    "from GWGen.DressedFluxes.Fluxes import *\n",
    "import pyAnalyticFluxes as flux\n",
    "\n",
    "etest = 0.8\n",
    "ptest = 10\n",
    "M=1e6*unit.M_sun\n",
    "m=1*unit.M_sun\n",
    "mu = 1e-17\n",
    "a = 0.9"
   ]
  },
  {
   "cell_type": "code",
   "execution_count": 49,
   "id": "b3a5b336",
   "metadata": {},
   "outputs": [
    {
     "name": "stdout",
     "output_type": "stream",
     "text": [
      "UltralightBoson instance not provided. Instantiating class...\n",
      "done.\n"
     ]
    }
   ],
   "source": [
    "pc = ProcaSolution(M,a,mu)\n",
    "pn = PN(M,m)"
   ]
  },
  {
   "cell_type": "code",
   "execution_count": 47,
   "id": "c4afcb6d",
   "metadata": {},
   "outputs": [
    {
     "name": "stdout",
     "output_type": "stream",
     "text": [
      "\tDimensionful fluxes\n",
      "\n",
      "E:  -1.8268404484789797e+36\n",
      "E(proca):  1.7086531813699872e+37\n",
      "L:  -2.9266919307671927e+38\n",
      "     -2.9266919307671927e+38\n",
      "L(proca):  1.4765486816088382e+39\n",
      "\n",
      "\tAdimensionalize proca flux\n",
      "\n",
      "E:  -5.035038872979633e-11\n",
      "E(proca):  4.709297517361816e-10\n",
      "L:  -1.6376824460625936e-09\n",
      "L(proca):  8.262290373670396e-09\n"
     ]
    }
   ],
   "source": [
    "\n",
    "\n",
    "print(\"\\tDimensionful fluxes\\n\")\n",
    "print(\"E: \", pn.UndressedEFlux(etest, ptest)*pn.epsilon*(cons.c**5/cons.G).decompose().value)\n",
    "print(r\"E(proca): \",pc.ChangeInOrbitalConstants()[\"E\"](0,etest,ptest))\n",
    "print(\"L: \", pn.UndressedLFlux(etest, ptest)*(pn.epsilon*M*cons.c**2).decompose().value)\n",
    "print(\"    \", flux.pydLdt(0.9,ptest,etest,1,10,10)*(pn.epsilon**2*M*cons.c**2).decompose().value)\n",
    "\n",
    "print(r\"L(proca): \",pc.ChangeInOrbitalConstants()[\"L\"](0,etest,ptest))\n",
    "\n",
    "\n",
    "print(\"\\n\\tAdimensionalize proca flux\\n\")\n",
    "print(\"E: \", pn.UndressedEFlux(etest, ptest))\n",
    "print(\"E(proca): \", pc.ChangeInOrbitalConstants()[\"E\"](0,etest,ptest)*(unit.kg*(unit.m**2/(unit.s**3)))/pn.epsilon * (cons.G/(cons.c**5)).decompose())\n",
    "print(\"L: \", pn.UndressedLFlux(etest, ptest))\n",
    "print(\"L(proca): \", pc.ChangeInOrbitalConstants()[\"L\"](0,etest,ptest)*(unit.kg*(unit.m/unit.s)**2)/(m*cons.c**2).decompose())\n"
   ]
  },
  {
   "cell_type": "code",
   "execution_count": 135,
   "id": "a5b5e8b8",
   "metadata": {},
   "outputs": [
    {
     "name": "stdout",
     "output_type": "stream",
     "text": [
      "From jacobian and (E,L) fluxes:  -9.766538468861321e-11\n",
      "From pyAnalyticFluxes:                -9.632430138253556e-11\n"
     ]
    }
   ],
   "source": [
    "#SI Units\n",
    "dede=(pn.dEde()(etest,ptest)*(m*cons.c**2)).decompose()\n",
    "dedp = (pn.dEdp()(etest,ptest)*(m*cons.c**2 / (cons.G*M/(cons.c**2)))).decompose()\n",
    "dlde = (pn.dLde()(etest,ptest)*(m*cons.G*M/(cons.c**2) * cons.c)).decompose()\n",
    "dldp = (pn.dLdp()(etest,ptest)*(m*cons.G*M/(cons.c**2) * cons.c / (cons.G*M/(cons.c**2)))).decompose()\n",
    "norm = (dldp*dede  - dlde*dedp)\n",
    "\n",
    "ENsi = (flux.pydEdt(0.9,ptest,etest,1,10,10)*pn.epsilon**2) *cons.c**5 / cons.G\n",
    "LNsi = ((flux.pydLdt(0.9,ptest,etest,1,10,10)*pn.epsilon*m)  * cons.c**2).decompose()\n",
    "\n",
    "edot = (dldp*ENsi - dedp*LNsi)/norm\n",
    "print(\"From jacobian and (E,L) fluxes: \", edot.to(unit.Hz).value)\n",
    "print(\"From pyAnalyticFluxes:               \", (flux.pydedt(a,ptest, etest,1,10,8)*pn.epsilon * cons.c**3/(cons.G*M)).to(unit.Hz).value)"
   ]
  },
  {
   "cell_type": "code",
   "execution_count": 136,
   "id": "80175802",
   "metadata": {},
   "outputs": [
    {
     "name": "stdout",
     "output_type": "stream",
     "text": [
      "From jacobian and (E,L) fluxes:  -4.810499681816662e-10\n",
      "From pyAnalyticFluxes:                -4.744444744975482e-10\n",
      "From PN class:                               -4.744444744975482e-10\n"
     ]
    }
   ],
   "source": [
    "#Geometric Units\n",
    "dede=(pn.dEde()(etest,ptest)*m)\n",
    "dedp = (pn.dEdp()(etest,ptest)*m/M)\n",
    "dlde = (pn.dLde()(etest,ptest)*m*M)\n",
    "dldp = (pn.dLdp()(etest,ptest)*m)\n",
    "norm = (dldp*dede  - dlde*dedp)\n",
    "\n",
    "ENgeo = flux.pydEdt(0.9,ptest,etest,1,10,10)*pn.epsilon**2*M\n",
    "LNgeo = (flux.pydLdt(0.9,ptest,etest,1,10,10)*pn.epsilon*m*M)\n",
    "\n",
    "edot = (dldp*ENgeo - dedp*LNgeo)/norm\n",
    "print(\"From jacobian and (E,L) fluxes: \", edot)\n",
    "print(\"From pyAnalyticFluxes:               \", flux.pydedt(a,ptest, etest,1,10,8)*pn.epsilon)\n",
    "print(\"From PN class:                              \", pn.UndressedeFlux(etest,ptest))"
   ]
  },
  {
   "cell_type": "code",
   "execution_count": null,
   "id": "33bc1657",
   "metadata": {},
   "outputs": [],
   "source": []
  },
  {
   "cell_type": "code",
   "execution_count": null,
   "id": "2f2696a0",
   "metadata": {},
   "outputs": [],
   "source": []
  },
  {
   "cell_type": "code",
   "execution_count": null,
   "id": "cff49708",
   "metadata": {},
   "outputs": [],
   "source": []
  },
  {
   "cell_type": "code",
   "execution_count": 181,
   "id": "44c2ca76",
   "metadata": {},
   "outputs": [
    {
     "name": "stdout",
     "output_type": "stream",
     "text": [
      "_____ SI Units______\n",
      "E:\n",
      "2.6287260438406194e+36\n",
      "-1.617097043827651e+36 kg m2 / s3\n",
      "L:\n",
      "1.8139508939042193e+39\n",
      "-1.2754000352719981e+38 kg m2 / s2\n",
      "\n",
      "\n",
      "\n",
      "_____ Geometric Units______\n",
      "E:\n",
      "7.245152595658534e-11 solMass\n",
      "-4.456955441200018e-11 solMass\n",
      "L:\n",
      "0.010150284373072938 solMass\n",
      "-0.000713672740036236 solMass2\n"
     ]
    }
   ],
   "source": [
    "print(\"_____ SI Units______\")\n",
    "print(\"E:\")\n",
    "ProcaENSI = pc.ChangeInOrbitalConstants()[\"E\"](0,etest,ptest)\n",
    "ProcaLNSI = pc.ChangeInOrbitalConstants()[\"L\"](0,etest,ptest)\n",
    "print(ProcaENSI)\n",
    "print(ENsi)\n",
    "print(\"L:\")\n",
    "print(ProcaLNSI)\n",
    "print(LNsi)\n",
    "\n",
    "print(\"\\n\\n\")\n",
    "print(\"_____ Geometric Units______\")\n",
    "print(\"E:\")\n",
    "inverseenergyflux = (cons.G/(cons.c**5)).value\n",
    "ProcaENGeo = ((pc.ChangeInOrbitalConstants()[\"E\"](0,etest,ptest)*inverseenergyflux*M).to(unit.M_sun))\n",
    "print(ProcaENGeo)\n",
    "print(ENgeo)\n",
    "print(\"L:\")\n",
    "inverseangularmomentumflux = (1/(cons.c**2)).value\n",
    "KGtoMsun = unit.kg.to(unit.Msun)\n",
    "ProcaLNGeo = ((pc.ChangeInOrbitalConstants()[\"L\"](0,etest,ptest)*KGtoMsun*inverseangularmomentumflux*M))\n",
    "print(ProcaLNGeo)\n",
    "print(LNgeo)"
   ]
  },
  {
   "cell_type": "code",
   "execution_count": null,
   "id": "ad90857a",
   "metadata": {},
   "outputs": [],
   "source": []
  }
 ],
 "metadata": {
  "kernelspec": {
   "display_name": "Python 3",
   "language": "python",
   "name": "python3"
  },
  "language_info": {
   "codemirror_mode": {
    "name": "ipython",
    "version": 3
   },
   "file_extension": ".py",
   "mimetype": "text/x-python",
   "name": "python",
   "nbconvert_exporter": "python",
   "pygments_lexer": "ipython3",
   "version": "3.7.12"
  }
 },
 "nbformat": 4,
 "nbformat_minor": 5
}
