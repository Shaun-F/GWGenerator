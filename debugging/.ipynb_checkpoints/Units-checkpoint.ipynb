{
 "cells": [
  {
   "cell_type": "code",
   "execution_count": 1,
   "id": "44f033c4",
   "metadata": {},
   "outputs": [],
   "source": [
    "import os, sys, glob, json, scipy as sp\n",
    "import matplotlib.pyplot as plt\n",
    "os.chdir(\"../\")\n",
    "path = os.getcwd()\n",
    "sys.path.insert(0, path)\n",
    "import GWGen\n",
    "from GWGen.WFGenerator import *\n",
    "from GWGen.DressedFluxes.Fluxes import *"
   ]
  },
  {
   "cell_type": "code",
   "execution_count": 2,
   "id": "b3a5b336",
   "metadata": {},
   "outputs": [
    {
     "name": "stdout",
     "output_type": "stream",
     "text": [
      "UltralightBoson instance not provided. Instantiating class...\n",
      "done.\n"
     ]
    }
   ],
   "source": [
    "pc = ProcaSolution(1e6,0.9,1e-17)\n",
    "pn = PN(1e6,1)"
   ]
  },
  {
   "cell_type": "code",
   "execution_count": 23,
   "id": "c4afcb6d",
   "metadata": {},
   "outputs": [
    {
     "name": "stdout",
     "output_type": "stream",
     "text": [
      "\tDimensionful fluxes\n",
      "\n",
      "E:  -1.617097043827651e+36\n",
      "E(proca):  2.6287260438406194e+36\n",
      "L:  -1.2754000352719981e+38\n",
      "L(proca):  1.8139508939042193e+39\n",
      "\n",
      "\tAdimensionalize proca flux\n",
      "\n",
      "E:  -4.456955441200019e-11\n",
      "E(proca):  7.245152595658534e-11\n",
      "L:  -7.13672740036236e-10\n",
      "L(proca):  1.015028437307294e-08\n"
     ]
    }
   ],
   "source": [
    "etest = 0.8\n",
    "ptest = 10\n",
    "M=1e6*unit.M_sun\n",
    "m=1*unit.M_sun\n",
    "\n",
    "print(\"\\tDimensionful fluxes\\n\")\n",
    "print(\"E: \", pn.UndressedEFlux(etest, ptest)*pn.epsilon*(cons.c**5/cons.G).decompose().value)\n",
    "print(r\"E(proca): \",pc.ChangeInOrbitalConstants()[\"E\"](0,etest,ptest))\n",
    "print(\"L: \", pn.UndressedLFlux(etest, ptest)*(pn.epsilon*M*cons.c**2).decompose().value)\n",
    "print(r\"L(proca): \",pc.ChangeInOrbitalConstants()[\"L\"](0,etest,ptest))\n",
    "\n",
    "\n",
    "print(\"\\n\\tAdimensionalize proca flux\\n\")\n",
    "print(\"E: \", pn.UndressedEFlux(etest, ptest))\n",
    "print(\"E(proca): \", pc.ChangeInOrbitalConstants()[\"E\"](0,etest,ptest)*(unit.kg*(unit.m**2/(unit.s**3)))/pn.epsilon * (cons.G/(cons.c**5)).decompose())\n",
    "print(\"L: \", pn.UndressedLFlux(etest, ptest))\n",
    "print(\"L(proca): \", pc.ChangeInOrbitalConstants()[\"L\"](0,etest,ptest)*(unit.kg*(unit.m/unit.s)**2)/(pn.epsilon*M*cons.c**2).decompose())\n"
   ]
  },
  {
   "cell_type": "code",
   "execution_count": 22,
   "id": "2d86210a",
   "metadata": {},
   "outputs": [
    {
     "data": {
      "text/latex": [
       "$7.4261603 \\times 10^{-28} \\; \\mathrm{m}$"
      ],
      "text/plain": [
       "<Quantity 7.42616027e-28 m>"
      ]
     },
     "execution_count": 22,
     "metadata": {},
     "output_type": "execute_result"
    }
   ],
   "source": [
    "unit.kg*cons.G/cons.c**2"
   ]
  },
  {
   "cell_type": "code",
   "execution_count": null,
   "id": "1ed3ff53",
   "metadata": {},
   "outputs": [],
   "source": []
  }
 ],
 "metadata": {
  "kernelspec": {
   "display_name": "Python 3",
   "language": "python",
   "name": "python3"
  },
  "language_info": {
   "codemirror_mode": {
    "name": "ipython",
    "version": 3
   },
   "file_extension": ".py",
   "mimetype": "text/x-python",
   "name": "python",
   "nbconvert_exporter": "python",
   "pygments_lexer": "ipython3",
   "version": "3.7.12"
  }
 },
 "nbformat": 4,
 "nbformat_minor": 5
}
