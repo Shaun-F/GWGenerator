{
 "cells": [
  {
   "cell_type": "code",
   "execution_count": 2,
   "id": "44f033c4",
   "metadata": {},
   "outputs": [],
   "source": [
    "import os, sys, glob, json, scipy as sp\n",
    "import matplotlib.pyplot as plt\n",
    "os.chdir(\"../\")\n",
    "path = os.getcwd()\n",
    "sys.path.insert(0, path)\n",
    "import GWGen\n",
    "from GWGen.WFGenerator import *\n",
    "from GWGen.DressedFluxes.Fluxes import *"
   ]
  },
  {
   "cell_type": "code",
   "execution_count": 17,
   "id": "b3a5b336",
   "metadata": {},
   "outputs": [
    {
     "name": "stdout",
     "output_type": "stream",
     "text": [
      "UltralightBoson instance not provided. Instantiating class...\n",
      "done.\n"
     ]
    }
   ],
   "source": [
    "pc = ProcaSolution(1e6,0.9,1e-17)\n",
    "pn = PN(1e6,1)"
   ]
  },
  {
   "cell_type": "code",
   "execution_count": 54,
   "id": "c4afcb6d",
   "metadata": {},
   "outputs": [
    {
     "name": "stdout",
     "output_type": "stream",
     "text": [
      "\tDimensionful fluxes\n",
      "\n",
      "E:  -5.078593988009977e+36\n",
      "E(proca):  2.3480613041155284e+36\n",
      "L:  -2.66537781549954e+44\n",
      "L(proca):  1.1840299422642016e+39\n",
      "\n",
      "\tAdimensionalize proca flux\n",
      "\n",
      "E:  -1.3997346167258964e-10\n",
      "E(proca):  6.471599614626648e-11\n",
      "L:  -1.4914594920907928e-09\n",
      "L(proca):  3.2633593103523194e-08\n"
     ]
    }
   ],
   "source": [
    "etest = 0.8\n",
    "ptest = 8\n",
    "\n",
    "print(\"\\tDimensionful fluxes\\n\")\n",
    "print(\"E: \", pn.UndressedEFlux(etest, ptest)*pn.epsilon*(cons.c**5/cons.G).decompose().value)\n",
    "print(r\"E(proca): \",pc.ChangeInOrbitalConstants()[\"E\"](0,etest,ptest))\n",
    "print(\"L: \", pn.UndressedLFlux(etest, ptest)*(10**6*unit.M_sun*cons.c**2).decompose().value)\n",
    "print(r\"L(proca): \",pc.ChangeInOrbitalConstants()[\"L\"](0,etest,ptest))\n",
    "\n",
    "\n",
    "print(\"\\n\\tAdimensionalize proca flux\\n\")\n",
    "print(\"E: \", pn.UndressedEFlux(etest, ptest))\n",
    "print(\"E(proca): \", pc.ChangeInOrbitalConstants()[\"E\"](0,etest,ptest)/pn.epsilon * (cons.G/(cons.c**5)).decompose().value)\n",
    "print(\"L: \", pn.UndressedLFlux(etest, ptest))\n",
    "print(\"L(proca): \", pc.ChangeInOrbitalConstants()[\"L\"](0,etest,ptest)/pn.epsilon * (cons.G/(cons.c**5)).decompose().value)\n"
   ]
  },
  {
   "cell_type": "code",
   "execution_count": null,
   "id": "32fb5d39",
   "metadata": {},
   "outputs": [],
   "source": []
  }
 ],
 "metadata": {
  "kernelspec": {
   "display_name": "Python 3",
   "language": "python",
   "name": "python3"
  },
  "language_info": {
   "codemirror_mode": {
    "name": "ipython",
    "version": 3
   },
   "file_extension": ".py",
   "mimetype": "text/x-python",
   "name": "python",
   "nbconvert_exporter": "python",
   "pygments_lexer": "ipython3",
   "version": "3.7.12"
  }
 },
 "nbformat": 4,
 "nbformat_minor": 5
}
