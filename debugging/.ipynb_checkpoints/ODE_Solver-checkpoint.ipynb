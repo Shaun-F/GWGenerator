{
 "cells": [
  {
   "cell_type": "code",
   "execution_count": 14,
   "id": "8ec4440a",
   "metadata": {},
   "outputs": [
    {
     "name": "stdout",
     "output_type": "stream",
     "text": [
      "alpha = 0.25442669409345564\n"
     ]
    }
   ],
   "source": [
    "import scipy as sp\n",
    "import scipy.integrate as spint8\n",
    "import os,sys\n",
    "os.chdir(\"../\")\n",
    "path = os.getcwd()\n",
    "sys.path.insert(0, path)\n",
    "import GWGen; from GWGen import WFGenerator\n",
    "import pyAnalyticFluxes as pyan\n",
    "from GWGen.WFGenerator import *\n",
    "from few.utils.utility import get_separatrix\n",
    "from few.trajectory.inspiral import EMRIInspiral\n",
    "import time\n",
    "import matplotlib.pyplot as plt\n",
    "import matplotlib.colors as mcolors\n",
    "import pyAnalyticFluxes as pyan\n",
    "from few.utils.constants import MTSUN_SI, YRSID_SI, Pi\n",
    "\n",
    "# set initial parameters\n",
    "M = 1e5\n",
    "m = 1e1\n",
    "mu = 3.4e-16\n",
    "a = 0.9\n",
    "p0 = 12.0\n",
    "e0 = 0.2\n",
    "iota0 = 0.0\n",
    "Y0 = np.cos(iota0)\n",
    "Phi_phi0 = 0.\n",
    "Phi_theta0 =0.\n",
    "Phi_r0 = 0.\n",
    "\n",
    "\n",
    "qS = 0.2\n",
    "phiS = 0.8\n",
    "qK = 0.2\n",
    "phiK = 0.8\n",
    "dist = 1.0\n",
    "mich = False\n",
    "dt = 15.0\n",
    "T = 10.0\n",
    "\n",
    "alphaval = alphavalue(M,mu)\n",
    "print(r\"alpha = {0}\".format(alphaval))\n",
    "\n",
    "\n",
    "use_gpu = False\n",
    "\n",
    "# keyword arguments for inspiral generator (RunKerrGenericPn5Inspiral)\n",
    "inspiral_kwargs = {\n",
    "    \"npoints\": 100,  # we want a densely sampled trajectory\n",
    "    \"max_init_len\": int(1e3),  # all of the trajectories will be well under len = 1000\n",
    "}\n",
    "\n",
    "# keyword arguments for summation generator (AAKSummation)\n",
    "sum_kwargs = {\n",
    "    \"use_gpu\": use_gpu,  # GPU is availabel for this type of summation\n",
    "    \"pad_output\": False,\n",
    "}\n",
    "\n",
    "traj = PNTraj()\n",
    "few_traj = EMRIInspiral(func=\"pn5\")"
   ]
  },
  {
   "cell_type": "code",
   "execution_count": null,
   "id": "ffbfbb61",
   "metadata": {
    "scrolled": false
   },
   "outputs": [],
   "source": [
    "traj.dense_output=True\n",
    "traj.separatrix_cutoff = get_separatrix(a,e0,1.)+0.01\n",
    "fig,axes = plt.subplots(6,1,figsize=(40,150))\n",
    "by_hsv = sorted((tuple(mcolors.rgb_to_hsv(mcolors.to_rgb(color))),\n",
    "                         name)\n",
    "                        for name, color in mcolors.CSS4_COLORS.items())\n",
    "cols = [name for hsv, name in by_hsv]\n",
    "eccs = np.arange(0.1,0.3, 0.1)\n",
    "separatrix_list = np.ones_like(eccs)\n",
    "last_times = np.ones_like(eccs)\n",
    "\n",
    "for inx,ec in enumerate(eccs):\n",
    "    ec = int(ec*100)/100\n",
    "    #few\n",
    "    fewres = few_traj(M,m,a,p0,ec,Y0,T=T,**inspiral_kwargs)\n",
    "    axes[2].plot(fewres[0], fewres[1], label=\"few ecc={0}\".format(ec), color=cols[inx], linestyle=\"dashed\")\n",
    "    axes[2].legend(fontsize=50)\n",
    "    axes[3].plot(fewres[0], fewres[2], label=\"few ecc={0}\".format(ec), color=cols[inx], linestyle=\"dashed\")\n",
    "    axes[3].legend(fontsize=50)\n",
    "    \n",
    "    #mine\n",
    "    res = traj(M,m,a,p0,ec,Y0,T=T,npoints=inspiral_kwargs['npoints'])\n",
    "    print(\"exit reason {0}    last p {1}\".format(traj.exit_reason, res[1][-1]))\n",
    "    t,p,e = res[0:3]\n",
    "    separatrix_list[inx] = traj.separatrix_cut\n",
    "    last_times[inx] = t[-1]\n",
    "    axes[0].plot(t,p,label=\"ecc={0}\".format(ec),color=cols[inx])\n",
    "    axes[1].plot(t,e,label=\"ecc={0}\".format(ec))\n",
    "    axes[0].legend(labelcolor=\"Black\")\n",
    "    axes[1].legend(fontsize=50)\n",
    "    \n",
    "    axes[4].plot(fewres[0], fewres[1], label=\" (few) ecc={0}\".format(ec), color=cols[inx], linestyle=\"dashed\")\n",
    "    axes[4].plot(t,p,label=\" (mine) ecc={0}\".format(ec),color=cols[inx])\n",
    "    axes[5].plot(fewres[0], fewres[2], label=\" (few) ecc={0}\".format(ec), color=cols[inx], linestyle=\"dashed\")\n",
    "    axes[5].plot(t,e,label=\" (mine) ecc={0}\".format(ec))\n",
    "    axes[4].legend(fontsize=50)\n",
    "    axes[5].legend(fontsize=50)\n",
    "\n",
    "axes[0].scatter(last_times, separatrix_list)\n",
    "\n"
   ]
  },
  {
   "cell_type": "code",
   "execution_count": null,
   "id": "3714eb6b",
   "metadata": {},
   "outputs": [],
   "source": []
  },
  {
   "cell_type": "code",
   "execution_count": null,
   "id": "12d3da7b",
   "metadata": {},
   "outputs": [],
   "source": []
  },
  {
   "cell_type": "code",
   "execution_count": null,
   "id": "d05f5ce7",
   "metadata": {},
   "outputs": [],
   "source": []
  },
  {
   "cell_type": "code",
   "execution_count": null,
   "id": "1570ad38",
   "metadata": {},
   "outputs": [],
   "source": []
  },
  {
   "cell_type": "code",
   "execution_count": null,
   "id": "a2dfdf55",
   "metadata": {},
   "outputs": [],
   "source": []
  },
  {
   "cell_type": "code",
   "execution_count": null,
   "id": "a8112c91",
   "metadata": {},
   "outputs": [],
   "source": []
  },
  {
   "cell_type": "code",
   "execution_count": null,
   "id": "c635e637",
   "metadata": {},
   "outputs": [],
   "source": []
  },
  {
   "cell_type": "code",
   "execution_count": null,
   "id": "bbcd39ff",
   "metadata": {},
   "outputs": [],
   "source": []
  },
  {
   "cell_type": "code",
   "execution_count": null,
   "id": "69eac346",
   "metadata": {},
   "outputs": [],
   "source": []
  },
  {
   "cell_type": "code",
   "execution_count": null,
   "id": "9e0a3b76",
   "metadata": {},
   "outputs": [],
   "source": []
  },
  {
   "cell_type": "code",
   "execution_count": null,
   "id": "93064314",
   "metadata": {},
   "outputs": [],
   "source": []
  },
  {
   "cell_type": "code",
   "execution_count": null,
   "id": "213e908c",
   "metadata": {},
   "outputs": [],
   "source": []
  },
  {
   "cell_type": "code",
   "execution_count": null,
   "id": "eac51989",
   "metadata": {},
   "outputs": [],
   "source": []
  },
  {
   "cell_type": "code",
   "execution_count": 44,
   "id": "7f6db167",
   "metadata": {},
   "outputs": [
    {
     "name": "stdout",
     "output_type": "stream",
     "text": [
      "0.0894160270690918\n",
      "Separatrix reached!\n"
     ]
    }
   ],
   "source": [
    "e0=0.2\n",
    "p0=14\n",
    "y0=[p0,e0,0,0,0]\n",
    "npoints=50\n",
    "\n",
    "fun = PN(M,m)\n",
    "t_start = 0\n",
    "t_stop = 11* YRSID_SI / (M * MTSUN_SI)\n",
    "t_res = t_stop/npoints\n",
    "t_span = (t_start, t_stop)\n",
    "t_dom = np.arange(t_start, t_stop, t_res)\n",
    "max_step_size = t_span[-1]/npoints\n",
    "init_sep = get_separatrix(0.9,e0,1.)\n",
    "fun.separatrix_cutoff = get_separatrix(a,e0,1.)+0.1\n",
    "\n",
    "class event_holder:\n",
    "    pass\n",
    "holder = event_holder()\n",
    "holder.exit_reason=None\n",
    "\n",
    "def __integration_event_tracker_eccentricity(_, y_vec):\n",
    "    ecc = y_vec[1]\n",
    "    #define a function which is has a zero at e=1, a zero at the smallest negative float, and positive on the range [0,1)\n",
    "    eps = np.finfo(float).eps\n",
    "    x_shift = (1-eps**2)/(2*(eps+1))\n",
    "    y_shift = (eps+x_shift)**2\n",
    "    res = y_shift - (ecc-x_shift)**2\n",
    "    if res<=0:\n",
    "        holder.exit_reason = \"Eccentricity exceeded bounds\"\n",
    "    return res\n",
    "\n",
    "def __integration_event_tracker_semilatus_rectum(_, y_vec):\n",
    "    p = y_vec[0]\n",
    "    res = p-fun.separatrix_cutoff\n",
    "    if res<=0:\n",
    "        holder.exit_reason = \"Separatrix reached!\"\n",
    "    return res\n",
    "\n",
    "def __integration_event_tracker_pFlux(_, y_vec):\n",
    "    Eflux =fun.UndressedpFlux(y_vec[1],y_vec[0])\n",
    "    res = -Eflux\n",
    "    if res<=0:\n",
    "        holder.exit_reason=\"PN p flux larger than zero! Breaking.\"\n",
    "    return res\n",
    "def __integration_event_tracker_eFlux(_, y_vec):\n",
    "    p,e = y_vec[:2]\n",
    "    if e<10**(-10):\n",
    "        Lflux=0\n",
    "    else:\n",
    "        Lflux = fun.UndressedeFlux(e,p)\n",
    "    res = -Lflux\n",
    "    if res<0:\n",
    "        holder.exit_reason=\"PN e flux larger than zero! Breaking.\"\n",
    "    if e==0:\n",
    "        return np.finfo(float).eps\n",
    "    return res\n",
    "\n",
    "__integration_event_tracker_eccentricity.terminal=True\n",
    "__integration_event_tracker_semilatus_rectum.terminal=True\n",
    "__integration_event_tracker_pFlux.terminal=True\n",
    "__integration_event_tracker_eFlux.terminal=True\n",
    "\n",
    "__integration_event_trackers = [__integration_event_tracker_eccentricity,\n",
    "                                                        __integration_event_tracker_semilatus_rectum,\n",
    "                                                        __integration_event_tracker_pFlux]\n",
    "\n",
    "aa=time.time()\n",
    "res=solve_ivp(fun, t_span, y0, method=\"DOP853\", dense_output=True,events = __integration_event_trackers, max_step = max_step_size)\n",
    "print(time.time()-aa)\n",
    "print(holder.exit_reason)\n",
    "\n",
    "t = res[\"t\"]\n",
    "p,e,phiphi,phitheta,phir = res[\"y\"]\n",
    "x=np.ones_like(p)"
   ]
  },
  {
   "cell_type": "code",
   "execution_count": 45,
   "id": "4395ff1b",
   "metadata": {},
   "outputs": [
    {
     "data": {
      "text/plain": [
       "<matplotlib.legend.Legend at 0x7f491fd93b90>"
      ]
     },
     "execution_count": 45,
     "metadata": {},
     "output_type": "execute_result"
    },
    {
     "data": {
      "image/png": "[encoded data removed]",
      "text/plain": [
       "<Figure size 1152x576 with 1 Axes>"
      ]
     },
     "metadata": {
      "needs_background": "light"
     },
     "output_type": "display_data"
    }
   ],
   "source": [
    "t = res[\"t\"]\n",
    "scaling_function = lambda x:sp.special.erf(x-npoints/2)\n",
    "start_index = 0\n",
    "stop_index = npoints-1\n",
    "y_start = t[0]\n",
    "y_stop = t[-1]\n",
    "gradient = (y_stop - y_start)/(scaling_function(stop_index) - scaling_function(start_index))\n",
    "shift = (y_start*scaling_function(stop_index) - y_stop*scaling_function(start_index))/(scaling_function(stop_index) - scaling_function(start_index))\n",
    "new_time_domain = gradient*scaling_function(np.arange(npoints)) + shift\n",
    "\n",
    "f = plt.figure(figsize=(16,8))\n",
    "#plt.scatter(t,p, color=\"brown\", label=\"Original Data\")\n",
    "plt.scatter(t[-1], fun.separatrix_cutoff, color=\"red\", label=\"original data\")\n",
    "\n",
    "interp = res[\"sol\"]\n",
    "newdata = interp(new_time_domain)\n",
    "plt.scatter(new_time_domain, newdata[0], color=\"blue\", label=\"interpolated data\",s=2)\n",
    "plt.legend()"
   ]
  },
  {
   "cell_type": "code",
   "execution_count": 46,
   "id": "884c5ac7",
   "metadata": {},
   "outputs": [
    {
     "data": {
      "text/plain": [
       "[<matplotlib.lines.Line2D at 0x7f491fc422d0>]"
      ]
     },
     "execution_count": 46,
     "metadata": {},
     "output_type": "execute_result"
    },
    {
     "data": {
      "image/png": "[encoded data removed]",
      "text/plain": [
       "<Figure size 432x288 with 1 Axes>"
      ]
     },
     "metadata": {
      "needs_background": "light"
     },
     "output_type": "display_data"
    }
   ],
   "source": [
    "plt.plot(t)\n",
    "scaling_function = lambda x:sp.special.erf(x-npoints/2)\n",
    "start_index = 0\n",
    "stop_index = npoints-1\n",
    "y_start = t[0]\n",
    "y_stop = t[-1]\n",
    "gradient = (y_stop - y_start)/(scaling_function(stop_index) - scaling_function(start_index))\n",
    "shift = (y_start*scaling_function(stop_index) - y_stop*scaling_function(start_index))/(scaling_function(stop_index) - scaling_function(start_index))\n",
    "new_time_domain = gradient*scaling_function(np.arange(npoints)) + shift\n",
    "plt.plot(new_time_domain)"
   ]
  },
  {
   "cell_type": "code",
   "execution_count": 57,
   "id": "52947731",
   "metadata": {},
   "outputs": [
    {
     "data": {
      "text/plain": [
       "<matplotlib.collections.PathCollection at 0x7f491fb29290>"
      ]
     },
     "execution_count": 57,
     "metadata": {},
     "output_type": "execute_result"
    },
    {
     "data": {
      "image/png": "[encoded data removed]",
      "text/plain": [
       "<Figure size 432x288 with 1 Axes>"
      ]
     },
     "metadata": {
      "needs_background": "light"
     },
     "output_type": "display_data"
    }
   ],
   "source": [
    "plt.scatter(range(len(t)),t)\n",
    "tavg = 0.5*(t[1:] + t[:-1])\n",
    "plt.scatter(range(len(tavg)), tavg)"
   ]
  },
  {
   "cell_type": "code",
   "execution_count": 233,
   "id": "f920c2a5",
   "metadata": {},
   "outputs": [
    {
     "data": {
      "text/plain": [
       "[1, 2.0, 3.0, 4.0, 5.0]"
      ]
     },
     "execution_count": 233,
     "metadata": {},
     "output_type": "execute_result"
    }
   ],
   "source": [
    "npoints = 5\n",
    "testarr = [1,2,3,4,5]\n",
    "newarr = [testarr[0]]\n",
    "remainder = npoints%len(testarr)\n",
    "for inx, i in enumerate(testarr):\n",
    "    if inx<len(testarr)-1:\n",
    "        newintermediatepoints = int(floor(npoints/len(testarr)))+1\n",
    "        new_array_section = np.linspace(testarr[inx], testarr[inx+1],newintermediatepoints)[1:]\n",
    "        [newarr.append(i) for i in new_array_section]\n",
    "remainderpoints = npoints-len(newarr)\n",
    "array_ending_section = newarr[-remainderpoints-1:]\n",
    "new_array_ending_section = np.linspace(array_ending_section[0], array_ending_section[-1], len(array_ending_section)+remainderpoints)\n",
    "newarr = newarr[:-remainderpoints-1]\n",
    "_=[newarr.append(i) for i in new_array_ending_section]\n",
    "newarr"
   ]
  },
  {
   "cell_type": "code",
   "execution_count": 234,
   "id": "9f0d46d2",
   "metadata": {},
   "outputs": [],
   "source": [
    "def IncreaseArrayDensity(arr, npoints):\n",
    "    assert len(arr)<=npoints, \"Error: npoints must be larger than length of input array\"\n",
    "    newarr = [arr[0]]\n",
    "    remainder = npoints%len(arr)\n",
    "    for inx, i in enumerate(arr):\n",
    "        if inx<len(arr)-1:\n",
    "            newintermediatepoints = int(floor(npoints/len(arr)))+1\n",
    "            new_array_section = np.linspace(arr[inx], arr[inx+1], newintermediatepoints)[1:]\n",
    "            _=[newarr.append(i) for i in new_array_section]\n",
    "    remainderpoints = npoints-len(newarr)\n",
    "    array_ending_section = newarr[-remainderpoints-1:]\n",
    "    new_array_ending_section = np.linspace(array_ending_section[0], array_ending_section[-1], len(array_ending_section)+remainderpoints)\n",
    "    newarr = newarr[:-remainderpoints-1]\n",
    "    _=[newarr.append(i) for i in new_array_ending_section]\n",
    "    return newarr"
   ]
  },
  {
   "cell_type": "code",
   "execution_count": 254,
   "id": "cdfcb6aa",
   "metadata": {},
   "outputs": [
    {
     "data": {
      "text/plain": [
       "[1, 2.0, 3.0, 4.0]"
      ]
     },
     "execution_count": 254,
     "metadata": {},
     "output_type": "execute_result"
    }
   ],
   "source": [
    "IncreaseArrayDensity([1,2,4], 4)"
   ]
  },
  {
   "cell_type": "code",
   "execution_count": 249,
   "id": "b2b82e57",
   "metadata": {},
   "outputs": [
    {
     "data": {
      "text/plain": [
       "True"
      ]
     },
     "execution_count": 249,
     "metadata": {},
     "output_type": "execute_result"
    }
   ],
   "source": [
    "np.all([i==len(IncreaseArrayDensity([1,2,3,5,9], i)) for i in range(6,100)])"
   ]
  },
  {
   "cell_type": "code",
   "execution_count": 10,
   "id": "80f09740",
   "metadata": {},
   "outputs": [],
   "source": [
    "M = 1e5\n",
    "m = 1e1\n",
    "a = 0.9\n",
    "p0 = 10.0\n",
    "e0 = 0.3\n",
    "iota0 = 0.0\n",
    "Y0 = np.cos(iota0)\n",
    "Phi_phi0 = 0.\n",
    "Phi_theta0 =0.\n",
    "Phi_r0 = 0.\n",
    "\n",
    "\n",
    "qS = 0.2\n",
    "phiS = 0.2\n",
    "qK = 0.8\n",
    "phiK = 0.8\n",
    "dist = 1.0\n",
    "mich = False\n",
    "dt = 15.0\n",
    "T = 2\n",
    "\n",
    "inspiralkwargs = {\n",
    "    \"max_init_len\": int(1e3),  # all of the trajectories will be well under len = 1000\n",
    "    \"npoints\":100,\n",
    "    \"dense_output\":True\n",
    "}\n",
    "\n",
    "# keyword arguments for summation generator (AAKSummation)\n",
    "sumkwargs = {\n",
    "    \"use_gpu\": use_gpu,  # GPU is availabel for this type of summation\n",
    "    \"pad_output\": False,\n",
    "}\n",
    "\n",
    "MYwfgen = EMRIWaveform(inspiral_kwargs=inspiralkwargs.copy(), sum_kwargs=sumkwargs.copy(), use_gpu=use_gpu)"
   ]
  },
  {
   "cell_type": "code",
   "execution_count": 13,
   "id": "0bda60a5",
   "metadata": {},
   "outputs": [
    {
     "data": {
      "text/plain": [
       "[<matplotlib.lines.Line2D at 0x7f4925271f90>]"
      ]
     },
     "execution_count": 13,
     "metadata": {},
     "output_type": "execute_result"
    },
    {
     "data": {
      "image/png": "[encoded data removed]",
      "text/plain": [
       "<Figure size 432x288 with 1 Axes>"
      ]
     },
     "metadata": {
      "needs_background": "light"
     },
     "output_type": "display_data"
    }
   ],
   "source": [
    "wv = MYwfgen(M,m,a,p0,e0,1.,qS,phiS,qK,phiK,dist,T=5)\n",
    "plt.plot(wv.real)"
   ]
  },
  {
   "cell_type": "code",
   "execution_count": 12,
   "id": "77b31841",
   "metadata": {},
   "outputs": [
    {
     "data": {
      "text/plain": [
       "[<matplotlib.lines.Line2D at 0x7f492558c690>]"
      ]
     },
     "execution_count": 12,
     "metadata": {},
     "output_type": "execute_result"
    },
    {
     "data": {
      "image/png": "[encoded data removed]",
      "text/plain": [
       "<Figure size 432x288 with 1 Axes>"
      ]
     },
     "metadata": {
      "needs_background": "light"
     },
     "output_type": "display_data"
    }
   ],
   "source": [
    "#Inverse time\n",
    "plt.semilogx(MYwfgen.Trajectory[\"t\"][::-1], MYwfgen.Trajectory[\"p\"])"
   ]
  },
  {
   "cell_type": "code",
   "execution_count": null,
   "id": "b7fe3954",
   "metadata": {},
   "outputs": [],
   "source": []
  }
 ],
 "metadata": {
  "kernelspec": {
   "display_name": "Python 3",
   "language": "python",
   "name": "python3"
  },
  "language_info": {
   "codemirror_mode": {
    "name": "ipython",
    "version": 3
   },
   "file_extension": ".py",
   "mimetype": "text/x-python",
   "name": "python",
   "nbconvert_exporter": "python",
   "pygments_lexer": "ipython3",
   "version": "3.7.12"
  }
 },
 "nbformat": 4,
 "nbformat_minor": 5
}
