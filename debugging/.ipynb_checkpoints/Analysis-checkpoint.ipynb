{
 "cells": [
  {
   "cell_type": "code",
   "execution_count": null,
   "id": "7ed5b604",
   "metadata": {},
   "outputs": [],
   "source": [
    "import os, sys, glob, json, scipy as sp\n",
    "import pandas as pd\n",
    "import matplotlib.pyplot as plt\n",
    "os.chdir(\"../\")\n",
    "path = os.getcwd()\n",
    "sys.path.insert(0, path)\n",
    "import GWGen\n",
    "from GWGen.WFGenerator import *"
   ]
  },
  {
   "cell_type": "code",
   "execution_count": null,
   "id": "51360c17",
   "metadata": {},
   "outputs": [],
   "source": [
    "gwdir =  \"/home/shaunf/Documents/Computer/Code/projects/Massive_Vector_Field_Dynamical_Friction/ProcaAroundKerr/GWGenerator\"\n",
    "foldpath = gwdir+\"/Data/Output/\"\n",
    "filenames = glob.glob(foldpath+\"*.json\")\n",
    "data = []\n",
    "for file in filenames:\n",
    "    with open(file, \"r\") as f:\n",
    "        data.append(json.load(f))\n",
    "data[-1]\n",
    "datframe = pd.DataFrame(data)\n",
    "datframe"
   ]
  },
  {
   "cell_type": "code",
   "execution_count": null,
   "id": "f5a90d05",
   "metadata": {},
   "outputs": [],
   "source": [
    "xdat = datframe[\"SMBHMASS\"]\n",
    "ydat = datframe[\"PROCAMASS\"]\n",
    "zdat = datframe[\"faithfulness\"]\n",
    "fig = plt.figure(figsize=(16,8))\n",
    "ax = fig.add_subplot(projection='3d')\n",
    "ax.scatter(np.log10(xdat), np.log10(ydat), zdat,s=3)\n",
    "ax.set_ylabel(\"Proca Masses (Log10(eV))\")\n",
    "ax.set_xlabel(\"SMBH Masses (Log10(Msun))\")\n",
    "ax.view_init(15,45)"
   ]
  },
  {
   "cell_type": "code",
   "execution_count": null,
   "id": "1168c33b",
   "metadata": {},
   "outputs": [],
   "source": [
    "tmpdat = datframe[(datframe[\"e0\"]==0.1)&(datframe[\"BHSpin\"]==0.8)]\n",
    "xdat = tmpdat[\"SMBHMASS\"]\n",
    "ydat = tmpdat[\"PROCAMASS\"]\n",
    "zdat = tmpdat[\"faithfulness\"]\n",
    "fig = plt.figure(figsize=(16,8))\n",
    "ax = fig.add_subplot(projection='3d')\n",
    "ax.scatter(np.log10(xdat), np.log10(ydat), zdat,s=3)\n",
    "ax.set_ylabel(\"Proca Masses (Log10(eV))\")\n",
    "ax.set_xlabel(\"SMBH Masses (Log10(Msun))\")\n",
    "ax.view_init(15,60)"
   ]
  },
  {
   "cell_type": "code",
   "execution_count": null,
   "id": "6da6d0d5",
   "metadata": {},
   "outputs": [],
   "source": [
    "bhmass1 = 1e7\n",
    "bhmass2 = 1e6\n",
    "bhmass3 = 1e5\n",
    "e0 = 0.2\n",
    "bhspin = 0.9\n",
    "newdat1 = datframe[(datframe[\"SMBHMASS\"]==bhmass1)&(datframe[\"e0\"]==e0)&(datframe[\"BHSpin\"]==bhspin)].sort_values(\"PROCAMASS\")\n",
    "newdat2 = datframe[(datframe[\"SMBHMASS\"]==bhmass2)&(datframe[\"e0\"]==e0)&(datframe[\"BHSpin\"]==bhspin)].sort_values(\"PROCAMASS\")\n",
    "newdat3 = datframe[(datframe[\"SMBHMASS\"]==bhmass3)&(datframe[\"e0\"]==e0)&(datframe[\"BHSpin\"]==bhspin)].sort_values(\"PROCAMASS\")\n",
    "newdat1 = newdat1.sort_values(\"PROCAMASS\")\n",
    "newdat2 = newdat2.sort_values(\"PROCAMASS\")\n",
    "newdat3 = newdat3.sort_values(\"PROCAMASS\")\n",
    "\n",
    "xdat1 = newdat1[\"PROCAMASS\"].values\n",
    "wdat1 = np.abs(newdat1[\"DeltaNOrbits\"]).values\n",
    "zdat1 = newdat1[\"faithfulness\"].values\n",
    "xdat2 = newdat2[\"PROCAMASS\"].values\n",
    "wdat2 = np.abs(newdat2[\"DeltaNOrbits\"]).values\n",
    "zdat2 = newdat2[\"faithfulness\"].values\n",
    "xdat3 = newdat3[\"PROCAMASS\"].values\n",
    "wdat3 = np.abs(newdat3[\"DeltaNOrbits\"]).values\n",
    "zdat3 = newdat3[\"faithfulness\"].values\n",
    "\n",
    "\n",
    "fig,ax = plt.subplots(1,2,figsize=(14,4))\n",
    "#plt.subplots_adjust(hspace=0.5)\n",
    "ax[0].plot(xdat1,wdat1,label=\"$M=10^7 M_{\\odot}$\",color='0.1');\n",
    "inx =22\n",
    "xarr = np.delete(xdat2[:-1],inx)\n",
    "yarr = np.delete(wdat2[:-1],inx)\n",
    "ax[0].plot(xarr, yarr,label=\"$M=10^6 M_{\\odot}$\",color='0.4')\n",
    "#ax[0].plot(np.append(xdat2[:18],xdat2[20]), np.append(wdat2[:18],wdat2[20]),label=\"$M=10^6 M_{\\odot}$\",color='0.4')\n",
    "inx1=15\n",
    "inx2=inx1+5\n",
    "xarr = np.delete(np.append(xdat3[:inx1], xdat3[inx2:]),[-2,-3])\n",
    "yarr = np.delete(np.append(wdat3[:inx1], wdat3[inx2:]),[-2,-3])\n",
    "ax[0].plot(xarr, yarr,label=\"$M=10^5 M_{\\odot}$\",color='0.6')\n",
    "\n",
    "ax[0].legend()\n",
    "ax[0].set_yscale(\"log\");\n",
    "ax[0].set_xscale(\"log\")\n",
    "ax[0].set_ylabel(\"$\\Delta N_{orbits}$\")\n",
    "ax[0].set_xlabel(\"$\\mu$ (eV)\")\n",
    "\n",
    "\n",
    "ax[1].plot(xdat1,zdat1,label=\"$M=10^7 M_{\\odot}$\",color='0.1');\n",
    "inx1=12\n",
    "inx2=inx1+2\n",
    "xarr = np.delete(xdat2,-17)\n",
    "yarr = np.delete(zdat2,-17)\n",
    "ax[1].plot(xarr, yarr,label=\"$M=10^6 M_{\\odot}$\",color='0.4')\n",
    "ax[1].plot(xdat3, zdat3, label=\"$M=10^5 M_{\\odot}$\",color=\"0.6\")\n",
    "ax[1].legend()\n",
    "ax[1].set_xscale(\"log\")\n",
    "ax[1].set_ylabel(\"F\")\n",
    "ax[1].set_xlabel(\"$\\mu$ (eV)\")\n",
    "ax[1].set_ylabel;\n",
    "\n",
    "\n",
    "plt.savefig(gwdir+\"/Data/AnalysisPlots/faith_Norbits_masses.png\", dpi=1000, format=\"png\",bbox_inches=\"tight\")"
   ]
  },
  {
   "cell_type": "code",
   "execution_count": null,
   "id": "92896a8f",
   "metadata": {},
   "outputs": [],
   "source": [
    "fig,ax = plt.subplots(1,1,figsize=(7,4))\n",
    "#plt.subplots_adjust(hspace=0.5)\n",
    "#ax.plot(xdat1,wdat1,label=\"$M=10^7 M_{\\odot}$\",color='0.1');\n",
    "inx =-17\n",
    "xarr = np.delete(xdat2,inx)\n",
    "yarr = np.delete(zdat2,inx)\n",
    "ax.plot(xarr, yarr,label=\"$M=10^5 M_{\\odot}$\",color='0.4')\n",
    "#ax[0].plot(np.append(xdat2[:18],xdat2[20]), np.append(wdat2[:18],wdat2[20]),label=\"$M=10^6 M_{\\odot}$\",color='0.4')\n",
    "inx1=17\n",
    "inx2=inx1+3\n",
    "#ax.plot(np.append(xdat3[:inx1], xdat3[inx2:]), np.append(wdat3[:inx1], wdat3[inx2:]),label=\"$M=10^5 M_{\\odot}$\",color='0.6')\n",
    "ax.legend()\n",
    "ax.set_xscale(\"log\")\n",
    "ax.set_ylabel(\"$\\Delta N_{orbits}/N_{orbits,vacuum}$\")\n",
    "ax.set_xlabel(\"$\\mu$ (eV)\")"
   ]
  },
  {
   "cell_type": "code",
   "execution_count": null,
   "id": "569e480b",
   "metadata": {},
   "outputs": [],
   "source": [
    "alpha1 = [alphavalue(bhmass1, i).value for i in xdat1]\n",
    "alpha2 = [alphavalue(bhmass2, i).value for i in xdat2]\n",
    "alpha3 = [alphavalue(bhmass3, i).value for i in xdat3]\n",
    "plt.plot(alpha1, zdat1,label=\"M=\"+str(bhmass1)+\"$M_{\\odot}$\")\n",
    "plt.plot(alpha2, zdat2,label=\"M=\"+str(bhmass2)+\"$M_{\\odot}$\")\n",
    "plt.plot(alpha3, zdat3,label=\"M=\"+str(bhmass3)+\"$M_{\\odot}$\")\n",
    "plt.legend()"
   ]
  },
  {
   "cell_type": "code",
   "execution_count": null,
   "id": "d41b09c0",
   "metadata": {},
   "outputs": [],
   "source": []
  }
 ],
 "metadata": {
  "kernelspec": {
   "display_name": "Python 3",
   "language": "python",
   "name": "python3"
  },
  "language_info": {
   "codemirror_mode": {
    "name": "ipython",
    "version": 3
   },
   "file_extension": ".py",
   "mimetype": "text/x-python",
   "name": "python",
   "nbconvert_exporter": "python",
   "pygments_lexer": "ipython3",
   "version": "3.7.12"
  }
 },
 "nbformat": 4,
 "nbformat_minor": 5
}
