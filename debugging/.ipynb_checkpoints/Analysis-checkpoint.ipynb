{
 "cells": [
  {
   "cell_type": "code",
   "execution_count": null,
   "id": "7ed5b604",
   "metadata": {},
   "outputs": [],
   "source": [
    "import os, sys, glob, json, scipy as sp\n",
    "import pandas as pd\n",
    "import matplotlib.pyplot as plt\n",
    "os.chdir(\"../\")\n",
    "path = os.getcwd()\n",
    "sys.path.insert(0, path)\n",
    "import GWGen\n",
    "from GWGen.WFGenerator import *"
   ]
  },
  {
   "cell_type": "code",
   "execution_count": null,
   "id": "51360c17",
   "metadata": {},
   "outputs": [],
   "source": [
    "foldpath = os.getcwd()+\"/Data/Output/\"\n",
    "filenames = glob.glob(foldpath+\"*.json\")\n",
    "data = []\n",
    "for file in filenames:\n",
    "    with open(file, \"r\") as f:\n",
    "        data.append(json.load(f))\n",
    "data[-1]\n",
    "datframe = pd.DataFrame(data)\n",
    "datframe"
   ]
  },
  {
   "cell_type": "code",
   "execution_count": null,
   "id": "17f5ef6d",
   "metadata": {},
   "outputs": [],
   "source": [
    "xdat = datframe[\"SMBHMASS\"]\n",
    "ydat = datframe[\"PROCAMASS\"]\n",
    "zdat = datframe[\"faithfulness\"]"
   ]
  },
  {
   "cell_type": "code",
   "execution_count": null,
   "id": "f5a90d05",
   "metadata": {},
   "outputs": [],
   "source": [
    "fig = plt.figure(figsize=(16,8))\n",
    "ax = fig.add_subplot(projection='3d')\n",
    "ax.scatter(np.log10(xdat), np.log10(ydat), zdat,s=3)\n",
    "ax.set_ylabel(\"Proca Masses (Log10(eV))\")\n",
    "ax.set_xlabel(\"SMBH Masses (Log10(Msun))\")\n",
    "ax.view_init(15,5)"
   ]
  },
  {
   "cell_type": "code",
   "execution_count": null,
   "id": "1168c33b",
   "metadata": {},
   "outputs": [],
   "source": [
    "print(datframe[\"BHSpin\"].unique())\n",
    "print(datframe[\"e0\"].unique())\n",
    "datframe[\"SMBHMASS\"].unique()"
   ]
  },
  {
   "cell_type": "code",
   "execution_count": null,
   "id": "6da6d0d5",
   "metadata": {},
   "outputs": [],
   "source": [
    "bhmass = 1000000\n",
    "e0 = 0.7\n",
    "bhspin = 0.9\n",
    "newdat = datframe[(datframe[\"SMBHMASS\"]==bhmass)&(datframe[\"e0\"]==e0)&(datframe[\"BHSpin\"]==bhspin)]\n",
    "xdat = newdat[\"PROCAMASS\"]\n",
    "ydat = (newdat[\"snr2\"])**(1/2)\n",
    "zdat = newdat[\"faithfulness\"]\n",
    "plt.scatter(xdat,zdat)"
   ]
  },
  {
   "cell_type": "code",
   "execution_count": null,
   "id": "c2eeb3fa",
   "metadata": {},
   "outputs": [],
   "source": []
  },
  {
   "cell_type": "code",
   "execution_count": null,
   "id": "2a44edec",
   "metadata": {},
   "outputs": [],
   "source": []
  },
  {
   "cell_type": "code",
   "execution_count": null,
   "id": "2ce9ae19",
   "metadata": {},
   "outputs": [],
   "source": []
  },
  {
   "cell_type": "code",
   "execution_count": null,
   "id": "3ccfe856",
   "metadata": {},
   "outputs": [],
   "source": []
  },
  {
   "cell_type": "code",
   "execution_count": null,
   "id": "761426cf",
   "metadata": {},
   "outputs": [],
   "source": []
  },
  {
   "cell_type": "code",
   "execution_count": null,
   "id": "f4d477d9",
   "metadata": {},
   "outputs": [],
   "source": []
  },
  {
   "cell_type": "code",
   "execution_count": null,
   "id": "8da01aba",
   "metadata": {},
   "outputs": [],
   "source": []
  }
 ],
 "metadata": {
  "kernelspec": {
   "display_name": "Python 3",
   "language": "python",
   "name": "python3"
  },
  "language_info": {
   "codemirror_mode": {
    "name": "ipython",
    "version": 3
   },
   "file_extension": ".py",
   "mimetype": "text/x-python",
   "name": "python",
   "nbconvert_exporter": "python",
   "pygments_lexer": "ipython3",
   "version": "3.7.12"
  }
 },
 "nbformat": 4,
 "nbformat_minor": 5
}
