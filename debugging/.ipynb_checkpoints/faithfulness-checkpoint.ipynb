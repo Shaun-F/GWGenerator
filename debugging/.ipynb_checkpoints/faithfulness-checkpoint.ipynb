{
 "cells": [
  {
   "cell_type": "code",
   "execution_count": 1,
   "id": "7ca56ab5",
   "metadata": {},
   "outputs": [
    {
     "name": "stdout",
     "output_type": "stream",
     "text": [
      "alpha = 0.06734824255415002\n",
      "initial p = 8\n"
     ]
    }
   ],
   "source": [
    "import GWGen\n",
    "from GWGen.Utils import *\n",
    "from GWGen.WFGenerator import *\n",
    "import matplotlib.pyplot as plt\n",
    "\n",
    "\n",
    "\n",
    "# set initial parameters\n",
    "M = 900000\n",
    "m = 1e1\n",
    "mu = 1e-17\n",
    "e0 = 0.7\n",
    "p0 = 8#GetInitialP(M,e0)\n",
    "Phi_phi0 = 0.\n",
    "Phi_theta0 =0.\n",
    "Phi_r0 = 0.\n",
    "\n",
    "\n",
    "a=0.6 #SMBH Spin\n",
    "Y0=1. #Initial Inclincation\n",
    "qS=np.pi/4 #Sky Location Polar Angle in solar system barycenter coordinate system\n",
    "phiS=0. #Sky Location Azimuthal Angle in solar system barycenter coordinate system\n",
    "qK=1e-6 #Initial BH Spin Polar Angle in solar system barycenter coordinate system\n",
    "phiK=0. #Initial BH Spin Azimuthal Angle in solar system barycenter coordinate system\n",
    "dist=1. #Distance to source (Mpc)\n",
    "mich=False #assume LISA long baseline response approximation\n",
    "\n",
    "T=1 #LISA data run is 5 years. We set the max time to be longer because the proca cloud extends the inspiral time\n",
    "dt=15 #time resolution in seconds\n",
    "\n",
    "alphaval = alphavalue(M,mu)\n",
    "print(r\"alpha = {0}\".format(alphaval))\n",
    "print(\"initial p = {0}\".format(p0))\n",
    "\n",
    "\n",
    "use_gpu = False\n",
    "\n",
    "# keyword arguments for inspiral generator (RunKerrGenericPn5Inspiral)\n",
    "insp_kwargs = {\n",
    "    \"npoints\": 110,  # we want a densely sampled trajectory\n",
    "    \"max_init_len\": int(1e3),  # all of the trajectories will be well under len = 1000\n",
    "    \"dense_output\":True\n",
    "}\n",
    "\n",
    "# keyword arguments for summation generator (AAKSummation)\n",
    "sum_kwargs = {\n",
    "    \"use_gpu\": use_gpu,  # GPU is availabel for this type of summation\n",
    "    \"pad_output\": False,\n",
    "}\n",
    "\n",
    "WithoutProcaInspiralKwargs = insp_kwargs.copy()\n",
    "WithoutProcaSumKwargs=sum_kwargs.copy()\n",
    "withoutprocagen = EMRIWaveform(inspiral_kwargs=WithoutProcaInspiralKwargs, sum_kwargs=WithoutProcaSumKwargs, use_gpu=False)"
   ]
  },
  {
   "cell_type": "code",
   "execution_count": 56,
   "id": "b5877b29",
   "metadata": {},
   "outputs": [
    {
     "name": "stderr",
     "output_type": "stream",
     "text": [
      "/mnt/Data_Volume/Computer_Programs/Anaconda/envs/few_env/lib/python3.7/site-packages/few/summation/aakwave.py:228: UserWarning: Inclination trajectory includes values within 1e-6 of the poles. We shift these values automatically away from poles by 1e-6.\n",
      "  \"Inclination trajectory includes values within 1e-6 of the poles. We shift these values automatically away from poles by 1e-6.\"\n"
     ]
    }
   ],
   "source": [
    "wv1 = withoutprocagen(M, m, a, p0, 0.7, Y0, qS, phiS, qK, phiK, dist,Phi_phi0=Phi_phi0, Phi_theta0=Phi_theta0, Phi_r0=Phi_r0, mich=mich, dt=dt, T=T)\n",
    "wv2 = withoutprocagen(M, m, a, p0, 0.71, Y0, qS, phiS, qK, phiK, dist,Phi_phi0=Phi_phi0, Phi_theta0=Phi_theta0, Phi_r0=Phi_r0, mich=mich, dt=dt, T=T)\n",
    "td = np.arange(len(wv2))*dt"
   ]
  },
  {
   "cell_type": "code",
   "execution_count": 57,
   "id": "fdf65b54",
   "metadata": {},
   "outputs": [
    {
     "ename": "NameError",
     "evalue": "name 'withoutproca1' is not defined",
     "output_type": "error",
     "traceback": [
      "\u001b[0;31m---------------------------------------------------------------------------\u001b[0m",
      "\u001b[0;31mNameError\u001b[0m                                 Traceback (most recent call last)",
      "\u001b[0;32m/tmp/ipykernel_17855/3873767597.py\u001b[0m in \u001b[0;36m<module>\u001b[0;34m\u001b[0m\n\u001b[0;32m----> 1\u001b[0;31m \u001b[0mWaveformInnerProduct\u001b[0m\u001b[0;34m(\u001b[0m\u001b[0mtd\u001b[0m\u001b[0;34m,\u001b[0m \u001b[0mwithoutproca1\u001b[0m\u001b[0;34m,\u001b[0m\u001b[0mwithoutproca2\u001b[0m\u001b[0;34m)\u001b[0m\u001b[0;34m\u001b[0m\u001b[0;34m\u001b[0m\u001b[0m\n\u001b[0m",
      "\u001b[0;31mNameError\u001b[0m: name 'withoutproca1' is not defined"
     ]
    }
   ],
   "source": [
    "WaveformInnerProduct(td, wv1,wv2)"
   ]
  },
  {
   "cell_type": "code",
   "execution_count": 60,
   "id": "4449213f",
   "metadata": {},
   "outputs": [
    {
     "name": "stdout",
     "output_type": "stream",
     "text": [
      "[ 0.7169321   0.31595714 -0.66648167 ... -0.13528116 -0.60229388\n",
      " -0.06824098]\n",
      "0.15015383595727083\n"
     ]
    }
   ],
   "source": [
    "wv1f = np.fft.fft(wv1)\n",
    "wv2f = np.fft.fft(wv2)\n",
    "fd = np.fft.fftfreq(len(td),d=float(td[1]-td[0]))\n",
    "fdlen = int(len(fd)/2-1)+2\n",
    "fd = fd[1:fdlen]\n",
    "wv1f = wv1f[1:fdlen]\n",
    "wv2f = wv2f[1:fdlen]\n",
    "wv2fstar = np.conjugate(wv2f)\n",
    "psd = LisaSensitivity(fd)\n",
    "integrand = wv1f*wv2fstar/psd\n",
    "\n",
    "\n",
    "intfft = 4*np.real(np.fft.ifft(integrand))/(2*np.pi)\n",
    "integral = 4*sp.integrate.simpson(integrand.real,x=fd)\n",
    "\n",
    "print(intfft)\n",
    "print(integral)"
   ]
  },
  {
   "cell_type": "code",
   "execution_count": 2,
   "id": "5e0fec53",
   "metadata": {},
   "outputs": [],
   "source": [
    "td = np.arange(0,10,0.01)\n",
    "w1 = 10\n",
    "T1=5\n",
    "w2 = 0.5\n",
    "T2=0.5\n",
    "fun = lambda x,w,T: np.exp(-w*x**2)*np.exp(-1j*T*x**2)\n",
    "h1 = fun(td,w1,T1)\n",
    "h2 = fun(td,w2,T2)\n",
    "h1f = np.fft.fft(h1)\n",
    "h2fs = np.conjugate(np.fft.fft(h2))\n",
    "freqs = np.fft.fftfreq(len(td))"
   ]
  },
  {
   "cell_type": "code",
   "execution_count": 3,
   "id": "8fc29921",
   "metadata": {},
   "outputs": [
    {
     "data": {
      "text/plain": [
       "[<matplotlib.lines.Line2D at 0x7fc63e460ad0>]"
      ]
     },
     "execution_count": 3,
     "metadata": {},
     "output_type": "execute_result"
    },
    {
     "data": {
      "image/png": "[encoded data removed]",
      "text/plain": [
       "<Figure size 640x480 with 1 Axes>"
      ]
     },
     "metadata": {},
     "output_type": "display_data"
    }
   ],
   "source": [
    "plt.plot(freqs,np.abs(h2fs))\n",
    "plt.plot(freqs,np.abs(h1f))"
   ]
  },
  {
   "cell_type": "code",
   "execution_count": 52,
   "id": "80e19db5",
   "metadata": {},
   "outputs": [
    {
     "name": "stdout",
     "output_type": "stream",
     "text": [
      "22.89927023284276\n",
      "26.18509715274479\n"
     ]
    }
   ],
   "source": [
    "print(np.real(np.trapz(h1f*h2fs, x=freqs)))\n",
    "print(np.fft.ifft(h1f*h2fs).real[0])"
   ]
  },
  {
   "cell_type": "code",
   "execution_count": 53,
   "id": "d8a12533",
   "metadata": {},
   "outputs": [
    {
     "data": {
      "text/plain": [
       "0.3989422804014327"
      ]
     },
     "execution_count": 53,
     "metadata": {},
     "output_type": "execute_result"
    }
   ],
   "source": [
    "1/np.sqrt(2*np.pi)"
   ]
  },
  {
   "cell_type": "code",
   "execution_count": null,
   "id": "4e938c5e",
   "metadata": {},
   "outputs": [],
   "source": []
  }
 ],
 "metadata": {
  "kernelspec": {
   "display_name": "Python 3",
   "language": "python",
   "name": "python3"
  },
  "language_info": {
   "codemirror_mode": {
    "name": "ipython",
    "version": 3
   },
   "file_extension": ".py",
   "mimetype": "text/x-python",
   "name": "python",
   "nbconvert_exporter": "python",
   "pygments_lexer": "ipython3",
   "version": "3.7.12"
  }
 },
 "nbformat": 4,
 "nbformat_minor": 5
}
