{
 "cells": [
  {
   "cell_type": "code",
   "execution_count": null,
   "id": "7ca56ab5",
   "metadata": {},
   "outputs": [],
   "source": [
    "import GWGen\n",
    "from GWGen.Utils import *\n",
    "from GWGen.WFGenerator import *\n",
    "import matplotlib.pyplot as plt\n",
    "\n",
    "\n",
    "\n",
    "# set initial parameters\n",
    "M = 900000\n",
    "m = 1e1\n",
    "mu = 1e-17\n",
    "e0 = 0.001\n",
    "p0 = 8#GetInitialP(M,e0)\n",
    "Phi_phi0 = 0.\n",
    "Phi_theta0 =0.\n",
    "Phi_r0 = 0.\n",
    "\n",
    "\n",
    "a=0.6 #SMBH Spin\n",
    "Y0=1. #Initial Inclincation\n",
    "qS=np.pi/4 #Sky Location Polar Angle in solar system barycenter coordinate system\n",
    "phiS=0. #Sky Location Azimuthal Angle in solar system barycenter coordinate system\n",
    "qK=1e-6 #Initial BH Spin Polar Angle in solar system barycenter coordinate system\n",
    "phiK=0. #Initial BH Spin Azimuthal Angle in solar system barycenter coordinate system\n",
    "dist=1. #Distance to source (Mpc)\n",
    "mich=False #assume LISA long baseline response approximation\n",
    "\n",
    "T=1 #LISA data run is 5 years. We set the max time to be longer because the proca cloud extends the inspiral time\n",
    "dt=15 #time resolution in seconds\n",
    "\n",
    "alphaval = alphavalue(M,mu)\n",
    "print(r\"alpha = {0}\".format(alphaval))\n",
    "print(\"initial p = {0}\".format(p0))\n",
    "\n",
    "\n",
    "use_gpu = False\n",
    "\n",
    "# keyword arguments for inspiral generator (RunKerrGenericPn5Inspiral)\n",
    "insp_kwargs = {\n",
    "    \"npoints\": 110,  # we want a densely sampled trajectory\n",
    "    \"max_init_len\": int(1e3),  # all of the trajectories will be well under len = 1000\n",
    "    \"dense_output\":True\n",
    "}\n",
    "\n",
    "# keyword arguments for summation generator (AAKSummation)\n",
    "sum_kwargs = {\n",
    "    \"use_gpu\": use_gpu,  # GPU is availabel for this type of summation\n",
    "    \"pad_output\": False,\n",
    "}\n",
    "\n",
    "WithoutProcaInspiralKwargs = insp_kwargs.copy()\n",
    "WithoutProcaSumKwargs=sum_kwargs.copy()\n",
    "withoutprocagen = EMRIWaveform(inspiral_kwargs=WithoutProcaInspiralKwargs, sum_kwargs=WithoutProcaSumKwargs, use_gpu=False)"
   ]
  },
  {
   "cell_type": "code",
   "execution_count": null,
   "id": "b5877b29",
   "metadata": {},
   "outputs": [],
   "source": [
    "wv1 = withoutprocagen(M, m, a, p0, e0, Y0, qS, phiS, qK, phiK, dist,Phi_phi0=Phi_phi0, Phi_theta0=Phi_theta0, Phi_r0=Phi_r0, mich=mich, dt=dt, T=T)\n",
    "wv2 = withoutprocagen(M, m, a, p0, e0+0.000005, Y0, qS, phiS, qK, phiK, dist,Phi_phi0=Phi_phi0, Phi_theta0=Phi_theta0, Phi_r0=Phi_r0, mich=mich, dt=dt, T=T)\n",
    "td = np.arange(len(wv2))*dt"
   ]
  },
  {
   "cell_type": "code",
   "execution_count": null,
   "id": "02a4415d",
   "metadata": {},
   "outputs": [],
   "source": [
    "fd = np.fft.fftfreq(len(wv1), d = float(dt))\n",
    "for i in np.arange(-5,5):\n",
    "    phasearr = np.exp(-2*np.pi*1j*fd*i*dt)\n",
    "    print(WaveformInnerProduct(td,wv1*phasearr,wv2))"
   ]
  },
  {
   "cell_type": "code",
   "execution_count": null,
   "id": "b2dcb5dc",
   "metadata": {},
   "outputs": [],
   "source": [
    "get_mismatch(wv1,wv2)"
   ]
  },
  {
   "cell_type": "code",
   "execution_count": null,
   "id": "4449213f",
   "metadata": {},
   "outputs": [],
   "source": [
    "wv1f = np.fft.fft(wv1)\n",
    "wv2f = np.fft.fft(wv2)\n",
    "fd = np.fft.fftfreq(len(td),d=float(td[1]-td[0]))\n",
    "fdlen = int(len(fd)/2-1)+1\n",
    "fd = fd[1:fdlen]\n",
    "wv1ft = wv1f[1:fdlen]\n",
    "wv2ft = wv2f[1:fdlen]\n",
    "wv2fstar = np.conjugate(wv2ft)\n",
    "psd = LisaSensitivity(fd)\n",
    "integrand = wv1ft*wv2fstar/psd\n",
    "\n",
    "func1 = np.fft.ifft(wv1ft/psd)\n",
    "func2 = np.fft.ifft(wv2fstar)\n",
    "\n",
    "\n",
    "intfft = 4*np.real(np.fft.ifft(wv1ft/psd*wv2fstar))\n",
    "conv = 4*np.real(np.convolve(np.hstack((func1[1:], func1)),func2, \"valid\"))\n",
    "integral = 4*sp.integrate.simpson(integrand.real,x=fd)\n",
    "\n",
    "print(intfft[0])\n",
    "print(integral)\n",
    "print(conv[0])"
   ]
  },
  {
   "cell_type": "code",
   "execution_count": null,
   "id": "5e0fec53",
   "metadata": {},
   "outputs": [],
   "source": [
    "td = np.arange(0,10,0.01)\n",
    "w1 = 10\n",
    "T1=5\n",
    "w2 = 0.5\n",
    "T2=0.5\n",
    "fun = lambda x,w,T: np.exp(-w*x**2)*np.exp(-1j*T*x**2)\n",
    "h1 = fun(td,w1,T1)\n",
    "h2 = fun(td,w2,T2)\n",
    "h1f = np.fft.fft(h1)\n",
    "h2fs = np.conjugate(np.fft.fft(h2))\n",
    "freqs = np.fft.fftfreq(len(td))"
   ]
  },
  {
   "cell_type": "code",
   "execution_count": null,
   "id": "4e938c5e",
   "metadata": {},
   "outputs": [],
   "source": [
    "convres = 4*np.real(np.convolve(np.hstack((h1[1:], h1)),h2, \"valid\"))\n",
    "fftres = 4*np.real(\n",
    "                np.fft.ifft(\n",
    "                                np.fft.fft(h1)*np.fft.fft(h2)\n",
    "                            ))\n",
    "fig,ax = plt.subplots(2,2, figsize=(15,8))\n",
    "ax[0,0].plot(convres, linestyle='dotted',label=\"conv\")\n",
    "ax[0,1].plot(fftres, linestyle='dashdot', label=\"fft\")\n",
    "ax[1,0].plot(convres-fftres, label=\"diff\")\n",
    "ax[0,0].legend()\n",
    "ax[0,1].legend()\n",
    "ax[1,0].legend()"
   ]
  },
  {
   "cell_type": "code",
   "execution_count": null,
   "id": "3fb8b827",
   "metadata": {},
   "outputs": [],
   "source": [
    "\n",
    "\n",
    "x=np.array([ 1.75+2.j , -0.25-0.5j, -0.75-0.5j,  0.25+0.j ])\n",
    "h=np.array([ 2.5 +3.j  ,  0.75-0.75j,  0.  +0.j  , -1.25+0.75j])\n",
    "\n",
    "X=np.fft.fft(x)\n",
    "H=np.fft.fft(h)\n",
    "\n",
    "Y=np.array(X)*np.array(H)\n",
    "y=np.fft.ifft(Y)\n",
    "\n",
    "isclose = lambda x: np.isclose(x,0)\n",
    "print(np.all(list(map(isclose,np.abs(y - np.convolve(np.hstack((x[1:], x)),h, 'valid'))))))"
   ]
  },
  {
   "cell_type": "code",
   "execution_count": null,
   "id": "d347fd0c",
   "metadata": {},
   "outputs": [],
   "source": [
    "np.fft.fft(wv1)"
   ]
  },
  {
   "cell_type": "code",
   "execution_count": null,
   "id": "a729352c",
   "metadata": {},
   "outputs": [],
   "source": [
    "x = [0,0,0,0,1,1,1,0,0,0,0]\n",
    "y = x\n",
    "\n",
    "np.convolve(np.hstack((x[1:], x)),y, 'valid')"
   ]
  },
  {
   "cell_type": "code",
   "execution_count": null,
   "id": "3fe69634",
   "metadata": {},
   "outputs": [],
   "source": []
  }
 ],
 "metadata": {
  "kernelspec": {
   "display_name": "Python 3",
   "language": "python",
   "name": "python3"
  },
  "language_info": {
   "codemirror_mode": {
    "name": "ipython",
    "version": 3
   },
   "file_extension": ".py",
   "mimetype": "text/x-python",
   "name": "python",
   "nbconvert_exporter": "python",
   "pygments_lexer": "ipython3",
   "version": "3.7.12"
  }
 },
 "nbformat": 4,
 "nbformat_minor": 5
}
