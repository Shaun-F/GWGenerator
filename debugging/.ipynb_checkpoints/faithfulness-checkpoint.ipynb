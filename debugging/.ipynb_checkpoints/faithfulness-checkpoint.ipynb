{
 "cells": [
  {
   "cell_type": "code",
   "execution_count": 1,
   "id": "7ca56ab5",
   "metadata": {
    "scrolled": true
   },
   "outputs": [
    {
     "name": "stdout",
     "output_type": "stream",
     "text": [
      "alpha = 0.22449414184716673\n",
      "initial p = 4.83\n"
     ]
    }
   ],
   "source": [
    "import os, sys\n",
    "os.chdir(\"../\")\n",
    "path = os.getcwd()\n",
    "sys.path.insert(0, path)\n",
    "import GWGen\n",
    "from GWGen.Utils import *\n",
    "from GWGen.WFGenerator import *\n",
    "import matplotlib.pyplot as plt\n",
    "import scipy as sp\n",
    "import scipy.signal\n",
    "import superrad\n",
    "import pyfftw\n",
    "\n",
    "\n",
    "# set initial parameters\n",
    "M = 10000000.0\n",
    "m = 1e1\n",
    "mu = 3e-18\n",
    "e0 = 1e-6\n",
    "p0 = GetInitialP(M,e0)\n",
    "Phi_phi0 = 0.\n",
    "Phi_theta0 =0.\n",
    "Phi_r0 = 0.\n",
    "\n",
    "\n",
    "a=0.9 #SMBH Spin\n",
    "Y0=1. #Initial Inclincation\n",
    "qS=np.pi/4 #Sky Location Polar Angle in solar system barycenter coordinate system\n",
    "phiS=0. #Sky Location Azimuthal Angle in solar system barycenter coordinate system\n",
    "qK=np.pi/4 #Initial BH Spin Polar Angle in solar system barycenter coordinate system\n",
    "phiK=0. #Initial BH Spin Azimuthal Angle in solar system barycenter coordinate system\n",
    "dist=1. #Distance to source (Mpc)\n",
    "mich=False #assume LISA long baseline response approximation\n",
    "\n",
    "T=5.8 #LISA data run is 5 years. We set the max time to be longer because the proca cloud extends the inspiral time\n",
    "dt=15 #time resolution in seconds\n",
    "\n",
    "alphaval = alphavalue(M,mu)\n",
    "\n",
    "use_gpu = False\n",
    "\n",
    "# keyword arguments for inspiral generator (RunKerrGenericPn5Inspiral)\n",
    "insp_kwargs = {\n",
    "    \"npoints\": 110,  # we want a densely sampled trajectory\n",
    "    \"max_init_len\": int(1e4),  # all of the trajectories will be well under len = 1000\n",
    "    \"dense_output\":True\n",
    "}\n",
    "\n",
    "# keyword arguments for summation generator (AAKSummation)\n",
    "sum_kwargs = {\n",
    "    \"use_gpu\": use_gpu,  # GPU is availabel for this type of summation\n",
    "    \"pad_output\": False,\n",
    "}\n",
    "\n",
    "WithoutProcaInspiralKwargs = insp_kwargs.copy()\n",
    "WithoutProcaSumKwargs=sum_kwargs.copy()\n",
    "withoutprocagen = EMRIWaveform(inspiral_kwargs=WithoutProcaInspiralKwargs, sum_kwargs=WithoutProcaSumKwargs, use_gpu=False)\n",
    "ulb = superrad.ultralight_boson.UltralightBoson(spin=1,model=\"relativistic\")\n",
    "withprocagen = EMRIWithProcaWaveform(inspiral_kwargs=insp_kwargs.copy(),sum_kwargs=sum_kwargs.copy())\n",
    "print(r\"alpha = {0}\".format(alphaval))\n",
    "print(\"initial p = {0}\".format(p0))"
   ]
  },
  {
   "cell_type": "code",
   "execution_count": 2,
   "id": "b5877b29",
   "metadata": {
    "scrolled": true
   },
   "outputs": [
    {
     "name": "stderr",
     "output_type": "stream",
     "text": [
      "/mnt/Data_Volume/Documents/software/Anaconda/envs/few_env/lib/python3.7/site-packages/few/summation/aakwave.py:228: UserWarning: Inclination trajectory includes values within 1e-6 of the poles. We shift these values automatically away from poles by 1e-6.\n",
      "  \"Inclination trajectory includes values within 1e-6 of the poles. We shift these values automatically away from poles by 1e-6.\"\n"
     ]
    }
   ],
   "source": [
    "wv1 = withoutprocagen(M, m, a, p0, e0, Y0, qS, phiS, qK, phiK, dist,Phi_phi0=Phi_phi0, Phi_theta0=Phi_theta0, Phi_r0=Phi_r0, mich=mich, dt=dt, T=T)\n",
    "#wv2 = withoutprocagen(M, m, a, 10, e0, Y0, qS, phiS, qK, phiK, dist,Phi_phi0=Phi_phi0, Phi_theta0=Phi_theta0, Phi_r0=Phi_r0, mich=mich, dt=dt, T=T)\n",
    "wv2 = withprocagen(M,m,mu,a,p0,e0,Y0,T=T,qS=qS,phiS=phiS,qK=qK,phiK=phiK,dist=dist,mich=mich, UltralightBoson=ulb)\n",
    "\n",
    "\"\"\"\n",
    "if len(wv1)<len(wv2):\n",
    "    wv1 = np.pad(wv1, (0,len(wv2)-len(wv1)))\n",
    "elif len(wv2)<len(wv1):\n",
    "    wv2= np.pad(wv2, (0,len(wv1)-len(wv2)))\n",
    "\"\"\"\n",
    "minlen = min([len(wv1), len(wv2)])\n",
    "td = np.arange(minlen)*dt\n",
    "wv1 = wv1[:minlen]\n",
    "wv2 = wv2[:minlen]"
   ]
  },
  {
   "cell_type": "code",
   "execution_count": 3,
   "id": "4204fe8e",
   "metadata": {},
   "outputs": [
    {
     "data": {
      "text/plain": [
       "(0.569623051469618+0.0046470761312034726j)"
      ]
     },
     "execution_count": 3,
     "metadata": {},
     "output_type": "execute_result"
    }
   ],
   "source": [
    "p12 = WaveformInnerProduct(td,wv1,wv2,maximize = True, viewingangle = [qS,phiS,0])\n",
    "p11 = WaveformInnerProduct(td,wv1,wv1,maximize = False, viewingangle = [qS,phiS,0])\n",
    "p22 = WaveformInnerProduct(td,wv2,wv2,maximize = False, viewingangle = [qS,phiS,0])\n",
    "print(p12)\n",
    "print(p12/np.sqrt(p11 * p22))"
   ]
  },
  {
   "cell_type": "code",
   "execution_count": 32,
   "id": "bfc07831",
   "metadata": {
    "scrolled": true
   },
   "outputs": [
    {
     "name": "stdout",
     "output_type": "stream",
     "text": [
      "[16]\n"
     ]
    },
    {
     "data": {
      "text/plain": [
       "16"
      ]
     },
     "execution_count": 32,
     "metadata": {},
     "output_type": "execute_result"
    }
   ],
   "source": [
    "h1 = np.array([1,2,3,4])\n",
    "h2 = np.array([1,2,3,0])\n",
    "\n",
    "conv = sp.signal.convolve(h1,h2, method=\"fft\", mode=\"valid\")\n",
    "print(conv)\n",
    "conv[int(len(conv)/2)]"
   ]
  },
  {
   "cell_type": "code",
   "execution_count": null,
   "id": "9de8bd7b",
   "metadata": {
    "scrolled": true
   },
   "outputs": [],
   "source": []
  },
  {
   "cell_type": "code",
   "execution_count": null,
   "id": "7308a956",
   "metadata": {
    "scrolled": true
   },
   "outputs": [],
   "source": []
  },
  {
   "cell_type": "code",
   "execution_count": null,
   "id": "e3d5ed57",
   "metadata": {
    "scrolled": true
   },
   "outputs": [],
   "source": []
  },
  {
   "cell_type": "code",
   "execution_count": null,
   "id": "fc361a9a",
   "metadata": {
    "scrolled": true
   },
   "outputs": [],
   "source": []
  },
  {
   "cell_type": "code",
   "execution_count": null,
   "id": "37c36dbe",
   "metadata": {
    "scrolled": true
   },
   "outputs": [],
   "source": []
  },
  {
   "cell_type": "code",
   "execution_count": null,
   "id": "5e8332a2",
   "metadata": {
    "scrolled": true
   },
   "outputs": [],
   "source": []
  },
  {
   "cell_type": "code",
   "execution_count": null,
   "id": "187f3eb0",
   "metadata": {
    "scrolled": true
   },
   "outputs": [],
   "source": []
  },
  {
   "cell_type": "code",
   "execution_count": null,
   "id": "df601251",
   "metadata": {
    "scrolled": true
   },
   "outputs": [],
   "source": [
    "wvtest = wv2[-100:]\n",
    "ang = np.angle(wvtest[-1])\n",
    "wvtestang = wvtest*np.exp(-1j*ang)\n",
    "plt.plot(wvtest.imag)\n",
    "plt.plot(wvtestang.real)\n",
    "plt.plot(wvtestang.imag)"
   ]
  },
  {
   "cell_type": "code",
   "execution_count": 87,
   "id": "d4caaf8a",
   "metadata": {
    "scrolled": true
   },
   "outputs": [
    {
     "data": {
      "text/plain": [
       "(-0.003, 0.003)"
      ]
     },
     "execution_count": 87,
     "metadata": {},
     "output_type": "execute_result"
    },
    {
     "data": {
      "image/png": "[encoded data removed]",
      "text/plain": [
       "<Figure size 432x288 with 1 Axes>"
      ]
     },
     "metadata": {
      "needs_background": "light"
     },
     "output_type": "display_data"
    }
   ],
   "source": [
    "p = np.real(datf)\n",
    "newp = np.real(np.exp(-np.sign(freqs)*1j*ang)*datf)\n",
    "newp[0]=-0.1e-19\n",
    "plt.plot(freqs,newp,label=\"datf\")\n",
    "plt.plot(freqs,p,label='dat')\n",
    "plt.xlim(-0.003,0.003)"
   ]
  },
  {
   "cell_type": "code",
   "execution_count": 98,
   "id": "7771fd7e",
   "metadata": {
    "scrolled": true
   },
   "outputs": [
    {
     "data": {
      "text/plain": [
       "<matplotlib.legend.Legend at 0x7f08824d3650>"
      ]
     },
     "execution_count": 98,
     "metadata": {},
     "output_type": "execute_result"
    },
    {
     "data": {
      "image/png": "[encoded data removed]",
      "text/plain": [
       "<Figure size 432x288 with 1 Axes>"
      ]
     },
     "metadata": {
      "needs_background": "light"
     },
     "output_type": "display_data"
    }
   ],
   "source": [
    "testf = lambda f: np.exp(-f**2 + f)*np.cos(20*f)\n",
    "testf = lambda f,a: np.sin(50*(f+f**2+ np.cos(f)) + a)/(f+1) \n",
    "dat = wv1.imag[-4000:]\n",
    "dom = np.arange(0,7,0.001)\n",
    "#dat = testf(dom,0)\n",
    "freqs = sp.fft.fftfreq(len(dat))\n",
    "datf = sp.fft.fft(dat)\n",
    "ang = np.pi/2\n",
    "shifted_datf = np.exp(-np.sign(freqs)*1j*ang)*datf\n",
    "shifted_datf[0]=-0.5e-19\n",
    "ndat = sp.fft.ifft(shifted_datf)\n",
    "plt.plot(dat[0:-1], label=\"old\")\n",
    "plt.plot(ndat[0:-1],label=\"new\")\n",
    "plt.xlim(0,4000)\n",
    "plt.legend()"
   ]
  },
  {
   "cell_type": "code",
   "execution_count": null,
   "id": "8aee7ce9",
   "metadata": {
    "scrolled": true
   },
   "outputs": [],
   "source": []
  },
  {
   "cell_type": "code",
   "execution_count": null,
   "id": "3a1f4935",
   "metadata": {
    "scrolled": true
   },
   "outputs": [],
   "source": []
  },
  {
   "cell_type": "code",
   "execution_count": null,
   "id": "7f0222d1",
   "metadata": {
    "scrolled": true
   },
   "outputs": [],
   "source": []
  },
  {
   "cell_type": "code",
   "execution_count": null,
   "id": "10329de5",
   "metadata": {
    "scrolled": true
   },
   "outputs": [],
   "source": []
  },
  {
   "cell_type": "code",
   "execution_count": null,
   "id": "b636e922",
   "metadata": {
    "scrolled": true
   },
   "outputs": [],
   "source": [
    "w1=WaveformInnerProduct(td,wv1,wv1)\n",
    "w2=WaveformInnerProduct(td,wv2,wv2)\n",
    "w12 = WaveformInnerProduct(td,wv1,wv2, Tmaximize=True)\n",
    "w12/np.sqrt(w1*w2)"
   ]
  },
  {
   "cell_type": "code",
   "execution_count": null,
   "id": "cfd0843f",
   "metadata": {
    "scrolled": true
   },
   "outputs": [],
   "source": []
  },
  {
   "cell_type": "code",
   "execution_count": null,
   "id": "7bfe38bf",
   "metadata": {
    "scrolled": true
   },
   "outputs": [],
   "source": []
  },
  {
   "cell_type": "code",
   "execution_count": null,
   "id": "56fcc45a",
   "metadata": {
    "scrolled": true
   },
   "outputs": [],
   "source": [
    "if len(wv1)<len(wv2):\n",
    "    wv1 = np.pad(wv1,(0,len(wv2)-len(wv1)))\n",
    "elif len(wv2)<len(wv1):\n",
    "    wv2 = np.pad(wv2,(0,len(wv1)-len(wv2)))\n",
    "wv1f = sp.fft.fft(wv1)[1:]\n",
    "wv2f = sp.fft.fft(wv2)[1:]\n",
    "wv2fs = np.conjugate(wv2f)\n",
    "freqs = sp.fft.fftfreq(int(len(td)), d = td[1]-td[0])[1:]\n",
    "psd = LisaSensitivity(np.abs(freqs))\n",
    "H1 = sp.fft.ifft(wv1f/psd)\n",
    "H2 = sp.fft.ifft(wv2fs)"
   ]
  },
  {
   "cell_type": "code",
   "execution_count": null,
   "id": "519b42cb",
   "metadata": {
    "scrolled": true
   },
   "outputs": [],
   "source": [
    "res1=[]\n",
    "import time\n",
    "\n",
    "for theta in np.linspace(0,2*np.pi,4):\n",
    "    conv = sp.signal.convolve(H1,H2*np.exp(1j*theta),method=\"fft\", mode=\"full\")\n",
    "    print(max(np.real(conv)))\n",
    "    res1.append(max(np.real(conv)))\n",
    "\n",
    "pconv = sp.signal.convolve(H1,H2,method=\"fft\", mode=\"full\")"
   ]
  },
  {
   "cell_type": "code",
   "execution_count": null,
   "id": "16347121",
   "metadata": {
    "scrolled": true
   },
   "outputs": [],
   "source": [
    "res  =[]\n",
    "for th in np.linspace(0,2*np.pi,4):\n",
    "    realval = np.real(pconv*np.exp(1j*th))\n",
    "    maxinx = np.argmax(realval)\n",
    "    maxval = realval[maxinx]\n",
    "    print(maxinx)\n",
    "    res.append(maxval)"
   ]
  },
  {
   "cell_type": "code",
   "execution_count": null,
   "id": "c6c50fec",
   "metadata": {
    "scrolled": true
   },
   "outputs": [],
   "source": [
    "res"
   ]
  },
  {
   "cell_type": "code",
   "execution_count": null,
   "id": "3674abe8",
   "metadata": {
    "scrolled": true
   },
   "outputs": [],
   "source": []
  },
  {
   "cell_type": "code",
   "execution_count": null,
   "id": "f0f805da",
   "metadata": {
    "scrolled": true
   },
   "outputs": [],
   "source": []
  },
  {
   "cell_type": "code",
   "execution_count": null,
   "id": "28da33d1",
   "metadata": {
    "scrolled": true
   },
   "outputs": [],
   "source": []
  },
  {
   "cell_type": "code",
   "execution_count": null,
   "id": "a5a9475b",
   "metadata": {
    "scrolled": true
   },
   "outputs": [],
   "source": []
  },
  {
   "cell_type": "code",
   "execution_count": null,
   "id": "5952a9d6",
   "metadata": {
    "scrolled": true
   },
   "outputs": [],
   "source": []
  },
  {
   "cell_type": "code",
   "execution_count": null,
   "id": "19b0b2b3",
   "metadata": {
    "scrolled": true
   },
   "outputs": [],
   "source": []
  },
  {
   "cell_type": "code",
   "execution_count": null,
   "id": "660b246a",
   "metadata": {
    "scrolled": true
   },
   "outputs": [],
   "source": [
    "fai = []\n",
    "for i in np.linspace(1.e-18,4.5e-18,10):\n",
    "    print(\"wv1\")\n",
    "    wv1 = withoutprocagen(M, m, a, p0, e0, Y0, qS, phiS, qK, phiK, dist,Phi_phi0=Phi_phi0, Phi_theta0=Phi_theta0, Phi_r0=Phi_r0, mich=mich, dt=dt, T=T)\n",
    "    print('wv2')\n",
    "    wv2 = withprocagen(M,m,i,a,p0,e0,Y0,T=T,qS=qS,phiS=phiS,qK=qK,phiK=phiK,dist=dist,mich=mich, UltralightBoson=ulb)\n",
    "    \n",
    "    if len(wv1)<len(wv2):\n",
    "        wv1 = np.pad(wv1, (0,len(wv2)-len(wv1)))\n",
    "    elif len(wv2)<len(wv1):\n",
    "        wv2= np.pad(wv2, (0,len(wv1)-len(wv2)))\n",
    "    \n",
    "    minlen = min([len(wv1), len(wv2)])\n",
    "    td = np.arange(minlen)*dt\n",
    "    #wv1 = wv1[:minlen]\n",
    "    #wv2 = wv2[:minlen]\n",
    "    print(\"innerproducts\")\n",
    "    res1 = innerprod4(td,wv1,wv2)\n",
    "    res2 = innerprod4(td,wv1,wv1)\n",
    "    res3 = innerprod4(td,wv2,wv2)\n",
    "    fai.append(\n",
    "        [i,res1,res2,res3]\n",
    "    )\n",
    "    print(i)\n",
    "fai = np.asarray(fai)"
   ]
  },
  {
   "cell_type": "code",
   "execution_count": null,
   "id": "969f76ab",
   "metadata": {
    "scrolled": true
   },
   "outputs": [],
   "source": []
  },
  {
   "cell_type": "code",
   "execution_count": null,
   "id": "62430749",
   "metadata": {
    "scrolled": true
   },
   "outputs": [],
   "source": []
  },
  {
   "cell_type": "code",
   "execution_count": null,
   "id": "9e75b46b",
   "metadata": {
    "scrolled": true
   },
   "outputs": [],
   "source": [
    "fai = np.asarray(fai)\n",
    "args = [np.argmax(i) for i in fai[:,1]]\n",
    "vals = np.array([np.max(i) for i in fai[:,1]])\n",
    "norms = np.sqrt(np.array(fai[:,3]*fai[:,2],dtype=np.float64))\n",
    "faiths = vals/norms\n",
    "plt.scatter(fai[:,0], args)\n",
    "plt.title(\"max positions\")\n",
    "plt.show()\n",
    "plt.scatter(fai[:,0], vals)\n",
    "plt.title(\"inner product\")\n",
    "plt.show()\n",
    "plt.scatter(fai[:,0], faiths)\n",
    "\n",
    "plt.title(\"faithfulness\")"
   ]
  },
  {
   "cell_type": "code",
   "execution_count": null,
   "id": "6bf92239",
   "metadata": {
    "scrolled": true
   },
   "outputs": [],
   "source": [
    "def innerprod2(td,w1,w2):\n",
    "    wv1fft = sp.fft.fft(w1)\n",
    "    wv2fft = sp.fft.fft(w2)\n",
    "    freqs = sp.fft.fftfreq(len(td), d=float(td[1]-td[0]))\n",
    "    leng = np.argmax(freqs)\n",
    "    wv1fft = wv1fft[1:leng]\n",
    "    wv2fft = wv2fft[1:leng]\n",
    "    freqs = freqs[1:leng]\n",
    "    lisasens = LisaSensitivity(freqs)\n",
    "    integrand = wv1fft * np.conjugate(wv2fft)/lisasens\n",
    "    res = 4*sp.integrate.simpson(integrand.real,x=freqs)\n",
    "    return res\n",
    "\n",
    "def innerprod3(td,w1,w2):\n",
    "    wv1fft = sp.fft.fft(w1)\n",
    "    wv2fft = sp.fft.fft(w2)\n",
    "    freqs = sp.fft.fftfreq(len(td), d=float(td[1]-td[0]))\n",
    "    wv1fft = wv1fft[1:]\n",
    "    wv2fft = wv2fft[1:]\n",
    "    freqs = freqs[1:]\n",
    "    lisasens = LisaSensitivity(np.abs(freqs))\n",
    "    integrand = wv1fft * np.conjugate(wv2fft)/lisasens\n",
    "    res = 4*sp.integrate.simpson(integrand.real,x=freqs)\n",
    "    return res\n",
    "\n",
    "def innerprod1(td, w1,w2):\n",
    "    wv1fft = sp.fft.fft(w1)[1:]\n",
    "    wv2fft = sp.fft.fft(w2)[1:]\n",
    "    freqs = sp.fft.fftfreq(len(td), d=float(td[1]-td[0]))\n",
    "    lisasens = LisaSensitivity(np.abs(freqs[1:]))\n",
    "    integrand = wv1fft * np.conjugate(wv2fft)/lisasens\n",
    "    \n",
    "    res = 2*np.real(np.fft.ifft(integrand))\n",
    "    return res\n",
    "\n",
    "def innerprod4(td,w1,w2):\n",
    "    wv1fft = sp.fft.fft(w1)\n",
    "    wv2fft = sp.fft.fft(w2)\n",
    "    freqs = sp.fft.fftfreq(len(td), d=float(td[1]-td[0]))\n",
    "    wv1fft = wv1fft[1:]\n",
    "    wv2fft = wv2fft[1:]\n",
    "    freqs = freqs[1:]\n",
    "    lisasens = LisaSensitivity(np.abs(freqs))\n",
    "    t1 = sp.fft.ifft(wv1fft/lisasens)\n",
    "    t2 = sp.fft.ifft(np.conjugate(wv2fft))\n",
    "    conv = sp.signal.convolve(t1,t2,method=\"fft\", mode=\"full\")\n",
    "    convlen = int(len(conv))+1\n",
    "    #plt.plot(conv)\n",
    "    #plt.scatter([convlen/2], [conv[int(convlen/2)]])\n",
    "    if np.all(w1==w2):\n",
    "        return 2*np.real(conv[int(convlen/2)])\n",
    "    return 2*np.real(conv)"
   ]
  },
  {
   "cell_type": "code",
   "execution_count": null,
   "id": "21c93e6e",
   "metadata": {
    "scrolled": true
   },
   "outputs": [],
   "source": [
    "t11 = innerprod1(td,wv1,wv2)\n",
    "t12 = innerprod1(td,wv1,wv1)\n",
    "t13 = innerprod1(td,wv2,wv2)\n",
    "t21 = innerprod2(td,wv1,wv2)\n",
    "t22 = innerprod2(td,wv1,wv1)\n",
    "t23 = innerprod2(td,wv2,wv2)\n",
    "t31 = innerprod3(td,wv1,wv2)\n",
    "t32 = innerprod3(td,wv1,wv1)\n",
    "t33 = innerprod3(td,wv2,wv2)"
   ]
  },
  {
   "cell_type": "code",
   "execution_count": null,
   "id": "18d4e278",
   "metadata": {
    "scrolled": true
   },
   "outputs": [],
   "source": [
    "print(t21)\n"
   ]
  },
  {
   "cell_type": "code",
   "execution_count": null,
   "id": "d13981e3",
   "metadata": {
    "scrolled": true
   },
   "outputs": [],
   "source": [
    "Faithfulness(td,wv1,wv2,maximize=False)"
   ]
  },
  {
   "cell_type": "code",
   "execution_count": null,
   "id": "33e88cde",
   "metadata": {
    "scrolled": true
   },
   "outputs": [],
   "source": [
    "Faithfulness(td,wv1,wv2,maximize=True)"
   ]
  },
  {
   "cell_type": "code",
   "execution_count": null,
   "id": "b2dcb5dc",
   "metadata": {
    "scrolled": true
   },
   "outputs": [],
   "source": [
    "get_mismatch(wv1,wv2)"
   ]
  },
  {
   "cell_type": "code",
   "execution_count": null,
   "id": "a8faf21b",
   "metadata": {
    "scrolled": true
   },
   "outputs": [],
   "source": []
  },
  {
   "cell_type": "code",
   "execution_count": null,
   "id": "49de3512",
   "metadata": {
    "scrolled": true
   },
   "outputs": [],
   "source": []
  },
  {
   "cell_type": "code",
   "execution_count": null,
   "id": "7054f196",
   "metadata": {
    "scrolled": true
   },
   "outputs": [],
   "source": []
  },
  {
   "cell_type": "code",
   "execution_count": null,
   "id": "0ba67b15",
   "metadata": {
    "scrolled": true
   },
   "outputs": [],
   "source": []
  },
  {
   "cell_type": "code",
   "execution_count": null,
   "id": "a8b75f92",
   "metadata": {
    "scrolled": true
   },
   "outputs": [],
   "source": []
  },
  {
   "cell_type": "code",
   "execution_count": null,
   "id": "38c61cdc",
   "metadata": {
    "scrolled": true
   },
   "outputs": [],
   "source": []
  },
  {
   "cell_type": "code",
   "execution_count": null,
   "id": "32d69ab7",
   "metadata": {
    "scrolled": true
   },
   "outputs": [],
   "source": [
    "def fun(x):\n",
    "    sig = 2\n",
    "    if x**2<sig:\n",
    "        return np.exp(-1/(sig-x**2))/np.exp(-1/sig)\n",
    "    else:\n",
    "        return 0\n",
    "def fun2(x):\n",
    "    if np.abs(x)<1:\n",
    "        return 1\n",
    "    else:\n",
    "        return 0\n",
    "dom = np.arange(-2,2,0.01)\n",
    "ran = np.array([fun(i) for i in dom])\n",
    "ran1 = np.array([fun2(i) for i in dom])\n",
    "conv = sp.signal.convolve(ran,ran1,method=\"fft\")\n",
    "plt.plot(ran1)\n",
    "plt.plot(ran)\n",
    "plt.show()\n",
    "plt.plot(conv)"
   ]
  },
  {
   "cell_type": "code",
   "execution_count": null,
   "id": "9ec7693f",
   "metadata": {
    "scrolled": true
   },
   "outputs": [],
   "source": [
    "len(ran)"
   ]
  },
  {
   "cell_type": "code",
   "execution_count": null,
   "id": "00425e30",
   "metadata": {
    "scrolled": true
   },
   "outputs": [],
   "source": [
    "sp.integrate.simpson(ran*ran1)"
   ]
  },
  {
   "cell_type": "code",
   "execution_count": null,
   "id": "c5053fa6",
   "metadata": {
    "scrolled": true
   },
   "outputs": [],
   "source": []
  },
  {
   "cell_type": "code",
   "execution_count": null,
   "id": "7e0b1585",
   "metadata": {
    "scrolled": true
   },
   "outputs": [],
   "source": []
  },
  {
   "cell_type": "code",
   "execution_count": null,
   "id": "a5c64159",
   "metadata": {
    "scrolled": true
   },
   "outputs": [],
   "source": []
  },
  {
   "cell_type": "code",
   "execution_count": null,
   "id": "1e4a887e",
   "metadata": {
    "scrolled": true
   },
   "outputs": [],
   "source": []
  },
  {
   "cell_type": "code",
   "execution_count": null,
   "id": "083f94e5",
   "metadata": {
    "scrolled": true
   },
   "outputs": [],
   "source": []
  },
  {
   "cell_type": "code",
   "execution_count": null,
   "id": "5156e7a1",
   "metadata": {
    "scrolled": true
   },
   "outputs": [],
   "source": []
  },
  {
   "cell_type": "code",
   "execution_count": null,
   "id": "4449213f",
   "metadata": {
    "scrolled": true
   },
   "outputs": [],
   "source": [
    "Norm = \"backward\"\n",
    "wv1f = np.fft.fft(wv1, norm=Norm)\n",
    "wv2f = np.fft.fft(wv2, norm=Norm)\n",
    "fd = np.fft.fftfreq(len(td),d=float(td[1]-td[0]))\n",
    "fdlen = int(len(fd)/2)\n",
    "fd = fd[1:fdlen]\n",
    "wv1ft = wv1f[1:fdlen]\n",
    "wv2ft = wv2f[1:fdlen]\n",
    "wv2fstar = np.conjugate(wv2ft)\n",
    "wv1fstar = np.conjugate(wv1ft)\n",
    "psd = LisaSensitivity(fd)\n",
    "integrand = wv1ft*wv2fstar/psd*tophatran\n",
    "integrandwv1 = wv1ft*wv1fstar/psd*tophatran\n",
    "integrandwv2 = wv2ft*wv2fstar/psd*tophatran\n",
    "tophatran = [tophat(x,0.0001,1) for x in fd]\n",
    "\n",
    "intfft = 4*np.real(np.fft.ifft(wv1ft/psd*wv2fstar*tophatran, norm=Norm))\n",
    "intfftwv1 =  4*np.real(np.fft.ifft(wv1ft/psd*wv1fstar*tophatran, norm=Norm))\n",
    "intfftwv2 =  4*np.real(np.fft.ifft(wv2ft/psd*wv2fstar*tophatran, norm=Norm))\n",
    "integral = 4*sp.integrate.simpson(integrand.real,x=fd)\n",
    "integralwv1 = 4*sp.integrate.simpson(integrandwv1.real,x=fd)\n",
    "integralwv2 = 4*sp.integrate.simpson(integrandwv2.real,x=fd)\n",
    "\n",
    "\n",
    "print(max(intfft))\n",
    "print(max(intfft)/(intfftwv1[0]*intfftwv2[0]))\n",
    "print(integral)\n",
    "print(integral/(integralwv1*integralwv2))"
   ]
  },
  {
   "cell_type": "code",
   "execution_count": null,
   "id": "a9e5a26b",
   "metadata": {
    "scrolled": true
   },
   "outputs": [],
   "source": [
    "phasearr = lambda n: np.exp(-2*np.pi*1j*n*dt*fd)\n",
    "dom = np.arange(-20,20)\n",
    "ran = [4*sp.integrate.simpson((integrand*phasearr(n)).real,x=fd) for n in dom]\n",
    "plt.plot(dom, ran)\n",
    "plt.show()\n",
    "plt.plot(intfft[:20])"
   ]
  },
  {
   "cell_type": "code",
   "execution_count": null,
   "id": "fd958a4f",
   "metadata": {
    "scrolled": true
   },
   "outputs": [],
   "source": [
    "freqs=np.fft.fftfreq(len(wv1))\n",
    "freqs=freqs[:int(len(freqs)/2)]\n",
    "wv1f = np.fft.fft(wv1)[:int(len(freqs))]\n",
    "wv2f = np.fft.fft(wv2)[:int(len(freqs))]\n",
    "lisasen = LisaSensitivity(freqs)"
   ]
  },
  {
   "cell_type": "code",
   "execution_count": null,
   "id": "525adbf8",
   "metadata": {
    "scrolled": true
   },
   "outputs": [],
   "source": [
    "def mollifier(x,f1,f2,n):\n",
    "    if f1<x<f2:\n",
    "        return np.exp(-1/(((f2-f1)/2)**n - (x - (f2+f1)/2)**n) + (2/(f2-f1))**n)\n",
    "    else:\n",
    "        return 0\n",
    "def tophat(x,f1,f2):\n",
    "    if f1<x<f2: return 1\n",
    "    else: return 0\n"
   ]
  },
  {
   "cell_type": "code",
   "execution_count": null,
   "id": "d82c7f93",
   "metadata": {
    "scrolled": true
   },
   "outputs": [],
   "source": [
    "dom = np.arange(1e-5,1,1e-5)\n",
    "ran = LisaSensitivity(dom)\n",
    "fig,ax = plt.subplots(4,1,figsize=(20,8))\n",
    "fig.tight_layout()\n",
    "plt.subplots_adjust(hspace=0.4)\n",
    "ax[0].loglog(dom,ran)\n",
    "ax[0].set_title(\"lisa sens\")\n",
    "ax[1].plot(freqs,wv1f)\n",
    "ax[1].set_title(\"wv1f\")\n",
    "ax[2].plot(freqs, wv1f*np.conjugate(wv2f)/lisasen)\n",
    "ax[2].set_title(\"h1. h2* / PSD\");\n",
    "ran = [tophat(x,0.0001,1.) for x in freqs]\n",
    "ax[3].plot(freqs, wv1f*np.conjugate(wv2f)/lisasen *ran)\n",
    "ax[3].set_title(\"h1. h2* / PSD * W\");"
   ]
  },
  {
   "cell_type": "code",
   "execution_count": null,
   "id": "56b58e57",
   "metadata": {
    "scrolled": true
   },
   "outputs": [],
   "source": [
    "fig,ax = plt.subplots(4,1,figsize=(16,8))\n",
    "ax[0].plot(freqs,np.fft.ifft(wv1f*np.conjugate(wv2f)/lisasen *ran))\n",
    "ax[1].plot(freqs,np.fft.ifft(wv1f*np.conjugate(wv2f)/lisasen ))\n",
    "ax[2].plot(freqs,np.fft.ifft(wv1f*np.conjugate(wv2f)/lisasen *ran)-np.fft.ifft(wv1f*np.conjugate(wv2f)/lisasen))\n",
    "ax[3].plot(freqs[:10],np.fft.ifft(ran)[:10])"
   ]
  },
  {
   "cell_type": "code",
   "execution_count": null,
   "id": "6098a6d2",
   "metadata": {
    "scrolled": true
   },
   "outputs": [],
   "source": []
  },
  {
   "cell_type": "code",
   "execution_count": null,
   "id": "37361aa2",
   "metadata": {
    "scrolled": true
   },
   "outputs": [],
   "source": []
  },
  {
   "cell_type": "code",
   "execution_count": null,
   "id": "842c92cd",
   "metadata": {
    "scrolled": true
   },
   "outputs": [],
   "source": []
  },
  {
   "cell_type": "code",
   "execution_count": null,
   "id": "213a6b22",
   "metadata": {
    "scrolled": true
   },
   "outputs": [],
   "source": []
  },
  {
   "cell_type": "code",
   "execution_count": null,
   "id": "4a20a23d",
   "metadata": {
    "scrolled": true
   },
   "outputs": [],
   "source": [
    "inx=(0,400)\n",
    "dom = td[inx[0]:inx[1]]\n",
    "ran1 = (wv1[inx[0]:inx[1]]).real\n",
    "for i in np.linspace(1,8,20):\n",
    "    ran2 = (wv1[inx[0]:inx[1]]*np.exp(1j*np.pi*i/4)).real\n",
    "    interp1 = sp.interpolate.CubicSpline(dom,ran1)\n",
    "    interp2 = sp.interpolate.CubicSpline(dom,ran2)\n",
    "    domain =np.arange(dom[0], dom[-1], (dom[-1]-dom[0])/len(dom)/100)\n",
    "    peaks = sp.signal.find_peaks(ran1)[0]\n",
    "    peaksdom = np.array(dom)[peaks]\n",
    "    peaksdat = np.array(ran1)[peaks]\n",
    "    interpp = sp.interpolate.CubicSpline(peaksdom, peaksdat)\n",
    "    plt.plot(domain,interp1(domain))\n",
    "    plt.plot(domain,interp2(domain))\n",
    "    #plt.plot(domain, interpp(domain))"
   ]
  },
  {
   "cell_type": "code",
   "execution_count": null,
   "id": "194e1d58",
   "metadata": {
    "scrolled": true
   },
   "outputs": [],
   "source": []
  },
  {
   "cell_type": "code",
   "execution_count": null,
   "id": "80375420",
   "metadata": {
    "scrolled": true
   },
   "outputs": [],
   "source": []
  },
  {
   "cell_type": "code",
   "execution_count": null,
   "id": "5d807597",
   "metadata": {
    "scrolled": true
   },
   "outputs": [],
   "source": []
  },
  {
   "cell_type": "code",
   "execution_count": null,
   "id": "9edf1be4",
   "metadata": {
    "scrolled": true
   },
   "outputs": [],
   "source": []
  },
  {
   "cell_type": "code",
   "execution_count": null,
   "id": "9599cf8f",
   "metadata": {
    "scrolled": true
   },
   "outputs": [],
   "source": []
  },
  {
   "cell_type": "code",
   "execution_count": null,
   "id": "d921283d",
   "metadata": {
    "scrolled": true
   },
   "outputs": [],
   "source": []
  },
  {
   "cell_type": "code",
   "execution_count": null,
   "id": "4e33a6c5",
   "metadata": {
    "scrolled": true
   },
   "outputs": [],
   "source": []
  },
  {
   "cell_type": "code",
   "execution_count": null,
   "id": "4fbcf399",
   "metadata": {
    "scrolled": false
   },
   "outputs": [],
   "source": [
    "fai = []\n",
    "for i in np.linspace(1.e-16,4.5e-16,30):\n",
    "    print(alphavalue(M,i))\n",
    "    print(\"wv1\")\n",
    "    wv1 = withoutprocagen(M, m, a, p0, e0, Y0, qS, phiS, qK, phiK, dist,Phi_phi0=Phi_phi0, Phi_theta0=Phi_theta0, Phi_r0=Phi_r0, mich=mich, dt=dt, T=T)\n",
    "    print('wv2')\n",
    "    wv2 = withprocagen(M,m,i,a,p0,e0,Y0,T=T,qS=qS,phiS=phiS,qK=qK,phiK=phiK,dist=dist,mich=mich, UltralightBoson=ulb)\n",
    "    \n",
    "    if len(wv1)<len(wv2):\n",
    "        wv1 = np.pad(wv1, (0,len(wv2)-len(wv1)))\n",
    "    elif len(wv2)<len(wv1):\n",
    "        wv2= np.pad(wv2, (0,len(wv1)-len(wv2)))\n",
    "    \n",
    "    minlen = min([len(wv1), len(wv2)])\n",
    "    td = np.arange(minlen)*dt\n",
    "    #wv1 = wv1[:minlen]\n",
    "    #wv2 = wv2[:minlen]\n",
    "    print(\"Faithfulness\")\n",
    "    fai.append([alphavalue(M,i),\n",
    "        Faithfulness(td,wv1,wv2)]\n",
    "    )\n",
    "    print(\"Proca mass: \"+str(i)+\"\\n\\tfaithfulness: \"+str(fai[-1]))\n",
    "fai = np.asarray(fai)"
   ]
  },
  {
   "cell_type": "code",
   "execution_count": null,
   "id": "860f323c",
   "metadata": {
    "scrolled": true
   },
   "outputs": [],
   "source": [
    "plt.plot(np.array(fai)[:,0],np.array(fai)[:,1])"
   ]
  },
  {
   "cell_type": "code",
   "execution_count": null,
   "id": "928a09bb",
   "metadata": {
    "scrolled": true
   },
   "outputs": [],
   "source": []
  },
  {
   "cell_type": "code",
   "execution_count": null,
   "id": "60cc40d2",
   "metadata": {},
   "outputs": [],
   "source": []
  },
  {
   "cell_type": "code",
   "execution_count": null,
   "id": "0f3569b3",
   "metadata": {},
   "outputs": [],
   "source": []
  },
  {
   "cell_type": "code",
   "execution_count": null,
   "id": "199b1824",
   "metadata": {},
   "outputs": [],
   "source": []
  },
  {
   "cell_type": "code",
   "execution_count": null,
   "id": "2eed34d1",
   "metadata": {},
   "outputs": [],
   "source": []
  },
  {
   "cell_type": "code",
   "execution_count": null,
   "id": "484715a4",
   "metadata": {},
   "outputs": [],
   "source": []
  },
  {
   "cell_type": "code",
   "execution_count": null,
   "id": "b8b84d73",
   "metadata": {},
   "outputs": [],
   "source": []
  },
  {
   "cell_type": "code",
   "execution_count": null,
   "id": "1b0d9a7c",
   "metadata": {},
   "outputs": [],
   "source": []
  },
  {
   "cell_type": "code",
   "execution_count": null,
   "id": "447a7f92",
   "metadata": {},
   "outputs": [],
   "source": []
  },
  {
   "cell_type": "code",
   "execution_count": null,
   "id": "f218af27",
   "metadata": {},
   "outputs": [],
   "source": []
  },
  {
   "cell_type": "code",
   "execution_count": null,
   "id": "1d25e318",
   "metadata": {},
   "outputs": [],
   "source": []
  },
  {
   "cell_type": "code",
   "execution_count": null,
   "id": "c04d50e9",
   "metadata": {},
   "outputs": [],
   "source": []
  },
  {
   "cell_type": "code",
   "execution_count": null,
   "id": "2afe1571",
   "metadata": {},
   "outputs": [],
   "source": []
  },
  {
   "cell_type": "code",
   "execution_count": 5,
   "id": "5a23b81d",
   "metadata": {},
   "outputs": [],
   "source": []
  },
  {
   "cell_type": "code",
   "execution_count": 15,
   "id": "65d874ef",
   "metadata": {},
   "outputs": [
    {
     "data": {
      "text/plain": [
       "[<matplotlib.lines.Line2D at 0x7f691e51fdd0>]"
      ]
     },
     "execution_count": 15,
     "metadata": {},
     "output_type": "execute_result"
    },
    {
     "data": {
      "image/png": "[encoded data removed]",
      "text/plain": [
       "<Figure size 432x288 with 1 Axes>"
      ]
     },
     "metadata": {
      "needs_background": "light"
     },
     "output_type": "display_data"
    }
   ],
   "source": [
    "inxs = 0\n",
    "inxst = 1000\n",
    "ang = np.pi/3\n",
    "wv1m = wv1*np.exp(1j * ang)\n",
    "plt.plot(wv1.imag[inxs:inxst])\n",
    "plt.plot(wv1m.imag[inxs:inxst])"
   ]
  },
  {
   "cell_type": "code",
   "execution_count": null,
   "id": "2d673180",
   "metadata": {},
   "outputs": [],
   "source": []
  }
 ],
 "metadata": {
  "kernelspec": {
   "display_name": "Python 3",
   "language": "python",
   "name": "python3"
  },
  "language_info": {
   "codemirror_mode": {
    "name": "ipython",
    "version": 3
   },
   "file_extension": ".py",
   "mimetype": "text/x-python",
   "name": "python",
   "nbconvert_exporter": "python",
   "pygments_lexer": "ipython3",
   "version": "3.7.12"
  }
 },
 "nbformat": 4,
 "nbformat_minor": 5
}
