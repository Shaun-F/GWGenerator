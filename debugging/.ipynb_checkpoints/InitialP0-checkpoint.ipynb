{
 "cells": [
  {
   "cell_type": "code",
   "execution_count": 6,
   "id": "e7fe4f73",
   "metadata": {},
   "outputs": [],
   "source": [
    "import os,sys\n",
    "os.chdir(\"../\")\n",
    "path = os.getcwd()\n",
    "sys.path.insert(0, path)\n",
    "\n",
    "import GWGen; from GWGen import WFGenerator\n",
    "from GWGen.WFGenerator import *\n",
    "\n",
    "from few.trajectory.inspiral import EMRIInspiral\n",
    "from few.utils.utility import *"
   ]
  },
  {
   "cell_type": "code",
   "execution_count": 21,
   "id": "56f50d74",
   "metadata": {},
   "outputs": [
    {
     "ename": "ValueError",
     "evalue": "f(a) and f(b) must have different signs",
     "output_type": "error",
     "traceback": [
      "\u001b[0;31m---------------------------------------------------------------------------\u001b[0m",
      "\u001b[0;31mValueError\u001b[0m                                Traceback (most recent call last)",
      "\u001b[0;32m<ipython-input-21-d68de8dd22e3>\u001b[0m in \u001b[0;36m<module>\u001b[0;34m\u001b[0m\n\u001b[1;32m     23\u001b[0m     \u001b[0mxtol\u001b[0m\u001b[0;34m=\u001b[0m\u001b[0;36m2e-12\u001b[0m\u001b[0;34m,\u001b[0m\u001b[0;34m\u001b[0m\u001b[0;34m\u001b[0m\u001b[0m\n\u001b[1;32m     24\u001b[0m     \u001b[0mrtol\u001b[0m\u001b[0;34m=\u001b[0m\u001b[0;36m8.881784197001252e-12\u001b[0m\u001b[0;34m,\u001b[0m\u001b[0;34m\u001b[0m\u001b[0;34m\u001b[0m\u001b[0m\n\u001b[0;32m---> 25\u001b[0;31m     \u001b[0mbounds\u001b[0m\u001b[0;34m=\u001b[0m\u001b[0;32mNone\u001b[0m\u001b[0;34m,\u001b[0m\u001b[0;34m\u001b[0m\u001b[0;34m\u001b[0m\u001b[0m\n\u001b[0m\u001b[1;32m     26\u001b[0m )\n\u001b[1;32m     27\u001b[0m \u001b[0;34m\u001b[0m\u001b[0m\n",
      "\u001b[0;32m/mnt/Data_Volume/Documents/software/Anaconda/envs/few_env/lib/python3.7/site-packages/few/utils/utility.py\u001b[0m in \u001b[0;36mget_p_at_t\u001b[0;34m(traj_module, t_out, traj_args, index_of_p, index_of_a, index_of_e, index_of_x, bounds, **kwargs)\u001b[0m\n\u001b[1;32m    649\u001b[0m         \u001b[0mbounds\u001b[0m\u001b[0;34m[\u001b[0m\u001b[0;36m1\u001b[0m\u001b[0;34m]\u001b[0m \u001b[0;34m=\u001b[0m \u001b[0;36m16.0\u001b[0m \u001b[0;34m+\u001b[0m \u001b[0;36m2\u001b[0m \u001b[0;34m*\u001b[0m \u001b[0mtraj_args\u001b[0m\u001b[0;34m[\u001b[0m\u001b[0mindex_of_e\u001b[0m\u001b[0;34m]\u001b[0m\u001b[0;34m\u001b[0m\u001b[0;34m\u001b[0m\u001b[0m\n\u001b[1;32m    650\u001b[0m \u001b[0;34m\u001b[0m\u001b[0m\n\u001b[0;32m--> 651\u001b[0;31m     \u001b[0mroot\u001b[0m \u001b[0;34m=\u001b[0m \u001b[0mget_at_t\u001b[0m\u001b[0;34m(\u001b[0m\u001b[0mtraj_module\u001b[0m\u001b[0;34m,\u001b[0m \u001b[0mtraj_args\u001b[0m\u001b[0;34m,\u001b[0m \u001b[0mbounds\u001b[0m\u001b[0;34m,\u001b[0m \u001b[0mt_out\u001b[0m\u001b[0;34m,\u001b[0m \u001b[0mindex_of_p\u001b[0m\u001b[0;34m,\u001b[0m \u001b[0;34m**\u001b[0m\u001b[0mkwargs\u001b[0m\u001b[0;34m)\u001b[0m\u001b[0;34m\u001b[0m\u001b[0;34m\u001b[0m\u001b[0m\n\u001b[0m\u001b[1;32m    652\u001b[0m     \u001b[0;32mreturn\u001b[0m \u001b[0mroot\u001b[0m\u001b[0;34m\u001b[0m\u001b[0;34m\u001b[0m\u001b[0m\n\u001b[1;32m    653\u001b[0m \u001b[0;34m\u001b[0m\u001b[0m\n",
      "\u001b[0;32m/mnt/Data_Volume/Documents/software/Anaconda/envs/few_env/lib/python3.7/site-packages/few/utils/utility.py\u001b[0m in \u001b[0;36mget_at_t\u001b[0;34m(traj_module, traj_args, bounds, t_out, index_of_interest, traj_kwargs, xtol, rtol)\u001b[0m\n\u001b[1;32m    564\u001b[0m         \u001b[0mxtol\u001b[0m\u001b[0;34m=\u001b[0m\u001b[0mxtol\u001b[0m\u001b[0;34m,\u001b[0m\u001b[0;34m\u001b[0m\u001b[0;34m\u001b[0m\u001b[0m\n\u001b[1;32m    565\u001b[0m         \u001b[0mrtol\u001b[0m\u001b[0;34m=\u001b[0m\u001b[0mrtol\u001b[0m\u001b[0;34m,\u001b[0m\u001b[0;34m\u001b[0m\u001b[0;34m\u001b[0m\u001b[0m\n\u001b[0;32m--> 566\u001b[0;31m         \u001b[0margs\u001b[0m\u001b[0;34m=\u001b[0m\u001b[0;34m(\u001b[0m\u001b[0mtraj_module\u001b[0m\u001b[0;34m,\u001b[0m \u001b[0mtraj_args\u001b[0m\u001b[0;34m,\u001b[0m \u001b[0mtraj_kwargs\u001b[0m\u001b[0;34m,\u001b[0m \u001b[0mt_out\u001b[0m\u001b[0;34m,\u001b[0m \u001b[0mindex_of_interest\u001b[0m\u001b[0;34m)\u001b[0m\u001b[0;34m,\u001b[0m\u001b[0;34m\u001b[0m\u001b[0;34m\u001b[0m\u001b[0m\n\u001b[0m\u001b[1;32m    567\u001b[0m     )\n\u001b[1;32m    568\u001b[0m     \u001b[0;32mreturn\u001b[0m \u001b[0mroot\u001b[0m\u001b[0;34m\u001b[0m\u001b[0;34m\u001b[0m\u001b[0m\n",
      "\u001b[0;32m/mnt/Data_Volume/Documents/software/Anaconda/envs/few_env/lib/python3.7/site-packages/scipy/optimize/zeros.py\u001b[0m in \u001b[0;36mbrentq\u001b[0;34m(f, a, b, args, xtol, rtol, maxiter, full_output, disp)\u001b[0m\n\u001b[1;32m    774\u001b[0m     \u001b[0;32mif\u001b[0m \u001b[0mrtol\u001b[0m \u001b[0;34m<\u001b[0m \u001b[0m_rtol\u001b[0m\u001b[0;34m:\u001b[0m\u001b[0;34m\u001b[0m\u001b[0;34m\u001b[0m\u001b[0m\n\u001b[1;32m    775\u001b[0m         \u001b[0;32mraise\u001b[0m \u001b[0mValueError\u001b[0m\u001b[0;34m(\u001b[0m\u001b[0;34m\"rtol too small (%g < %g)\"\u001b[0m \u001b[0;34m%\u001b[0m \u001b[0;34m(\u001b[0m\u001b[0mrtol\u001b[0m\u001b[0;34m,\u001b[0m \u001b[0m_rtol\u001b[0m\u001b[0;34m)\u001b[0m\u001b[0;34m)\u001b[0m\u001b[0;34m\u001b[0m\u001b[0;34m\u001b[0m\u001b[0m\n\u001b[0;32m--> 776\u001b[0;31m     \u001b[0mr\u001b[0m \u001b[0;34m=\u001b[0m \u001b[0m_zeros\u001b[0m\u001b[0;34m.\u001b[0m\u001b[0m_brentq\u001b[0m\u001b[0;34m(\u001b[0m\u001b[0mf\u001b[0m\u001b[0;34m,\u001b[0m \u001b[0ma\u001b[0m\u001b[0;34m,\u001b[0m \u001b[0mb\u001b[0m\u001b[0;34m,\u001b[0m \u001b[0mxtol\u001b[0m\u001b[0;34m,\u001b[0m \u001b[0mrtol\u001b[0m\u001b[0;34m,\u001b[0m \u001b[0mmaxiter\u001b[0m\u001b[0;34m,\u001b[0m \u001b[0margs\u001b[0m\u001b[0;34m,\u001b[0m \u001b[0mfull_output\u001b[0m\u001b[0;34m,\u001b[0m \u001b[0mdisp\u001b[0m\u001b[0;34m)\u001b[0m\u001b[0;34m\u001b[0m\u001b[0;34m\u001b[0m\u001b[0m\n\u001b[0m\u001b[1;32m    777\u001b[0m     \u001b[0;32mreturn\u001b[0m \u001b[0mresults_c\u001b[0m\u001b[0;34m(\u001b[0m\u001b[0mfull_output\u001b[0m\u001b[0;34m,\u001b[0m \u001b[0mr\u001b[0m\u001b[0;34m)\u001b[0m\u001b[0;34m\u001b[0m\u001b[0;34m\u001b[0m\u001b[0m\n\u001b[1;32m    778\u001b[0m \u001b[0;34m\u001b[0m\u001b[0m\n",
      "\u001b[0;31mValueError\u001b[0m: f(a) and f(b) must have different signs"
     ]
    }
   ],
   "source": [
    "traj_module = EMRIInspiral(func=\"pn5\")\n",
    "\n",
    "# set initial parameters\n",
    "M = 1e5\n",
    "mu = 1e1\n",
    "e0 = 0.2\n",
    "\n",
    "traj_args = [M, mu, 0.0, e0, 1.0]\n",
    "traj_kwargs = {}\n",
    "index_of_p = 3\n",
    "\n",
    "t_out = 5\n",
    "# run trajectory\n",
    "p_new = get_p_at_t(\n",
    "    traj_module,\n",
    "    t_out,\n",
    "    traj_args,\n",
    "    index_of_p=3,\n",
    "    index_of_a=2,\n",
    "    index_of_e=4,\n",
    "    index_of_x=5,\n",
    "    traj_kwargs={},\n",
    "    xtol=2e-12,\n",
    "    rtol=8.881784197001252e-12,\n",
    "    bounds=None,\n",
    ")\n",
    "\n",
    "print(p_new)"
   ]
  },
  {
   "cell_type": "code",
   "execution_count": null,
   "id": "8e90d320",
   "metadata": {},
   "outputs": [],
   "source": []
  }
 ],
 "metadata": {
  "kernelspec": {
   "display_name": "Python 3",
   "language": "python",
   "name": "python3"
  },
  "language_info": {
   "codemirror_mode": {
    "name": "ipython",
    "version": 3
   },
   "file_extension": ".py",
   "mimetype": "text/x-python",
   "name": "python",
   "nbconvert_exporter": "python",
   "pygments_lexer": "ipython3",
   "version": "3.7.12"
  }
 },
 "nbformat": 4,
 "nbformat_minor": 5
}
