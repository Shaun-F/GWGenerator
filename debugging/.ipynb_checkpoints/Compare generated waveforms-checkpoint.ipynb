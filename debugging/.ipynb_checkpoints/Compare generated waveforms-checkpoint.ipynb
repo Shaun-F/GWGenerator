{
 "cells": [
  {
   "cell_type": "code",
   "execution_count": 7,
   "id": "7aa5ced2",
   "metadata": {},
   "outputs": [],
   "source": [
    "import sys\n",
    "import os\n",
    "\n",
    "import matplotlib.pyplot as plt\n",
    "%matplotlib inline\n",
    "import numpy as np\n",
    "\n",
    "from few.trajectory.inspiral import EMRIInspiral\n",
    "from few.waveform import GenerateEMRIWaveform\n",
    "from few.summation.aakwave import AAKSummation\n",
    "from few.waveform import Pn5AAKWaveform, AAKWaveformBase\n",
    "from few.utils.utility import *\n",
    "\n",
    "os.chdir(\"../\")\n",
    "path = os.getcwd()\n",
    "sys.path.insert(0, path)\n",
    "import GWGen\n",
    "from GWGen.WFGenerator import *\n",
    "\n",
    "# set initial parameters\n",
    "M = 1e6\n",
    "mu = 1e1\n",
    "a = .2\n",
    "p0 = 10.0\n",
    "e0 = 0.7\n",
    "iota0 = 0.\n",
    "Y0 = np.cos(iota0)\n",
    "Phi_phi0 = 0.\n",
    "Phi_theta0 = 0.\n",
    "Phi_r0 = 0.\n",
    "\n",
    "\n",
    "qS = 0.2\n",
    "phiS = 0.2\n",
    "qK = 0.8\n",
    "phiK = 0.8\n",
    "dist = 1.0\n",
    "mich = False\n",
    "dt = 15\n",
    "T = 2"
   ]
  },
  {
   "cell_type": "markdown",
   "id": "06fb2ebe",
   "metadata": {},
   "source": [
    "# FEW 5PN AAK model"
   ]
  },
  {
   "cell_type": "code",
   "execution_count": 8,
   "id": "c6832ff1",
   "metadata": {},
   "outputs": [
    {
     "data": {
      "image/png": "[encoded data removed]",
      "text/plain": [
       "<Figure size 432x288 with 1 Axes>"
      ]
     },
     "metadata": {
      "needs_background": "light"
     },
     "output_type": "display_data"
    }
   ],
   "source": [
    "use_gpu = False\n",
    "\n",
    "# keyword arguments for inspiral generator (RunKerrGenericPn5Inspiral)\n",
    "inspiral_kwargs = {\n",
    "    \"DENSE_STEPPING\": 0,  # we want a sparsely sampled trajectory\n",
    "    \"max_init_len\": int(1e3),  # all of the trajectories will be well under len = 1000\n",
    "}\n",
    "\n",
    "# keyword arguments for summation generator (AAKSummation)\n",
    "sum_kwargs = {\n",
    "    \"use_gpu\": use_gpu,  # GPU is availabel for this type of summation\n",
    "    \"pad_output\": False,\n",
    "}\n",
    "\n",
    "wave_generator = Pn5AAKWaveform(inspiral_kwargs=inspiral_kwargs, sum_kwargs=sum_kwargs, use_gpu=False)\n",
    "FEWwaveform = wave_generator(M, mu, a, p0, e0, Y0, qS, phiS, qK, phiK, dist,Phi_phi0=Phi_phi0, Phi_theta0=Phi_theta0, Phi_r0=Phi_r0, mich=mich, dt=dt, T=T)\n",
    "\n",
    "t = np.arange(len(FEWwaveform)) * dt;\n",
    "plt.plot(t, FEWwaveform.real);\n",
    "plt.plot(t, FEWwaveform.imag);\n",
    "plt.title(\"FEW AAK model\");\n",
    "ticks = plt.xticks()[0][1:-1];\n",
    "newlabs = [int(i)/100 for i in (ticks*100/(60*60*24*365))];\n",
    "plt.xticks(ticks, newlabs);\n",
    "plt.xlabel(\"years\");\n",
    "plt.ylabel(\"strain\");"
   ]
  },
  {
   "cell_type": "markdown",
   "id": "672db91c",
   "metadata": {},
   "source": [
    "# My Model"
   ]
  },
  {
   "cell_type": "code",
   "execution_count": 9,
   "id": "a31ea5e3",
   "metadata": {},
   "outputs": [
    {
     "data": {
      "image/png": "[encoded data removed]",
      "text/plain": [
       "<Figure size 432x288 with 1 Axes>"
      ]
     },
     "metadata": {
      "needs_background": "light"
     },
     "output_type": "display_data"
    }
   ],
   "source": [
    "use_gpu = False\n",
    "\n",
    "# keyword arguments for inspiral generator (RunKerrGenericPn5Inspiral)\n",
    "inspiral_kwargs = {\n",
    "    \"npoints\": 10,  # we want a densely sampled trajectory\n",
    "    \"dense_output\": False\n",
    "}\n",
    "\n",
    "# keyword arguments for summation generator (AAKSummation)\n",
    "sum_kwargs = {\n",
    "    \"use_gpu\": use_gpu,  # GPU is availabel for this type of summation\n",
    "    \"pad_output\": False,\n",
    "}\n",
    "\n",
    "wfgenerator = EMRIWaveform(inspiral_kwargs=inspiral_kwargs, sum_kwargs=sum_kwargs, use_gpu=False)\n",
    "\n",
    "mywf = wfgenerator(M, mu, a, p0, e0, Y0, qS, phiS, qK, phiK, dist,Phi_phi0=Phi_phi0, Phi_theta0=Phi_theta0, Phi_r0=Phi_r0, mich=mich, dt=dt, T=T)\n",
    "\n",
    "t = np.arange(len(mywf)) * dt\n",
    "plt.plot(t, mywf.real);\n",
    "plt.plot(t, mywf.imag);\n",
    "plt.title(\"My model\");\n",
    "ticks = plt.xticks()[0][1:-1];\n",
    "newlabs = [int(i)/100 for i in (ticks*100/(60*60*24*365))];\n",
    "plt.xticks(ticks, newlabs);\n",
    "plt.xlabel(\"years\");\n",
    "plt.ylabel(\"strain\");"
   ]
  },
  {
   "cell_type": "markdown",
   "id": "a4248f47",
   "metadata": {},
   "source": [
    "# Mismatch"
   ]
  },
  {
   "cell_type": "code",
   "execution_count": 10,
   "id": "89b3cf2c",
   "metadata": {},
   "outputs": [
    {
     "name": "stdout",
     "output_type": "stream",
     "text": [
      "mismatch between FEW AAK waveform and my waveform\n",
      "0.38570455972022166\n"
     ]
    }
   ],
   "source": [
    "print(\"mismatch between FEW AAK waveform and my waveform\")\n",
    "print(get_mismatch(FEWwaveform, mywf))"
   ]
  },
  {
   "cell_type": "code",
   "execution_count": null,
   "id": "3304270c",
   "metadata": {},
   "outputs": [],
   "source": [
    "st = 100000\n",
    "stop = 101000\n",
    "dom = t[st:stop]\n",
    "ran1 = FEWwaveform.real[st:stop]\n",
    "#ran2 = testwf.real[st:stop]\n",
    "ran3 = mywf.real[st:stop]\n",
    "plt.plot(dom,ran1, label=\"FEW waveform\")\n",
    "#plt.plot(dom, ran2, label=\"example PN waveform\")\n",
    "plt.plot(dom, ran3, label=\"my waveform\");\n",
    "ticks = plt.xticks()[0][1:-1];\n",
    "newlabs = [int(i)/100 for i in (ticks*100/(60*60*24*31))];\n",
    "plt.xticks(ticks, newlabs);\n",
    "plt.xlabel(\"months\");\n",
    "plt.ylabel(\"strain\");"
   ]
  },
  {
   "cell_type": "code",
   "execution_count": null,
   "id": "90d095f8",
   "metadata": {},
   "outputs": [],
   "source": []
  }
 ],
 "metadata": {
  "kernelspec": {
   "display_name": "Python 3",
   "language": "python",
   "name": "python3"
  },
  "language_info": {
   "codemirror_mode": {
    "name": "ipython",
    "version": 3
   },
   "file_extension": ".py",
   "mimetype": "text/x-python",
   "name": "python",
   "nbconvert_exporter": "python",
   "pygments_lexer": "ipython3",
   "version": "3.7.12"
  }
 },
 "nbformat": 4,
 "nbformat_minor": 5
}
