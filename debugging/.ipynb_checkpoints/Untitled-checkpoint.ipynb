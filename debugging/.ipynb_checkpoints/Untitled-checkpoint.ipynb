{
 "cells": [
  {
   "cell_type": "code",
   "execution_count": 13,
   "id": "4004d012",
   "metadata": {},
   "outputs": [],
   "source": [
    "class tmp():\n",
    "    \n",
    "    def __init__(self):\n",
    "        self.__val = 1\n",
    "    \n",
    "    \n",
    "    @property\n",
    "    def tmpprop(self):\n",
    "        return self.__val\n",
    "    @tmpprop.setter\n",
    "    def tmpprop(self,newval):\n",
    "        self.__val=newval"
   ]
  },
  {
   "cell_type": "code",
   "execution_count": 14,
   "id": "c7eeb6a1",
   "metadata": {},
   "outputs": [
    {
     "name": "stdout",
     "output_type": "stream",
     "text": [
      "1\n",
      "4\n"
     ]
    }
   ],
   "source": [
    "cl = tmp()\n",
    "print(cl.tmpprop)\n",
    "cl.tmpprop=4\n",
    "print(cl.tmpprop)"
   ]
  },
  {
   "cell_type": "code",
   "execution_count": null,
   "id": "2cecbe43",
   "metadata": {},
   "outputs": [],
   "source": []
  },
  {
   "cell_type": "code",
   "execution_count": 6,
   "id": "cdd8213e",
   "metadata": {},
   "outputs": [],
   "source": [
    "from abc import ABC\n",
    "\n",
    "class parent(ABC):\n",
    "    def __init__(self):\n",
    "        pass\n",
    "    \n",
    "    @property\n",
    "    def citation(self):\n",
    "        return \"\"\n",
    "    \n",
    "    @classmethod\n",
    "    def get_inspiral(self):\n",
    "        raise NotImplementedError\n",
    "        \n",
    "class child(parent):\n",
    "    def __init__(self):\n",
    "        pass\n",
    "    \n",
    "    @property\n",
    "    def hello(self):\n",
    "        return \"hello\"\n",
    "    @hello.setter\n",
    "    def hello(self,newval):\n",
    "        return newval"
   ]
  },
  {
   "cell_type": "code",
   "execution_count": 8,
   "id": "2c1a0d06",
   "metadata": {},
   "outputs": [
    {
     "data": {
      "text/plain": [
       "'hello'"
      ]
     },
     "execution_count": 8,
     "metadata": {},
     "output_type": "execute_result"
    }
   ],
   "source": [
    "cl =child()\n",
    "cl.hello"
   ]
  },
  {
   "cell_type": "code",
   "execution_count": null,
   "id": "677a0de9",
   "metadata": {},
   "outputs": [],
   "source": []
  }
 ],
 "metadata": {
  "kernelspec": {
   "display_name": "Python 3",
   "language": "python",
   "name": "python3"
  },
  "language_info": {
   "codemirror_mode": {
    "name": "ipython",
    "version": 3
   },
   "file_extension": ".py",
   "mimetype": "text/x-python",
   "name": "python",
   "nbconvert_exporter": "python",
   "pygments_lexer": "ipython3",
   "version": "3.7.12"
  }
 },
 "nbformat": 4,
 "nbformat_minor": 5
}
