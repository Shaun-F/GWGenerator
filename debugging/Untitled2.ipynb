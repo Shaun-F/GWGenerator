{
 "cells": [
  {
   "cell_type": "code",
   "execution_count": 1,
   "id": "c332ea13",
   "metadata": {},
   "outputs": [],
   "source": [
    "from GWGen.DressedFluxes.Fluxes import *\n",
    "import numpy as np\n",
    "from numpy import array\n",
    "import scipy as sp\n",
    "import time\n",
    "import scipy.optimize as spopt\n",
    "import scipy.interpolate as spint\n",
    "import glob\n",
    "import matplotlib.pyplot as plt\n",
    "import re\n",
    "alpha_match_1 = re.compile(\"Alpha_\\d+_\\d+\")\n",
    "alpha_match_2 = re.compile(\"Alpha_\\d+\")\n",
    "modeovertonematch = re.compile(\"Mode_1_Overtone_0\")\n",
    "alpha_rege = re.compile(\"\\d+\")\n",
    "notnan = lambda arr: np.logical_not(np.isnan(arr))\n",
    "def cartesian_product(*arrays):\n",
    "    la = len(arrays)\n",
    "    dtype = np.result_type(*arrays)\n",
    "    arr = np.empty([len(a) for a in arrays] + [la], dtype=dtype)\n",
    "    for i, a in enumerate(np.ix_(*arrays)):\n",
    "        arr[...,i] = a\n",
    "    return arr.reshape(-1, la)\n",
    "def AlphaValFromFilename(filename):\n",
    "    alphastr = alpha_match_1.findall(filename)\n",
    "    if len(alphastr)==0:\n",
    "        alphastr = alpha_match_2.findall(filename)\n",
    "    if isinstance(alphastr,str):\n",
    "        pass\n",
    "    if isinstance(alphastr,list):\n",
    "        alphastr=alphastr[0]\n",
    "    alphapieces = alpha_rege.findall(alphastr)\n",
    "    if len(alphapieces)>1:\n",
    "        alphavalue = float(alphapieces[0])/float(alphapieces[1])\n",
    "    else:\n",
    "        alphavalue = float(alphapieces[0])\n",
    "    return alphavalue"
   ]
  },
  {
   "cell_type": "code",
   "execution_count": 2,
   "id": "84ac4794",
   "metadata": {},
   "outputs": [
    {
     "name": "stdout",
     "output_type": "stream",
     "text": [
      "0.04442763328552246\n"
     ]
    }
   ],
   "source": [
    "testAlphaValue = 0.078\n",
    "RadialTruncationFactor = 7\n",
    "\n",
    "starttime = time.time()\n",
    "#import filenames\n",
    "allfilenames = glob.glob(pathToSolutionSet+\"BHSpin*\")\n",
    "modeovertonebool = [bool(re.search(\"Mode_1_Overtone_0\", i)) for i in allfilenames]\n",
    "newallfilenames=[]\n",
    "for inx, boolval in enumerate(modeovertonebool):\n",
    "    if boolval:\n",
    "        newallfilenames.append(allfilenames[inx])\n",
    "allfilenames = newallfilenames\n",
    "\n",
    "#sort filenames\n",
    "unsorted_alphavalues = list(map(AlphaValFromFilename, allfilenames))\n",
    "index_sort = np.argsort(unsorted_alphavalues)\n",
    "alphavalues = np.array(unsorted_alphavalues)[index_sort]\n",
    "allfilenames = np.array(allfilenames)[index_sort]\n",
    "\n",
    "\n",
    "#selected closest neighbors\n",
    "minList = np.abs(alphavalues - testAlphaValue)\n",
    "firstNeighbor = np.argmin(minList)\n",
    "alphavaluesCopy = alphavalues.copy()\n",
    "alphavaluesCopy[firstNeighbor]=np.inf\n",
    "secondNeighbor = np.argmin(np.abs(alphavaluesCopy - testAlphaValue))\n",
    "alphaNeighborsIndex = (min([firstNeighbor, secondNeighbor]), max([firstNeighbor, secondNeighbor]))\n",
    "selectedfilenames = [allfilenames[i] for i in alphaNeighborsIndex]\n",
    "selecteddata = [np.load(i) for i in selectedfilenames]\n",
    "selectedalphas = alphavalues[[alphaNeighborsIndex[0],alphaNeighborsIndex[1]]]\n",
    "\n",
    "#extract data and generate interpolating function\n",
    "RadialData = [i[\"RadialData\"] for i in selecteddata]\n",
    "ThetaData = [i[\"ThetaData\"][0:100] for i in selecteddata]\n",
    "NewShape = (int(min([len(i) for i in RadialData])/RadialTruncationFactor), 100)\n",
    "RadialData = [i[:NewShape[0]] for i in RadialData]\n",
    "ThetaData = [i[:NewShape[1]] for i in ThetaData]\n",
    "\n",
    "EnData = [i[\"EnergyData\"][:NewShape[0],:NewShape[1] ] for i in selecteddata]\n",
    "interp = spint.RegularGridInterpolator((selectedalphas, RadialData[0], ThetaData[0]), EnData)\n",
    "coords = cartesian_product(np.array([testAlphaValue]), RadialData[0], ThetaData[0])\n",
    "InterpolatedEnergyValues = np.reshape(interp(coords), NewShape)\n",
    "InterpolationFunction = spint.RectBivariateSpline(RadialData[0], ThetaData[0], InterpolatedEnergyValues)\n",
    "\n",
    "\n",
    "\n",
    "\n",
    "\n",
    "\n",
    "\n",
    "endtime=time.time()\n",
    "print(endtime-starttime)\n"
   ]
  },
  {
   "cell_type": "code",
   "execution_count": 252,
   "id": "76badd0a",
   "metadata": {},
   "outputs": [],
   "source": [
    "xran = np.arange(RadialData[0][0], RadialData[0][-1], 0.5)\n",
    "yran = np.arange(0.001, np.pi-0.001, 0.001)\n",
    "zran = InterpolationFunction(xran,yran)"
   ]
  },
  {
   "cell_type": "code",
   "execution_count": 258,
   "id": "8b4daf2b",
   "metadata": {},
   "outputs": [
    {
     "data": {
      "image/png": "[encoded data removed]",
      "text/plain": [
       "<Figure size 432x288 with 1 Axes>"
      ]
     },
     "metadata": {
      "needs_background": "light"
     },
     "output_type": "display_data"
    }
   ],
   "source": [
    "plt.plot(xran, zran[:,1], label=\"Interpolated Values\")\n",
    "plt.plot(RadialData[0], EnData[0][:, 1], label=\"Original Values\")\n",
    "plt.legend();"
   ]
  },
  {
   "cell_type": "code",
   "execution_count": null,
   "id": "32daac3f",
   "metadata": {},
   "outputs": [],
   "source": []
  },
  {
   "cell_type": "code",
   "execution_count": null,
   "id": "cdc5a4d5",
   "metadata": {},
   "outputs": [],
   "source": []
  },
  {
   "cell_type": "code",
   "execution_count": null,
   "id": "517ae941",
   "metadata": {},
   "outputs": [],
   "source": []
  }
 ],
 "metadata": {
  "kernelspec": {
   "display_name": "Python 3",
   "language": "python",
   "name": "python3"
  },
  "language_info": {
   "codemirror_mode": {
    "name": "ipython",
    "version": 3
   },
   "file_extension": ".py",
   "mimetype": "text/x-python",
   "name": "python",
   "nbconvert_exporter": "python",
   "pygments_lexer": "ipython3",
   "version": "3.7.12"
  }
 },
 "nbformat": 4,
 "nbformat_minor": 5
}
