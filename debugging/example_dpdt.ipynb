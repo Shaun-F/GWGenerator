{
 "cells": [
  {
   "cell_type": "code",
   "execution_count": 3,
   "id": "aea3e10a",
   "metadata": {},
   "outputs": [],
   "source": [
    "import scipy\n",
    "from scipy.integrate import solve_ivp\n",
    "\n",
    "import numpy as np"
   ]
  },
  {
   "cell_type": "code",
   "execution_count": 39,
   "id": "6f1a967d",
   "metadata": {},
   "outputs": [],
   "source": [
    "class event_holder:\n",
    "    def __init__(self):\n",
    "        self.exit_reason=None\n",
    "\n",
    "event_handler = event_holder()\n",
    "def example_dpdt(t,vec):\n",
    "    p=vec[0]\n",
    "    pdot =  -p**2-1\n",
    "    return pdot\n",
    "\n",
    "t0 = 0\n",
    "tf = 100\n",
    "t_span = (t0, tf)\n",
    "npoints = 10000\n",
    "meth=\"DOP853\"\n",
    "\n",
    "def event_tracker(t,y_vec):\n",
    "    return y_vec[0]\n",
    "event_tracker.terminal=True\n",
    "\n",
    "lastpoints = []\n",
    "npoints = [1e2,1e3,1e4,1e5]\n",
    "for npoint in npoints:\n",
    "    t_eval = np.arange(t0,tf, (tf-t0)/npoint)\n",
    "    res=solve_ivp(example_dpdt, t_span, [10], method=meth,  t_eval=t_eval,events=event_tracker,max_step=(tf-t0)/npoint)\n",
    "    lastpoints.append(res[\"y\"][0][-1])"
   ]
  },
  {
   "cell_type": "code",
   "execution_count": 36,
   "id": "fca36afb",
   "metadata": {},
   "outputs": [
    {
     "name": "stdout",
     "output_type": "stream",
     "text": [
      "termination reason: A termination event occurred. \n",
      " Last points -1.6371452804531117e-17 \n"
     ]
    }
   ],
   "source": [
    "print(\"termination reason: {0} \\n Last points {1} \".format(res.message, res[\"y\"][0][-1]))"
   ]
  },
  {
   "cell_type": "code",
   "execution_count": 40,
   "id": "d5be0fee",
   "metadata": {},
   "outputs": [
    {
     "data": {
      "text/plain": [
       "[0.5093786815708097,\n",
       " 0.07124437856286264,\n",
       " 0.0011276747817659544,\n",
       " 0.00012767430442877075]"
      ]
     },
     "execution_count": 40,
     "metadata": {},
     "output_type": "execute_result"
    }
   ],
   "source": [
    "lastpoints"
   ]
  },
  {
   "cell_type": "code",
   "execution_count": null,
   "id": "ea52b15d",
   "metadata": {},
   "outputs": [],
   "source": []
  }
 ],
 "metadata": {
  "kernelspec": {
   "display_name": "Python 3",
   "language": "python",
   "name": "python3"
  },
  "language_info": {
   "codemirror_mode": {
    "name": "ipython",
    "version": 3
   },
   "file_extension": ".py",
   "mimetype": "text/x-python",
   "name": "python",
   "nbconvert_exporter": "python",
   "pygments_lexer": "ipython3",
   "version": "3.7.12"
  }
 },
 "nbformat": 4,
 "nbformat_minor": 5
}
