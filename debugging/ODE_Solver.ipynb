{
 "cells": [
  {
   "cell_type": "code",
   "execution_count": 1,
   "id": "8ec4440a",
   "metadata": {},
   "outputs": [
    {
     "name": "stdout",
     "output_type": "stream",
     "text": [
      "alpha = 0.25442669409345564\n"
     ]
    }
   ],
   "source": [
    "import scipy as sp\n",
    "import scipy.integrate as spint8\n",
    "import GWGen; from GWGen import WFGenerator\n",
    "from GWGen.WFGenerator import *\n",
    "from few.utils.utility import get_separatrix\n",
    "import time\n",
    "\n",
    "# set initial parameters\n",
    "M = 1e6\n",
    "m = 1e1\n",
    "mu = 3.4e-17\n",
    "a = 0.9\n",
    "p0 = 10.0\n",
    "e0 = 0.1\n",
    "iota0 = 0.0\n",
    "Y0 = np.cos(iota0)\n",
    "Phi_phi0 = 0.\n",
    "Phi_theta0 =0.\n",
    "Phi_r0 = 0.\n",
    "\n",
    "\n",
    "qS = 0.2\n",
    "phiS = 0.8\n",
    "qK = 0.2\n",
    "phiK = 0.8\n",
    "dist = 1.0\n",
    "mich = False\n",
    "dt = 15.0\n",
    "T = 5.0\n",
    "\n",
    "alphaval = alphavalue(M,mu)\n",
    "print(r\"alpha = {0}\".format(alphaval))\n",
    "\n",
    "\n",
    "use_gpu = False\n",
    "\n",
    "# keyword arguments for inspiral generator (RunKerrGenericPn5Inspiral)\n",
    "inspiral_kwargs = {\n",
    "    \"npoints\": 500,  # we want a densely sampled trajectory\n",
    "    \"max_init_len\": int(1e3),  # all of the trajectories will be well under len = 1000\n",
    "}\n",
    "\n",
    "# keyword arguments for summation generator (AAKSummation)\n",
    "sum_kwargs = {\n",
    "    \"use_gpu\": use_gpu,  # GPU is availabel for this type of summation\n",
    "    \"pad_output\": False,\n",
    "}"
   ]
  },
  {
   "cell_type": "code",
   "execution_count": 20,
   "id": "5806963d",
   "metadata": {},
   "outputs": [],
   "source": [
    "diffeq=PN(M,m)\n",
    "yrtosec = 60*60*24*365\n",
    "t_start = 0\n",
    "t_stop = 5*yrtosec\n",
    "t_span = (t_start, t_stop)\n",
    "t_dom = np.arange(t_start,t_stop, 1/48 * yrtosec)\n",
    "y0 = [10,0.5,0,0]\n",
    "meth = \"DOP853\" #runge kutta order 8\n",
    "dense_output = True\n",
    "run = True\n",
    "SEPARATRIXCUTOFF=0.2\n",
    "Init_Separatrix=get_separatrix(float(a), y0[1], 1.)\n",
    "diffeq.separatrix_cutoff=Init_Separatrix\n",
    "def event_tracker(t,y_vec):\n",
    "    p,e = y_vec[0:2] \n",
    "    if e>=1.0 or e<0:\n",
    "        exit_reason=\"Eccentricity exceeded bounds\"\n",
    "        return 0\n",
    "    if p<SEPARATRIXCUTOFF+Init_Separatrix:\n",
    "        exit_reason=\"Separatrix reached!\"\n",
    "        return 0\n",
    "    return 1\n",
    "event_tracker.terminal=True\n",
    "\n",
    "res=spint8.solve_ivp(diffeq,t_span, y0, method=meth, t_eval=t_dom, dense_output=dense_output,events=event_tracker)"
   ]
  },
  {
   "cell_type": "code",
   "execution_count": 21,
   "id": "b207274a",
   "metadata": {},
   "outputs": [],
   "source": [
    "tpoints = res[\"t\"]\n",
    "ppoints = res[\"y\"][0]"
   ]
  },
  {
   "cell_type": "code",
   "execution_count": 25,
   "id": "6b1a9128",
   "metadata": {},
   "outputs": [
    {
     "data": {
      "text/plain": [
       "array([9.99999908, 0.49999993, 0.2143921 , 0.16604263])"
      ]
     },
     "execution_count": 25,
     "metadata": {},
     "output_type": "execute_result"
    }
   ],
   "source": [
    "res['sol'](10)"
   ]
  },
  {
   "cell_type": "code",
   "execution_count": null,
   "id": "f4c20eb2",
   "metadata": {},
   "outputs": [],
   "source": []
  }
 ],
 "metadata": {
  "kernelspec": {
   "display_name": "Python 3",
   "language": "python",
   "name": "python3"
  },
  "language_info": {
   "codemirror_mode": {
    "name": "ipython",
    "version": 3
   },
   "file_extension": ".py",
   "mimetype": "text/x-python",
   "name": "python",
   "nbconvert_exporter": "python",
   "pygments_lexer": "ipython3",
   "version": "3.7.12"
  }
 },
 "nbformat": 4,
 "nbformat_minor": 5
}
