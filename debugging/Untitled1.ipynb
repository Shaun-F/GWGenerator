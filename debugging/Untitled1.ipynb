{
 "cells": [
  {
   "cell_type": "code",
   "execution_count": 4,
   "id": "38171cee",
   "metadata": {},
   "outputs": [],
   "source": [
    "import numpy as np\n",
    "from numpy import array\n",
    "import scipy.interpolate as spint\n",
    "import matplotlib.pyplot as plt"
   ]
  },
  {
   "cell_type": "code",
   "execution_count": 5,
   "id": "131dfe67",
   "metadata": {},
   "outputs": [
    {
     "data": {
      "image/png": "[encoded data removed]",
      "text/plain": [
       "<Figure size 432x288 with 1 Axes>"
      ]
     },
     "metadata": {
      "needs_background": "light"
     },
     "output_type": "display_data"
    }
   ],
   "source": [
    "TMPenden=array([[[0.00033903, 0.00034132, 0.00034312, 0.00034442, 0.0003452 ,\n",
    "         0.00034547, 0.0003452 , 0.00034441, 0.00034311, 0.0003413 ],\n",
    "        [0.00041104, 0.0004126 , 0.00041383, 0.00041471, 0.00041524,\n",
    "         0.00041542, 0.00041524, 0.00041471, 0.00041382, 0.00041259],\n",
    "        [0.00044731, 0.00044845, 0.00044934, 0.00044999, 0.00045037,\n",
    "         0.0004505 , 0.00045037, 0.00044998, 0.00044934, 0.00044844],\n",
    "        [0.00046978, 0.00047068, 0.00047138, 0.00047189, 0.00047219,\n",
    "         0.00047229, 0.00047219, 0.00047188, 0.00047138, 0.00047067],\n",
    "        [0.00048431, 0.00048505, 0.00048563, 0.00048604, 0.00048629,\n",
    "         0.00048638, 0.00048629, 0.00048604, 0.00048563, 0.00048504],\n",
    "        [0.00049386, 0.00049449, 0.00049499, 0.00049534, 0.00049555,\n",
    "         0.00049562, 0.00049555, 0.00049534, 0.00049498, 0.00049449],\n",
    "        [0.00050013, 0.00050068, 0.00050111, 0.00050142, 0.0005016 ,\n",
    "         0.00050166, 0.0005016 , 0.00050142, 0.00050111, 0.00050068],\n",
    "        [0.00050414, 0.00050462, 0.000505  , 0.00050527, 0.00050544,\n",
    "         0.00050549, 0.00050544, 0.00050527, 0.000505  , 0.00050462],\n",
    "        [0.00050653, 0.00050696, 0.0005073 , 0.00050754, 0.00050769,\n",
    "         0.00050774, 0.00050769, 0.00050754, 0.0005073 , 0.00050696],\n",
    "        [0.00050773, 0.00050812, 0.00050843, 0.00050865, 0.00050878,\n",
    "         0.00050882, 0.00050878, 0.00050865, 0.00050843, 0.00050812]],\n",
    "\n",
    "       [[0.00047842, 0.00048166, 0.00048422, 0.00048606, 0.00048717,\n",
    "         0.00048755, 0.00048717, 0.00048605, 0.0004842 , 0.00048164],\n",
    "        [0.00058177, 0.00058398, 0.00058571, 0.00058696, 0.00058771,\n",
    "         0.00058796, 0.00058771, 0.00058695, 0.0005857 , 0.00058396],\n",
    "        [0.00063274, 0.00063436, 0.00063562, 0.00063653, 0.00063708,\n",
    "         0.00063726, 0.00063708, 0.00063653, 0.00063562, 0.00063435],\n",
    "        [0.00066297, 0.00066424, 0.00066524, 0.00066595, 0.00066638,\n",
    "         0.00066653, 0.00066638, 0.00066595, 0.00066523, 0.00066424],\n",
    "        [0.00068146, 0.00068251, 0.00068333, 0.00068392, 0.00068427,\n",
    "         0.00068439, 0.00068427, 0.00068392, 0.00068333, 0.00068251],\n",
    "        [0.00069271, 0.00069361, 0.0006943 , 0.0006948 , 0.0006951 ,\n",
    "         0.0006952 , 0.0006951 , 0.0006948 , 0.0006943 , 0.0006936 ],\n",
    "        [0.00069925, 0.00070002, 0.00070062, 0.00070106, 0.00070132,\n",
    "         0.00070141, 0.00070132, 0.00070106, 0.00070062, 0.00070001],\n",
    "        [0.00070256, 0.00070325, 0.00070378, 0.00070416, 0.00070439,\n",
    "         0.00070447, 0.00070439, 0.00070416, 0.00070378, 0.00070324],\n",
    "        [0.00070361, 0.00070422, 0.0007047 , 0.00070505, 0.00070525,\n",
    "         0.00070532, 0.00070525, 0.00070504, 0.0007047 , 0.00070422],\n",
    "        [0.00070302, 0.00070358, 0.00070401, 0.00070432, 0.0007045 ,\n",
    "         0.00070457, 0.0007045 , 0.00070432, 0.00070401, 0.00070357]],\n",
    "\n",
    "       [[0.00064677, 0.00065116, 0.00065462, 0.00065712, 0.00065863,\n",
    "         0.00065914, 0.00065863, 0.00065711, 0.00065461, 0.00065114],\n",
    "        [0.00078754, 0.00079052, 0.00079286, 0.00079455, 0.00079556,\n",
    "         0.0007959 , 0.00079556, 0.00079454, 0.00079285, 0.0007905 ],\n",
    "        [0.00085515, 0.00085733, 0.00085904, 0.00086027, 0.00086101,\n",
    "         0.00086126, 0.00086101, 0.00086026, 0.00085903, 0.00085732],\n",
    "        [0.00089318, 0.0008949 , 0.00089624, 0.0008972 , 0.00089778,\n",
    "         0.00089798, 0.00089778, 0.0008972 , 0.00089623, 0.00089489],\n",
    "        [0.00091474, 0.00091616, 0.00091726, 0.00091805, 0.00091853,\n",
    "         0.00091869, 0.00091853, 0.00091805, 0.00091726, 0.00091615],\n",
    "        [0.00092632, 0.00092752, 0.00092845, 0.00092913, 0.00092953,\n",
    "         0.00092967, 0.00092953, 0.00092912, 0.00092845, 0.00092751],\n",
    "        [0.00093148, 0.00093252, 0.00093333, 0.00093391, 0.00093426,\n",
    "         0.00093438, 0.00093426, 0.00093391, 0.00093332, 0.00093251],\n",
    "        [0.00093233, 0.00093325, 0.00093396, 0.00093448, 0.00093479,\n",
    "         0.00093489, 0.00093478, 0.00093447, 0.00093396, 0.00093324],\n",
    "        [0.0009302 , 0.00093102, 0.00093166, 0.00093212, 0.00093239,\n",
    "         0.00093248, 0.00093239, 0.00093211, 0.00093166, 0.00093102],\n",
    "        [0.00092595, 0.00092669, 0.00092726, 0.00092768, 0.00092792,\n",
    "         0.00092801, 0.00092792, 0.00092767, 0.00092726, 0.00092668]]])\n",
    "TMPraddata=array([ 2.43597707,  3.43597707,  4.43597707,  5.43597707,  6.43597707,\n",
    "        7.43597707,  8.43597707,  9.43597707, 10.43597707, 11.43597707])\n",
    "TMPthetadata=array([1.41381669, 1.44523262, 1.47664855, 1.50806447, 1.5394804 ,\n",
    "       1.57089633, 1.60231225, 1.63372818, 1.66514411, 1.69656003])\n",
    "TMPalpha = np.array([0.06,0.07,0.08])\n",
    "\n",
    "coords = np.asarray([[alpha,r,theta] for alpha in TMPalpha for r in TMPraddata for theta in TMPthetadata])\n",
    "yvalues = np.ravel(TMPenden)\n",
    "tmprbf = spint.RBFInterpolator(\n",
    "    coords,\n",
    "    yvalues,\n",
    "    neighbors=1000,\n",
    "    kernel='linear',\n",
    "    smoothing=0,\n",
    "    degree=2\n",
    ")\n",
    "\n",
    "tmpalpha = 0.6\n",
    "pnts = [[tmpalpha,i,TMPthetadata[5]] for i in TMPraddata]\n",
    "datpnts = tmprbf(pnts)\n",
    "plt.scatter(TMPraddata, datpnts, label=\"Radial Basis Function\",marker=\".\", linewidth=.5)\n",
    "plt.plot(TMPraddata, TMPenden[0,:,5],label=\"Data\")\n",
    "plt.legend();"
   ]
  },
  {
   "cell_type": "code",
   "execution_count": null,
   "id": "c1bacfc9",
   "metadata": {},
   "outputs": [],
   "source": []
  }
 ],
 "metadata": {
  "kernelspec": {
   "display_name": "Python 3",
   "language": "python",
   "name": "python3"
  },
  "language_info": {
   "codemirror_mode": {
    "name": "ipython",
    "version": 3
   },
   "file_extension": ".py",
   "mimetype": "text/x-python",
   "name": "python",
   "nbconvert_exporter": "python",
   "pygments_lexer": "ipython3",
   "version": "3.7.12"
  }
 },
 "nbformat": 4,
 "nbformat_minor": 5
}
