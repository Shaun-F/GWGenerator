{
 "cells": [
  {
   "cell_type": "code",
   "execution_count": 4,
   "id": "3ba48cab",
   "metadata": {},
   "outputs": [],
   "source": [
    "import numpy as np\n",
    "import glob\n",
    "import os,sys\n",
    "import pandas as pd\n",
    "import re\n",
    "curr_path = sys.path[0]\n",
    "os.chdir(curr_path+\"/../Analytic_Flux/\")\n",
    "curr_path = os.getcwd()+\"/\"\n",
    "OutFolder = curr_path+\"ProcaEnDenData/\"\n",
    "InFolder = curr_path+\"CSVData/\"\n",
    "\n",
    "if not os.path.exists(OutFolder):\n",
    "    os.mkdir(OutFolder)\n",
    "def contains_str(str, regex):\n",
    "    _regex = re.compile(regex)\n",
    "    return bool(_regex.search(str))"
   ]
  },
  {
   "cell_type": "code",
   "execution_count": 5,
   "id": "8b9c9b08",
   "metadata": {},
   "outputs": [],
   "source": [
    "allfiles = glob.glob(InFolder+\"*\")\n",
    "allfilenames = np.array(list(map(os.path.basename, allfiles)))\n",
    "fun = lambda str: contains_str(str, \"EnergyDensityCOORDS*\")\n",
    "COORDS_filenames = allfilenames[list(map(fun, allfilenames))]\n",
    "fun = lambda str: contains_str(str, \"EnergyDensityVALUES*\")\n",
    "VALUES_filenames = allfilenames[list(map(fun, allfilenames))]\n"
   ]
  },
  {
   "cell_type": "code",
   "execution_count": 3,
   "id": "fbf2db5c",
   "metadata": {},
   "outputs": [],
   "source": [
    "coordvaluepair = []\n",
    "for valuestr in VALUES_filenames:\n",
    "    try:\n",
    "        data_name = valuestr[20:]\n",
    "        truth = [i[20:]==valuestr[20:] for i in COORDS_filenames]\n",
    "        coordstr = COORDS_filenames[truth][0]\n",
    "        coord_data = pd.read_csv(InFolder+coordstr, header=None, na_values=\"None\")\n",
    "        value_data = pd.read_csv(InFolder+valuestr, header=None, na_values=\"None\")\n",
    "        rdata = coord_data[0].dropna().values\n",
    "        thdata = coord_data[1].dropna().values\n",
    "        valuedata = value_data.values\n",
    "\n",
    "        out_filename = OutFolder+data_name[:-4]\n",
    "        np.savez(out_filename, RadialData=rdata, ThetaData=thdata, EnergyData=valuedata)\n",
    "    except KeyError:\n",
    "        print(\"Error at: \\n\\t {0} \\n\\t {1}\\n skipping \\n\".format(valuestr,coordstr))"
   ]
  },
  {
   "cell_type": "code",
   "execution_count": 13,
   "id": "ef58391b",
   "metadata": {},
   "outputs": [],
   "source": [
    "alldata = np.array(glob.glob(OutFolder+\"/*\"))"
   ]
  },
  {
   "cell_type": "code",
   "execution_count": 14,
   "id": "5c1e1deb",
   "metadata": {},
   "outputs": [],
   "source": [
    "alldata\n",
    "modeovertonedata = alldata[[i[-21:-4]==\"Mode_\"+str(1)+\"_Overtone_\"+str(0) for i in alldata]]\n",
    "alpha_regex= re.compile(\"Alpha_\\d+_\\d+\")\n",
    "alpha_matches = np.array([alpha_regex.findall(string) for string in modeovertonedata])\n",
    "value_regex = re.compile(\"\\d+\")\n",
    "numdoms = [list(map(float, value_regex.findall(st[0]))) for st in alpha_matches]\n",
    "alphas=np.array([i[0]/i[1] for i in numdoms])\n",
    "tmp =np.abs(0.5-alphas)\n",
    "index = np.where(tmp==tmp.min())\n",
    "result = np.array(modeovertonedata)[index][0]"
   ]
  },
  {
   "cell_type": "code",
   "execution_count": 15,
   "id": "86b0b888",
   "metadata": {},
   "outputs": [],
   "source": [
    "data=np.load(result)"
   ]
  },
  {
   "cell_type": "code",
   "execution_count": 16,
   "id": "0768ff1a",
   "metadata": {},
   "outputs": [
    {
     "data": {
      "text/plain": [
       "(287, 100)"
      ]
     },
     "execution_count": 16,
     "metadata": {},
     "output_type": "execute_result"
    }
   ],
   "source": [
    "data[\"EnergyData\"].shape"
   ]
  },
  {
   "cell_type": "code",
   "execution_count": 17,
   "id": "61832b49",
   "metadata": {},
   "outputs": [
    {
     "data": {
      "text/plain": [
       "(287,)"
      ]
     },
     "execution_count": 17,
     "metadata": {},
     "output_type": "execute_result"
    }
   ],
   "source": [
    "data[\"RadialData\"].shape"
   ]
  },
  {
   "cell_type": "code",
   "execution_count": 18,
   "id": "0da9e449",
   "metadata": {},
   "outputs": [
    {
     "data": {
      "text/plain": [
       "(100,)"
      ]
     },
     "execution_count": 18,
     "metadata": {},
     "output_type": "execute_result"
    }
   ],
   "source": [
    "data[\"ThetaData\"].shape"
   ]
  },
  {
   "cell_type": "code",
   "execution_count": 19,
   "id": "e13515bf",
   "metadata": {},
   "outputs": [
    {
     "data": {
      "text/plain": [
       "0.02"
      ]
     },
     "execution_count": 19,
     "metadata": {},
     "output_type": "execute_result"
    }
   ],
   "source": [
    "alphas.min()"
   ]
  },
  {
   "cell_type": "code",
   "execution_count": null,
   "id": "025f722c",
   "metadata": {},
   "outputs": [],
   "source": []
  }
 ],
 "metadata": {
  "kernelspec": {
   "display_name": "Python 3",
   "language": "python",
   "name": "python3"
  },
  "language_info": {
   "codemirror_mode": {
    "name": "ipython",
    "version": 3
   },
   "file_extension": ".py",
   "mimetype": "text/x-python",
   "name": "python",
   "nbconvert_exporter": "python",
   "pygments_lexer": "ipython3",
   "version": "3.7.12"
  }
 },
 "nbformat": 4,
 "nbformat_minor": 5
}
