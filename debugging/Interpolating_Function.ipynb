{
 "cells": [
  {
   "cell_type": "code",
   "execution_count": 9,
   "id": "fc170555",
   "metadata": {},
   "outputs": [],
   "source": [
    "import os, sys, glob, json, scipy as sp\n",
    "import matplotlib.pyplot as plt\n",
    "import itertools\n",
    "os.chdir(\"../\")\n",
    "path = os.getcwd()\n",
    "sys.path.insert(0, path)\n",
    "import GWGen\n",
    "from GWGen.DressedFluxes import *\n",
    "import numpy as np\n",
    "from numpy import array\n",
    "import scipy as sp\n",
    "import time\n",
    "import scipy.optimize as spopt\n",
    "import scipy.interpolate as spint\n",
    "import glob\n",
    "import matplotlib.pyplot as plt\n",
    "import re\n",
    "alpha_match_1 = re.compile(\"Alpha_\\d+_\\d+\")\n",
    "alpha_match_2 = re.compile(\"Alpha_\\d+\")\n",
    "modeovertonematch = re.compile(\"Mode_1_Overtone_0\")\n",
    "alpha_rege = re.compile(\"\\d+\")\n",
    "def cartesian_product(*arrays):\n",
    "    la = len(arrays)\n",
    "    dtype = np.result_type(*arrays)\n",
    "    arr = np.empty([len(a) for a in arrays] + [la], dtype=dtype)\n",
    "    for i, a in enumerate(np.ix_(*arrays)):\n",
    "        arr[...,i] = a\n",
    "    return arr.reshape(-1, la)\n",
    "allfilenames=glob.glob(pathToSolutionSet+\"BHSpin*\")"
   ]
  },
  {
   "cell_type": "code",
   "execution_count": null,
   "id": "864ec416",
   "metadata": {},
   "outputs": [],
   "source": [
    "\n",
    "alldata = [np.load(i) for i in allfilenames]\n",
    "modeovertonebool  = [bool(re.search(\"Mode_1_Overtone_0\",i.fid.name)) for i in alldata]\n",
    "newalldata =[]\n",
    "for inx,boolval in enumerate(modeovertonebool):\n",
    "    if boolval:\n",
    "        newalldata.append(alldata[inx])\n",
    "alldata = newalldata"
   ]
  },
  {
   "cell_type": "code",
   "execution_count": null,
   "id": "18d7dcfc",
   "metadata": {},
   "outputs": [],
   "source": [
    "interpdat = []\n",
    "for inx,dat in enumerate(alldata):\n",
    "    raddat = dat[\"RadialData\"]\n",
    "    thetdat = dat[\"ThetaData\"][0:100]\n",
    "    nonnanthetdat = notnan(thetdat)\n",
    "    if len(nonnanthetdat)>100:\n",
    "        nonnanthetdat[0:100]\n",
    "    endat = dat[\"EnergyData\"][:,nonnanthetdat]\n",
    "    interpfunc = spint.RectBivariateSpline(raddat,thetdat[nonnanthetdat],endat)\n",
    "    alphastr = alpha_match_1.findall(dat.fid.name)\n",
    "    if len(alphastr)==0:\n",
    "        alphastr=alpha_match_2.findall(dat.fid.name)\n",
    "    if isinstance(alphastr, str):\n",
    "        pass\n",
    "    elif isinstance(alphastr,list):\n",
    "        alphastr=alphastr[0]\n",
    "    alphapieces = alpha_rege.findall(alphastr)\n",
    "    if len(alphapieces)>1:\n",
    "        alphavalue = float(alphapieces[0])/float(alphapieces[1])\n",
    "    else:\n",
    "        alphavalue = float(alphapieces[0])\n",
    "    out = [alphavalue,min(raddat), max(raddat), min(thetdat), max(thetdat), interpfunc]\n",
    "    interpdat.append(out)"
   ]
  },
  {
   "cell_type": "code",
   "execution_count": null,
   "id": "a2e0e7d2",
   "metadata": {},
   "outputs": [],
   "source": [
    "alphavals = []\n",
    "maxradial = []\n",
    "maxendens = []\n",
    "interpsfuncs = []\n",
    "for inx, interptuple in enumerate(interpdat):\n",
    "    alpha, minr,maxr,mint,maxt,interpfunc = interptuple\n",
    "    rad = 50\n",
    "    thet = np.pi/2\n",
    "    interpdata = interpfunc(rad,thet)\n",
    "    maxenden = max(interpdata)\n",
    "    maxradial.append(maxr)\n",
    "    alphavals.append(alpha)\n",
    "    maxendens.append(maxenden)\n",
    "    interpsfuncs.append(interpfunc)"
   ]
  },
  {
   "cell_type": "code",
   "execution_count": null,
   "id": "2803b943",
   "metadata": {},
   "outputs": [],
   "source": [
    "indexsort = np.argsort(alphavals)\n",
    "sorted_alphavals = np.asarray(alphavals)[indexsort]\n",
    "sorted_interpfuncs = np.asarray(interpsfuncs)[indexsort]\n",
    "sorted_maxradial = np.asarray(maxradial)[indexsort]"
   ]
  },
  {
   "cell_type": "code",
   "execution_count": null,
   "id": "d77ac071",
   "metadata": {},
   "outputs": [],
   "source": [
    "takenumber = 2\n",
    "take_alphavalues = sorted_alphavals[:takenumber]\n",
    "minmaxrad = min(sorted_maxradial[:takenumber])\n",
    "maxmaxrad = max(sorted_maxradial[:takenumber])\n",
    "radialdom = np.arange(minr, minmaxrad,1)\n",
    "take_interpfuncs = sorted_interpfuncs[:takenumber]"
   ]
  },
  {
   "cell_type": "code",
   "execution_count": null,
   "id": "d40fd53f",
   "metadata": {},
   "outputs": [],
   "source": [
    "energydata"
   ]
  },
  {
   "cell_type": "code",
   "execution_count": null,
   "id": "75b427d8",
   "metadata": {},
   "outputs": [],
   "source": [
    "aa =time.time()\n",
    "alpharange = take_alphavalues\n",
    "radialrange = radialdom[:int(len(radialdom)/3)]\n",
    "thetarange = thetdat\n",
    "energydata = np.asarray([i(radialrange,thetarange) for i in take_interpfuncs])\n",
    "RGI = spint.RegularGridInterpolator((alpharange,radialrange,thetarange), energydata, fill_value=None, bounds_error=False, method=\"linear\")\n",
    "bb=time.time()\n",
    "print(bb-aa)\n",
    "coords = cartesian_product(np.array([0.065]), radialrange, thetarange)\n",
    "dd=time.time(); print(\"coords: \", dd-bb)\n",
    "RGIdata = np.reshape(RGI(coords), ( len(radialrange), len(thetarange)))\n",
    "cc=time.time(); print(\"RGI data: \",cc-dd)\n",
    "RBI = spint.RectBivariateSpline(radialrange, thetarange, RGIdata)\n",
    "print(time.time()-cc)"
   ]
  },
  {
   "cell_type": "code",
   "execution_count": null,
   "id": "c16f0dbf",
   "metadata": {},
   "outputs": [],
   "source": [
    "tmpRBIdata = RBI(radialrange, thetarange)[:,50]\n",
    "tmpRGIdata = RGIdata[:,50]\n",
    "plt.plot(tmpRBIdata)\n",
    "plt.plot(tmpRGIdata)\n",
    "plt.show();\n",
    "plt.plot(tmpRBIdata-tmpRGIdata);"
   ]
  },
  {
   "cell_type": "code",
   "execution_count": null,
   "id": "8fb49afc",
   "metadata": {},
   "outputs": [],
   "source": []
  },
  {
   "cell_type": "code",
   "execution_count": null,
   "id": "4870cf72",
   "metadata": {},
   "outputs": [],
   "source": []
  },
  {
   "cell_type": "code",
   "execution_count": null,
   "id": "d2ea84f1",
   "metadata": {},
   "outputs": [],
   "source": []
  },
  {
   "cell_type": "code",
   "execution_count": null,
   "id": "b08fc8b1",
   "metadata": {},
   "outputs": [],
   "source": []
  },
  {
   "cell_type": "code",
   "execution_count": null,
   "id": "3b9e0845",
   "metadata": {},
   "outputs": [],
   "source": [
    "coords = np.asarray([[alpha, r, theta] for alpha in alpharange for r in radialdom for theta in thetarange])"
   ]
  },
  {
   "cell_type": "code",
   "execution_count": null,
   "id": "f77251e9",
   "metadata": {},
   "outputs": [],
   "source": [
    "energydatain = np.ravel(energydata)\n",
    "rbfint = spint.RBFInterpolator(coords,energydatain, neighbors=800,kernel=\"linear\",smoothing=0,degree=0)"
   ]
  },
  {
   "cell_type": "code",
   "execution_count": null,
   "id": "f23c5934",
   "metadata": {},
   "outputs": [],
   "source": []
  },
  {
   "cell_type": "code",
   "execution_count": null,
   "id": "61fa7b4b",
   "metadata": {},
   "outputs": [],
   "source": []
  },
  {
   "cell_type": "code",
   "execution_count": null,
   "id": "098634fa",
   "metadata": {},
   "outputs": [],
   "source": []
  },
  {
   "cell_type": "code",
   "execution_count": null,
   "id": "91666db0",
   "metadata": {},
   "outputs": [],
   "source": []
  },
  {
   "cell_type": "code",
   "execution_count": null,
   "id": "d3168f92",
   "metadata": {},
   "outputs": [],
   "source": []
  },
  {
   "cell_type": "code",
   "execution_count": null,
   "id": "2e3d2d5d",
   "metadata": {},
   "outputs": [],
   "source": []
  },
  {
   "cell_type": "code",
   "execution_count": null,
   "id": "e67dec26",
   "metadata": {},
   "outputs": [],
   "source": []
  },
  {
   "cell_type": "code",
   "execution_count": null,
   "id": "03b55f9d",
   "metadata": {},
   "outputs": [],
   "source": []
  },
  {
   "cell_type": "code",
   "execution_count": null,
   "id": "1f664711",
   "metadata": {},
   "outputs": [],
   "source": []
  },
  {
   "cell_type": "code",
   "execution_count": null,
   "id": "7075cbbe",
   "metadata": {},
   "outputs": [],
   "source": []
  },
  {
   "cell_type": "code",
   "execution_count": null,
   "id": "0a893c53",
   "metadata": {},
   "outputs": [],
   "source": []
  },
  {
   "cell_type": "code",
   "execution_count": null,
   "id": "906e1169",
   "metadata": {},
   "outputs": [],
   "source": []
  },
  {
   "cell_type": "code",
   "execution_count": null,
   "id": "bc71bd8c",
   "metadata": {},
   "outputs": [],
   "source": [
    "neighbordata = ProcaSolution._ProcaSolution__get_closest_datasets(1,0.0703415,0.85)\n",
    "alphane = neighbordata[\"alphaneighbors\"]\n",
    "spinne = neighbordata[\"bhspinneighbors\"]\n",
    "datasets = neighbordata[\"datasets\"]\n",
    "\n",
    "radialdata = [i[\"RadialData\"] for i in datasets]\n",
    "thetadata = [i[\"ThetaData\"] for i in datasets]\n",
    "newshape = (int(min([len(i) for i in radialdata])/7),100)\n",
    "radialdata = [i[:newshape[0]] for i in radialdata]\n",
    "thetadata = [i[:newshape[1]] for i in thetadata]\n",
    "\n",
    "rawen = [i[\"EnergyData\"][:newshape[0], :newshape[1]] for i in datasets]\n",
    "rawenoldshape = np.shape(rawen)\n",
    "#first index denotes bh spin value\n",
    "#second index denotes alpha value\n",
    "#third denotes radial value\n",
    "#fourth denotes theta value\n",
    "rawenreshaped = np.reshape(rawen, (2,2,rawenoldshape[1],rawenoldshape[2]))\n",
    "\n",
    "if not len(np.unique(spinne))==len(spinne) and not len(np.unique(alphane))==len(alphane):\n",
    "    interp = spint.RegularGridInterpolator((radialdata[0], thetadata[0]), rawenreshaped[0][0])\n",
    "    coords = cartesian_product(np.array(radialdata[0]), np.array(thetadata[0]))\n",
    "if not len(np.unique(spinne))==len(spinne) and len(np.unique(alphane))==len(alphane):\n",
    "    interp = spint.RegularGridInterpolator((alphane, radialdata[0], thetadata[0]), rawenreshaped[0])\n",
    "    coords = cartesian_product(np.array([0.07]), np.array(radialdata[0]), np.array(thetadata[0]))\n",
    "\n",
    "if len(np.unique(spinne))==len(spinne) and not len(np.unique(alphane))==len(alphane):\n",
    "    interp = spint.RegularGridInterpolator((spinne, radialdata[0], thetadata[0]), rawenreshaped[:,0])\n",
    "    coords = cartesian_product(np.array([0.85]),np.array(radialdata[0]), np.array(thetadata[0]))\n",
    "\n",
    "if len(np.unique(spinne))==len(spinne) and len(np.unique(alphane))==len(alphane):\n",
    "    interp = spint.RegularGridInterpolator((spinne, alphane, radialdata[0], thetadata[0]), rawenreshaped)\n",
    "    coords = cartesian_product(np.array([0.85]), np.array([0.07]),np.array(radialdata[0]), np.array(thetadata[0]))\n",
    "\n",
    "values = np.reshape(interp(coords), newshape)\n",
    "interp = spint.RectBivariateSpline(radialdata[0], thetadata[0], values)"
   ]
  },
  {
   "cell_type": "code",
   "execution_count": null,
   "id": "0f259252",
   "metadata": {},
   "outputs": [],
   "source": []
  },
  {
   "cell_type": "code",
   "execution_count": null,
   "id": "a72a3782",
   "metadata": {},
   "outputs": [],
   "source": []
  },
  {
   "cell_type": "code",
   "execution_count": null,
   "id": "69f78db7",
   "metadata": {},
   "outputs": [],
   "source": []
  },
  {
   "cell_type": "code",
   "execution_count": null,
   "id": "66b9984c",
   "metadata": {},
   "outputs": [],
   "source": []
  },
  {
   "cell_type": "code",
   "execution_count": null,
   "id": "2b916e29",
   "metadata": {},
   "outputs": [],
   "source": []
  },
  {
   "cell_type": "code",
   "execution_count": null,
   "id": "3d88fca7",
   "metadata": {},
   "outputs": [],
   "source": []
  },
  {
   "cell_type": "code",
   "execution_count": null,
   "id": "d1265189",
   "metadata": {},
   "outputs": [],
   "source": []
  },
  {
   "cell_type": "code",
   "execution_count": null,
   "id": "da2a83c9",
   "metadata": {},
   "outputs": [],
   "source": []
  },
  {
   "cell_type": "code",
   "execution_count": null,
   "id": "e578c5c0",
   "metadata": {},
   "outputs": [],
   "source": []
  },
  {
   "cell_type": "code",
   "execution_count": null,
   "id": "4a350ca4",
   "metadata": {},
   "outputs": [],
   "source": []
  },
  {
   "cell_type": "markdown",
   "id": "1dd6deaf",
   "metadata": {},
   "source": [
    "## Sorting Proca Data"
   ]
  },
  {
   "cell_type": "markdown",
   "id": "ac21c3f8",
   "metadata": {},
   "source": [
    "First sort by BHspin values, then group by alpha values and take neighboring data"
   ]
  },
  {
   "cell_type": "code",
   "execution_count": 12,
   "id": "f9d8b319",
   "metadata": {},
   "outputs": [],
   "source": [
    "test_bhspin = 0.79\n",
    "test_alpha = 0.135"
   ]
  },
  {
   "cell_type": "code",
   "execution_count": 18,
   "id": "359a41d2",
   "metadata": {},
   "outputs": [
    {
     "data": {
      "text/plain": [
       "0.058860063552856445"
      ]
     },
     "execution_count": 18,
     "metadata": {},
     "output_type": "execute_result"
    }
   ],
   "source": [
    "aa=time.time()\n",
    "bhspins = list(map(BHSpinValFromFilename,allfilenames))\n",
    "unsorted_alphavalues = list(map(AlphaValFromFilename, allfilenames))\n",
    "index_sort = np.argsort(bhspins)\n",
    "bhspins = np.array(bhspins)[index_sort]\n",
    "allfilenames = np.array(allfilenames)[index_sort]\n",
    "res=itertools.groupby(allfilenames, BHSpinValFromFilename)\n",
    "sorted_filenames={}\n",
    "for key,group in res:\n",
    "    grouplist = list(group)\n",
    "    alphas = list(map(AlphaValFromFilename, grouplist))\n",
    "    index_sort = np.argsort(alphas)\n",
    "    sorted_group = np.array(grouplist)[index_sort]\n",
    "    sorted_filenames[key] = sorted_group\n",
    "bhspins = list(sorted_filenames.keys())\n",
    "rindex = bisect_right(bhspins,test_bhspin)\n",
    "Larger_BHSpin_Datasets = sorted_filenames[bhspins[rindex]]\n",
    "Smaller_BHSpin_Datasets = sorted_filenames[bhspins[rindex-1]]\n",
    "Smaller_BHSpin_AlphaValues = list(map(AlphaValFromFilename, Smaller_BHSpin_Datasets))\n",
    "Larger_BHSpin_AlphaValues = list(map(AlphaValFromFilename, Larger_BHSpin_Datasets))\n",
    "assert test_alpha>Smaller_BHSpin_AlphaValues[0] and test_alpha<Smaller_BHSpin_AlphaValues[-1] and test_alpha>Larger_BHSpin_AlphaValues[0] and test_alpha<Larger_BHSpin_AlphaValues[-1], \"Error: Alpha value outside range of available data\"\n",
    "rindex_smaller = bisect_right(Smaller_BHSpin_AlphaValues, test_alpha)\n",
    "rindex_larger = bisect_right(Larger_BHSpin_AlphaValues, test_alpha)\n",
    "SmallerSmaller_Dataset = Smaller_BHSpin_Datasets[rindex_smaller-1]\n",
    "SmallerLarger_Dataset = Smaller_BHSpin_Datasets[rindex_smaller]\n",
    "LargerSmaller_Dataset = Larger_BHSpin_Datasets[rindex_larger-1]\n",
    "LargerLarger_Dataset = Larger_BHSpin_Datasets[rindex_larger]\n",
    "smallsmalldata = np.load(SmallerSmaller_Dataset)\n",
    "smalllargedata = np.load(SmallerLarger_Dataset)\n",
    "largesmalldata = np.load(LargerSmaller_Dataset)\n",
    "largelargedata = np.load(LargerLarger_Dataset)\n",
    "geninterp = lambda dat: spint.RectBivariateSpline(dat[\"RadialData\"], dat[\"ThetaData\"], dat[\"EnergyData\"])\n",
    "smallsmallinterp = geninterp(smallsmalldata)\n",
    "smalllargeinterp = geninterp(smalllargedata)\n",
    "largesmallinterp = geninterp(largesmalldata)\n",
    "largelargeinterp = geninterp(smalllargedata)\n",
    "\n",
    "time.time()-aa"
   ]
  },
  {
   "cell_type": "code",
   "execution_count": null,
   "id": "9aeae920",
   "metadata": {},
   "outputs": [],
   "source": [
    "print(SmallerSmaller_Dataset)\n",
    "print(SmallerLarger_Dataset)\n",
    "print(LargerSmaller_Dataset)\n",
    "print(LargerLarger_Dataset)"
   ]
  },
  {
   "cell_type": "code",
   "execution_count": null,
   "id": "72fd609e",
   "metadata": {},
   "outputs": [],
   "source": [
    "print(test_bhspin)\n",
    "print(test_alpha)"
   ]
  },
  {
   "cell_type": "code",
   "execution_count": null,
   "id": "b12c0e13",
   "metadata": {},
   "outputs": [],
   "source": [
    "39/50"
   ]
  },
  {
   "cell_type": "code",
   "execution_count": null,
   "id": "1d6286b1",
   "metadata": {},
   "outputs": [],
   "source": [
    "bhspins"
   ]
  },
  {
   "cell_type": "code",
   "execution_count": null,
   "id": "7d1618ab",
   "metadata": {},
   "outputs": [],
   "source": []
  },
  {
   "cell_type": "code",
   "execution_count": null,
   "id": "958c531d",
   "metadata": {},
   "outputs": [],
   "source": []
  },
  {
   "cell_type": "code",
   "execution_count": null,
   "id": "9f35192f",
   "metadata": {},
   "outputs": [],
   "source": []
  },
  {
   "cell_type": "code",
   "execution_count": null,
   "id": "a0369c56",
   "metadata": {},
   "outputs": [],
   "source": []
  },
  {
   "cell_type": "markdown",
   "id": "ba4247a5",
   "metadata": {},
   "source": [
    "# Check output of GWGen.DressedFluxes.Fluxes.ProcaSolution"
   ]
  },
  {
   "cell_type": "code",
   "execution_count": 50,
   "id": "bbaf5482",
   "metadata": {},
   "outputs": [
    {
     "data": {
      "text/latex": [
       "$0.28435925 \\; \\mathrm{}$"
      ],
      "text/plain": [
       "<Quantity 0.28435925>"
      ]
     },
     "execution_count": 50,
     "metadata": {},
     "output_type": "execute_result"
    }
   ],
   "source": [
    "M=1e6\n",
    "spin=0.879\n",
    "mu = 3.8e-17\n",
    "alpha =alphavalue(M,mu)\n",
    "alpha"
   ]
  },
  {
   "cell_type": "code",
   "execution_count": 51,
   "id": "79e7a31c",
   "metadata": {},
   "outputs": [
    {
     "name": "stdout",
     "output_type": "stream",
     "text": [
      "UltralightBoson instance not provided. Instantiating class...\n",
      "done.\n"
     ]
    }
   ],
   "source": [
    "pc = ProcaSolution(M,spin,mu)\n",
    "\n",
    "test_alpha = alpha\n",
    "test_bhspin = spin\n",
    "bhspins = list(map(BHSpinValFromFilename,allfilenames))\n",
    "unsorted_alphavalues = list(map(AlphaValFromFilename, allfilenames))\n",
    "index_sort = np.argsort(bhspins)\n",
    "bhspins = np.array(bhspins)[index_sort]\n",
    "allfilenames = np.array(allfilenames)[index_sort]\n",
    "res=itertools.groupby(allfilenames, BHSpinValFromFilename)\n",
    "sorted_filenames={}\n",
    "for key,group in res:\n",
    "    grouplist = list(group)\n",
    "    alphas = list(map(AlphaValFromFilename, grouplist))\n",
    "    index_sort = np.argsort(alphas)\n",
    "    sorted_group = np.array(grouplist)[index_sort]\n",
    "    sorted_filenames[key] = sorted_group\n",
    "bhspins = list(sorted_filenames.keys())\n",
    "rindex = bisect_right(bhspins,test_bhspin)\n",
    "Larger_BHSpin_Datasets = sorted_filenames[bhspins[rindex]]\n",
    "Smaller_BHSpin_Datasets = sorted_filenames[bhspins[rindex-1]]\n",
    "Smaller_BHSpin_AlphaValues = list(map(AlphaValFromFilename, Smaller_BHSpin_Datasets))\n",
    "Larger_BHSpin_AlphaValues = list(map(AlphaValFromFilename, Larger_BHSpin_Datasets))\n",
    "assert test_alpha>Smaller_BHSpin_AlphaValues[0] and test_alpha<Smaller_BHSpin_AlphaValues[-1] and test_alpha>Larger_BHSpin_AlphaValues[0] and test_alpha<Larger_BHSpin_AlphaValues[-1], \"Error: Alpha value outside range of available data\"\n",
    "rindex_smaller = bisect_right(Smaller_BHSpin_AlphaValues, test_alpha)\n",
    "rindex_larger = bisect_right(Larger_BHSpin_AlphaValues, test_alpha)\n",
    "SmallerSmaller_Dataset = Smaller_BHSpin_Datasets[rindex_smaller-1]\n",
    "SmallerLarger_Dataset = Smaller_BHSpin_Datasets[rindex_smaller]\n",
    "LargerSmaller_Dataset = Larger_BHSpin_Datasets[rindex_larger-1]\n",
    "LargerLarger_Dataset = Larger_BHSpin_Datasets[rindex_larger]\n",
    "smallsmalldata = np.load(SmallerSmaller_Dataset)\n",
    "smalllargedata = np.load(SmallerLarger_Dataset)\n",
    "largesmalldata = np.load(LargerSmaller_Dataset)\n",
    "largelargedata = np.load(LargerLarger_Dataset)\n",
    "geninterp = lambda dat: spint.RectBivariateSpline(dat[\"RadialData\"], dat[\"ThetaData\"], dat[\"EnergyData\"])\n",
    "smallsmallinterp = geninterp(smallsmalldata)\n",
    "smalllargeinterp = geninterp(smalllargedata)\n",
    "largesmallinterp = geninterp(largesmalldata)\n",
    "largelargeinterp = geninterp(smalllargedata)"
   ]
  },
  {
   "cell_type": "code",
   "execution_count": 52,
   "id": "77d77b30",
   "metadata": {},
   "outputs": [
    {
     "data": {
      "text/plain": [
       "<matplotlib.legend.Legend at 0x7f151e78ef10>"
      ]
     },
     "execution_count": 52,
     "metadata": {},
     "output_type": "execute_result"
    },
    {
     "data": {
      "image/png": "[encoded data removed]",
      "text/plain": [
       "<Figure size 640x480 with 1 Axes>"
      ]
     },
     "metadata": {},
     "output_type": "display_data"
    }
   ],
   "source": [
    "raddat = pc.radial_data[:300]\n",
    "plotfun = plt.semilogx\n",
    "plotfun(raddat, pc.enden(raddat,pc.theta_data[50]), label=\"Requested Data\", linestyle=\"--\",color=\"black\")\n",
    "plotfun(raddat, smallsmallinterp(raddat, pc.theta_data[50]), label=\"Small Small\", linestyle=\"dotted\",color=\"purple\")\n",
    "plotfun(raddat, smalllargeinterp(raddat, pc.theta_data[50]), label=\"Small large\", linestyle=\"dotted\",color=\"green\")\n",
    "plotfun(raddat, largesmallinterp(raddat, pc.theta_data[50]), label=\"large Small\",linestyle=\"dashdot\",color=\"Purple\")\n",
    "plotfun(raddat, largelargeinterp(raddat, pc.theta_data[50]), label=\"large large\",linestyle=(0, (3, 1, 1, 1)),color=\"brown\")\n",
    "plt.legend()"
   ]
  },
  {
   "cell_type": "code",
   "execution_count": null,
   "id": "aaa4d9bf",
   "metadata": {},
   "outputs": [],
   "source": []
  }
 ],
 "metadata": {
  "kernelspec": {
   "display_name": "Python 3",
   "language": "python",
   "name": "python3"
  },
  "language_info": {
   "codemirror_mode": {
    "name": "ipython",
    "version": 3
   },
   "file_extension": ".py",
   "mimetype": "text/x-python",
   "name": "python",
   "nbconvert_exporter": "python",
   "pygments_lexer": "ipython3",
   "version": "3.7.12"
  }
 },
 "nbformat": 4,
 "nbformat_minor": 5
}
