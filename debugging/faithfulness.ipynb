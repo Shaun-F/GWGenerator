{
 "cells": [
  {
   "cell_type": "code",
   "execution_count": 32,
   "id": "7ca56ab5",
   "metadata": {},
   "outputs": [
    {
     "name": "stdout",
     "output_type": "stream",
     "text": [
      "alpha = 0.22449414184716673\n",
      "initial p = 8\n"
     ]
    }
   ],
   "source": [
    "import os, sys\n",
    "os.chdir(\"../\")\n",
    "path = os.getcwd()\n",
    "sys.path.insert(0, path)\n",
    "import GWGen\n",
    "from GWGen.Utils import *\n",
    "from GWGen.WFGenerator import *\n",
    "import matplotlib.pyplot as plt\n",
    "\n",
    "\n",
    "\n",
    "# set initial parameters\n",
    "M = 100000\n",
    "m = 1e1\n",
    "mu = 3e-16\n",
    "e0 = 0.001\n",
    "p0 = 8#GetInitialP(M,e0)\n",
    "Phi_phi0 = 0.\n",
    "Phi_theta0 =0.\n",
    "Phi_r0 = 0.\n",
    "\n",
    "\n",
    "a=0.6 #SMBH Spin\n",
    "Y0=1. #Initial Inclincation\n",
    "qS=np.pi/4 #Sky Location Polar Angle in solar system barycenter coordinate system\n",
    "phiS=0. #Sky Location Azimuthal Angle in solar system barycenter coordinate system\n",
    "qK=1e-6 #Initial BH Spin Polar Angle in solar system barycenter coordinate system\n",
    "phiK=0. #Initial BH Spin Azimuthal Angle in solar system barycenter coordinate system\n",
    "dist=1. #Distance to source (Mpc)\n",
    "mich=False #assume LISA long baseline response approximation\n",
    "\n",
    "T=8 #LISA data run is 5 years. We set the max time to be longer because the proca cloud extends the inspiral time\n",
    "dt=15 #time resolution in seconds\n",
    "\n",
    "alphaval = alphavalue(M,mu)\n",
    "print(r\"alpha = {0}\".format(alphaval))\n",
    "print(\"initial p = {0}\".format(p0))\n",
    "\n",
    "\n",
    "use_gpu = False\n",
    "\n",
    "# keyword arguments for inspiral generator (RunKerrGenericPn5Inspiral)\n",
    "insp_kwargs = {\n",
    "    \"npoints\": 110,  # we want a densely sampled trajectory\n",
    "    \"max_init_len\": int(1e3),  # all of the trajectories will be well under len = 1000\n",
    "    \"dense_output\":True\n",
    "}\n",
    "\n",
    "# keyword arguments for summation generator (AAKSummation)\n",
    "sum_kwargs = {\n",
    "    \"use_gpu\": use_gpu,  # GPU is availabel for this type of summation\n",
    "    \"pad_output\": False,\n",
    "}\n",
    "\n",
    "WithoutProcaInspiralKwargs = insp_kwargs.copy()\n",
    "WithoutProcaSumKwargs=sum_kwargs.copy()\n",
    "withoutprocagen = EMRIWaveform(inspiral_kwargs=WithoutProcaInspiralKwargs, sum_kwargs=WithoutProcaSumKwargs, use_gpu=False)"
   ]
  },
  {
   "cell_type": "code",
   "execution_count": 33,
   "id": "b5877b29",
   "metadata": {},
   "outputs": [
    {
     "ename": "SystemError",
     "evalue": "<built-in function pyKerrGeoCoordinateFrequencies> returned a result with an error set",
     "output_type": "error",
     "traceback": [
      "\u001b[0;31m---------------------------------------------------------------------------\u001b[0m",
      "\u001b[0;31mSystemError\u001b[0m                               Traceback (most recent call last)",
      "\u001b[0;31mSystemError\u001b[0m: EllipticPi failed with argument k: 1.000000e+00 / Error code: 1",
      "\nThe above exception was the direct cause of the following exception:\n",
      "\u001b[0;31mSystemError\u001b[0m                               Traceback (most recent call last)",
      "\u001b[0;32m<ipython-input-33-cc89d297c8b0>\u001b[0m in \u001b[0;36m<module>\u001b[0;34m\u001b[0m\n\u001b[0;32m----> 1\u001b[0;31m \u001b[0mwv1\u001b[0m \u001b[0;34m=\u001b[0m \u001b[0mwithoutprocagen\u001b[0m\u001b[0;34m(\u001b[0m\u001b[0mM\u001b[0m\u001b[0;34m,\u001b[0m \u001b[0mm\u001b[0m\u001b[0;34m,\u001b[0m \u001b[0ma\u001b[0m\u001b[0;34m,\u001b[0m \u001b[0mp0\u001b[0m\u001b[0;34m,\u001b[0m \u001b[0me0\u001b[0m\u001b[0;34m,\u001b[0m \u001b[0mY0\u001b[0m\u001b[0;34m,\u001b[0m \u001b[0mqS\u001b[0m\u001b[0;34m,\u001b[0m \u001b[0mphiS\u001b[0m\u001b[0;34m,\u001b[0m \u001b[0mqK\u001b[0m\u001b[0;34m,\u001b[0m \u001b[0mphiK\u001b[0m\u001b[0;34m,\u001b[0m \u001b[0mdist\u001b[0m\u001b[0;34m,\u001b[0m\u001b[0mPhi_phi0\u001b[0m\u001b[0;34m=\u001b[0m\u001b[0mPhi_phi0\u001b[0m\u001b[0;34m,\u001b[0m \u001b[0mPhi_theta0\u001b[0m\u001b[0;34m=\u001b[0m\u001b[0mPhi_theta0\u001b[0m\u001b[0;34m,\u001b[0m \u001b[0mPhi_r0\u001b[0m\u001b[0;34m=\u001b[0m\u001b[0mPhi_r0\u001b[0m\u001b[0;34m,\u001b[0m \u001b[0mmich\u001b[0m\u001b[0;34m=\u001b[0m\u001b[0mmich\u001b[0m\u001b[0;34m,\u001b[0m \u001b[0mdt\u001b[0m\u001b[0;34m=\u001b[0m\u001b[0mdt\u001b[0m\u001b[0;34m,\u001b[0m \u001b[0mT\u001b[0m\u001b[0;34m=\u001b[0m\u001b[0mT\u001b[0m\u001b[0;34m)\u001b[0m\u001b[0;34m\u001b[0m\u001b[0;34m\u001b[0m\u001b[0m\n\u001b[0m\u001b[1;32m      2\u001b[0m \u001b[0mwv2\u001b[0m \u001b[0;34m=\u001b[0m \u001b[0mwithoutprocagen\u001b[0m\u001b[0;34m(\u001b[0m\u001b[0mM\u001b[0m\u001b[0;34m,\u001b[0m \u001b[0mm\u001b[0m\u001b[0;34m,\u001b[0m \u001b[0ma\u001b[0m\u001b[0;34m,\u001b[0m \u001b[0mp0\u001b[0m\u001b[0;34m,\u001b[0m \u001b[0me0\u001b[0m\u001b[0;34m+\u001b[0m\u001b[0;36m0.000005\u001b[0m\u001b[0;34m,\u001b[0m \u001b[0mY0\u001b[0m\u001b[0;34m,\u001b[0m \u001b[0mqS\u001b[0m\u001b[0;34m,\u001b[0m \u001b[0mphiS\u001b[0m\u001b[0;34m,\u001b[0m \u001b[0mqK\u001b[0m\u001b[0;34m,\u001b[0m \u001b[0mphiK\u001b[0m\u001b[0;34m,\u001b[0m \u001b[0mdist\u001b[0m\u001b[0;34m,\u001b[0m\u001b[0mPhi_phi0\u001b[0m\u001b[0;34m=\u001b[0m\u001b[0mPhi_phi0\u001b[0m\u001b[0;34m,\u001b[0m \u001b[0mPhi_theta0\u001b[0m\u001b[0;34m=\u001b[0m\u001b[0mPhi_theta0\u001b[0m\u001b[0;34m,\u001b[0m \u001b[0mPhi_r0\u001b[0m\u001b[0;34m=\u001b[0m\u001b[0mPhi_r0\u001b[0m\u001b[0;34m,\u001b[0m \u001b[0mmich\u001b[0m\u001b[0;34m=\u001b[0m\u001b[0mmich\u001b[0m\u001b[0;34m,\u001b[0m \u001b[0mdt\u001b[0m\u001b[0;34m=\u001b[0m\u001b[0mdt\u001b[0m\u001b[0;34m,\u001b[0m \u001b[0mT\u001b[0m\u001b[0;34m=\u001b[0m\u001b[0mT\u001b[0m\u001b[0;34m)\u001b[0m\u001b[0;34m\u001b[0m\u001b[0;34m\u001b[0m\u001b[0m\n\u001b[1;32m      3\u001b[0m \u001b[0mtd\u001b[0m \u001b[0;34m=\u001b[0m \u001b[0mnp\u001b[0m\u001b[0;34m.\u001b[0m\u001b[0marange\u001b[0m\u001b[0;34m(\u001b[0m\u001b[0mlen\u001b[0m\u001b[0;34m(\u001b[0m\u001b[0mwv2\u001b[0m\u001b[0;34m)\u001b[0m\u001b[0;34m)\u001b[0m\u001b[0;34m*\u001b[0m\u001b[0mdt\u001b[0m\u001b[0;34m\u001b[0m\u001b[0;34m\u001b[0m\u001b[0m\n",
      "\u001b[0;32m/mnt/Data_Volume/Documents/Github/GWGenerator/GWGen/WFGenerator/Kludge.py\u001b[0m in \u001b[0;36m__call__\u001b[0;34m(self, SMBHMass, SecondaryMass, BHSpin, p0, e0, x0, qs, phis, qk, phik, dist, T, npoints, FluxName, **kwargs)\u001b[0m\n\u001b[1;32m    453\u001b[0m \u001b[0;34m\u001b[0m\u001b[0m\n\u001b[1;32m    454\u001b[0m                 \u001b[0;31m#get the Trajectory\u001b[0m\u001b[0;34m\u001b[0m\u001b[0;34m\u001b[0m\u001b[0;34m\u001b[0m\u001b[0m\n\u001b[0;32m--> 455\u001b[0;31m                 \u001b[0mt\u001b[0m\u001b[0;34m,\u001b[0m\u001b[0mp\u001b[0m\u001b[0;34m,\u001b[0m\u001b[0me\u001b[0m\u001b[0;34m,\u001b[0m\u001b[0mY\u001b[0m\u001b[0;34m,\u001b[0m\u001b[0mpphi\u001b[0m\u001b[0;34m,\u001b[0m\u001b[0mptheta\u001b[0m\u001b[0;34m,\u001b[0m\u001b[0mpr\u001b[0m \u001b[0;34m=\u001b[0m \u001b[0mself\u001b[0m\u001b[0;34m.\u001b[0m\u001b[0minspiral_generator\u001b[0m\u001b[0;34m(\u001b[0m\u001b[0mSMBHMass\u001b[0m\u001b[0;34m,\u001b[0m\u001b[0mSecondaryMass\u001b[0m\u001b[0;34m,\u001b[0m\u001b[0mBHSpin\u001b[0m\u001b[0;34m,\u001b[0m\u001b[0mp0\u001b[0m\u001b[0;34m,\u001b[0m\u001b[0me0\u001b[0m\u001b[0;34m,\u001b[0m\u001b[0mx0\u001b[0m\u001b[0;34m,\u001b[0m\u001b[0mT\u001b[0m\u001b[0;34m=\u001b[0m\u001b[0mT\u001b[0m\u001b[0;34m,\u001b[0m \u001b[0mdt\u001b[0m\u001b[0;34m=\u001b[0m\u001b[0mdt\u001b[0m\u001b[0;34m,\u001b[0m \u001b[0mPhi_phi0\u001b[0m\u001b[0;34m=\u001b[0m\u001b[0mPhi_phi0\u001b[0m\u001b[0;34m,\u001b[0m \u001b[0mPhi_theta0\u001b[0m\u001b[0;34m=\u001b[0m\u001b[0mPhi_theta0\u001b[0m\u001b[0;34m,\u001b[0m \u001b[0mPhi_r0\u001b[0m\u001b[0;34m=\u001b[0m\u001b[0mPhi_r0\u001b[0m\u001b[0;34m,\u001b[0m \u001b[0;34m**\u001b[0m\u001b[0mself\u001b[0m\u001b[0;34m.\u001b[0m\u001b[0minspiralkwargs\u001b[0m\u001b[0;34m)\u001b[0m\u001b[0;34m\u001b[0m\u001b[0;34m\u001b[0m\u001b[0m\n\u001b[0m\u001b[1;32m    456\u001b[0m                 \u001b[0mself\u001b[0m\u001b[0;34m.\u001b[0m\u001b[0mTrajectory\u001b[0m \u001b[0;34m=\u001b[0m \u001b[0;34m{\u001b[0m\u001b[0;34m\"t\"\u001b[0m\u001b[0;34m:\u001b[0m\u001b[0mt\u001b[0m\u001b[0;34m,\u001b[0m \u001b[0;34m\"p\"\u001b[0m\u001b[0;34m:\u001b[0m\u001b[0mp\u001b[0m\u001b[0;34m,\u001b[0m \u001b[0;34m\"e\"\u001b[0m\u001b[0;34m:\u001b[0m\u001b[0me\u001b[0m\u001b[0;34m,\u001b[0m \u001b[0;34m\"Y\"\u001b[0m\u001b[0;34m:\u001b[0m\u001b[0mY\u001b[0m\u001b[0;34m,\u001b[0m \u001b[0;34m\"Phi_phi\"\u001b[0m\u001b[0;34m:\u001b[0m\u001b[0mpphi\u001b[0m\u001b[0;34m,\u001b[0m \u001b[0;34m\"Phi_theta\"\u001b[0m\u001b[0;34m:\u001b[0m\u001b[0mptheta\u001b[0m\u001b[0;34m,\u001b[0m \u001b[0;34m\"Phi_r\"\u001b[0m\u001b[0;34m:\u001b[0m\u001b[0mpr\u001b[0m\u001b[0;34m}\u001b[0m\u001b[0;34m\u001b[0m\u001b[0;34m\u001b[0m\u001b[0m\n\u001b[1;32m    457\u001b[0m                 \u001b[0mself\u001b[0m\u001b[0;34m.\u001b[0m\u001b[0msanity_check_traj\u001b[0m\u001b[0;34m(\u001b[0m\u001b[0mp\u001b[0m\u001b[0;34m,\u001b[0m\u001b[0me\u001b[0m\u001b[0;34m,\u001b[0m\u001b[0mY\u001b[0m\u001b[0;34m)\u001b[0m\u001b[0;34m\u001b[0m\u001b[0;34m\u001b[0m\u001b[0m\n",
      "\u001b[0;32m/mnt/Data_Volume/Documents/software/Anaconda/envs/few_env/lib/python3.7/site-packages/few/utils/baseclasses.py\u001b[0m in \u001b[0;36m__call__\u001b[0;34m(self, in_coordinate_time, dt, T, new_t, spline_kwargs, DENSE_STEPPING, max_init_len, upsample, err, use_rk4, fix_t, *args, **kwargs)\u001b[0m\n\u001b[1;32m    704\u001b[0m \u001b[0;34m\u001b[0m\u001b[0m\n\u001b[1;32m    705\u001b[0m         \u001b[0;31m# inspiral generator that must be added to each trajectory class\u001b[0m\u001b[0;34m\u001b[0m\u001b[0;34m\u001b[0m\u001b[0;34m\u001b[0m\u001b[0m\n\u001b[0;32m--> 706\u001b[0;31m         \u001b[0mout\u001b[0m \u001b[0;34m=\u001b[0m \u001b[0mself\u001b[0m\u001b[0;34m.\u001b[0m\u001b[0mget_inspiral\u001b[0m\u001b[0;34m(\u001b[0m\u001b[0;34m*\u001b[0m\u001b[0margs\u001b[0m\u001b[0;34m,\u001b[0m \u001b[0;34m**\u001b[0m\u001b[0mkwargs\u001b[0m\u001b[0;34m)\u001b[0m\u001b[0;34m\u001b[0m\u001b[0;34m\u001b[0m\u001b[0m\n\u001b[0m\u001b[1;32m    707\u001b[0m \u001b[0;34m\u001b[0m\u001b[0m\n\u001b[1;32m    708\u001b[0m         \u001b[0;31m# get time separate from the rest of the params\u001b[0m\u001b[0;34m\u001b[0m\u001b[0;34m\u001b[0m\u001b[0;34m\u001b[0m\u001b[0m\n",
      "\u001b[0;32m/mnt/Data_Volume/Documents/Github/GWGenerator/GWGen/WFGenerator/Kludge.py\u001b[0m in \u001b[0;36mget_inspiral\u001b[0;34m(self, M, mu, a, p0, e0, x0, T, **kwargs)\u001b[0m\n\u001b[1;32m    326\u001b[0m                                                                 \u001b[0mmax_step\u001b[0m \u001b[0;34m=\u001b[0m \u001b[0mmax_step_size\u001b[0m \u001b[0;31m#dimensionless seconds\u001b[0m\u001b[0;34m\u001b[0m\u001b[0;34m\u001b[0m\u001b[0m\n\u001b[1;32m    327\u001b[0m \t\t\t\t\t\t\t)\n\u001b[0;32m--> 328\u001b[0;31m                         \u001b[0msanity_check_status\u001b[0m \u001b[0;34m=\u001b[0m \u001b[0mself\u001b[0m\u001b[0;34m.\u001b[0m\u001b[0mtrajectory_frequency_sanity_check\u001b[0m\u001b[0;34m(\u001b[0m\u001b[0mresult\u001b[0m\u001b[0;34m[\u001b[0m\u001b[0;34m\"y\"\u001b[0m\u001b[0;34m]\u001b[0m\u001b[0;34m[\u001b[0m\u001b[0;36m0\u001b[0m\u001b[0;34m]\u001b[0m\u001b[0;34m,\u001b[0m \u001b[0mresult\u001b[0m\u001b[0;34m[\u001b[0m\u001b[0;34m\"y\"\u001b[0m\u001b[0;34m]\u001b[0m\u001b[0;34m[\u001b[0m\u001b[0;36m1\u001b[0m\u001b[0;34m]\u001b[0m\u001b[0;34m,\u001b[0m \u001b[0mnp\u001b[0m\u001b[0;34m.\u001b[0m\u001b[0mones_like\u001b[0m\u001b[0;34m(\u001b[0m\u001b[0mresult\u001b[0m\u001b[0;34m[\u001b[0m\u001b[0;34m\"y\"\u001b[0m\u001b[0;34m]\u001b[0m\u001b[0;34m[\u001b[0m\u001b[0;36m0\u001b[0m\u001b[0;34m]\u001b[0m\u001b[0;34m,\u001b[0m \u001b[0mdtype\u001b[0m\u001b[0;34m=\u001b[0m\u001b[0mresult\u001b[0m\u001b[0;34m[\u001b[0m\u001b[0;34m\"y\"\u001b[0m\u001b[0;34m[\u001b[0m\u001b[0;36m0\u001b[0m\u001b[0;34m]\u001b[0m\u001b[0;34m]\u001b[0m\u001b[0;34m.\u001b[0m\u001b[0mdtype\u001b[0m\u001b[0;34m)\u001b[0m\u001b[0;34m)\u001b[0m\u001b[0;34m\u001b[0m\u001b[0;34m\u001b[0m\u001b[0m\n\u001b[0m\u001b[1;32m    329\u001b[0m                         \u001b[0;32mif\u001b[0m \u001b[0;32mnot\u001b[0m \u001b[0msanity_check_status\u001b[0m\u001b[0;34m:\u001b[0m\u001b[0;34m\u001b[0m\u001b[0;34m\u001b[0m\u001b[0m\n\u001b[1;32m    330\u001b[0m                                 \u001b[0mSEPARATRIXDELTA\u001b[0m \u001b[0;34m+=\u001b[0m \u001b[0;36m0.1\u001b[0m\u001b[0;34m\u001b[0m\u001b[0;34m\u001b[0m\u001b[0m\n",
      "\u001b[0;32m/mnt/Data_Volume/Documents/Github/GWGenerator/GWGen/WFGenerator/Kludge.py\u001b[0m in \u001b[0;36mtrajectory_frequency_sanity_check\u001b[0;34m(self, p_arr, e_arr, x_arr)\u001b[0m\n\u001b[1;32m    412\u001b[0m         \u001b[0;32mdef\u001b[0m \u001b[0mtrajectory_frequency_sanity_check\u001b[0m\u001b[0;34m(\u001b[0m\u001b[0mself\u001b[0m\u001b[0;34m,\u001b[0m\u001b[0mp_arr\u001b[0m\u001b[0;34m,\u001b[0m\u001b[0me_arr\u001b[0m\u001b[0;34m,\u001b[0m\u001b[0mx_arr\u001b[0m\u001b[0;34m)\u001b[0m\u001b[0;34m:\u001b[0m\u001b[0;34m\u001b[0m\u001b[0;34m\u001b[0m\u001b[0m\n\u001b[1;32m    413\u001b[0m                 \u001b[0;32massert\u001b[0m \u001b[0mlen\u001b[0m\u001b[0;34m(\u001b[0m\u001b[0mp_arr\u001b[0m\u001b[0;34m)\u001b[0m\u001b[0;34m==\u001b[0m\u001b[0mlen\u001b[0m\u001b[0;34m(\u001b[0m\u001b[0me_arr\u001b[0m\u001b[0;34m)\u001b[0m\u001b[0;34m==\u001b[0m\u001b[0mlen\u001b[0m\u001b[0;34m(\u001b[0m\u001b[0mx_arr\u001b[0m\u001b[0;34m)\u001b[0m\u001b[0;34m,\u001b[0m \u001b[0;34m\"Error: array lengths must be equal\"\u001b[0m\u001b[0;34m\u001b[0m\u001b[0;34m\u001b[0m\u001b[0m\n\u001b[0;32m--> 414\u001b[0;31m                 \u001b[0mboolearr\u001b[0m \u001b[0;34m=\u001b[0m \u001b[0;34m[\u001b[0m\u001b[0mnp\u001b[0m\u001b[0;34m.\u001b[0m\u001b[0many\u001b[0m\u001b[0;34m(\u001b[0m\u001b[0mnp\u001b[0m\u001b[0;34m.\u001b[0m\u001b[0misnan\u001b[0m\u001b[0;34m(\u001b[0m\u001b[0mlist\u001b[0m\u001b[0;34m(\u001b[0m\u001b[0mself\u001b[0m\u001b[0;34m.\u001b[0m\u001b[0mPNEvaluator\u001b[0m\u001b[0;34m.\u001b[0m\u001b[0mOrbitFrequencies\u001b[0m\u001b[0;34m(\u001b[0m\u001b[0me_arr\u001b[0m\u001b[0;34m[\u001b[0m\u001b[0mi\u001b[0m\u001b[0;34m]\u001b[0m\u001b[0;34m,\u001b[0m\u001b[0mp_arr\u001b[0m\u001b[0;34m[\u001b[0m\u001b[0mi\u001b[0m\u001b[0;34m]\u001b[0m\u001b[0;34m,\u001b[0m\u001b[0mx_arr\u001b[0m\u001b[0;34m[\u001b[0m\u001b[0mi\u001b[0m\u001b[0;34m]\u001b[0m\u001b[0;34m)\u001b[0m\u001b[0;34m.\u001b[0m\u001b[0mvalues\u001b[0m\u001b[0;34m(\u001b[0m\u001b[0;34m)\u001b[0m\u001b[0;34m)\u001b[0m\u001b[0;34m)\u001b[0m\u001b[0;34m)\u001b[0m \u001b[0;32mfor\u001b[0m \u001b[0mi\u001b[0m \u001b[0;32min\u001b[0m \u001b[0mrange\u001b[0m\u001b[0;34m(\u001b[0m\u001b[0mlen\u001b[0m\u001b[0;34m(\u001b[0m\u001b[0mp_arr\u001b[0m\u001b[0;34m)\u001b[0m\u001b[0;34m)\u001b[0m\u001b[0;34m]\u001b[0m\u001b[0;34m\u001b[0m\u001b[0;34m\u001b[0m\u001b[0m\n\u001b[0m\u001b[1;32m    415\u001b[0m                 \u001b[0;31m#if trajectory produces nan values in orbital frequencies return False (sanity check fails)\u001b[0m\u001b[0;34m\u001b[0m\u001b[0;34m\u001b[0m\u001b[0;34m\u001b[0m\u001b[0m\n\u001b[1;32m    416\u001b[0m                 \u001b[0;32mreturn\u001b[0m \u001b[0;32mnot\u001b[0m \u001b[0mnp\u001b[0m\u001b[0;34m.\u001b[0m\u001b[0many\u001b[0m\u001b[0;34m(\u001b[0m\u001b[0mboolearr\u001b[0m\u001b[0;34m)\u001b[0m\u001b[0;34m\u001b[0m\u001b[0;34m\u001b[0m\u001b[0m\n",
      "\u001b[0;32m/mnt/Data_Volume/Documents/Github/GWGenerator/GWGen/WFGenerator/Kludge.py\u001b[0m in \u001b[0;36m<listcomp>\u001b[0;34m(.0)\u001b[0m\n\u001b[1;32m    412\u001b[0m         \u001b[0;32mdef\u001b[0m \u001b[0mtrajectory_frequency_sanity_check\u001b[0m\u001b[0;34m(\u001b[0m\u001b[0mself\u001b[0m\u001b[0;34m,\u001b[0m\u001b[0mp_arr\u001b[0m\u001b[0;34m,\u001b[0m\u001b[0me_arr\u001b[0m\u001b[0;34m,\u001b[0m\u001b[0mx_arr\u001b[0m\u001b[0;34m)\u001b[0m\u001b[0;34m:\u001b[0m\u001b[0;34m\u001b[0m\u001b[0;34m\u001b[0m\u001b[0m\n\u001b[1;32m    413\u001b[0m                 \u001b[0;32massert\u001b[0m \u001b[0mlen\u001b[0m\u001b[0;34m(\u001b[0m\u001b[0mp_arr\u001b[0m\u001b[0;34m)\u001b[0m\u001b[0;34m==\u001b[0m\u001b[0mlen\u001b[0m\u001b[0;34m(\u001b[0m\u001b[0me_arr\u001b[0m\u001b[0;34m)\u001b[0m\u001b[0;34m==\u001b[0m\u001b[0mlen\u001b[0m\u001b[0;34m(\u001b[0m\u001b[0mx_arr\u001b[0m\u001b[0;34m)\u001b[0m\u001b[0;34m,\u001b[0m \u001b[0;34m\"Error: array lengths must be equal\"\u001b[0m\u001b[0;34m\u001b[0m\u001b[0;34m\u001b[0m\u001b[0m\n\u001b[0;32m--> 414\u001b[0;31m                 \u001b[0mboolearr\u001b[0m \u001b[0;34m=\u001b[0m \u001b[0;34m[\u001b[0m\u001b[0mnp\u001b[0m\u001b[0;34m.\u001b[0m\u001b[0many\u001b[0m\u001b[0;34m(\u001b[0m\u001b[0mnp\u001b[0m\u001b[0;34m.\u001b[0m\u001b[0misnan\u001b[0m\u001b[0;34m(\u001b[0m\u001b[0mlist\u001b[0m\u001b[0;34m(\u001b[0m\u001b[0mself\u001b[0m\u001b[0;34m.\u001b[0m\u001b[0mPNEvaluator\u001b[0m\u001b[0;34m.\u001b[0m\u001b[0mOrbitFrequencies\u001b[0m\u001b[0;34m(\u001b[0m\u001b[0me_arr\u001b[0m\u001b[0;34m[\u001b[0m\u001b[0mi\u001b[0m\u001b[0;34m]\u001b[0m\u001b[0;34m,\u001b[0m\u001b[0mp_arr\u001b[0m\u001b[0;34m[\u001b[0m\u001b[0mi\u001b[0m\u001b[0;34m]\u001b[0m\u001b[0;34m,\u001b[0m\u001b[0mx_arr\u001b[0m\u001b[0;34m[\u001b[0m\u001b[0mi\u001b[0m\u001b[0;34m]\u001b[0m\u001b[0;34m)\u001b[0m\u001b[0;34m.\u001b[0m\u001b[0mvalues\u001b[0m\u001b[0;34m(\u001b[0m\u001b[0;34m)\u001b[0m\u001b[0;34m)\u001b[0m\u001b[0;34m)\u001b[0m\u001b[0;34m)\u001b[0m \u001b[0;32mfor\u001b[0m \u001b[0mi\u001b[0m \u001b[0;32min\u001b[0m \u001b[0mrange\u001b[0m\u001b[0;34m(\u001b[0m\u001b[0mlen\u001b[0m\u001b[0;34m(\u001b[0m\u001b[0mp_arr\u001b[0m\u001b[0;34m)\u001b[0m\u001b[0;34m)\u001b[0m\u001b[0;34m]\u001b[0m\u001b[0;34m\u001b[0m\u001b[0;34m\u001b[0m\u001b[0m\n\u001b[0m\u001b[1;32m    415\u001b[0m                 \u001b[0;31m#if trajectory produces nan values in orbital frequencies return False (sanity check fails)\u001b[0m\u001b[0;34m\u001b[0m\u001b[0;34m\u001b[0m\u001b[0;34m\u001b[0m\u001b[0m\n\u001b[1;32m    416\u001b[0m                 \u001b[0;32mreturn\u001b[0m \u001b[0;32mnot\u001b[0m \u001b[0mnp\u001b[0m\u001b[0;34m.\u001b[0m\u001b[0many\u001b[0m\u001b[0;34m(\u001b[0m\u001b[0mboolearr\u001b[0m\u001b[0;34m)\u001b[0m\u001b[0;34m\u001b[0m\u001b[0;34m\u001b[0m\u001b[0m\n",
      "\u001b[0;32m/mnt/Data_Volume/Documents/Github/GWGenerator/GWGen/Utils/Kerr.py\u001b[0m in \u001b[0;36m<lambda>\u001b[0;34m(e, p, x)\u001b[0m\n\u001b[1;32m     90\u001b[0m \u001b[0;34m\u001b[0m\u001b[0m\n\u001b[1;32m     91\u001b[0m     \u001b[0;32mdef\u001b[0m \u001b[0mOrbitalFrequencies\u001b[0m\u001b[0;34m(\u001b[0m\u001b[0mself\u001b[0m\u001b[0;34m)\u001b[0m\u001b[0;34m:\u001b[0m\u001b[0;34m\u001b[0m\u001b[0;34m\u001b[0m\u001b[0m\n\u001b[0;32m---> 92\u001b[0;31m         \u001b[0mres\u001b[0m \u001b[0;34m=\u001b[0m \u001b[0;32mlambda\u001b[0m \u001b[0me\u001b[0m\u001b[0;34m,\u001b[0m\u001b[0mp\u001b[0m\u001b[0;34m,\u001b[0m\u001b[0mx\u001b[0m\u001b[0;34m:\u001b[0m \u001b[0mKerrFreqs\u001b[0m\u001b[0;34m(\u001b[0m\u001b[0mself\u001b[0m\u001b[0;34m.\u001b[0m\u001b[0ma\u001b[0m\u001b[0;34m,\u001b[0m \u001b[0mp\u001b[0m\u001b[0;34m,\u001b[0m\u001b[0me\u001b[0m\u001b[0;34m,\u001b[0m\u001b[0mx\u001b[0m\u001b[0;34m)\u001b[0m\u001b[0;34m\u001b[0m\u001b[0;34m\u001b[0m\u001b[0m\n\u001b[0m\u001b[1;32m     93\u001b[0m         \u001b[0;32mreturn\u001b[0m \u001b[0mres\u001b[0m\u001b[0;34m\u001b[0m\u001b[0;34m\u001b[0m\u001b[0m\n",
      "\u001b[0;31mSystemError\u001b[0m: <built-in function pyKerrGeoCoordinateFrequencies> returned a result with an error set"
     ]
    }
   ],
   "source": [
    "wv1 = withoutprocagen(M, m, a, p0, e0, Y0, qS, phiS, qK, phiK, dist,Phi_phi0=Phi_phi0, Phi_theta0=Phi_theta0, Phi_r0=Phi_r0, mich=mich, dt=dt, T=T)\n",
    "wv2 = withoutprocagen(M, m, a, p0, e0+0.000005, Y0, qS, phiS, qK, phiK, dist,Phi_phi0=Phi_phi0, Phi_theta0=Phi_theta0, Phi_r0=Phi_r0, mich=mich, dt=dt, T=T)\n",
    "td = np.arange(len(wv2))*dt"
   ]
  },
  {
   "cell_type": "code",
   "execution_count": 3,
   "id": "02a4415d",
   "metadata": {},
   "outputs": [
    {
     "name": "stdout",
     "output_type": "stream",
     "text": [
      "0.024235897082725145\n",
      "0.03726462168454676\n",
      "0.06330419498663484\n",
      "0.13738091469830258\n",
      "0.5051620515872144\n",
      "31.39840529841089\n",
      "0.47391651316545996\n",
      "0.1213755153928599\n",
      "0.0525789724623428\n",
      "0.02920922743921651\n"
     ]
    }
   ],
   "source": [
    "fd = np.fft.fftfreq(len(wv1), d = float(dt))\n",
    "for i in np.arange(-5,5):\n",
    "    phasearr = np.exp(-2*np.pi*1j*fd*i*dt)\n",
    "    print(WaveformInnerProduct(td,wv1*phasearr,wv2))"
   ]
  },
  {
   "cell_type": "code",
   "execution_count": 27,
   "id": "c395c017",
   "metadata": {},
   "outputs": [
    {
     "name": "stdout",
     "output_type": "stream",
     "text": [
      "1657887\n",
      "1658050\n",
      "1657887\n"
     ]
    }
   ],
   "source": [
    "print(len(wv2))\n",
    "print(len(wv1))\n",
    "print(len(td))"
   ]
  },
  {
   "cell_type": "code",
   "execution_count": 28,
   "id": "02c361bc",
   "metadata": {},
   "outputs": [
    {
     "ename": "RuntimeError",
     "evalue": "time domain has different length than the waveforms",
     "output_type": "error",
     "traceback": [
      "\u001b[0;31m---------------------------------------------------------------------------\u001b[0m",
      "\u001b[0;31mRuntimeError\u001b[0m                              Traceback (most recent call last)",
      "\u001b[0;32m<ipython-input-28-47a2ba21ae5b>\u001b[0m in \u001b[0;36m<module>\u001b[0;34m\u001b[0m\n\u001b[0;32m----> 1\u001b[0;31m \u001b[0mWaveformInnerProduct\u001b[0m\u001b[0;34m(\u001b[0m\u001b[0mtd\u001b[0m\u001b[0;34m,\u001b[0m\u001b[0mwv1\u001b[0m\u001b[0;34m,\u001b[0m\u001b[0mwv2\u001b[0m\u001b[0;34m,\u001b[0m \u001b[0mmaximize\u001b[0m\u001b[0;34m=\u001b[0m\u001b[0;32mTrue\u001b[0m\u001b[0;34m)\u001b[0m\u001b[0;34m\u001b[0m\u001b[0;34m\u001b[0m\u001b[0m\n\u001b[0m",
      "\u001b[0;32m/mnt/Data_Volume/Documents/Github/GWGenerator/GWGen/Utils/HelperFunctions.py\u001b[0m in \u001b[0;36mWaveformInnerProduct\u001b[0;34m(timedomain, h1, h2, fmin, fmax, use_gpu, maximize)\u001b[0m\n\u001b[1;32m    193\u001b[0m \u001b[0;34m\u001b[0m\u001b[0m\n\u001b[1;32m    194\u001b[0m     \u001b[0;32mif\u001b[0m \u001b[0mlen\u001b[0m\u001b[0;34m(\u001b[0m\u001b[0mtimedomain\u001b[0m\u001b[0;34m)\u001b[0m\u001b[0;34m!=\u001b[0m\u001b[0mlen\u001b[0m\u001b[0;34m(\u001b[0m\u001b[0mh1\u001b[0m\u001b[0;34m)\u001b[0m \u001b[0;32mor\u001b[0m \u001b[0mlen\u001b[0m\u001b[0;34m(\u001b[0m\u001b[0mtimedomain\u001b[0m\u001b[0;34m)\u001b[0m\u001b[0;34m!=\u001b[0m\u001b[0mlen\u001b[0m\u001b[0;34m(\u001b[0m\u001b[0mh2\u001b[0m\u001b[0;34m)\u001b[0m\u001b[0;34m:\u001b[0m\u001b[0;34m\u001b[0m\u001b[0;34m\u001b[0m\u001b[0m\n\u001b[0;32m--> 195\u001b[0;31m         \u001b[0;32mraise\u001b[0m \u001b[0mRuntimeError\u001b[0m\u001b[0;34m(\u001b[0m\u001b[0;34m\"time domain has different length than the waveforms\"\u001b[0m\u001b[0;34m)\u001b[0m\u001b[0;34m\u001b[0m\u001b[0;34m\u001b[0m\u001b[0m\n\u001b[0m\u001b[1;32m    196\u001b[0m \u001b[0;34m\u001b[0m\u001b[0m\n\u001b[1;32m    197\u001b[0m     \u001b[0;32mif\u001b[0m \u001b[0;32mnot\u001b[0m \u001b[0muse_gpu\u001b[0m\u001b[0;34m:\u001b[0m\u001b[0;34m\u001b[0m\u001b[0;34m\u001b[0m\u001b[0m\n",
      "\u001b[0;31mRuntimeError\u001b[0m: time domain has different length than the waveforms"
     ]
    }
   ],
   "source": [
    "WaveformInnerProduct(td,wv1,wv2, maximize=True)"
   ]
  },
  {
   "cell_type": "code",
   "execution_count": 29,
   "id": "d13981e3",
   "metadata": {},
   "outputs": [
    {
     "data": {
      "text/plain": [
       "0.9886189805315907"
      ]
     },
     "execution_count": 29,
     "metadata": {},
     "output_type": "execute_result"
    }
   ],
   "source": [
    "Faithfulness(td,wv1,wv2,maximize=False)"
   ]
  },
  {
   "cell_type": "code",
   "execution_count": 30,
   "id": "33e88cde",
   "metadata": {},
   "outputs": [
    {
     "data": {
      "text/plain": [
       "0.9886189805315907"
      ]
     },
     "execution_count": 30,
     "metadata": {},
     "output_type": "execute_result"
    }
   ],
   "source": [
    "Faithfulness(td,wv1,wv2,maximize=True)"
   ]
  },
  {
   "cell_type": "code",
   "execution_count": null,
   "id": "b2dcb5dc",
   "metadata": {},
   "outputs": [],
   "source": [
    "get_mismatch(wv1,wv2)a"
   ]
  },
  {
   "cell_type": "code",
   "execution_count": null,
   "id": "4449213f",
   "metadata": {},
   "outputs": [],
   "source": [
    "wv1f = np.fft.fft(wv1)\n",
    "wv2f = np.fft.fft(wv2)\n",
    "fd = np.fft.fftfreq(len(td),d=float(td[1]-td[0]))\n",
    "fdlen = int(len(fd)/2-1)+1\n",
    "fd = fd[1:fdlen]\n",
    "wv1ft = wv1f[1:fdlen]\n",
    "wv2ft = wv2f[1:fdlen]\n",
    "wv2fstar = np.conjugate(wv2ft)\n",
    "psd = LisaSensitivity(fd)\n",
    "integrand = wv1ft*wv2fstar/psd\n",
    "\n",
    "func1 = np.fft.ifft(wv1ft/psd)\n",
    "func2 = np.fft.ifft(wv2fstar)\n",
    "\n",
    "\n",
    "intfft = 4*np.real(np.fft.ifft(wv1ft/psd*wv2fstar))\n",
    "conv = 4*np.real(np.convolve(np.hstack((func1[1:], func1)),func2, \"valid\"))\n",
    "integral = 4*sp.integrate.simpson(integrand.real,x=fd)\n",
    "\n",
    "print(intfft[0])\n",
    "print(integral)\n",
    "print(conv[0])"
   ]
  },
  {
   "cell_type": "code",
   "execution_count": null,
   "id": "5e0fec53",
   "metadata": {},
   "outputs": [],
   "source": [
    "td = np.arange(0,10,0.01)\n",
    "w1 = 10\n",
    "T1=5\n",
    "w2 = 0.5\n",
    "T2=0.5\n",
    "fun = lambda x,w,T: np.exp(-w*x**2)*np.exp(-1j*T*x**2)\n",
    "h1 = fun(td,w1,T1)\n",
    "h2 = fun(td,w2,T2)\n",
    "h1f = np.fft.fft(h1)\n",
    "h2fs = np.conjugate(np.fft.fft(h2))\n",
    "freqs = np.fft.fftfreq(len(td))"
   ]
  },
  {
   "cell_type": "code",
   "execution_count": null,
   "id": "4e938c5e",
   "metadata": {},
   "outputs": [],
   "source": [
    "convres = 4*np.real(np.convolve(np.hstack((h1[1:], h1)),h2, \"valid\"))\n",
    "fftres = 4*np.real(\n",
    "                np.fft.ifft(\n",
    "                                np.fft.fft(h1)*np.fft.fft(h2)\n",
    "                            ))\n",
    "fig,ax = plt.subplots(2,2, figsize=(15,8))\n",
    "ax[0,0].plot(convres, linestyle='dotted',label=\"conv\")\n",
    "ax[0,1].plot(fftres, linestyle='dashdot', label=\"fft\")\n",
    "ax[1,0].plot(convres-fftres, label=\"diff\")\n",
    "ax[0,0].legend()\n",
    "ax[0,1].legend()\n",
    "ax[1,0].legend()"
   ]
  },
  {
   "cell_type": "code",
   "execution_count": null,
   "id": "3fb8b827",
   "metadata": {},
   "outputs": [],
   "source": [
    "\n",
    "\n",
    "x=np.array([ 1.75+2.j , -0.25-0.5j, -0.75-0.5j,  0.25+0.j ])\n",
    "h=np.array([ 2.5 +3.j  ,  0.75-0.75j,  0.  +0.j  , -1.25+0.75j])\n",
    "\n",
    "X=np.fft.fft(x)\n",
    "H=np.fft.fft(h)\n",
    "\n",
    "Y=np.array(X)*np.array(H)\n",
    "y=np.fft.ifft(Y)\n",
    "\n",
    "isclose = lambda x: np.isclose(x,0)\n",
    "print(np.all(list(map(isclose,np.abs(y - np.convolve(np.hstack((x[1:], x)),h, 'valid'))))))"
   ]
  },
  {
   "cell_type": "code",
   "execution_count": null,
   "id": "d347fd0c",
   "metadata": {},
   "outputs": [],
   "source": [
    "np.fft.fft(wv1)"
   ]
  },
  {
   "cell_type": "code",
   "execution_count": null,
   "id": "a729352c",
   "metadata": {},
   "outputs": [],
   "source": [
    "x = [0,0,0,0,1,1,1,0,0,0,0]\n",
    "y = x\n",
    "\n",
    "np.convolve(np.hstack((x[1:], x)),y, 'valid')"
   ]
  },
  {
   "cell_type": "code",
   "execution_count": null,
   "id": "3fe69634",
   "metadata": {},
   "outputs": [],
   "source": []
  }
 ],
 "metadata": {
  "kernelspec": {
   "display_name": "Python 3",
   "language": "python",
   "name": "python3"
  },
  "language_info": {
   "codemirror_mode": {
    "name": "ipython",
    "version": 3
   },
   "file_extension": ".py",
   "mimetype": "text/x-python",
   "name": "python",
   "nbconvert_exporter": "python",
   "pygments_lexer": "ipython3",
   "version": "3.7.12"
  }
 },
 "nbformat": 4,
 "nbformat_minor": 5
}
