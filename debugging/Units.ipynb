{
 "cells": [
  {
   "cell_type": "code",
   "execution_count": 15,
   "id": "44f033c4",
   "metadata": {},
   "outputs": [],
   "source": [
    "import os, sys, glob, json, scipy as sp\n",
    "import matplotlib.pyplot as plt\n",
    "os.chdir(\"../\")\n",
    "path = os.getcwd()\n",
    "sys.path.insert(0, path)\n",
    "import GWGen\n",
    "from GWGen.WFGenerator import *\n",
    "from GWGen.DressedFluxes.Fluxes import *\n",
    "import pyAnalyticFluxes as flux\n",
    "\n",
    "etest = 0.1\n",
    "ptest = 6\n",
    "M=1e7*unit.M_sun\n",
    "m=1*unit.M_sun\n",
    "mu = 9e-19\n",
    "a = 0.9"
   ]
  },
  {
   "cell_type": "code",
   "execution_count": 16,
   "id": "b3a5b336",
   "metadata": {},
   "outputs": [
    {
     "name": "stdout",
     "output_type": "stream",
     "text": [
      "UltralightBoson instance not provided. Instantiating class...\n",
      "done.\n"
     ]
    }
   ],
   "source": [
    "pc = ProcaSolution(M.value,a,mu)\n",
    "consch = pc.ChangeInOrbitalConstants()\n",
    "pn = PN(M.value,m.value, DeltaEFlux = consch[\"E\"], DeltaLFlux = consch[\"L\"])"
   ]
  },
  {
   "cell_type": "code",
   "execution_count": 17,
   "id": "a5b5e8b8",
   "metadata": {},
   "outputs": [
    {
     "name": "stdout",
     "output_type": "stream",
     "text": [
      "From jacobian and (E,L) fluxes:  -3.4494969814831586e-12\n",
      "From pyAnalyticFluxes:                -2.821739054149567e-12\n"
     ]
    }
   ],
   "source": [
    "#SI Units\n",
    "dedeSI =(pn.dEde()(etest,ptest)*(m*cons.c**2)).decompose()\n",
    "dedpSI = (pn.dEdp()(etest,ptest)*(m*cons.c**2 / (cons.G*M/(cons.c**2)))).decompose()\n",
    "dldeSI = (pn.dLde()(etest,ptest)*(m*cons.G*M/(cons.c**2) * cons.c)).decompose()\n",
    "dldpSI = (pn.dLdp()(etest,ptest)*(m*cons.G*M/(cons.c**2) * cons.c / (cons.G*M/(cons.c**2)))).decompose()\n",
    "normSI = (dldpSI*dedeSI  - dldeSI*dedpSI)\n",
    "\n",
    "ENsi = (flux.pydEdt(0.9,ptest,etest,1,10,10)*pn.epsilon**2) *cons.c**5 / cons.G\n",
    "LNsi = ((flux.pydLdt(0.9,ptest,etest,1,10,10)*pn.epsilon*m)  * cons.c**2).decompose()\n",
    "\n",
    "edotSI = (dldpSI*ENsi - dedpSI*LNsi)/normSI\n",
    "print(\"From jacobian and (E,L) fluxes: \", edotSI.to(unit.Hz).value)\n",
    "print(\"From pyAnalyticFluxes:               \", (flux.pydedt(a,ptest, etest,1,10,8)*pn.epsilon * cons.c**3/(cons.G*M)).to(unit.Hz).value)"
   ]
  },
  {
   "cell_type": "code",
   "execution_count": 18,
   "id": "ca5789f7",
   "metadata": {},
   "outputs": [
    {
     "name": "stdout",
     "output_type": "stream",
     "text": [
      "Eflux:  -5.742709914085951e-11 solMass\n",
      "Lflux:  -0.008699026907331302 solMass2\n",
      "\n",
      "edot From jacobian and (E,L) fluxes:  -1.6990466156211038e-10\n",
      "edot From pyAnalyticFluxes:           -1.3898450167819525e-10\n",
      "edot From PN class:                   -1.3898450167819525e-10\n",
      "\n",
      "pdot From jacobian and (E,L) fluxes:  -4.642304634673714e-16 1 / solMass\n",
      "pdot From pyAnalyticFluxes:           -6.609449663043068e-09\n",
      "pdot From PN class:                   -6.609449663043068e-09\n"
     ]
    }
   ],
   "source": [
    "#Geometric Units\n",
    "dedegeo =(pn.dEde()(etest,ptest)*m)\n",
    "dedpgeo = (pn.dEdp()(etest,ptest)*m)\n",
    "dldegeo = (pn.dLde()(etest,ptest)*m*M)\n",
    "dldpgeo = (pn.dLdp()(etest,ptest)*m*M)\n",
    "normgeo = (dldpgeo*dedegeo  - dldegeo*dedpgeo)\n",
    "\n",
    "ENgeo = flux.pydEdt(0.9,ptest,etest,1,10,10)*pn.epsilon**2*M\n",
    "LNgeo = (flux.pydLdt(0.9,ptest,etest,1,10,10)*pn.epsilon*m*M)\n",
    "\n",
    "edotgeo = (dldpgeo*ENgeo - dedpgeo*LNgeo)/normgeo\n",
    "pdotgeo = (dedegeo*LNgeo - dldegeo*ENgeo)/normgeo\n",
    "print(\"Eflux: \", ENgeo)\n",
    "print(\"Lflux: \", LNgeo)\n",
    "print(\"\\nedot From jacobian and (E,L) fluxes: \", edotgeo)\n",
    "print(\"edot From pyAnalyticFluxes:          \", flux.pydedt(a,ptest, etest,1,10,8)*pn.epsilon)\n",
    "print(\"edot From PN class:                  \", pn.UndressedeFlux(etest,ptest))\n",
    "print(\"\\npdot From jacobian and (E,L) fluxes: \", pdotgeo/M)\n",
    "print(\"pdot From pyAnalyticFluxes:          \", flux.pydpdt(a,ptest, etest,1,10,10)*pn.epsilon)\n",
    "print(\"pdot From PN class:                  \", pn.UndressedpFlux(etest,ptest))"
   ]
  },
  {
   "cell_type": "code",
   "execution_count": 19,
   "id": "1365a216",
   "metadata": {},
   "outputs": [
    {
     "name": "stdout",
     "output_type": "stream",
     "text": [
      "_____ SI Units______\n",
      "E:\n",
      "2.742805646625565e+37\n",
      "-2.0836015410393635e+35 kg m2 / s3\n",
      "L:\n",
      "1.0980734791732555e+39\n",
      "-1.5545975910301802e+38 kg m2 / s2\n",
      "\n",
      "\n",
      "\n",
      "_____ Geometric Units______\n",
      "E:\n",
      "Proca:  7.559572628954005e-09 solMass\n",
      "GW:     -5.742709914085951e-11 solMass\n",
      "L:\n",
      "Proca:  0.061444651636344966\n",
      "GW:     -0.008699026907331302\n",
      "\n",
      "*** edot:\n",
      "Proca:  5.859950423331518e-07\n",
      "GW:     -1.6990466156211038e-10\n",
      "pyAnalyticFlux:  -1.3898450167817176e-10\n",
      "\n",
      "*** pdot:\n",
      "Proca:  -7.541969471086483e-15 1 / solMass\n",
      "GW:     -4.642304634673714e-16 1 / solMass\n",
      "pyAnalyticFlux:  -6.609449663050187e-09\n",
      "\n",
      "*** from PN class instance\n",
      "pdot:      -6.609449663043068e-09\n",
      "pdotCorr:  -7.541969471086483e-08\n",
      "edot:      -1.3898450167819525e-10\n",
      "edotCorr:  6.179529447304525e-07\n"
     ]
    }
   ],
   "source": [
    "print(\"_____ SI Units______\")\n",
    "print(\"E:\")\n",
    "ProcaENSI = pc.ChangeInOrbitalConstants()[\"E\"](0,etest,ptest)\n",
    "ProcaLNSI = pc.ChangeInOrbitalConstants()[\"L\"](0,etest,ptest)\n",
    "print(ProcaENSI)\n",
    "print(ENsi)\n",
    "print(\"L:\")\n",
    "print(ProcaLNSI)\n",
    "print(LNsi)\n",
    "\n",
    "print(\"\\n\\n\")\n",
    "print(\"_____ Geometric Units______\")\n",
    "print(\"E:\")\n",
    "inverseenergyflux = (cons.G/(cons.c**5))\n",
    "energyfluxunit = (unit.kg*unit.m**2 / (unit.s**3))\n",
    "ProcaENGeo = ((pc.ChangeInOrbitalConstants()[\"E\"](0,etest,ptest)*energyfluxunit*inverseenergyflux*M).to(unit.M_sun))\n",
    "print(\"Proca: \", ProcaENGeo)\n",
    "print(\"GW:    \", ENgeo)\n",
    "print(\"L:\")\n",
    "inverseangularmomentumflux = (1/(cons.c**2)).value\n",
    "KGtoMsun = unit.kg.to(unit.Msun)\n",
    "ProcaLNGeo = ((pc.ChangeInOrbitalConstants()[\"L\"](0,etest,ptest)*KGtoMsun*inverseangularmomentumflux*M.value))\n",
    "print(\"Proca: \", ProcaLNGeo)\n",
    "print(\"GW:    \", LNgeo.value)\n",
    "\n",
    "print(\"\\n*** edot:\")\n",
    "print(\"Proca: \", (dldpgeo*ProcaENGeo - dedpgeo*ProcaLNGeo*unit.M_sun**2)/normgeo)\n",
    "print(\"GW:    \", (dldpgeo*ENgeo - dedpgeo*LNgeo)/normgeo)\n",
    "print(\"pyAnalyticFlux: \", flux.pydedt(a,ptest,etest,1,10,10)*pn.epsilon)\n",
    "\n",
    "print(\"\\n*** pdot:\")\n",
    "print(\"Proca: \", (dedegeo*ProcaLNGeo*unit.M_sun**2 - dldegeo*ProcaENGeo)/normgeo/M)\n",
    "print(\"GW:    \", (dedegeo*LNgeo - dldegeo*ENgeo)/normgeo/M)\n",
    "print(\"pyAnalyticFlux: \", flux.pydpdt(a,ptest, etest,1,10,8)*pn.epsilon)\n",
    "\n",
    "print(\"\\n*** from PN class instance\")\n",
    "print(\"pdot:     \", pn.UndressedpFlux(etest,ptest))\n",
    "print(\"pdotCorr: \", (dedegeo*pn.LFluxModification(0, etest, ptest)*unit.Msun**2 - dldegeo*pn.EFluxModification(0,etest,ptest)*unit.Msun)/normgeo)\n",
    "print(\"edot:     \", pn.UndressedeFlux(etest,ptest))\n",
    "print(\"edotCorr: \", (dldpgeo*pn.EFluxModification(0, etest, ptest)*unit.Msun - dedpgeo*pn.EFluxModification(0,etest,ptest)*unit.Msun**2)/normgeo)"
   ]
  },
  {
   "cell_type": "code",
   "execution_count": null,
   "id": "6f4655ed",
   "metadata": {},
   "outputs": [],
   "source": []
  },
  {
   "cell_type": "code",
   "execution_count": null,
   "id": "0ddd92f2",
   "metadata": {},
   "outputs": [],
   "source": []
  },
  {
   "cell_type": "code",
   "execution_count": null,
   "id": "8eef2972",
   "metadata": {},
   "outputs": [],
   "source": []
  },
  {
   "cell_type": "code",
   "execution_count": 6,
   "id": "3b37a12f",
   "metadata": {},
   "outputs": [
    {
     "name": "stdout",
     "output_type": "stream",
     "text": [
      "Eflux:  -5.742709914085951e-11 solMass\n",
      "Lflux:  -0.008699026907331302 solMass2\n",
      "\n",
      "edot From jacobian and (E,L) fluxes:  -1.6990466156211038e-10\n",
      "edot From pyAnalyticFluxes:           -1.3898450167819525e-10\n",
      "edot From PN class:                   -1.3898450167819525e-10\n",
      "\n",
      "pdot From jacobian and (E,L) fluxes:  -4.642304634673714e-09\n",
      "pdot From pyAnalyticFluxes:           -6.609449663043068e-09\n",
      "pdot From PN class:                   -6.609449663043068e-09\n"
     ]
    }
   ],
   "source": [
    "#Geometric Units\n",
    "dedegeo =(pn.dEde()(etest,ptest)*m)\n",
    "dedpgeo = (pn.dEdp()(etest,ptest)*m)\n",
    "dldegeo = (pn.dLde()(etest,ptest)*m*M)\n",
    "dldpgeo = (pn.dLdp()(etest,ptest)*m*M)\n",
    "normgeo = (dldpgeo*dedegeo  - dldegeo*dedpgeo)\n",
    "\n",
    "ENgeo = flux.pydEdt(0.9,ptest,etest,1,10,10)*pn.epsilon**2*M\n",
    "LNgeo = (flux.pydLdt(0.9,ptest,etest,1,10,10)*pn.epsilon*m*M)\n",
    "\n",
    "edotgeo = (dldpgeo*ENgeo - dedpgeo*LNgeo)/normgeo\n",
    "pdotgeo = (dedegeo*LNgeo - dldegeo*ENgeo)/normgeo\n",
    "print(\"Eflux: \", ENgeo)\n",
    "print(\"Lflux: \", LNgeo)\n",
    "print(\"\\nedot From jacobian and (E,L) fluxes: \", edotgeo)\n",
    "print(\"edot From pyAnalyticFluxes:          \", flux.pydedt(a,ptest, etest,1,10,8)*pn.epsilon)\n",
    "print(\"edot From PN class:                  \", pn.UndressedeFlux(etest,ptest))\n",
    "print(\"\\npdot From jacobian and (E,L) fluxes: \", pdotgeo)\n",
    "print(\"pdot From pyAnalyticFluxes:          \", flux.pydpdt(a,ptest, etest,1,10,10)*pn.epsilon)\n",
    "print(\"pdot From PN class:                  \", pn.UndressedpFlux(etest,ptest))"
   ]
  },
  {
   "cell_type": "code",
   "execution_count": null,
   "id": "dc55f357",
   "metadata": {},
   "outputs": [],
   "source": []
  }
 ],
 "metadata": {
  "kernelspec": {
   "display_name": "Python 3",
   "language": "python",
   "name": "python3"
  },
  "language_info": {
   "codemirror_mode": {
    "name": "ipython",
    "version": 3
   },
   "file_extension": ".py",
   "mimetype": "text/x-python",
   "name": "python",
   "nbconvert_exporter": "python",
   "pygments_lexer": "ipython3",
   "version": "3.7.12"
  }
 },
 "nbformat": 4,
 "nbformat_minor": 5
}
