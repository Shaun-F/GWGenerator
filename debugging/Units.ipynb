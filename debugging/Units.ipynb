{
 "cells": [
  {
   "cell_type": "code",
   "execution_count": 11,
   "id": "44f033c4",
   "metadata": {},
   "outputs": [],
   "source": [
    "import os, sys, glob, json, scipy as sp\n",
    "import matplotlib.pyplot as plt\n",
    "os.chdir(\"../\")\n",
    "path = os.getcwd()\n",
    "sys.path.insert(0, path)\n",
    "import GWGen\n",
    "from GWGen.WFGenerator import *\n",
    "from GWGen.DressedFluxes.Fluxes import *\n",
    "import pyAnalyticFluxes as flux\n",
    "\n",
    "etest = 0.1\n",
    "ptest = 10\n",
    "M=1e7*unit.M_sun\n",
    "m=1*unit.M_sun\n",
    "mu = 9e-19\n",
    "a = 0.9"
   ]
  },
  {
   "cell_type": "code",
   "execution_count": 2,
   "id": "b3a5b336",
   "metadata": {},
   "outputs": [
    {
     "name": "stdout",
     "output_type": "stream",
     "text": [
      "UltralightBoson instance not provided. Instantiating class...\n",
      "done.\n"
     ]
    }
   ],
   "source": [
    "pc = ProcaSolution(M.value,a,mu)\n",
    "consch = pc.ChangeInOrbitalConstants()\n",
    "pn = PN(M.value,m.value, DeltaEFlux = consch[\"E\"], DeltaLFlux = consch[\"L\"])"
   ]
  },
  {
   "cell_type": "code",
   "execution_count": 12,
   "id": "a5b5e8b8",
   "metadata": {},
   "outputs": [
    {
     "name": "stdout",
     "output_type": "stream",
     "text": [
      "From jacobian and (E,L) fluxes:  -3.6550576036603275e-13\n",
      "From pyAnalyticFluxes:                -3.603198466207921e-13\n"
     ]
    }
   ],
   "source": [
    "#SI Units\n",
    "dedeSI =(pn.dEde()(etest,ptest)*(m*cons.c**2)).decompose()\n",
    "dedpSI = (pn.dEdp()(etest,ptest)*(m*cons.c**2 / (cons.G*M/(cons.c**2)))).decompose()\n",
    "dldeSI = (pn.dLde()(etest,ptest)*(m*cons.G*M/(cons.c**2) * cons.c)).decompose()\n",
    "dldpSI = (pn.dLdp()(etest,ptest)*(m*cons.G*M/(cons.c**2) * cons.c / (cons.G*M/(cons.c**2)))).decompose()\n",
    "normSI = (dldpSI*dedeSI  - dldeSI*dedpSI)\n",
    "\n",
    "ENsi = (flux.pydEdt(0.9,ptest,etest,1,10,10)*pn.epsilon**2) *cons.c**5 / cons.G\n",
    "LNsi = ((flux.pydLdt(0.9,ptest,etest,1,10,10)*pn.epsilon*m)  * cons.c**2).decompose()\n",
    "\n",
    "edotSI = (dldpSI*ENsi - dedpSI*LNsi)/normSI\n",
    "print(\"From jacobian and (E,L) fluxes: \", edotSI.to(unit.Hz).value)\n",
    "print(\"From pyAnalyticFluxes:               \", (flux.pydedt(a,ptest, etest,1,10,8)*pn.epsilon * cons.c**3/(cons.G*M)).to(unit.Hz).value)"
   ]
  },
  {
   "cell_type": "code",
   "execution_count": 13,
   "id": "ca5789f7",
   "metadata": {},
   "outputs": [
    {
     "name": "stdout",
     "output_type": "stream",
     "text": [
      "Eflux:  -5.134339169670736e-12 solMass\n",
      "Lflux:  -0.0016351394946417083 solMass2\n",
      "\n",
      "edot From jacobian and (E,L) fluxes:  -1.8002953139936168e-11\n",
      "edot From pyAnalyticFluxes:           -1.7747521427862013e-11\n",
      "edot From PN class:                   -1.7747521427862013e-11\n",
      "\n",
      "pdot From jacobian and (E,L) fluxes:  -1.0948540664256946e-09\n",
      "pdot From pyAnalyticFluxes:           -1.12405604548241e-09\n",
      "pdot From PN class:                   -1.12405604548241e-09\n"
     ]
    }
   ],
   "source": [
    "#Geometric Units\n",
    "dedegeo =(pn.dEde()(etest,ptest)*m)\n",
    "dedpgeo = (pn.dEdp()(etest,ptest)*m)\n",
    "dldegeo = (pn.dLde()(etest,ptest)*m*M)\n",
    "dldpgeo = (pn.dLdp()(etest,ptest)*m*M)\n",
    "normgeo = (dldpgeo*dedegeo  - dldegeo*dedpgeo)\n",
    "\n",
    "ENgeo = flux.pydEdt(0.9,ptest,etest,1,10,10)*pn.epsilon**2*M\n",
    "LNgeo = (flux.pydLdt(0.9,ptest,etest,1,10,10)*pn.epsilon*m*M)\n",
    "\n",
    "edotgeo = (dldpgeo*ENgeo - dedpgeo*LNgeo)/normgeo\n",
    "pdotgeo = (dedegeo*LNgeo - dldegeo*ENgeo)/normgeo\n",
    "print(\"Eflux: \", ENgeo)\n",
    "print(\"Lflux: \", LNgeo)\n",
    "print(\"\\nedot From jacobian and (E,L) fluxes: \", edotgeo)\n",
    "print(\"edot From pyAnalyticFluxes:          \", flux.pydedt(a,ptest, etest,1,10,8)*pn.epsilon)\n",
    "print(\"edot From PN class:                  \", pn.UndressedeFlux(etest,ptest))\n",
    "print(\"\\npdot From jacobian and (E,L) fluxes: \", pdotgeo)\n",
    "print(\"pdot From pyAnalyticFluxes:          \", flux.pydpdt(a,ptest, etest,1,10,10)*pn.epsilon)\n",
    "print(\"pdot From PN class:                  \", pn.UndressedpFlux(etest,ptest))"
   ]
  },
  {
   "cell_type": "code",
   "execution_count": 14,
   "id": "1365a216",
   "metadata": {},
   "outputs": [
    {
     "name": "stdout",
     "output_type": "stream",
     "text": [
      "_____ SI Units______\n",
      "E:\n",
      "3.6823208530169655e+37\n",
      "-1.8628691273268792e+34 kg m2 / s3\n",
      "L:\n",
      "3.373241742732122e+39\n",
      "-2.9221474383830117e+37 kg m2 / s2\n",
      "\n",
      "\n",
      "\n",
      "_____ Geometric Units______\n",
      "E:\n",
      "Proca:  1.014901364438301e-08 solMass\n",
      "GW:     -5.134339169670736e-12 solMass\n",
      "L:\n",
      "Proca:  0.1887557323790437\n",
      "GW:     -0.0016351394946417083\n",
      "\n",
      "*** edot:\n",
      "Proca:  1.1453308548028013e-06\n",
      "GW:     -1.8002953139936168e-11\n",
      "pyAnalyticFlux:  -1.7747521427860087e-11\n",
      "\n",
      "*** pdot:\n",
      "Proca:  -6.949004397852962e-08\n",
      "GW:     -1.0948540664256946e-09\n",
      "pyAnalyticFlux:  -1.1240560454828328e-09\n",
      "\n",
      "*** from PN class instance\n",
      "pdot:      -1.12405604548241e-09\n",
      "pdotCorr:  -6.949004397852962e-08\n",
      "edot:      -1.7747521427862013e-11\n",
      "edotCorr:  1.214158384340145e-06\n"
     ]
    }
   ],
   "source": [
    "print(\"_____ SI Units______\")\n",
    "print(\"E:\")\n",
    "ProcaENSI = pc.ChangeInOrbitalConstants()[\"E\"](0,etest,ptest)\n",
    "ProcaLNSI = pc.ChangeInOrbitalConstants()[\"L\"](0,etest,ptest)\n",
    "print(ProcaENSI)\n",
    "print(ENsi)\n",
    "print(\"L:\")\n",
    "print(ProcaLNSI)\n",
    "print(LNsi)\n",
    "\n",
    "print(\"\\n\\n\")\n",
    "print(\"_____ Geometric Units______\")\n",
    "print(\"E:\")\n",
    "inverseenergyflux = (cons.G/(cons.c**5))\n",
    "energyfluxunit = (unit.kg*unit.m**2 / (unit.s**3))\n",
    "ProcaENGeo = ((pc.ChangeInOrbitalConstants()[\"E\"](0,etest,ptest)*energyfluxunit*inverseenergyflux*M).to(unit.M_sun))\n",
    "print(\"Proca: \", ProcaENGeo)\n",
    "print(\"GW:    \", ENgeo)\n",
    "print(\"L:\")\n",
    "inverseangularmomentumflux = (1/(cons.c**2)).value\n",
    "KGtoMsun = unit.kg.to(unit.Msun)\n",
    "ProcaLNGeo = ((pc.ChangeInOrbitalConstants()[\"L\"](0,etest,ptest)*KGtoMsun*inverseangularmomentumflux*M.value))\n",
    "print(\"Proca: \", ProcaLNGeo)\n",
    "print(\"GW:    \", LNgeo.value)\n",
    "\n",
    "print(\"\\n*** edot:\")\n",
    "print(\"Proca: \", (dldpgeo*ProcaENGeo - dedpgeo*ProcaLNGeo*unit.M_sun**2)/normgeo)\n",
    "print(\"GW:    \", (dldpgeo*ENgeo - dedpgeo*LNgeo)/normgeo)\n",
    "print(\"pyAnalyticFlux: \", flux.pydedt(a,ptest,etest,1,10,10)*pn.epsilon)\n",
    "\n",
    "print(\"\\n*** pdot:\")\n",
    "print(\"Proca: \", (dedegeo*ProcaLNGeo*unit.M_sun**2 - dldegeo*ProcaENGeo)/normgeo)\n",
    "print(\"GW:    \", (dedegeo*LNgeo - dldegeo*ENgeo)/normgeo)\n",
    "print(\"pyAnalyticFlux: \", flux.pydpdt(a,ptest, etest,1,10,8)*pn.epsilon)\n",
    "\n",
    "print(\"\\n*** from PN class instance\")\n",
    "print(\"pdot:     \", pn.UndressedpFlux(etest,ptest))\n",
    "print(\"pdotCorr: \", (dedegeo*pn.LFluxModification(0, etest, ptest)*unit.Msun**2 - dldegeo*pn.EFluxModification(0,etest,ptest)*unit.Msun)/normgeo)\n",
    "print(\"edot:     \", pn.UndressedeFlux(etest,ptest))\n",
    "print(\"edotCorr: \", (dldpgeo*pn.EFluxModification(0, etest, ptest)*unit.Msun - dedpgeo*pn.EFluxModification(0,etest,ptest)*unit.Msun**2)/normgeo)"
   ]
  },
  {
   "cell_type": "code",
   "execution_count": null,
   "id": "6f4655ed",
   "metadata": {},
   "outputs": [],
   "source": []
  },
  {
   "cell_type": "code",
   "execution_count": null,
   "id": "8eef2972",
   "metadata": {},
   "outputs": [],
   "source": []
  },
  {
   "cell_type": "code",
   "execution_count": null,
   "id": "dc55f357",
   "metadata": {},
   "outputs": [],
   "source": []
  },
  {
   "cell_type": "code",
   "execution_count": null,
   "id": "a22f489d",
   "metadata": {},
   "outputs": [],
   "source": []
  }
 ],
 "metadata": {
  "kernelspec": {
   "display_name": "Python 3",
   "language": "python",
   "name": "python3"
  },
  "language_info": {
   "codemirror_mode": {
    "name": "ipython",
    "version": 3
   },
   "file_extension": ".py",
   "mimetype": "text/x-python",
   "name": "python",
   "nbconvert_exporter": "python",
   "pygments_lexer": "ipython3",
   "version": "3.7.12"
  }
 },
 "nbformat": 4,
 "nbformat_minor": 5
}
