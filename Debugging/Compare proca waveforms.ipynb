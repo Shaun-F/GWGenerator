{
 "cells": [
  {
   "cell_type": "code",
   "execution_count": 15,
   "id": "9bdecc62",
   "metadata": {},
   "outputs": [
    {
     "name": "stdout",
     "output_type": "stream",
     "text": [
      "alpha = 0.03741569030786112\n"
     ]
    }
   ],
   "source": [
    "import sys\n",
    "import os\n",
    "\n",
    "import matplotlib.pyplot as plt\n",
    "%matplotlib inline\n",
    "import numpy as np\n",
    "\n",
    "from few.trajectory.inspiral import EMRIInspiral\n",
    "from few.waveform import GenerateEMRIWaveform\n",
    "from few.summation.aakwave import AAKSummation\n",
    "from few.waveform import Pn5AAKWaveform, AAKWaveformBase\n",
    "from few.utils.utility import *\n",
    "\n",
    "os.chdir(\"../\")\n",
    "path = os.getcwd()\n",
    "sys.path.insert(0, path)\n",
    "import GWGen\n",
    "from GWGen.WFGenerator import *\n",
    "\n",
    "# set initial parameters\n",
    "M = 1e6\n",
    "m = 1e1\n",
    "mu = 5e-18\n",
    "a = 0.9\n",
    "p0 = 14.0\n",
    "e0 = 0.2\n",
    "iota0 = 0.1\n",
    "Y0 = np.cos(iota0)\n",
    "Phi_phi0 = 0.\n",
    "Phi_theta0 =0.\n",
    "Phi_r0 = 0.\n",
    "\n",
    "\n",
    "qS = 0.2\n",
    "phiS = 0.2\n",
    "qK = 0.8\n",
    "phiK = 0.8\n",
    "dist = 1.0\n",
    "mich = False\n",
    "dt = 50.0\n",
    "T = 10.0\n",
    "\n",
    "alphaval = alphavalue(M,mu)\n",
    "print(r\"alpha = {0}\".format(alphaval))"
   ]
  },
  {
   "cell_type": "markdown",
   "id": "a08c491d",
   "metadata": {},
   "source": [
    "# Without Proca"
   ]
  },
  {
   "cell_type": "code",
   "execution_count": 4,
   "id": "6fb3c9ed",
   "metadata": {},
   "outputs": [
    {
     "name": "stderr",
     "output_type": "stream",
     "text": [
      "/home/shaunf/.pyenv/versions/3.9.15/lib/python3.9/site-packages/few-1.4.6-py3.9-linux-x86_64.egg/few/summation/aakwave.py:227: UserWarning: Inclination trajectory includes values within 1e-6 of the poles. We shift these values automatically away from poles by 1e-6.\n",
      "  warnings.warn(\n"
     ]
    }
   ],
   "source": [
    "use_gpu = False\n",
    "\n",
    "# keyword arguments for inspiral generator (RunKerrGenericPn5Inspiral)\n",
    "inspiral_kwargs = {\n",
    "    \"DENSE_STEPPING\": 1,  # we want a densely sampled trajectory\n",
    "    \"max_init_len\": int(1e3),  # all of the trajectories will be well under len = 1000\n",
    "}\n",
    "\n",
    "# keyword arguments for summation generator (AAKSummation)\n",
    "sum_kwargs = {\n",
    "    \"use_gpu\": use_gpu,  # GPU is availabel for this type of summation\n",
    "    \"pad_output\": False,\n",
    "}\n",
    "\n",
    "wfgenerator = EMRIWaveform(inspiral_kwargs=inspiral_kwargs, sum_kwargs=sum_kwargs, use_gpu=False)\n",
    "withoutproca = wfgenerator(M, m, a, p0, e0, Y0, qS, phiS, qK, phiK, dist,Phi_phi0=Phi_phi0, Phi_theta0=Phi_theta0, Phi_r0=Phi_r0, mich=mich, dt=dt, T=T)\n"
   ]
  },
  {
   "cell_type": "markdown",
   "id": "0bcc8410",
   "metadata": {},
   "source": [
    "# With Proca"
   ]
  },
  {
   "cell_type": "code",
   "execution_count": 16,
   "id": "7ae74b55",
   "metadata": {},
   "outputs": [],
   "source": [
    "use_gpu = False\n",
    "\n",
    "# keyword arguments for inspiral generator (RunKerrGenericPn5Inspiral)\n",
    "inspiral_kwargs = {\n",
    "    \"DENSE_STEPPING\": 1,  # we want a densely sampled trajectory\n",
    "    \"max_init_len\": int(1e3),  # all of the trajectories will be well under len = 1000\n",
    "}\n",
    "\n",
    "# keyword arguments for summation generator (AAKSummation)\n",
    "sum_kwargs = {\n",
    "    \"use_gpu\": use_gpu,  # GPU is availabel for this type of summation\n",
    "    \"pad_output\": False,\n",
    "}\n",
    "\n",
    "wfgen = EMRIWithProcaWaveform()\n",
    "withproca = wfgen(M,m,mu,a,p0,e0,Y0,T=T,qS=qS,phiS=phiS,qK=qK,phiK=phiK,dist=dist,mich=mich)"
   ]
  },
  {
   "cell_type": "code",
   "execution_count": null,
   "id": "97a747b5",
   "metadata": {},
   "outputs": [],
   "source": [
    "mismatch = get_mismatch(withoutproca, withproca)\n",
    "\n",
    "\n",
    "tp = np.arange(len(withproca)) * dt;\n",
    "twp = np.arange(len(withoutproca)) * dt\n",
    "\n",
    "fig,ax = plt.subplots(4,2, figsize=(16,8))\n",
    "plt.subplots_adjust(hspace=1, wspace=0.5)\n",
    "ax[0,0].plot(tp, withproca.real)\n",
    "ax[0,0].set_title(\"With proca\")\n",
    "ticks = ax[0,0].get_xticks()[1:-1];\n",
    "newlabs = [int(i)/100 for i in (ticks*100/(60*60*24*365))];\n",
    "ax[0,0].set_xticks(ticks, newlabs);\n",
    "ax[0,0].set_xlabel(\"years\");\n",
    "ax[0,0].set_ylabel(\"strain\");\n",
    "\n",
    "ax[0,1].plot(twp, withoutproca.real)\n",
    "ax[0,1].set_title(\"Without proca\")\n",
    "ticks = ax[0,1].get_xticks()[1:-1];\n",
    "newlabs = [int(i)/100 for i in (ticks*100/(60*60*24*365))];\n",
    "ax[0,1].set_xticks(ticks, newlabs);\n",
    "ax[0,1].set_xlabel(\"years\");\n",
    "ax[0,1].set_ylabel(\"strain\");\n",
    "\n",
    "minwave = min([len(withproca), len(withoutproca)])\n",
    "dom =tp[0:minwave-1]\n",
    "ax[1,0].plot(dom, (withproca.real[0:minwave-1]-withoutproca.real[0:minwave-1]));\n",
    "ax[1,0].set_title(\"difference between with and without proca \\n for alpha={0}. Mismatch={1}\".format(alphaval,mismatch), fontdict={\"fontsize\":9});\n",
    "ticks = ax[1,0].get_xticks()[1:-1];\n",
    "newlabs = [int(i)/100 for i in (ticks*100/(60*60*24*365))];\n",
    "ax[1,0].set_xticks(ticks, newlabs);\n",
    "ax[1,0].set_xlabel(\"years\");\n",
    "ax[1,0].set_ylabel(\"strain\");\n",
    "\n",
    "\n",
    "minsize = min([len(tp), len(twp)])\n",
    "dom = tp[0:minsize-1]\n",
    "ax[1,1].plot(wfgen.Trajectory[\"t\"], wfgen.Trajectory[\"Phi_phi\"], label=\"withproca\")\n",
    "ax[1,1].plot(wfgenerator.Trajectory[\"t\"], wfgenerator.Trajectory[\"Phi_phi\"], label=\"withoutproca\")\n",
    "ax[1,1].set_title(\" phase evolution\")\n",
    "ax[1,1].legend()\n",
    "ticks = ax[1,1].get_xticks()[1:-1];\n",
    "newlabs = [int(i)/100 for i in (ticks*100/(60*60*24*365))];\n",
    "ax[1,1].set_xticks(ticks, newlabs);\n",
    "ax[1,1].set_xlabel(\"years\");\n",
    "ax[1,1].set_ylabel(\"strain\");\n",
    "\n",
    "\n",
    "ax[2,0].plot(wfgen.Trajectory[\"t\"], wfgen.Trajectory[\"p\"], label=\"with proca\")\n",
    "ax[2,0].set_title(\" semi-latus rectum evolution\")\n",
    "ax[2,0].legend()\n",
    "ticks = ax[2,0].get_xticks()[1:-1];\n",
    "newlabs = [int(i)/100 for i in (ticks*100/(60*60*24*365))];\n",
    "ax[2,0].set_xticks(ticks, newlabs);\n",
    "ax[2,0].set_xlabel(\"years\");\n",
    "ax[2,0].set_ylabel(\"strain\");\n",
    "\n",
    "ax[2,1].plot(wfgenerator.Trajectory[\"t\"], wfgenerator.Trajectory[\"p\"], label=\"without proca\")\n",
    "ax[2,1].set_title(\" semi-latus rectum evolution\")\n",
    "ax[2,1].legend()\n",
    "ticks = ax[2,1].get_xticks()[1:-1];\n",
    "newlabs = [int(i)/100 for i in (ticks*100/(60*60*24*365))];\n",
    "ax[2,1].set_xticks(ticks, newlabs);\n",
    "ax[2,1].set_xlabel(\"years\");\n",
    "ax[2,1].set_ylabel(\"strain\");\n",
    "\n",
    "\n",
    "minsize = min([len(tp), len(twp)])\n",
    "dom = tp[0:minsize-1]\n",
    "ax[3,0].plot(wfgen.Trajectory[\"t\"], wfgen.Trajectory[\"p\"], label=\"withproca\")\n",
    "ax[3,0].plot(wfgenerator.Trajectory[\"t\"], wfgenerator.Trajectory[\"p\"], label=\"withoutproca\")\n",
    "ax[3,0].set_title(\" semi-latus rectum evolution\")\n",
    "ax[3,0].legend()\n",
    "ticks = ax[3,0].get_xticks()[1:-1];\n",
    "newlabs = [int(i)/100 for i in (ticks*100/(60*60*24*365))];\n",
    "ax[3,0].set_xticks(ticks, newlabs);\n",
    "ax[3,0].set_xlabel(\"years\");\n",
    "ax[3,0].set_ylabel(\"strain\");"
   ]
  },
  {
   "cell_type": "code",
   "execution_count": null,
   "id": "5e4f7dde",
   "metadata": {},
   "outputs": [],
   "source": []
  }
 ],
 "metadata": {
  "kernelspec": {
   "display_name": "Python 3",
   "language": "python",
   "name": "python3"
  },
  "language_info": {
   "codemirror_mode": {
    "name": "ipython",
    "version": 3
   },
   "file_extension": ".py",
   "mimetype": "text/x-python",
   "name": "python",
   "nbconvert_exporter": "python",
   "pygments_lexer": "ipython3",
   "version": "3.9.15"
  }
 },
 "nbformat": 4,
 "nbformat_minor": 5
}
