{
 "cells": [
  {
   "cell_type": "code",
   "execution_count": 6,
   "id": "9bdecc62",
   "metadata": {},
   "outputs": [
    {
     "ename": "TabError",
     "evalue": "inconsistent use of tabs and spaces in indentation (Kludge.py, line 211)",
     "output_type": "error",
     "traceback": [
      "Traceback \u001b[0;36m(most recent call last)\u001b[0m:\n",
      "  File \u001b[1;32m\"/mnt/Data_Volume/Computer_Programs/Anaconda/envs/few_env/lib/python3.7/site-packages/IPython/core/interactiveshell.py\"\u001b[0m, line \u001b[1;32m3552\u001b[0m, in \u001b[1;35mrun_code\u001b[0m\n    exec(code_obj, self.user_global_ns, self.user_ns)\n",
      "  File \u001b[1;32m\"/tmp/ipykernel_10853/340923366.py\"\u001b[0m, line \u001b[1;32m17\u001b[0m, in \u001b[1;35m<module>\u001b[0m\n    import GWGen\n",
      "  File \u001b[1;32m\"/home/shaunf/Documents/Computer/Code/projects/ProcaAroundKerr/GWGenerator/GWGen/__init__.py\"\u001b[0m, line \u001b[1;32m1\u001b[0m, in \u001b[1;35m<module>\u001b[0m\n    from .WFGenerator import *\n",
      "\u001b[0;36m  File \u001b[0;32m\"/home/shaunf/Documents/Computer/Code/projects/ProcaAroundKerr/GWGenerator/GWGen/WFGenerator/__init__.py\"\u001b[0;36m, line \u001b[0;32m1\u001b[0;36m, in \u001b[0;35m<module>\u001b[0;36m\u001b[0m\n\u001b[0;31m    from .Kludge import *\u001b[0m\n",
      "\u001b[0;36m  File \u001b[0;32m\"/home/shaunf/Documents/Computer/Code/projects/ProcaAroundKerr/GWGenerator/GWGen/WFGenerator/Kludge.py\"\u001b[0;36m, line \u001b[0;32m211\u001b[0m\n\u001b[0;31m    def __call__(self, SMBHMass, SecondaryMass, BHSpin, p0, e0, x0, qs, phis, qk, phik,dist, T=1, npoints=10, BosonSpin=1, CloudModel=\"relativistic\", units=\"physical\", FluxName=\"analytic\", **kwargs):\u001b[0m\n\u001b[0m                                                                                                                                                                                                       ^\u001b[0m\n\u001b[0;31mTabError\u001b[0m\u001b[0;31m:\u001b[0m inconsistent use of tabs and spaces in indentation\n"
     ]
    }
   ],
   "source": [
    "import sys\n",
    "import os\n",
    "\n",
    "import matplotlib.pyplot as plt\n",
    "%matplotlib inline\n",
    "import numpy as np\n",
    "\n",
    "from few.trajectory.inspiral import EMRIInspiral\n",
    "from few.waveform import GenerateEMRIWaveform\n",
    "from few.summation.aakwave import AAKSummation\n",
    "from few.waveform import Pn5AAKWaveform, AAKWaveformBase\n",
    "from few.utils.utility import *\n",
    "\n",
    "os.chdir(\"../\")\n",
    "path = os.getcwd()\n",
    "sys.path.insert(0, path)\n",
    "import GWGen\n",
    "from GWGen.WFGenerator import *\n",
    "\n",
    "# set initial parameters\n",
    "M = 1e6\n",
    "m = 1e1\n",
    "mu = 2e-18\n",
    "a = 0.9\n",
    "p0 = 14.0\n",
    "e0 = 0.2\n",
    "iota0 = 0.1\n",
    "Y0 = np.cos(iota0)\n",
    "Phi_phi0 = 0.\n",
    "Phi_theta0 =0.\n",
    "Phi_r0 = 0.\n",
    "\n",
    "\n",
    "qS = 0.2\n",
    "phiS = 0.2\n",
    "qK = 0.8\n",
    "phiK = 0.8\n",
    "dist = 1.0\n",
    "mich = False\n",
    "dt = 15.0\n",
    "T = 2.0\n",
    "\n",
    "alphaval = alphavalue(M,mu)\n",
    "print(r\"alpha = {0}\".format(alphaval))"
   ]
  },
  {
   "cell_type": "markdown",
   "id": "a08c491d",
   "metadata": {},
   "source": [
    "# Without Proca"
   ]
  },
  {
   "cell_type": "code",
   "execution_count": 2,
   "id": "6fb3c9ed",
   "metadata": {},
   "outputs": [
    {
     "name": "stderr",
     "output_type": "stream",
     "text": [
      "/mnt/Data_Volume/Computer_Programs/Anaconda/envs/few_env/lib/python3.7/site-packages/few-1.4.6-py3.7-linux-x86_64.egg/few/summation/aakwave.py:228: UserWarning: Inclination trajectory includes values within 1e-6 of the poles. We shift these values automatically away from poles by 1e-6.\n",
      "  \"Inclination trajectory includes values within 1e-6 of the poles. We shift these values automatically away from poles by 1e-6.\"\n"
     ]
    }
   ],
   "source": [
    "use_gpu = False\n",
    "\n",
    "# keyword arguments for inspiral generator (RunKerrGenericPn5Inspiral)\n",
    "inspiral_kwargs = {\n",
    "    \"DENSE_STEPPING\": 1,  # we want a densely sampled trajectory\n",
    "    \"max_init_len\": int(1e3),  # all of the trajectories will be well under len = 1000\n",
    "}\n",
    "\n",
    "# keyword arguments for summation generator (AAKSummation)\n",
    "sum_kwargs = {\n",
    "    \"use_gpu\": use_gpu,  # GPU is availabel for this type of summation\n",
    "    \"pad_output\": False,\n",
    "}\n",
    "\n",
    "wfgenerator = EMRIWaveform(inspiral_kwargs=inspiral_kwargs, sum_kwargs=sum_kwargs, use_gpu=False)\n",
    "withoutproca = wfgenerator(M, mu, a, p0, e0, Y0, qS, phiS, qK, phiK, dist,Phi_phi0=Phi_phi0, Phi_theta0=Phi_theta0, Phi_r0=Phi_r0, mich=mich, dt=dt, T=T)\n"
   ]
  },
  {
   "cell_type": "markdown",
   "id": "0bcc8410",
   "metadata": {},
   "source": [
    "# With Proca"
   ]
  },
  {
   "cell_type": "code",
   "execution_count": 2,
   "id": "7ae74b55",
   "metadata": {},
   "outputs": [
    {
     "name": "stderr",
     "output_type": "stream",
     "text": [
      "/mnt/Data_Volume/Computer_Programs/Anaconda/envs/few_env/lib/python3.7/site-packages/few-1.4.6-py3.7-linux-x86_64.egg/few/summation/aakwave.py:228: UserWarning: Inclination trajectory includes values within 1e-6 of the poles. We shift these values automatically away from poles by 1e-6.\n",
      "  \"Inclination trajectory includes values within 1e-6 of the poles. We shift these values automatically away from poles by 1e-6.\"\n"
     ]
    }
   ],
   "source": [
    "use_gpu = False\n",
    "\n",
    "# keyword arguments for inspiral generator (RunKerrGenericPn5Inspiral)\n",
    "inspiral_kwargs = {\n",
    "    \"DENSE_STEPPING\": 1,  # we want a densely sampled trajectory\n",
    "    \"max_init_len\": int(1e3),  # all of the trajectories will be well under len = 1000\n",
    "}\n",
    "\n",
    "# keyword arguments for summation generator (AAKSummation)\n",
    "sum_kwargs = {\n",
    "    \"use_gpu\": use_gpu,  # GPU is availabel for this type of summation\n",
    "    \"pad_output\": False,\n",
    "}\n",
    "\n",
    "wfgen = EMRIWithProcaWaveform()\n",
    "withproca = wfgen(M,m,mu,a,p0,e0,Y0,T=T,qS=qS,phiS=phiS,qK=qK,phiK=phiK,dist=dist,mich=mich)"
   ]
  },
  {
   "cell_type": "code",
   "execution_count": 4,
   "id": "2cd02322",
   "metadata": {},
   "outputs": [
    {
     "data": {
      "text/plain": [
       "{'t': array([0.00000000e+00, 2.99836745e-01, 3.29820420e+00, 3.32818787e+01,\n",
       "        3.33118624e+02, 3.33148608e+03, 3.33151606e+04, 3.33151906e+05,\n",
       "        3.33151936e+06, 9.64314931e+06, 1.59547793e+07, 2.22664092e+07,\n",
       "        2.85780392e+07, 3.48896691e+07, 4.12012991e+07, 4.75129290e+07,\n",
       "        5.38245590e+07, 6.01361889e+07, 6.31162995e+07]),\n",
       " 'p': array([14.        , 14.        , 13.99999997, 13.99999972, 13.99999724,\n",
       "        13.99997238, 13.99972382, 13.99723747, 13.97230127, 13.91937226,\n",
       "        13.86583683, 13.8116788 , 13.75688129, 13.7014267 , 13.64529664,\n",
       "        13.58847192, 13.53093246, 13.47265726, 13.44487997]),\n",
       " 'e': array([0.2       , 0.2       , 0.2       , 0.19999999, 0.19999994,\n",
       "        0.19999938, 0.19999377, 0.19993765, 0.19937511, 0.19818266,\n",
       "        0.19697877, 0.19576314, 0.19453549, 0.19329551, 0.19204289,\n",
       "        0.1907773 , 0.1894984 , 0.18820582, 0.18759066]),\n",
       " 'Y': array([1., 1., 1., 1., 1., 1., 1., 1., 1., 1., 1., 1., 1., 1., 1., 1., 1.,\n",
       "        1., 1.]),\n",
       " 'Phi_phi': array([0.00000000e+00, 1.08313527e-03, 1.19144880e-02, 1.20228017e-01,\n",
       "        1.20336349e+00, 1.20347357e+01, 1.20350208e+02, 1.20368006e+03,\n",
       "        1.20545522e+04, 3.50013557e+04, 5.80935529e+04, 8.13341177e+04,\n",
       "        1.04726132e+05, 1.28272794e+05, 1.51977419e+05, 1.75843452e+05,\n",
       "        1.99874471e+05, 2.24074196e+05, 2.35560119e+05]),\n",
       " 'Phi_theta': array([1.57079633, 1.57079633, 1.57079633, 1.57079633, 1.57079633,\n",
       "        1.57079633, 1.57079633, 1.57079633, 1.57079633, 1.57079633,\n",
       "        1.57079633, 1.57079633, 1.57079633, 1.57079633, 1.57079633,\n",
       "        1.57079633, 1.57079633, 1.57079633, 1.57079633]),\n",
       " 'Phi_r': array([0.00000000e+00, 9.03742021e-04, 9.94116224e-03, 1.00315366e-01,\n",
       "        1.00405753e+00, 1.00414922e+01, 1.00417143e+02, 1.00430413e+03,\n",
       "        1.00562631e+04, 2.91893466e+04, 4.84305311e+04, 6.77818788e+04,\n",
       "        8.72455236e+04, 1.06823675e+05, 1.26518620e+05, 1.46332733e+05,\n",
       "        1.66268472e+05, 1.86328391e+05, 1.95843832e+05])}"
      ]
     },
     "execution_count": 4,
     "metadata": {},
     "output_type": "execute_result"
    }
   ],
   "source": [
    "wfgen.Trajectory"
   ]
  },
  {
   "cell_type": "code",
   "execution_count": 23,
   "id": "97a747b5",
   "metadata": {},
   "outputs": [
    {
     "data": {
      "image/png": "[encoded data removed]",
      "text/plain": [
       "<Figure size 640x480 with 1 Axes>"
      ]
     },
     "metadata": {},
     "output_type": "display_data"
    }
   ],
   "source": [
    "mismatch = get_mismatch(withoutproca, withproca)\n",
    "tp = np.arange(len(withproca)) * dt;\n",
    "twp = np.arange(len(withoutproca)) * dt\n",
    "plt.plot(tp, withproca.real-withoutproca.real);\n",
    "plt.title(\"difference between with and without proca for alpha={0}. Mismatch={1}\".format(alphaval,mismatch));\n",
    "ticks = plt.xticks()[0][1:-1];\n",
    "newlabs = [int(i)/100 for i in (ticks*100/(60*60*24*365))];\n",
    "plt.xticks(ticks, newlabs);\n",
    "plt.xlabel(\"years\");\n",
    "plt.ylabel(\"strain\");"
   ]
  },
  {
   "cell_type": "code",
   "execution_count": 25,
   "id": "e7c887b9",
   "metadata": {},
   "outputs": [
    {
     "data": {
      "text/plain": [
       "<few.summation.aakwave.AAKSummation at 0x7f58481c8c90>"
      ]
     },
     "execution_count": 25,
     "metadata": {},
     "output_type": "execute_result"
    }
   ],
   "source": [
    "wfgenerator.create_waveform"
   ]
  },
  {
   "cell_type": "code",
   "execution_count": null,
   "id": "2ad8ab9d",
   "metadata": {},
   "outputs": [],
   "source": []
  }
 ],
 "metadata": {
  "kernelspec": {
   "display_name": "Python 3",
   "language": "python",
   "name": "python3"
  },
  "language_info": {
   "codemirror_mode": {
    "name": "ipython",
    "version": 3
   },
   "file_extension": ".py",
   "mimetype": "text/x-python",
   "name": "python",
   "nbconvert_exporter": "python",
   "pygments_lexer": "ipython3",
   "version": "3.7.12"
  }
 },
 "nbformat": 4,
 "nbformat_minor": 5
}
