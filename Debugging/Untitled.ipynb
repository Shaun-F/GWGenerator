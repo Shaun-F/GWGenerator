{
 "cells": [
  {
   "cell_type": "code",
   "execution_count": 28,
   "id": "b2bb08bd",
   "metadata": {},
   "outputs": [],
   "source": [
    "import numpy as np\n",
    "import pandas as pd\n",
    "import os\n",
    "import matplotlib.pyplot as plt\n",
    "import re\n",
    "baseDir = os.getcwd()+'/../'\n",
    "ProcaPath = baseDir+'ProcaSolutions/'"
   ]
  },
  {
   "cell_type": "code",
   "execution_count": 2,
   "id": "f131944e",
   "metadata": {},
   "outputs": [],
   "source": [
    "dat=pd.read_csv(ProcaPath+'SolutionSet.dat', delimiter='\\t')"
   ]
  },
  {
   "cell_type": "code",
   "execution_count": 19,
   "id": "fcabd29e",
   "metadata": {},
   "outputs": [
    {
     "data": {
      "text/plain": [
       "array([[6.71970235e-09],\n",
       "       [7.31090585e-09],\n",
       "       [5.32615285e-09],\n",
       "       [3.09814649e-09],\n",
       "       [3.41497797e-09],\n",
       "       [3.18433265e-09],\n",
       "       [4.24066323e-09],\n",
       "       [7.75756967e-09],\n",
       "       [7.07380810e-09],\n",
       "       [1.23974232e-08],\n",
       "       [2.77518634e-08],\n",
       "       [3.20146883e-08],\n",
       "       [5.43226377e-08],\n",
       "       [5.22074185e-08],\n",
       "       [6.00057159e-08],\n",
       "       [6.89693768e-08],\n",
       "       [5.35690977e-08],\n",
       "       [3.78265867e-08],\n",
       "       [2.75565905e-08],\n",
       "       [1.90355344e-08],\n",
       "       [6.57114118e-09],\n",
       "       [2.85352259e-09]])"
      ]
     },
     "execution_count": 19,
     "metadata": {},
     "output_type": "execute_result"
    }
   ],
   "source": [
    "dat[(dat[\"ModeNumber\"]==1)&(dat[\"Overtone\"]==0)][[\"Einf\"]].values"
   ]
  },
  {
   "cell_type": "code",
   "execution_count": 23,
   "id": "d5f88ccd",
   "metadata": {},
   "outputs": [],
   "source": [
    "from scipy.interpolate import CubicSpline\n",
    "datapoints = dat[(dat[\"ModeNumber\"]==1)&(dat[\"Overtone\"]==0)][[\"ProcaMass\"]].values.ravel()\n",
    "einf = dat[(dat[\"ModeNumber\"]==1)&(dat[\"Overtone\"]==0)][\"Einf\"].values.ravel()\n",
    "interp = CubicSpline(datapoints,einf)"
   ]
  },
  {
   "cell_type": "code",
   "execution_count": 24,
   "id": "b440389f",
   "metadata": {},
   "outputs": [
    {
     "data": {
      "text/plain": [
       "array([6.71970235e-09, 7.31090585e-09, 5.32615285e-09, 3.09814649e-09,\n",
       "       3.41497797e-09, 3.18433265e-09, 4.24066323e-09, 7.75756967e-09,\n",
       "       7.07380810e-09, 1.23974232e-08, 2.77518634e-08, 3.20146883e-08,\n",
       "       5.43226377e-08, 5.22074185e-08, 6.00057159e-08, 6.89693768e-08,\n",
       "       5.35690977e-08, 3.78265867e-08, 2.75565905e-08, 1.90355344e-08,\n",
       "       6.57114118e-09, 2.85352259e-09])"
      ]
     },
     "execution_count": 24,
     "metadata": {},
     "output_type": "execute_result"
    }
   ],
   "source": [
    "einf"
   ]
  },
  {
   "cell_type": "code",
   "execution_count": 25,
   "id": "23294ab5",
   "metadata": {},
   "outputs": [
    {
     "data": {
      "image/png": "[encoded data removed]",
      "text/plain": [
       "<Figure size 432x288 with 1 Axes>"
      ]
     },
     "metadata": {
      "needs_background": "light"
     },
     "output_type": "display_data"
    }
   ],
   "source": [
    "x = np.arange(0.06, 0.33,0.001)\n",
    "p1 = plt.plot(x,interp(x))\n",
    "p2 = plt.plot(datapoints,einf)"
   ]
  },
  {
   "cell_type": "code",
   "execution_count": null,
   "id": "9520583e",
   "metadata": {},
   "outputs": [],
   "source": []
  }
 ],
 "metadata": {
  "kernelspec": {
   "display_name": "Python 3",
   "language": "python",
   "name": "python3"
  },
  "language_info": {
   "codemirror_mode": {
    "name": "ipython",
    "version": 3
   },
   "file_extension": ".py",
   "mimetype": "text/x-python",
   "name": "python",
   "nbconvert_exporter": "python",
   "pygments_lexer": "ipython3",
   "version": "3.9.7"
  }
 },
 "nbformat": 4,
 "nbformat_minor": 5
}
