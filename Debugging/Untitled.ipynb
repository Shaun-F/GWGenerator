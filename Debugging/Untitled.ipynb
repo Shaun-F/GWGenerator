{
 "cells": [
  {
   "cell_type": "code",
   "execution_count": 108,
   "id": "b20d5284",
   "metadata": {},
   "outputs": [],
   "source": [
    "import sys\n",
    "import os\n",
    "import numpy as np\n",
    "import time\n",
    "import matplotlib.pyplot as plt\n",
    "import astropy.constants as cons\n",
    "import astropy.units as unit\n",
    "os.chdir(\"../\")\n",
    "path = os.getcwd()\n",
    "sys.path.insert(0, path)\n",
    "import GWGen\n",
    "from GWGen.WFGenerator import *\n",
    "import superrad as SR\n",
    "from superrad import ultralight_boson  as ub\n",
    "from superrad import cloud_model as CM\n",
    "from superrad import rel_vec_cloud as rvc\n",
    "from superrad.matched_waveform import *"
   ]
  },
  {
   "cell_type": "code",
   "execution_count": 124,
   "id": "09fefe19",
   "metadata": {},
   "outputs": [],
   "source": [
    "bc = rvc.RelVector()\n",
    "mu = 1.16e-17\n",
    "M = 1e5\n",
    "spin = 0.9\n",
    "wf = MatchedWaveform(mu,M,spin,bc, units=\"physical\")\n",
    "cloudmass = wf.mass_cloud(0)"
   ]
  },
  {
   "cell_type": "code",
   "execution_count": 128,
   "id": "e28c40b1",
   "metadata": {},
   "outputs": [
    {
     "data": {
      "text/latex": [
       "$5.4947789 \\times 10^{-20} \\; \\mathrm{}$"
      ],
      "text/plain": [
       "<Quantity 5.4947789e-20>"
      ]
     },
     "execution_count": 128,
     "metadata": {},
     "output_type": "execute_result"
    }
   ],
   "source": [
    "alpha = ((mu*unit.eV)*(M*unit.Msun)*cons.G/(cons.hbar*cons.c**3)).decompose()\n",
    "bc.power_gw(1,alpha,0.9)"
   ]
  },
  {
   "cell_type": "code",
   "execution_count": 130,
   "id": "016c4a55",
   "metadata": {},
   "outputs": [
    {
     "data": {
      "text/latex": [
       "$5.1908342 \\times 10^{-20} \\; \\mathrm{}$"
      ],
      "text/plain": [
       "<Quantity 5.1908342e-20>"
      ]
     },
     "execution_count": 130,
     "metadata": {},
     "output_type": "execute_result"
    }
   ],
   "source": [
    "((M/cloudmass)**2*unit.watt*wf.power_gw(0)*cons.G/(cons.c**5)).decompose()"
   ]
  },
  {
   "cell_type": "code",
   "execution_count": 131,
   "id": "10f5572a",
   "metadata": {},
   "outputs": [
    {
     "data": {
      "text/plain": [
       "1"
      ]
     },
     "execution_count": 131,
     "metadata": {},
     "output_type": "execute_result"
    }
   ],
   "source": [
    "wf.azimuthal_num()"
   ]
  },
  {
   "cell_type": "code",
   "execution_count": null,
   "id": "eb722624",
   "metadata": {},
   "outputs": [],
   "source": []
  }
 ],
 "metadata": {
  "kernelspec": {
   "display_name": "Python 3",
   "language": "python",
   "name": "python3"
  },
  "language_info": {
   "codemirror_mode": {
    "name": "ipython",
    "version": 3
   },
   "file_extension": ".py",
   "mimetype": "text/x-python",
   "name": "python",
   "nbconvert_exporter": "python",
   "pygments_lexer": "ipython3",
   "version": "3.9.15"
  }
 },
 "nbformat": 4,
 "nbformat_minor": 5
}
