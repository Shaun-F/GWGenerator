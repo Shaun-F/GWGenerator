{
 "cells": [
  {
   "cell_type": "code",
   "execution_count": 1,
   "id": "9dff2992",
   "metadata": {},
   "outputs": [],
   "source": [
    "import os\n",
    "os.chdir('../')"
   ]
  },
  {
   "cell_type": "code",
   "execution_count": 10,
   "id": "b2bb08bd",
   "metadata": {},
   "outputs": [],
   "source": [
    "import numpy as np\n",
    "import pandas as pd\n",
    "import matplotlib.pyplot as plt\n",
    "import re\n",
    "import time\n",
    "baseDir = os.getcwd()\n",
    "ProcaPath = baseDir+'/ProcaSolutions/'\n",
    "import GWGen\n",
    "dat=pd.read_csv(ProcaPath+'SolutionSet.dat', delimiter='\\t')"
   ]
  },
  {
   "cell_type": "code",
   "execution_count": 4,
   "id": "f196405f",
   "metadata": {},
   "outputs": [],
   "source": [
    "from GWGen.WFGenerator import *"
   ]
  },
  {
   "cell_type": "code",
   "execution_count": 18,
   "id": "27590b6f",
   "metadata": {},
   "outputs": [
    {
     "data": {
      "text/plain": [
       "0.15255522727966309"
      ]
     },
     "execution_count": 18,
     "metadata": {},
     "output_type": "execute_result"
    }
   ],
   "source": [
    "cl = Kerr()\n",
    "aa = time.time()\n",
    "cl.OmegaR()(0.005,20)\n",
    "cl.OmegaPhi()(0.005,20)\n",
    "cl.OmegaTheta()(0.005,20)\n",
    "\n",
    "bb=time.time()\n",
    "bb-aa"
   ]
  },
  {
   "cell_type": "code",
   "execution_count": 21,
   "id": "d12d3e6e",
   "metadata": {},
   "outputs": [
    {
     "name": "stdout",
     "output_type": "stream",
     "text": [
      "0\n",
      "1\n",
      "2\n",
      "3\n",
      "4\n",
      "5\n",
      "6\n",
      "7\n",
      "8\n",
      "9\n"
     ]
    }
   ],
   "source": [
    "for i in np.arange(10):\n",
    "    print(i)"
   ]
  },
  {
   "cell_type": "code",
   "execution_count": null,
   "id": "9a3449d7",
   "metadata": {},
   "outputs": [],
   "source": []
  }
 ],
 "metadata": {
  "kernelspec": {
   "display_name": "Python 3",
   "language": "python",
   "name": "python3"
  },
  "language_info": {
   "codemirror_mode": {
    "name": "ipython",
    "version": 3
   },
   "file_extension": ".py",
   "mimetype": "text/x-python",
   "name": "python",
   "nbconvert_exporter": "python",
   "pygments_lexer": "ipython3",
   "version": "3.9.7"
  }
 },
 "nbformat": 4,
 "nbformat_minor": 5
}
