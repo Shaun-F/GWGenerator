{
 "cells": [
  {
   "cell_type": "code",
   "execution_count": 108,
   "id": "b20d5284",
   "metadata": {},
   "outputs": [],
   "source": [
    "import sys\n",
    "import os\n",
    "import numpy as np\n",
    "import time\n",
    "import matplotlib.pyplot as plt\n",
    "import astropy.constants as cons\n",
    "import astropy.units as unit\n",
    "os.chdir(\"../\")\n",
    "path = os.getcwd()\n",
    "sys.path.insert(0, path)\n",
    "import GWGen\n",
    "from GWGen.WFGenerator import *\n",
    "import superrad as SR\n",
    "from superrad import ultralight_boson  as ub\n",
    "from superrad import cloud_model as CM\n",
    "from superrad import rel_vec_cloud as rvc\n",
    "from superrad.matched_waveform import *"
   ]
  },
  {
   "cell_type": "code",
   "execution_count": 124,
   "id": "09fefe19",
   "metadata": {},
   "outputs": [],
   "source": [
    "bc = rvc.RelVector()\n",
    "mu = 1.16e-17\n",
    "M = 1e5\n",
    "spin = 0.9\n",
    "wf = MatchedWaveform(mu,M,spin,bc, units=\"physical\")\n",
    "cloudmass = wf.mass_cloud(0)"
   ]
  },
  {
   "cell_type": "code",
   "execution_count": 137,
   "id": "7c5aa19a",
   "metadata": {},
   "outputs": [
    {
     "data": {
      "text/latex": [
       "$2.2072992 \\times 10^{-21} \\; \\mathrm{}$"
      ],
      "text/plain": [
       "<Quantity 2.20729919e-21>"
      ]
     },
     "execution_count": 137,
     "metadata": {},
     "output_type": "execute_result"
    }
   ],
   "source": [
    "gwp = wf.power_gw(0)*unit.watt\n",
    "((cloudmass/1)*gwp*cons.G/(cons.c**5)).decompose()\n"
   ]
  },
  {
   "cell_type": "code",
   "execution_count": null,
   "id": "c06a5811",
   "metadata": {},
   "outputs": [],
   "source": []
  }
 ],
 "metadata": {
  "kernelspec": {
   "display_name": "Python 3",
   "language": "python",
   "name": "python3"
  },
  "language_info": {
   "codemirror_mode": {
    "name": "ipython",
    "version": 3
   },
   "file_extension": ".py",
   "mimetype": "text/x-python",
   "name": "python",
   "nbconvert_exporter": "python",
   "pygments_lexer": "ipython3",
   "version": "3.9.15"
  }
 },
 "nbformat": 4,
 "nbformat_minor": 5
}
