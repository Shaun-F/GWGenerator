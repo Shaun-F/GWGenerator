{
 "cells": [
  {
   "cell_type": "code",
   "execution_count": 1,
   "id": "b20d5284",
   "metadata": {},
   "outputs": [],
   "source": [
    "import sys\n",
    "import os\n",
    "import numpy as np\n",
    "import time\n",
    "import matplotlib.pyplot as plt\n",
    "import astropy.constants as cons\n",
    "import astropy.units as unit\n",
    "os.chdir(\"../\")\n",
    "path = os.getcwd()\n",
    "sys.path.insert(0, path)\n",
    "import GWGen\n",
    "from GWGen import *\n",
    "from GWGen.WFGenerator import *"
   ]
  },
  {
   "cell_type": "code",
   "execution_count": 3,
   "id": "e8ea2391",
   "metadata": {},
   "outputs": [],
   "source": [
    "t=EMRIWithProcaWaveform()"
   ]
  },
  {
   "cell_type": "code",
   "execution_count": null,
   "id": "2cc6843f",
   "metadata": {},
   "outputs": [],
   "source": []
  }
 ],
 "metadata": {
  "kernelspec": {
   "display_name": "Python 3",
   "language": "python",
   "name": "python3"
  },
  "language_info": {
   "codemirror_mode": {
    "name": "ipython",
    "version": 3
   },
   "file_extension": ".py",
   "mimetype": "text/x-python",
   "name": "python",
   "nbconvert_exporter": "python",
   "pygments_lexer": "ipython3",
   "version": "3.7.12"
  }
 },
 "nbformat": 4,
 "nbformat_minor": 5
}
