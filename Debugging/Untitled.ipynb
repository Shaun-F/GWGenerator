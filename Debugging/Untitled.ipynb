{
 "cells": [
  {
   "cell_type": "code",
   "execution_count": 22,
   "id": "b2bb08bd",
   "metadata": {},
   "outputs": [],
   "source": [
    "import numpy as np\n",
    "import pandas as pd\n",
    "import os\n",
    "import re\n",
    "baseDir = os.getcwd()+'/../'\n",
    "ProcaPath = baseDir+'ProcaSolutions/'"
   ]
  },
  {
   "cell_type": "code",
   "execution_count": 9,
   "id": "f131944e",
   "metadata": {},
   "outputs": [],
   "source": [
    "dat=pd.read_csv(ProcaPath+'SolutionSet.dat', delimiter='\\t')"
   ]
  },
  {
   "cell_type": "code",
   "execution_count": 125,
   "id": "45b43d50",
   "metadata": {},
   "outputs": [
    {
     "data": {
      "text/plain": [
       "'0.06982626305065794 + 8.497354646764526*^-9*j'"
      ]
     },
     "execution_count": 125,
     "metadata": {},
     "output_type": "execute_result"
    }
   ],
   "source": [
    "stri = dat.loc[1][\"Frequency\"]\n",
    "stri"
   ]
  },
  {
   "cell_type": "code",
   "execution_count": 129,
   "id": "4024373e",
   "metadata": {},
   "outputs": [
    {
     "data": {
      "text/plain": [
       "'8.497354646764526'"
      ]
     },
     "execution_count": 129,
     "metadata": {},
     "output_type": "execute_result"
    }
   ],
   "source": [
    "re.search(r'\\d+\\.\\d+\\*\\^\\-\\d+\\*j', stri).group()[0:-6]"
   ]
  },
  {
   "cell_type": "code",
   "execution_count": 161,
   "id": "76cfa106",
   "metadata": {},
   "outputs": [],
   "source": [
    "def stringtocomplex(string):\n",
    "    exponentpiece = re.search(r'\\^-\\d+', string).group()\n",
    "    exponent = float(re.search('-\\d+', exponentpiece).group())\n",
    "    complexpartNumber = re.search(r'\\d+\\.\\d+\\*\\^\\-\\d+\\*j', string).group()[0:-6]\n",
    "    complexpartSign = re.search(r' \\W ', string).group()[1];\n",
    "    complexpart = float(complexpartSign+complexpartNumber)*10**(exponent)\n",
    "    realpart = float(re.search(r'\\S+\\d+.\\d+', string).group())\n",
    "    \n",
    "    return realpart"
   ]
  },
  {
   "cell_type": "code",
   "execution_count": 162,
   "id": "94936202",
   "metadata": {},
   "outputs": [
    {
     "data": {
      "text/plain": [
       "0.06982626305065794"
      ]
     },
     "execution_count": 162,
     "metadata": {},
     "output_type": "execute_result"
    }
   ],
   "source": [
    "stringtocomplex(stri)"
   ]
  },
  {
   "cell_type": "code",
   "execution_count": 157,
   "id": "2938cb67",
   "metadata": {},
   "outputs": [
    {
     "data": {
      "text/plain": [
       "4.363457876789006e-09"
      ]
     },
     "execution_count": 157,
     "metadata": {},
     "output_type": "execute_result"
    }
   ],
   "source": [
    "8.49**(-9)"
   ]
  },
  {
   "cell_type": "code",
   "execution_count": null,
   "id": "448c821e",
   "metadata": {},
   "outputs": [],
   "source": []
  }
 ],
 "metadata": {
  "kernelspec": {
   "display_name": "Python 3",
   "language": "python",
   "name": "python3"
  },
  "language_info": {
   "codemirror_mode": {
    "name": "ipython",
    "version": 3
   },
   "file_extension": ".py",
   "mimetype": "text/x-python",
   "name": "python",
   "nbconvert_exporter": "python",
   "pygments_lexer": "ipython3",
   "version": "3.9.7"
  }
 },
 "nbformat": 4,
 "nbformat_minor": 5
}
