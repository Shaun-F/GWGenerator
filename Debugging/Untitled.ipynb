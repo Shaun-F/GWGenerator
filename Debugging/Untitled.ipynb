{
 "cells": [
  {
   "cell_type": "code",
   "execution_count": null,
   "id": "913174fe",
   "metadata": {},
   "outputs": [],
   "source": []
  }
 ],
 "metadata": {
  "kernelspec": {
   "display_name": "few_env",
   "language": "python",
   "name": "few_env"
  }
 },
 "nbformat": 4,
 "nbformat_minor": 5
}
