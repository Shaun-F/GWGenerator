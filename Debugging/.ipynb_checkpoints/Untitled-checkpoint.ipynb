{
 "cells": [
  {
   "cell_type": "code",
   "execution_count": 1,
   "id": "2cc6843f",
   "metadata": {},
   "outputs": [],
   "source": [
    "import pyfftw\n",
    "import numpy\n",
    "pyfftw.interfaces.cache.enable()"
   ]
  },
  {
   "cell_type": "code",
   "execution_count": 11,
   "id": "4413db5d",
   "metadata": {},
   "outputs": [],
   "source": [
    "a = pyfftw.empty_aligned(4207753, dtype='complex64')\n",
    "b = pyfftw.empty_aligned(4207753, dtype='complex64')"
   ]
  },
  {
   "cell_type": "code",
   "execution_count": 12,
   "id": "fc0a14d4",
   "metadata": {},
   "outputs": [],
   "source": [
    "fft_object = pyfftw.FFTW(a, b)"
   ]
  },
  {
   "cell_type": "code",
   "execution_count": 16,
   "id": "1a9c9792",
   "metadata": {},
   "outputs": [],
   "source": [
    "# Generate some data\n",
    "ar, ai = numpy.random.randn(2, 4207753)\n",
    "a[:] = ar + 1j*ai\n",
    "\n",
    "fft_a = fft_object()"
   ]
  },
  {
   "cell_type": "code",
   "execution_count": 17,
   "id": "019d5dd9",
   "metadata": {},
   "outputs": [
    {
     "data": {
      "text/plain": [
       "array([ 2251.9294 +1120.6558j, -2385.857  -4880.5635j,\n",
       "        -820.13367-3157.6228j, ..., -1665.0728 +1774.7308j,\n",
       "       -3260.9114 -1345.104j ,  1768.1539 -2593.7083j], dtype=complex64)"
      ]
     },
     "execution_count": 17,
     "metadata": {},
     "output_type": "execute_result"
    }
   ],
   "source": [
    "fft_a"
   ]
  },
  {
   "cell_type": "code",
   "execution_count": 18,
   "id": "cf6aef35",
   "metadata": {},
   "outputs": [
    {
     "data": {
      "text/plain": [
       "array([ 2251.92895221+1120.65682746j, -2385.85705579-4880.5632647j ,\n",
       "        -820.13274322-3157.62290853j, ..., -1665.07273205+1774.73105565j,\n",
       "       -3260.91147479-1345.10345693j,  1768.15409784-2593.70867557j])"
      ]
     },
     "execution_count": 18,
     "metadata": {},
     "output_type": "execute_result"
    }
   ],
   "source": [
    "numpy.fft.fft(a)"
   ]
  },
  {
   "cell_type": "code",
   "execution_count": 11,
   "id": "033848ce",
   "metadata": {},
   "outputs": [
    {
     "data": {
      "text/plain": [
       "[[1, 2], [4, 5]]"
      ]
     },
     "execution_count": 11,
     "metadata": {},
     "output_type": "execute_result"
    }
   ],
   "source": [
    "bb = [[1,2],[4,5]]\n",
    "bb"
   ]
  },
  {
   "cell_type": "code",
   "execution_count": null,
   "id": "c2dc8346",
   "metadata": {},
   "outputs": [],
   "source": []
  }
 ],
 "metadata": {
  "kernelspec": {
   "display_name": "Python 3",
   "language": "python",
   "name": "python3"
  },
  "language_info": {
   "codemirror_mode": {
    "name": "ipython",
    "version": 3
   },
   "file_extension": ".py",
   "mimetype": "text/x-python",
   "name": "python",
   "nbconvert_exporter": "python",
   "pygments_lexer": "ipython3",
   "version": "3.9.15"
  }
 },
 "nbformat": 4,
 "nbformat_minor": 5
}
