{
 "cells": [
  {
   "cell_type": "code",
   "execution_count": 22,
   "id": "b2bb08bd",
   "metadata": {},
   "outputs": [],
   "source": [
    "import numpy as np\n",
    "import pandas as pd\n",
    "import os\n",
    "import re\n",
    "baseDir = os.getcwd()+'/../'\n",
    "ProcaPath = baseDir+'ProcaSolutions/'"
   ]
  },
  {
   "cell_type": "code",
   "execution_count": 9,
   "id": "f131944e",
   "metadata": {},
   "outputs": [],
   "source": [
    "dat=pd.read_csv(ProcaPath+'SolutionSet.dat', delimiter='\\t')"
   ]
  },
  {
   "cell_type": "code",
   "execution_count": 23,
   "id": "45b43d50",
   "metadata": {},
   "outputs": [],
   "source": [
    "str = dat.loc[1][\"Frequency\"]"
   ]
  },
  {
   "cell_type": "code",
   "execution_count": null,
   "id": "9ba398a3",
   "metadata": {},
   "outputs": [],
   "source": []
  }
 ],
 "metadata": {
  "kernelspec": {
   "display_name": "Python 3",
   "language": "python",
   "name": "python3"
  },
  "language_info": {
   "codemirror_mode": {
    "name": "ipython",
    "version": 3
   },
   "file_extension": ".py",
   "mimetype": "text/x-python",
   "name": "python",
   "nbconvert_exporter": "python",
   "pygments_lexer": "ipython3",
   "version": "3.9.7"
  }
 },
 "nbformat": 4,
 "nbformat_minor": 5
}
